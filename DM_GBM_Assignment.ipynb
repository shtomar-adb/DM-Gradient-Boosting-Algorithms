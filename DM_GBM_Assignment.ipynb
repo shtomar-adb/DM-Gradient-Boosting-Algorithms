{
  "nbformat": 4,
  "nbformat_minor": 0,
  "metadata": {
    "colab": {
      "name": "DM_GBM_Assignment.ipynb",
      "provenance": [],
      "authorship_tag": "ABX9TyNJqx4HndhU+tiUs9ElxxQ2",
      "include_colab_link": true
    },
    "kernelspec": {
      "name": "python3",
      "display_name": "Python 3"
    },
    "language_info": {
      "name": "python"
    },
    "widgets": {
      "application/vnd.jupyter.widget-state+json": {
        "de50dab9691e426094b0bd18a1be378f": {
          "model_module": "catboost-widget",
          "model_name": "CatboostWidgetModel",
          "model_module_version": "^1.0.0",
          "state": {
            "_view_name": "CatboostWidgetView",
            "_dom_classes": [],
            "_model_name": "CatboostWidgetModel",
            "data": {
              "catboost_info": {
                "content": {
                  "data": {
                    "meta": {
                      "name": "experiment",
                      "parameters": "",
                      "test_metrics": [
                        {
                          "best_value": "Max",
                          "name": "PFound"
                        },
                        {
                          "best_value": "Max",
                          "name": "NDCG:type=Base"
                        },
                        {
                          "best_value": "Max",
                          "name": "AverageGain:top=10"
                        }
                      ],
                      "learn_sets": [
                        "learn"
                      ],
                      "launch_mode": "Train",
                      "learn_metrics": [
                        {
                          "best_value": "Max",
                          "name": "AverageGain:top=10"
                        }
                      ],
                      "iteration_count": 2000,
                      "test_sets": [
                        "test"
                      ]
                    },
                    "iterations": [
                      {
                        "test": [
                          0.6497371723,
                          0.5389115562,
                          0.2
                        ],
                        "passed_time": 0.007379981312,
                        "iteration": 0,
                        "remaining_time": 14.75258264,
                        "learn": [
                          0.2
                        ]
                      },
                      {
                        "test": [
                          0.6560237591,
                          0.5472932119,
                          0.2
                        ],
                        "passed_time": 0.01008196641,
                        "iteration": 1,
                        "remaining_time": 10.07188445,
                        "learn": [
                          0.2
                        ]
                      },
                      {
                        "test": [
                          0.6767074864,
                          0.5559260848,
                          0.2
                        ],
                        "passed_time": 0.01254768376,
                        "iteration": 2,
                        "remaining_time": 8.35257482,
                        "learn": [
                          0.2
                        ]
                      },
                      {
                        "test": [
                          0.6347365716,
                          0.5157507331,
                          0.2
                        ],
                        "passed_time": 0.01501898649,
                        "iteration": 3,
                        "remaining_time": 7.494474258,
                        "learn": [
                          0.2
                        ]
                      },
                      {
                        "test": [
                          0.6343024622,
                          0.5109193388,
                          0.2
                        ],
                        "passed_time": 0.01754132455,
                        "iteration": 4,
                        "remaining_time": 6.998988495,
                        "learn": [
                          0.2
                        ]
                      },
                      {
                        "test": [
                          0.6229996271,
                          0.5046741537,
                          0.2
                        ],
                        "passed_time": 0.01995819563,
                        "iteration": 5,
                        "remaining_time": 6.632773681,
                        "learn": [
                          0.2
                        ]
                      },
                      {
                        "test": [
                          0.6474467677,
                          0.528058505,
                          0.2
                        ],
                        "passed_time": 0.02235619102,
                        "iteration": 6,
                        "remaining_time": 6.365126956,
                        "learn": [
                          0.2
                        ]
                      },
                      {
                        "test": [
                          0.643586745,
                          0.5204615068,
                          0.2
                        ],
                        "passed_time": 0.02478416879,
                        "iteration": 7,
                        "remaining_time": 6.171258028,
                        "learn": [
                          0.2
                        ]
                      },
                      {
                        "test": [
                          0.6142780177,
                          0.49049939,
                          0.2
                        ],
                        "passed_time": 0.02717252565,
                        "iteration": 8,
                        "remaining_time": 6.011166507,
                        "learn": [
                          0.2
                        ]
                      },
                      {
                        "test": [
                          0.6133217677,
                          0.4894821388,
                          0.2
                        ],
                        "passed_time": 0.02954236408,
                        "iteration": 9,
                        "remaining_time": 5.878930452,
                        "learn": [
                          0.2
                        ]
                      },
                      {
                        "test": [
                          0.5982570333,
                          0.4812106892,
                          0.2
                        ],
                        "passed_time": 0.03188591463,
                        "iteration": 10,
                        "remaining_time": 5.76555311,
                        "learn": [
                          0.2
                        ]
                      },
                      {
                        "test": [
                          0.5974442208,
                          0.4792825153,
                          0.2
                        ],
                        "passed_time": 0.03422431843,
                        "iteration": 11,
                        "remaining_time": 5.669828753,
                        "learn": [
                          0.2
                        ]
                      },
                      {
                        "test": [
                          0.6036660732,
                          0.4878965586,
                          0.2
                        ],
                        "passed_time": 0.03667700774,
                        "iteration": 12,
                        "remaining_time": 5.605939567,
                        "learn": [
                          0.2
                        ]
                      },
                      {
                        "test": [
                          0.6036660732,
                          0.4887059144,
                          0.2
                        ],
                        "passed_time": 0.03900004125,
                        "iteration": 13,
                        "remaining_time": 5.532434423,
                        "learn": [
                          0.2
                        ]
                      },
                      {
                        "test": [
                          0.6165848232,
                          0.4996957858,
                          0.2
                        ],
                        "passed_time": 0.04138034229,
                        "iteration": 14,
                        "remaining_time": 5.47599863,
                        "learn": [
                          0.2
                        ]
                      },
                      {
                        "test": [
                          0.6032323458,
                          0.4938477877,
                          0.2
                        ],
                        "passed_time": 0.04372006244,
                        "iteration": 15,
                        "remaining_time": 5.421287742,
                        "learn": [
                          0.2
                        ]
                      },
                      {
                        "test": [
                          0.6071473927,
                          0.4960953366,
                          0.2
                        ],
                        "passed_time": 0.04610070029,
                        "iteration": 16,
                        "remaining_time": 5.377511099,
                        "learn": [
                          0.2
                        ]
                      },
                      {
                        "test": [
                          0.6142132833,
                          0.4991356935,
                          0.2
                        ],
                        "passed_time": 0.04842582969,
                        "iteration": 17,
                        "remaining_time": 5.332221914,
                        "learn": [
                          0.2
                        ]
                      },
                      {
                        "test": [
                          0.6117533302,
                          0.4964280672,
                          0.2
                        ],
                        "passed_time": 0.05081510381,
                        "iteration": 18,
                        "remaining_time": 5.298143192,
                        "learn": [
                          0.2
                        ]
                      },
                      {
                        "test": [
                          0.6117533302,
                          0.4977020125,
                          0.2
                        ],
                        "passed_time": 0.0531975262,
                        "iteration": 19,
                        "remaining_time": 5.266555093,
                        "learn": [
                          0.2
                        ]
                      },
                      {
                        "test": [
                          0.6171720802,
                          0.5027866788,
                          0.2
                        ],
                        "passed_time": 0.05561103868,
                        "iteration": 20,
                        "remaining_time": 5.240678359,
                        "learn": [
                          0.2
                        ]
                      },
                      {
                        "test": [
                          0.6153479935,
                          0.5019276663,
                          0.2
                        ],
                        "passed_time": 0.05795509741,
                        "iteration": 21,
                        "remaining_time": 5.210690121,
                        "learn": [
                          0.2
                        ]
                      },
                      {
                        "test": [
                          0.6141665127,
                          0.503767029,
                          0.2
                        ],
                        "passed_time": 0.0603672949,
                        "iteration": 22,
                        "remaining_time": 5.188962697,
                        "learn": [
                          0.2
                        ]
                      },
                      {
                        "test": [
                          0.609303412,
                          0.4949381204,
                          0.2
                        ],
                        "passed_time": 0.06274087193,
                        "iteration": 23,
                        "remaining_time": 5.165665122,
                        "learn": [
                          0.2
                        ]
                      },
                      {
                        "test": [
                          0.6151792435,
                          0.4962183491,
                          0.2
                        ],
                        "passed_time": 0.06528550292,
                        "iteration": 24,
                        "remaining_time": 5.157554731,
                        "learn": [
                          0.2
                        ]
                      },
                      {
                        "test": [
                          0.6215542435,
                          0.5017059881,
                          0.2
                        ],
                        "passed_time": 0.0676456851,
                        "iteration": 25,
                        "remaining_time": 5.135868554,
                        "learn": [
                          0.2
                        ]
                      },
                      {
                        "test": [
                          0.6152446846,
                          0.5142449959,
                          0.2
                        ],
                        "passed_time": 0.06998444662,
                        "iteration": 26,
                        "remaining_time": 5.114048636,
                        "learn": [
                          0.2
                        ]
                      },
                      {
                        "test": [
                          0.6330347315,
                          0.5299404963,
                          0.2
                        ],
                        "passed_time": 0.07235204099,
                        "iteration": 27,
                        "remaining_time": 5.095650887,
                        "learn": [
                          0.2
                        ]
                      },
                      {
                        "test": [
                          0.6319565596,
                          0.5253910286,
                          0.2
                        ],
                        "passed_time": 0.07476187488,
                        "iteration": 28,
                        "remaining_time": 5.081229496,
                        "learn": [
                          0.2
                        ]
                      },
                      {
                        "test": [
                          0.6063936065,
                          0.5220535569,
                          0.2
                        ],
                        "passed_time": 0.07714200501,
                        "iteration": 29,
                        "remaining_time": 5.065658329,
                        "learn": [
                          0.2
                        ]
                      },
                      {
                        "test": [
                          0.6245137471,
                          0.5296817796,
                          0.2
                        ],
                        "passed_time": 0.07949452501,
                        "iteration": 30,
                        "remaining_time": 5.049184508,
                        "learn": [
                          0.2
                        ]
                      },
                      {
                        "test": [
                          0.6389655872,
                          0.5310377707,
                          0.2
                        ],
                        "passed_time": 0.08187614558,
                        "iteration": 31,
                        "remaining_time": 5.035382953,
                        "learn": [
                          0.2
                        ]
                      },
                      {
                        "test": [
                          0.6350505404,
                          0.5301490781,
                          0.2
                        ],
                        "passed_time": 0.08425435074,
                        "iteration": 32,
                        "remaining_time": 5.022069936,
                        "learn": [
                          0.2
                        ]
                      },
                      {
                        "test": [
                          0.6325905872,
                          0.526632096,
                          0.2
                        ],
                        "passed_time": 0.08665001252,
                        "iteration": 33,
                        "remaining_time": 5.010409547,
                        "learn": [
                          0.2
                        ]
                      },
                      {
                        "test": [
                          0.6325905872,
                          0.5251214882,
                          0.2
                        ],
                        "passed_time": 0.08899839392,
                        "iteration": 34,
                        "remaining_time": 4.996624116,
                        "learn": [
                          0.2
                        ]
                      },
                      {
                        "test": [
                          0.6234823458,
                          0.5248583328,
                          0.2
                        ],
                        "passed_time": 0.09408068143,
                        "iteration": 35,
                        "remaining_time": 5.132623842,
                        "learn": [
                          0.2
                        ]
                      },
                      {
                        "test": [
                          0.6217050297,
                          0.5249325505,
                          0.2
                        ],
                        "passed_time": 0.09642595333,
                        "iteration": 36,
                        "remaining_time": 5.11578774,
                        "learn": [
                          0.2
                        ]
                      },
                      {
                        "test": [
                          0.6234823458,
                          0.5251804716,
                          0.2
                        ],
                        "passed_time": 0.09882386735,
                        "iteration": 37,
                        "remaining_time": 5.102432309,
                        "learn": [
                          0.2
                        ]
                      },
                      {
                        "test": [
                          0.6252514083,
                          0.5283354196,
                          0.2
                        ],
                        "passed_time": 0.1012379944,
                        "iteration": 38,
                        "remaining_time": 5.090454025,
                        "learn": [
                          0.2
                        ]
                      },
                      {
                        "test": [
                          0.6366010141,
                          0.5314757915,
                          0.2
                        ],
                        "passed_time": 0.1036789802,
                        "iteration": 39,
                        "remaining_time": 5.080270029,
                        "learn": [
                          0.2
                        ]
                      },
                      {
                        "test": [
                          0.6383783302,
                          0.5308474905,
                          0.2
                        ],
                        "passed_time": 0.1060856432,
                        "iteration": 40,
                        "remaining_time": 5.068823781,
                        "learn": [
                          0.2
                        ]
                      },
                      {
                        "test": [
                          0.6468993146,
                          0.5318565796,
                          0.2
                        ],
                        "passed_time": 0.1084838572,
                        "iteration": 41,
                        "remaining_time": 5.057414105,
                        "learn": [
                          0.2
                        ]
                      },
                      {
                        "test": [
                          0.6468993146,
                          0.5311553276,
                          0.2
                        ],
                        "passed_time": 0.1111872478,
                        "iteration": 42,
                        "remaining_time": 5.060312648,
                        "learn": [
                          0.2
                        ]
                      },
                      {
                        "test": [
                          0.6523180646,
                          0.5321850019,
                          0.2
                        ],
                        "passed_time": 0.1135708006,
                        "iteration": 43,
                        "remaining_time": 5.048738317,
                        "learn": [
                          0.2
                        ]
                      },
                      {
                        "test": [
                          0.6468993146,
                          0.5314389378,
                          0.2
                        ],
                        "passed_time": 0.1160080205,
                        "iteration": 44,
                        "remaining_time": 5.039904002,
                        "learn": [
                          0.2
                        ]
                      },
                      {
                        "test": [
                          0.6433798026,
                          0.5291328154,
                          0.2
                        ],
                        "passed_time": 0.1184012905,
                        "iteration": 45,
                        "remaining_time": 5.029480905,
                        "learn": [
                          0.2
                        ]
                      },
                      {
                        "test": [
                          0.6394647557,
                          0.5272537878,
                          0.2
                        ],
                        "passed_time": 0.1207965977,
                        "iteration": 46,
                        "remaining_time": 5.019484157,
                        "learn": [
                          0.2
                        ]
                      },
                      {
                        "test": [
                          0.6376956932,
                          0.5251311475,
                          0.2
                        ],
                        "passed_time": 0.1231350429,
                        "iteration": 47,
                        "remaining_time": 5.007491744,
                        "learn": [
                          0.2
                        ]
                      },
                      {
                        "test": [
                          0.6441092677,
                          0.5369687728,
                          0.2
                        ],
                        "passed_time": 0.1255022573,
                        "iteration": 48,
                        "remaining_time": 4.997038856,
                        "learn": [
                          0.2
                        ]
                      },
                      {
                        "test": [
                          0.6452903664,
                          0.5209022194,
                          0.2
                        ],
                        "passed_time": 0.1278747329,
                        "iteration": 49,
                        "remaining_time": 4.987114585,
                        "learn": [
                          0.2
                        ]
                      },
                      {
                        "test": [
                          0.6452903664,
                          0.5209022194,
                          0.2
                        ],
                        "passed_time": 0.1304026682,
                        "iteration": 50,
                        "remaining_time": 4.983427458,
                        "learn": [
                          0.2
                        ]
                      },
                      {
                        "test": [
                          0.6406844289,
                          0.5195586989,
                          0.2
                        ],
                        "passed_time": 0.1327790638,
                        "iteration": 51,
                        "remaining_time": 4.974108007,
                        "learn": [
                          0.2
                        ]
                      },
                      {
                        "test": [
                          0.6440122187,
                          0.5185683639,
                          0.2
                        ],
                        "passed_time": 0.1352104948,
                        "iteration": 52,
                        "remaining_time": 4.967072326,
                        "learn": [
                          0.2
                        ]
                      },
                      {
                        "test": [
                          0.6440122187,
                          0.5183640904,
                          0.2
                        ],
                        "passed_time": 0.1376401725,
                        "iteration": 53,
                        "remaining_time": 4.960143995,
                        "learn": [
                          0.2
                        ]
                      },
                      {
                        "test": [
                          0.6430559687,
                          0.5151690692,
                          0.2
                        ],
                        "passed_time": 0.1399984788,
                        "iteration": 54,
                        "remaining_time": 4.950855296,
                        "learn": [
                          0.2
                        ]
                      },
                      {
                        "test": [
                          0.6523897656,
                          0.5191733705,
                          0.2
                        ],
                        "passed_time": 0.1423895556,
                        "iteration": 55,
                        "remaining_time": 4.942951717,
                        "learn": [
                          0.2
                        ]
                      },
                      {
                        "test": [
                          0.6515769531,
                          0.5188341526,
                          0.2
                        ],
                        "passed_time": 0.1448386023,
                        "iteration": 56,
                        "remaining_time": 4.937217617,
                        "learn": [
                          0.2
                        ]
                      },
                      {
                        "test": [
                          0.661867,
                          0.5244131641,
                          0.2
                        ],
                        "passed_time": 0.1471809196,
                        "iteration": 57,
                        "remaining_time": 4.928023206,
                        "learn": [
                          0.2
                        ]
                      },
                      {
                        "test": [
                          0.669367,
                          0.5351023462,
                          0.2
                        ],
                        "passed_time": 0.1496566941,
                        "iteration": 58,
                        "remaining_time": 4.923451582,
                        "learn": [
                          0.2
                        ]
                      },
                      {
                        "test": [
                          0.6778329602,
                          0.5421810943,
                          0.2
                        ],
                        "passed_time": 0.15217488,
                        "iteration": 59,
                        "remaining_time": 4.920321119,
                        "learn": [
                          0.2
                        ]
                      },
                      {
                        "test": [
                          0.6639579602,
                          0.5264098791,
                          0.2
                        ],
                        "passed_time": 0.1545213614,
                        "iteration": 60,
                        "remaining_time": 4.911752783,
                        "learn": [
                          0.2
                        ]
                      },
                      {
                        "test": [
                          0.6793916875,
                          0.5402119062,
                          0.2
                        ],
                        "passed_time": 0.1569257058,
                        "iteration": 61,
                        "remaining_time": 4.905193837,
                        "learn": [
                          0.2
                        ]
                      },
                      {
                        "test": [
                          0.6793916875,
                          0.5402119062,
                          0.2
                        ],
                        "passed_time": 0.1592780176,
                        "iteration": 62,
                        "remaining_time": 4.897166986,
                        "learn": [
                          0.2
                        ]
                      },
                      {
                        "test": [
                          0.6730166875,
                          0.5364566623,
                          0.2
                        ],
                        "passed_time": 0.1616871433,
                        "iteration": 63,
                        "remaining_time": 4.891036086,
                        "learn": [
                          0.2
                        ]
                      },
                      {
                        "test": [
                          0.6730166875,
                          0.5361222308,
                          0.2
                        ],
                        "passed_time": 0.1640788147,
                        "iteration": 64,
                        "remaining_time": 4.884500099,
                        "learn": [
                          0.2
                        ]
                      },
                      {
                        "test": [
                          0.6730166875,
                          0.5368234828,
                          0.2
                        ],
                        "passed_time": 0.1664518263,
                        "iteration": 65,
                        "remaining_time": 4.87754291,
                        "learn": [
                          0.2
                        ]
                      },
                      {
                        "test": [
                          0.6730166875,
                          0.5372660181,
                          0.2
                        ],
                        "passed_time": 0.1688573748,
                        "iteration": 66,
                        "remaining_time": 4.871661275,
                        "learn": [
                          0.2
                        ]
                      },
                      {
                        "test": [
                          0.6730166875,
                          0.5372660181,
                          0.2
                        ],
                        "passed_time": 0.1712740536,
                        "iteration": 67,
                        "remaining_time": 4.866198111,
                        "learn": [
                          0.2
                        ]
                      },
                      {
                        "test": [
                          0.67478575,
                          0.5392352062,
                          0.2
                        ],
                        "passed_time": 0.1736802739,
                        "iteration": 68,
                        "remaining_time": 4.860530563,
                        "learn": [
                          0.2
                        ]
                      },
                      {
                        "test": [
                          0.67478575,
                          0.5393886585,
                          0.2
                        ],
                        "passed_time": 0.1760709653,
                        "iteration": 69,
                        "remaining_time": 4.854528042,
                        "learn": [
                          0.2
                        ]
                      },
                      {
                        "test": [
                          0.6708707031,
                          0.5384491447,
                          0.2
                        ],
                        "passed_time": 0.1786186003,
                        "iteration": 70,
                        "remaining_time": 4.852891267,
                        "learn": [
                          0.2
                        ]
                      },
                      {
                        "test": [
                          0.6793916875,
                          0.540030927,
                          0.2
                        ],
                        "passed_time": 0.1811553037,
                        "iteration": 71,
                        "remaining_time": 4.850936464,
                        "learn": [
                          0.2
                        ]
                      },
                      {
                        "test": [
                          0.6696888977,
                          0.5358635142,
                          0.2
                        ],
                        "passed_time": 0.1835492191,
                        "iteration": 72,
                        "remaining_time": 4.845196509,
                        "learn": [
                          0.2
                        ]
                      },
                      {
                        "test": [
                          0.6663611078,
                          0.5347954417,
                          0.2
                        ],
                        "passed_time": 0.1859641688,
                        "iteration": 73,
                        "remaining_time": 4.840094448,
                        "learn": [
                          0.2
                        ]
                      },
                      {
                        "test": [
                          0.6663611078,
                          0.5351622622,
                          0.2
                        ],
                        "passed_time": 0.1885923802,
                        "iteration": 74,
                        "remaining_time": 4.840537759,
                        "learn": [
                          0.2
                        ]
                      },
                      {
                        "test": [
                          0.6663611078,
                          0.5347954417,
                          0.2
                        ],
                        "passed_time": 0.1910362869,
                        "iteration": 75,
                        "remaining_time": 4.836234421,
                        "learn": [
                          0.2
                        ]
                      },
                      {
                        "test": [
                          0.6668602763,
                          0.5356501459,
                          0.2
                        ],
                        "passed_time": 0.1934359314,
                        "iteration": 76,
                        "remaining_time": 4.830873974,
                        "learn": [
                          0.2
                        ]
                      },
                      {
                        "test": [
                          0.6760638977,
                          0.5402119062,
                          0.2
                        ],
                        "passed_time": 0.1958513825,
                        "iteration": 77,
                        "remaining_time": 4.825978937,
                        "learn": [
                          0.2
                        ]
                      },
                      {
                        "test": [
                          0.6760638977,
                          0.5397693708,
                          0.2
                        ],
                        "passed_time": 0.1982705308,
                        "iteration": 78,
                        "remaining_time": 4.821236578,
                        "learn": [
                          0.2
                        ]
                      },
                      {
                        "test": [
                          0.6696888977,
                          0.5361979456,
                          0.2
                        ],
                        "passed_time": 0.2013814662,
                        "iteration": 79,
                        "remaining_time": 4.833155189,
                        "learn": [
                          0.2
                        ]
                      },
                      {
                        "test": [
                          0.6745051703,
                          0.5421810943,
                          0.2
                        ],
                        "passed_time": 0.2120484341,
                        "iteration": 80,
                        "remaining_time": 5.023715372,
                        "learn": [
                          0.2
                        ]
                      },
                      {
                        "test": [
                          0.6808801703,
                          0.5476190766,
                          0.2
                        ],
                        "passed_time": 0.2146134145,
                        "iteration": 81,
                        "remaining_time": 5.019860109,
                        "learn": [
                          0.2
                        ]
                      },
                      {
                        "test": [
                          0.6808801703,
                          0.5492598423,
                          0.2
                        ],
                        "passed_time": 0.2171196272,
                        "iteration": 82,
                        "remaining_time": 5.014678619,
                        "learn": [
                          0.2
                        ]
                      },
                      {
                        "test": [
                          0.6733801703,
                          0.5367468926,
                          0.2
                        ],
                        "passed_time": 0.2195999321,
                        "iteration": 83,
                        "remaining_time": 5.008969881,
                        "learn": [
                          0.2
                        ]
                      },
                      {
                        "test": [
                          0.6670051703,
                          0.5322903967,
                          0.2
                        ],
                        "passed_time": 0.2223422263,
                        "iteration": 84,
                        "remaining_time": 5.00923957,
                        "learn": [
                          0.2
                        ]
                      },
                      {
                        "test": [
                          0.6716111078,
                          0.5336339172,
                          0.2
                        ],
                        "passed_time": 0.2247207606,
                        "iteration": 85,
                        "remaining_time": 5.001343439,
                        "learn": [
                          0.2
                        ]
                      },
                      {
                        "test": [
                          0.6716111078,
                          0.533452938,
                          0.2
                        ],
                        "passed_time": 0.2271900629,
                        "iteration": 86,
                        "remaining_time": 4.995570003,
                        "learn": [
                          0.2
                        ]
                      },
                      {
                        "test": [
                          0.6716111078,
                          0.5325134242,
                          0.2
                        ],
                        "passed_time": 0.2341832577,
                        "iteration": 87,
                        "remaining_time": 5.088163508,
                        "learn": [
                          0.2
                        ]
                      },
                      {
                        "test": [
                          0.6733801703,
                          0.5363276516,
                          0.2
                        ],
                        "passed_time": 0.2389010412,
                        "iteration": 88,
                        "remaining_time": 5.129661682,
                        "learn": [
                          0.2
                        ]
                      },
                      {
                        "test": [
                          0.6698992328,
                          0.5392449959,
                          0.2
                        ],
                        "passed_time": 0.2440562769,
                        "iteration": 89,
                        "remaining_time": 5.179416544,
                        "learn": [
                          0.2
                        ]
                      },
                      {
                        "test": [
                          0.6670051703,
                          0.5292737972,
                          0.2
                        ],
                        "passed_time": 0.2483798849,
                        "iteration": 90,
                        "remaining_time": 5.210518685,
                        "learn": [
                          0.2
                        ]
                      },
                      {
                        "test": [
                          0.6670051703,
                          0.5292737972,
                          0.2
                        ],
                        "passed_time": 0.2542533952,
                        "iteration": 91,
                        "remaining_time": 5.272994327,
                        "learn": [
                          0.2
                        ]
                      },
                      {
                        "test": [
                          0.6724239203,
                          0.5335243445,
                          0.2
                        ],
                        "passed_time": 0.2566489934,
                        "iteration": 92,
                        "remaining_time": 5.262684197,
                        "learn": [
                          0.2
                        ]
                      },
                      {
                        "test": [
                          0.6660489203,
                          0.529510384,
                          0.2
                        ],
                        "passed_time": 0.2590561927,
                        "iteration": 93,
                        "remaining_time": 5.252777695,
                        "learn": [
                          0.2
                        ]
                      },
                      {
                        "test": [
                          0.6606301703,
                          0.5278820888,
                          0.2
                        ],
                        "passed_time": 0.261484525,
                        "iteration": 94,
                        "remaining_time": 5.243452844,
                        "learn": [
                          0.2
                        ]
                      },
                      {
                        "test": [
                          0.6598173578,
                          0.5279854062,
                          0.2
                        ],
                        "passed_time": 0.263918825,
                        "iteration": 95,
                        "remaining_time": 5.23439003,
                        "learn": [
                          0.2
                        ]
                      },
                      {
                        "test": [
                          0.6567151234,
                          0.5273093955,
                          0.2
                        ],
                        "passed_time": 0.2663754261,
                        "iteration": 96,
                        "remaining_time": 5.225901401,
                        "learn": [
                          0.2
                        ]
                      },
                      {
                        "test": [
                          0.6567151234,
                          0.5260030612,
                          0.2
                        ],
                        "passed_time": 0.2687441686,
                        "iteration": 97,
                        "remaining_time": 5.215830702,
                        "learn": [
                          0.2
                        ]
                      },
                      {
                        "test": [
                          0.6600429133,
                          0.5283987396,
                          0.2
                        ],
                        "passed_time": 0.2717861367,
                        "iteration": 98,
                        "remaining_time": 5.218842887,
                        "learn": [
                          0.2
                        ]
                      },
                      {
                        "test": [
                          0.6729616633,
                          0.5409536619,
                          0.2
                        ],
                        "passed_time": 0.2741354326,
                        "iteration": 99,
                        "remaining_time": 5.20857322,
                        "learn": [
                          0.2
                        ]
                      },
                      {
                        "test": [
                          0.6750429133,
                          0.550640086,
                          0.2
                        ],
                        "passed_time": 0.2765179164,
                        "iteration": 100,
                        "remaining_time": 5.199084388,
                        "learn": [
                          0.2
                        ]
                      },
                      {
                        "test": [
                          0.6714579602,
                          0.5407074158,
                          0.2
                        ],
                        "passed_time": 0.2789611967,
                        "iteration": 101,
                        "remaining_time": 5.19086619,
                        "learn": [
                          0.2
                        ]
                      },
                      {
                        "test": [
                          0.6714579602,
                          0.5411499512,
                          0.2
                        ],
                        "passed_time": 0.2813488799,
                        "iteration": 102,
                        "remaining_time": 5.181736167,
                        "learn": [
                          0.2
                        ]
                      },
                      {
                        "test": [
                          0.6714579602,
                          0.5411499512,
                          0.2
                        ],
                        "passed_time": 0.2837736136,
                        "iteration": 103,
                        "remaining_time": 5.173411264,
                        "learn": [
                          0.2
                        ]
                      },
                      {
                        "test": [
                          0.6729616633,
                          0.5418931757,
                          0.2
                        ],
                        "passed_time": 0.2862091913,
                        "iteration": 104,
                        "remaining_time": 5.165394453,
                        "learn": [
                          0.2
                        ]
                      },
                      {
                        "test": [
                          0.6775676008,
                          0.5422971824,
                          0.2
                        ],
                        "passed_time": 0.2886020563,
                        "iteration": 105,
                        "remaining_time": 5.156719761,
                        "learn": [
                          0.2
                        ]
                      },
                      {
                        "test": [
                          0.6775676008,
                          0.5423728973,
                          0.2
                        ],
                        "passed_time": 0.2911998153,
                        "iteration": 106,
                        "remaining_time": 5.151787387,
                        "learn": [
                          0.2
                        ]
                      },
                      {
                        "test": [
                          0.6771338734,
                          0.5491170076,
                          0.2
                        ],
                        "passed_time": 0.2935987866,
                        "iteration": 107,
                        "remaining_time": 5.143415781,
                        "learn": [
                          0.2
                        ]
                      },
                      {
                        "test": [
                          0.6742398109,
                          0.5398470608,
                          0.2
                        ],
                        "passed_time": 0.2959623929,
                        "iteration": 108,
                        "remaining_time": 5.134540228,
                        "learn": [
                          0.2
                        ]
                      },
                      {
                        "test": [
                          0.6775676008,
                          0.5398470608,
                          0.2
                        ],
                        "passed_time": 0.2983776094,
                        "iteration": 109,
                        "remaining_time": 5.126669834,
                        "learn": [
                          0.2
                        ]
                      },
                      {
                        "test": [
                          0.6838541875,
                          0.53905134,
                          0.2
                        ],
                        "passed_time": 0.3007115187,
                        "iteration": 110,
                        "remaining_time": 5.117514044,
                        "learn": [
                          0.2
                        ]
                      },
                      {
                        "test": [
                          0.6808953906,
                          0.5405483128,
                          0.2
                        ],
                        "passed_time": 0.3030789158,
                        "iteration": 111,
                        "remaining_time": 5.109044581,
                        "learn": [
                          0.2
                        ]
                      },
                      {
                        "test": [
                          0.6855013281,
                          0.5403143593,
                          0.2
                        ],
                        "passed_time": 0.3055278652,
                        "iteration": 112,
                        "remaining_time": 5.10204497,
                        "learn": [
                          0.2
                        ]
                      },
                      {
                        "test": [
                          0.6821735383,
                          0.5421809163,
                          0.2
                        ],
                        "passed_time": 0.3079218274,
                        "iteration": 113,
                        "remaining_time": 5.094215496,
                        "learn": [
                          0.2
                        ]
                      },
                      {
                        "test": [
                          0.694835125,
                          0.5459469558,
                          0.2
                        ],
                        "passed_time": 0.3102931163,
                        "iteration": 114,
                        "remaining_time": 5.086108906,
                        "learn": [
                          0.2
                        ]
                      },
                      {
                        "test": [
                          0.694835125,
                          0.5466482078,
                          0.2
                        ],
                        "passed_time": 0.312683149,
                        "iteration": 115,
                        "remaining_time": 5.078405627,
                        "learn": [
                          0.2
                        ]
                      },
                      {
                        "test": [
                          0.6915073352,
                          0.5453991561,
                          0.2
                        ],
                        "passed_time": 0.3150253746,
                        "iteration": 116,
                        "remaining_time": 5.070023764,
                        "learn": [
                          0.2
                        ]
                      },
                      {
                        "test": [
                          0.6915073352,
                          0.5449566208,
                          0.2
                        ],
                        "passed_time": 0.3173445641,
                        "iteration": 117,
                        "remaining_time": 5.061376861,
                        "learn": [
                          0.2
                        ]
                      },
                      {
                        "test": [
                          0.6869013977,
                          0.5414878266,
                          0.2
                        ],
                        "passed_time": 0.319745354,
                        "iteration": 118,
                        "remaining_time": 5.054126141,
                        "learn": [
                          0.2
                        ]
                      },
                      {
                        "test": [
                          0.6759204602,
                          0.5356878102,
                          0.2
                        ],
                        "passed_time": 0.3223110943,
                        "iteration": 119,
                        "remaining_time": 5.049540477,
                        "learn": [
                          0.2
                        ]
                      },
                      {
                        "test": [
                          0.67924825,
                          0.5389568712,
                          0.2
                        ],
                        "passed_time": 0.3248402172,
                        "iteration": 120,
                        "remaining_time": 5.044419572,
                        "learn": [
                          0.2
                        ]
                      },
                      {
                        "test": [
                          0.6838541875,
                          0.5403003917,
                          0.2
                        ],
                        "passed_time": 0.3272358567,
                        "iteration": 121,
                        "remaining_time": 5.037286385,
                        "learn": [
                          0.2
                        ]
                      },
                      {
                        "test": [
                          0.694835125,
                          0.5456578727,
                          0.2
                        ],
                        "passed_time": 0.3295918313,
                        "iteration": 122,
                        "remaining_time": 5.029624937,
                        "learn": [
                          0.2
                        ]
                      },
                      {
                        "test": [
                          0.6863141406,
                          0.5433748384,
                          0.2
                        ],
                        "passed_time": 0.3319843522,
                        "iteration": 123,
                        "remaining_time": 5.022601973,
                        "learn": [
                          0.2
                        ]
                      },
                      {
                        "test": [
                          0.6863141406,
                          0.5429323031,
                          0.2
                        ],
                        "passed_time": 0.3343325681,
                        "iteration": 124,
                        "remaining_time": 5.014988522,
                        "learn": [
                          0.2
                        ]
                      },
                      {
                        "test": [
                          0.6838541875,
                          0.538175118,
                          0.2
                        ],
                        "passed_time": 0.336819452,
                        "iteration": 125,
                        "remaining_time": 5.009521056,
                        "learn": [
                          0.2
                        ]
                      },
                      {
                        "test": [
                          0.6838541875,
                          0.5403003917,
                          0.2
                        ],
                        "passed_time": 0.339213097,
                        "iteration": 126,
                        "remaining_time": 5.002725439,
                        "learn": [
                          0.2
                        ]
                      },
                      {
                        "test": [
                          0.68562325,
                          0.5425282964,
                          0.2
                        ],
                        "passed_time": 0.3416383598,
                        "iteration": 127,
                        "remaining_time": 4.996461012,
                        "learn": [
                          0.2
                        ]
                      },
                      {
                        "test": [
                          0.69199825,
                          0.5469847923,
                          0.2
                        ],
                        "passed_time": 0.3440383856,
                        "iteration": 128,
                        "remaining_time": 4.989890074,
                        "learn": [
                          0.2
                        ]
                      },
                      {
                        "test": [
                          0.6762894531,
                          0.5382233059,
                          0.2
                        ],
                        "passed_time": 0.3464353715,
                        "iteration": 129,
                        "remaining_time": 4.983339574,
                        "learn": [
                          0.2
                        ]
                      },
                      {
                        "test": [
                          0.6708707031,
                          0.5360980322,
                          0.2
                        ],
                        "passed_time": 0.348862797,
                        "iteration": 130,
                        "remaining_time": 4.977286775,
                        "learn": [
                          0.2
                        ]
                      },
                      {
                        "test": [
                          0.6762894531,
                          0.5368797854,
                          0.2
                        ],
                        "passed_time": 0.3512506229,
                        "iteration": 131,
                        "remaining_time": 4.970728513,
                        "learn": [
                          0.2
                        ]
                      },
                      {
                        "test": [
                          0.6762894531,
                          0.5373223208,
                          0.2
                        ],
                        "passed_time": 0.3536675831,
                        "iteration": 132,
                        "remaining_time": 4.964641937,
                        "learn": [
                          0.2
                        ]
                      },
                      {
                        "test": [
                          0.6783804133,
                          0.540089863,
                          0.2
                        ],
                        "passed_time": 0.3560532359,
                        "iteration": 133,
                        "remaining_time": 4.958174166,
                        "learn": [
                          0.2
                        ]
                      },
                      {
                        "test": [
                          0.6783804133,
                          0.5396473276,
                          0.2
                        ],
                        "passed_time": 0.3584594912,
                        "iteration": 134,
                        "remaining_time": 4.95205149,
                        "learn": [
                          0.2
                        ]
                      },
                      {
                        "test": [
                          0.6750526234,
                          0.5389460757,
                          0.2
                        ],
                        "passed_time": 0.3608132748,
                        "iteration": 135,
                        "remaining_time": 4.945264296,
                        "learn": [
                          0.2
                        ]
                      },
                      {
                        "test": [
                          0.6750526234,
                          0.5398855895,
                          0.2
                        ],
                        "passed_time": 0.3631374897,
                        "iteration": 136,
                        "remaining_time": 4.938139732,
                        "learn": [
                          0.2
                        ]
                      },
                      {
                        "test": [
                          0.6880832031,
                          0.5453020539,
                          0.2
                        ],
                        "passed_time": 0.3656299785,
                        "iteration": 137,
                        "remaining_time": 4.933355218,
                        "learn": [
                          0.2
                        ]
                      },
                      {
                        "test": [
                          0.6911304133,
                          0.5494241184,
                          0.2
                        ],
                        "passed_time": 0.3680193299,
                        "iteration": 138,
                        "remaining_time": 4.927222827,
                        "learn": [
                          0.2
                        ]
                      },
                      {
                        "test": [
                          0.6869582031,
                          0.5383136726,
                          0.2
                        ],
                        "passed_time": 0.3704012587,
                        "iteration": 139,
                        "remaining_time": 4.921045294,
                        "learn": [
                          0.2
                        ]
                      },
                      {
                        "test": [
                          0.6869582031,
                          0.5388614723,
                          0.2
                        ],
                        "passed_time": 0.372780957,
                        "iteration": 140,
                        "remaining_time": 4.914892192,
                        "learn": [
                          0.2
                        ]
                      },
                      {
                        "test": [
                          0.6805832031,
                          0.5370360772,
                          0.2
                        ],
                        "passed_time": 0.3751359193,
                        "iteration": 141,
                        "remaining_time": 4.908468577,
                        "learn": [
                          0.2
                        ]
                      },
                      {
                        "test": [
                          0.6772554133,
                          0.5357978211,
                          0.2
                        ],
                        "passed_time": 0.3774643554,
                        "iteration": 142,
                        "remaining_time": 4.901757399,
                        "learn": [
                          0.2
                        ]
                      },
                      {
                        "test": [
                          0.6772554133,
                          0.5362403564,
                          0.2
                        ],
                        "passed_time": 0.3798474378,
                        "iteration": 143,
                        "remaining_time": 4.895811421,
                        "learn": [
                          0.2
                        ]
                      },
                      {
                        "test": [
                          0.6818613508,
                          0.5368826249,
                          0.2
                        ],
                        "passed_time": 0.3824373992,
                        "iteration": 144,
                        "remaining_time": 4.89256121,
                        "learn": [
                          0.2
                        ]
                      },
                      {
                        "test": [
                          0.6882363508,
                          0.539409272,
                          0.2
                        ],
                        "passed_time": 0.3848239411,
                        "iteration": 145,
                        "remaining_time": 4.886736895,
                        "learn": [
                          0.2
                        ]
                      },
                      {
                        "test": [
                          0.6882363508,
                          0.5399570717,
                          0.2
                        ],
                        "passed_time": 0.3871859928,
                        "iteration": 146,
                        "remaining_time": 4.880650644,
                        "learn": [
                          0.2
                        ]
                      },
                      {
                        "test": [
                          0.6882363508,
                          0.5408965855,
                          0.2
                        ],
                        "passed_time": 0.3895999853,
                        "iteration": 147,
                        "remaining_time": 4.87526468,
                        "learn": [
                          0.2
                        ]
                      },
                      {
                        "test": [
                          0.6836304133,
                          0.539553065,
                          0.2
                        ],
                        "passed_time": 0.3919773291,
                        "iteration": 148,
                        "remaining_time": 4.869463329,
                        "learn": [
                          0.2
                        ]
                      },
                      {
                        "test": [
                          0.6836304133,
                          0.5386135512,
                          0.2
                        ],
                        "passed_time": 0.3943890961,
                        "iteration": 149,
                        "remaining_time": 4.864132185,
                        "learn": [
                          0.2
                        ]
                      },
                      {
                        "test": [
                          0.6836304133,
                          0.5373644995,
                          0.2
                        ],
                        "passed_time": 0.3967482651,
                        "iteration": 150,
                        "remaining_time": 4.858195644,
                        "learn": [
                          0.2
                        ]
                      },
                      {
                        "test": [
                          0.6836304133,
                          0.5386135512,
                          0.2
                        ],
                        "passed_time": 0.399143011,
                        "iteration": 151,
                        "remaining_time": 4.852738713,
                        "learn": [
                          0.2
                        ]
                      },
                      {
                        "test": [
                          0.6836304133,
                          0.5386135512,
                          0.2
                        ],
                        "passed_time": 0.4017575371,
                        "iteration": 152,
                        "remaining_time": 4.849974974,
                        "learn": [
                          0.2
                        ]
                      },
                      {
                        "test": [
                          0.6911304133,
                          0.5499282705,
                          0.2
                        ],
                        "passed_time": 0.4041379527,
                        "iteration": 153,
                        "remaining_time": 4.844406887,
                        "learn": [
                          0.2
                        ]
                      },
                      {
                        "test": [
                          0.6957363508,
                          0.549580204,
                          0.2
                        ],
                        "passed_time": 0.4065832048,
                        "iteration": 154,
                        "remaining_time": 4.839651696,
                        "learn": [
                          0.2
                        ]
                      },
                      {
                        "test": [
                          0.6990641406,
                          0.5512209697,
                          0.2
                        ],
                        "passed_time": 0.4090244292,
                        "iteration": 155,
                        "remaining_time": 4.83487851,
                        "learn": [
                          0.2
                        ]
                      },
                      {
                        "test": [
                          0.6990641406,
                          0.5516635051,
                          0.2
                        ],
                        "passed_time": 0.4114266709,
                        "iteration": 156,
                        "remaining_time": 4.829677417,
                        "learn": [
                          0.2
                        ]
                      },
                      {
                        "test": [
                          0.6990641406,
                          0.5516635051,
                          0.2
                        ],
                        "passed_time": 0.4137689333,
                        "iteration": 157,
                        "remaining_time": 4.823812501,
                        "learn": [
                          0.2
                        ]
                      },
                      {
                        "test": [
                          0.7065641406,
                          0.5629782243,
                          0.2
                        ],
                        "passed_time": 0.4161761286,
                        "iteration": 158,
                        "remaining_time": 4.818743728,
                        "learn": [
                          0.2
                        ]
                      },
                      {
                        "test": [
                          0.7065641406,
                          0.5629782243,
                          0.2
                        ],
                        "passed_time": 0.418656099,
                        "iteration": 159,
                        "remaining_time": 4.814545138,
                        "learn": [
                          0.2
                        ]
                      },
                      {
                        "test": [
                          0.7065641406,
                          0.5640738237,
                          0.2
                        ],
                        "passed_time": 0.421077945,
                        "iteration": 160,
                        "remaining_time": 4.80970398,
                        "learn": [
                          0.2
                        ]
                      },
                      {
                        "test": [
                          0.7065641406,
                          0.564227276,
                          0.2
                        ],
                        "passed_time": 0.4235750633,
                        "iteration": 161,
                        "remaining_time": 4.805746706,
                        "learn": [
                          0.2
                        ]
                      },
                      {
                        "test": [
                          0.7119828906,
                          0.56580475,
                          0.2
                        ],
                        "passed_time": 0.4359470023,
                        "iteration": 162,
                        "remaining_time": 4.91309597,
                        "learn": [
                          0.2
                        ]
                      },
                      {
                        "test": [
                          0.7119828906,
                          0.5656994856,
                          0.2
                        ],
                        "passed_time": 0.4453096796,
                        "iteration": 163,
                        "remaining_time": 4.985296169,
                        "learn": [
                          0.2
                        ]
                      },
                      {
                        "test": [
                          0.7019582031,
                          0.5633262908,
                          0.2
                        ],
                        "passed_time": 0.4481475154,
                        "iteration": 164,
                        "remaining_time": 4.983943581,
                        "learn": [
                          0.2
                        ]
                      },
                      {
                        "test": [
                          0.7019582031,
                          0.5627784911,
                          0.2
                        ],
                        "passed_time": 0.4505969689,
                        "iteration": 165,
                        "remaining_time": 4.978282174,
                        "learn": [
                          0.2
                        ]
                      },
                      {
                        "test": [
                          0.7019582031,
                          0.5623359558,
                          0.2
                        ],
                        "passed_time": 0.4530473223,
                        "iteration": 166,
                        "remaining_time": 4.972669113,
                        "learn": [
                          0.2
                        ]
                      },
                      {
                        "test": [
                          0.7019582031,
                          0.5617881561,
                          0.2
                        ],
                        "passed_time": 0.4554565312,
                        "iteration": 167,
                        "remaining_time": 4.966645031,
                        "learn": [
                          0.2
                        ]
                      },
                      {
                        "test": [
                          0.7019582031,
                          0.5613456208,
                          0.2
                        ],
                        "passed_time": 0.457884154,
                        "iteration": 168,
                        "remaining_time": 4.96086323,
                        "learn": [
                          0.2
                        ]
                      },
                      {
                        "test": [
                          0.7019582031,
                          0.5617881561,
                          0.2
                        ],
                        "passed_time": 0.4602656523,
                        "iteration": 169,
                        "remaining_time": 4.954624375,
                        "learn": [
                          0.2
                        ]
                      },
                      {
                        "test": [
                          0.7019582031,
                          0.5617881561,
                          0.2
                        ],
                        "passed_time": 0.4626927923,
                        "iteration": 170,
                        "remaining_time": 4.948918814,
                        "learn": [
                          0.2
                        ]
                      },
                      {
                        "test": [
                          0.7019582031,
                          0.5617881561,
                          0.2
                        ],
                        "passed_time": 0.4656038819,
                        "iteration": 171,
                        "remaining_time": 4.948394745,
                        "learn": [
                          0.2
                        ]
                      },
                      {
                        "test": [
                          0.7019582031,
                          0.5617881561,
                          0.2
                        ],
                        "passed_time": 0.4679998373,
                        "iteration": 172,
                        "remaining_time": 4.942402906,
                        "learn": [
                          0.2
                        ]
                      },
                      {
                        "test": [
                          0.7019582031,
                          0.5607200836,
                          0.2
                        ],
                        "passed_time": 0.4703983913,
                        "iteration": 173,
                        "remaining_time": 4.93647967,
                        "learn": [
                          0.2
                        ]
                      },
                      {
                        "test": [
                          0.7019582031,
                          0.5607200836,
                          0.2
                        ],
                        "passed_time": 0.4730943219,
                        "iteration": 174,
                        "remaining_time": 4.933697929,
                        "learn": [
                          0.2
                        ]
                      },
                      {
                        "test": [
                          0.7019582031,
                          0.5607200836,
                          0.2
                        ],
                        "passed_time": 0.4824652869,
                        "iteration": 175,
                        "remaining_time": 5.000094792,
                        "learn": [
                          0.2
                        ]
                      },
                      {
                        "test": [
                          0.7019582031,
                          0.560825348,
                          0.2
                        ],
                        "passed_time": 0.4863777823,
                        "iteration": 176,
                        "remaining_time": 5.009416368,
                        "learn": [
                          0.2
                        ]
                      },
                      {
                        "test": [
                          0.6944582031,
                          0.5503199846,
                          0.2
                        ],
                        "passed_time": 0.4891455039,
                        "iteration": 177,
                        "remaining_time": 5.006871394,
                        "learn": [
                          0.2
                        ]
                      },
                      {
                        "test": [
                          0.6883017919,
                          0.5491761973,
                          0.2
                        ],
                        "passed_time": 0.49160278,
                        "iteration": 178,
                        "remaining_time": 5.001165712,
                        "learn": [
                          0.2
                        ]
                      },
                      {
                        "test": [
                          0.6946767919,
                          0.5536326931,
                          0.2
                        ],
                        "passed_time": 0.4939989113,
                        "iteration": 179,
                        "remaining_time": 4.994877881,
                        "learn": [
                          0.2
                        ]
                      },
                      {
                        "test": [
                          0.6883017919,
                          0.5496187326,
                          0.2
                        ],
                        "passed_time": 0.4967958608,
                        "iteration": 180,
                        "remaining_time": 4.992661164,
                        "learn": [
                          0.2
                        ]
                      },
                      {
                        "test": [
                          0.6849740021,
                          0.5489174806,
                          0.2
                        ],
                        "passed_time": 0.4991813895,
                        "iteration": 181,
                        "remaining_time": 4.986328385,
                        "learn": [
                          0.2
                        ]
                      },
                      {
                        "test": [
                          0.6753830419,
                          0.5361787396,
                          0.2
                        ],
                        "passed_time": 0.5015850462,
                        "iteration": 182,
                        "remaining_time": 4.980218737,
                        "learn": [
                          0.2
                        ]
                      },
                      {
                        "test": [
                          0.6753830419,
                          0.5361787396,
                          0.2
                        ],
                        "passed_time": 0.503959435,
                        "iteration": 183,
                        "remaining_time": 4.973860511,
                        "learn": [
                          0.2
                        ]
                      },
                      {
                        "test": [
                          0.6753830419,
                          0.5361787396,
                          0.2
                        ],
                        "passed_time": 0.5067355634,
                        "iteration": 184,
                        "remaining_time": 4.971486743,
                        "learn": [
                          0.2
                        ]
                      },
                      {
                        "test": [
                          0.6753830419,
                          0.5361787396,
                          0.2
                        ],
                        "passed_time": 0.5092039566,
                        "iteration": 185,
                        "remaining_time": 4.966107405,
                        "learn": [
                          0.2
                        ]
                      },
                      {
                        "test": [
                          0.6753830419,
                          0.5361787396,
                          0.2
                        ],
                        "passed_time": 0.5116806497,
                        "iteration": 186,
                        "remaining_time": 4.960839668,
                        "learn": [
                          0.2
                        ]
                      },
                      {
                        "test": [
                          0.6828830419,
                          0.5474934589,
                          0.2
                        ],
                        "passed_time": 0.5141790371,
                        "iteration": 187,
                        "remaining_time": 4.95581072,
                        "learn": [
                          0.2
                        ]
                      },
                      {
                        "test": [
                          0.6841611896,
                          0.5481357274,
                          0.2
                        ],
                        "passed_time": 0.5165772271,
                        "iteration": 188,
                        "remaining_time": 4.949848456,
                        "learn": [
                          0.2
                        ]
                      },
                      {
                        "test": [
                          0.6766611896,
                          0.5368210082,
                          0.2
                        ],
                        "passed_time": 0.5190403431,
                        "iteration": 189,
                        "remaining_time": 4.944542216,
                        "learn": [
                          0.2
                        ]
                      },
                      {
                        "test": [
                          0.6720552521,
                          0.5354774877,
                          0.2
                        ],
                        "passed_time": 0.5214468502,
                        "iteration": 190,
                        "remaining_time": 4.938729592,
                        "learn": [
                          0.2
                        ]
                      },
                      {
                        "test": [
                          0.6687274622,
                          0.5347762357,
                          0.2
                        ],
                        "passed_time": 0.5238637426,
                        "iteration": 191,
                        "remaining_time": 4.933050243,
                        "learn": [
                          0.2
                        ]
                      },
                      {
                        "test": [
                          0.6687274622,
                          0.5340749838,
                          0.2
                        ],
                        "passed_time": 0.5262724656,
                        "iteration": 192,
                        "remaining_time": 4.927328214,
                        "learn": [
                          0.2
                        ]
                      },
                      {
                        "test": [
                          0.6666365021,
                          0.533352214,
                          0.2
                        ],
                        "passed_time": 0.5286552198,
                        "iteration": 193,
                        "remaining_time": 4.921398593,
                        "learn": [
                          0.2
                        ]
                      },
                      {
                        "test": [
                          0.6666365021,
                          0.533352214,
                          0.2
                        ],
                        "passed_time": 0.5310334422,
                        "iteration": 194,
                        "remaining_time": 4.915463401,
                        "learn": [
                          0.2
                        ]
                      },
                      {
                        "test": [
                          0.6666365021,
                          0.5328044143,
                          0.2
                        ],
                        "passed_time": 0.5336034384,
                        "iteration": 195,
                        "remaining_time": 4.911329606,
                        "learn": [
                          0.2
                        ]
                      },
                      {
                        "test": [
                          0.6666365021,
                          0.5332469496,
                          0.2
                        ],
                        "passed_time": 0.5359877753,
                        "iteration": 196,
                        "remaining_time": 4.905512482,
                        "learn": [
                          0.2
                        ]
                      },
                      {
                        "test": [
                          0.6666365021,
                          0.5323618789,
                          0.2
                        ],
                        "passed_time": 0.5383192114,
                        "iteration": 197,
                        "remaining_time": 4.899248581,
                        "learn": [
                          0.2
                        ]
                      },
                      {
                        "test": [
                          0.6666365021,
                          0.5328044143,
                          0.2
                        ],
                        "passed_time": 0.5406978693,
                        "iteration": 198,
                        "remaining_time": 4.893451571,
                        "learn": [
                          0.2
                        ]
                      },
                      {
                        "test": [
                          0.6666365021,
                          0.533352214,
                          0.2
                        ],
                        "passed_time": 0.5431175149,
                        "iteration": 199,
                        "remaining_time": 4.888057634,
                        "learn": [
                          0.2
                        ]
                      },
                      {
                        "test": [
                          0.6666365021,
                          0.5337439281,
                          0.2
                        ],
                        "passed_time": 0.5454892188,
                        "iteration": 200,
                        "remaining_time": 4.882264202,
                        "learn": [
                          0.2
                        ]
                      },
                      {
                        "test": [
                          0.6712424396,
                          0.5356352483,
                          0.2
                        ],
                        "passed_time": 0.5478837992,
                        "iteration": 201,
                        "remaining_time": 4.876708272,
                        "learn": [
                          0.2
                        ]
                      },
                      {
                        "test": [
                          0.6712424396,
                          0.5351382698,
                          0.2
                        ],
                        "passed_time": 0.550206165,
                        "iteration": 202,
                        "remaining_time": 4.870544229,
                        "learn": [
                          0.2
                        ]
                      },
                      {
                        "test": [
                          0.6812671271,
                          0.5395465778,
                          0.2
                        ],
                        "passed_time": 0.552548346,
                        "iteration": 203,
                        "remaining_time": 4.864592301,
                        "learn": [
                          0.2
                        ]
                      },
                      {
                        "test": [
                          0.6812671271,
                          0.5381645287,
                          0.2
                        ],
                        "passed_time": 0.5549617972,
                        "iteration": 204,
                        "remaining_time": 4.859299638,
                        "learn": [
                          0.2
                        ]
                      },
                      {
                        "test": [
                          0.6895144984,
                          0.540837602,
                          0.2
                        ],
                        "passed_time": 0.5573697802,
                        "iteration": 205,
                        "remaining_time": 4.853987309,
                        "learn": [
                          0.2
                        ]
                      },
                      {
                        "test": [
                          0.6812671271,
                          0.5391040425,
                          0.2
                        ],
                        "passed_time": 0.5598692544,
                        "iteration": 206,
                        "remaining_time": 4.849495522,
                        "learn": [
                          0.2
                        ]
                      },
                      {
                        "test": [
                          0.6866858771,
                          0.5412293161,
                          0.2
                        ],
                        "passed_time": 0.5622196835,
                        "iteration": 207,
                        "remaining_time": 4.843738812,
                        "learn": [
                          0.2
                        ]
                      },
                      {
                        "test": [
                          0.6921046271,
                          0.5443449249,
                          0.2
                        ],
                        "passed_time": 0.5645804552,
                        "iteration": 208,
                        "remaining_time": 4.838103327,
                        "learn": [
                          0.2
                        ]
                      },
                      {
                        "test": [
                          0.6866858771,
                          0.543159165,
                          0.2
                        ],
                        "passed_time": 0.5669249244,
                        "iteration": 209,
                        "remaining_time": 4.83236007,
                        "learn": [
                          0.2
                        ]
                      },
                      {
                        "test": [
                          0.6866858771,
                          0.5416718515,
                          0.2
                        ],
                        "passed_time": 0.5692821871,
                        "iteration": 210,
                        "remaining_time": 4.826757501,
                        "learn": [
                          0.2
                        ]
                      },
                      {
                        "test": [
                          0.6866858771,
                          0.5409705995,
                          0.2
                        ],
                        "passed_time": 0.5718389406,
                        "iteration": 211,
                        "remaining_time": 4.822868047,
                        "learn": [
                          0.2
                        ]
                      },
                      {
                        "test": [
                          0.6812671271,
                          0.5388453258,
                          0.2
                        ],
                        "passed_time": 0.5741987365,
                        "iteration": 212,
                        "remaining_time": 4.817338695,
                        "learn": [
                          0.2
                        ]
                      },
                      {
                        "test": [
                          0.6841611896,
                          0.5473292111,
                          0.2
                        ],
                        "passed_time": 0.5765695185,
                        "iteration": 213,
                        "remaining_time": 4.811930655,
                        "learn": [
                          0.2
                        ]
                      },
                      {
                        "test": [
                          0.6895799396,
                          0.5494544848,
                          0.2
                        ],
                        "passed_time": 0.578894992,
                        "iteration": 214,
                        "remaining_time": 4.806174701,
                        "learn": [
                          0.2
                        ]
                      },
                      {
                        "test": [
                          0.6895799396,
                          0.548514971,
                          0.2
                        ],
                        "passed_time": 0.581243353,
                        "iteration": 215,
                        "remaining_time": 4.800639545,
                        "learn": [
                          0.2
                        ]
                      },
                      {
                        "test": [
                          0.6841611896,
                          0.5458418976,
                          0.2
                        ],
                        "passed_time": 0.5835978675,
                        "iteration": 216,
                        "remaining_time": 4.795184321,
                        "learn": [
                          0.2
                        ]
                      },
                      {
                        "test": [
                          0.6787424396,
                          0.5437166239,
                          0.2
                        ],
                        "passed_time": 0.5859752963,
                        "iteration": 217,
                        "remaining_time": 4.789944853,
                        "learn": [
                          0.2
                        ]
                      },
                      {
                        "test": [
                          0.6712424396,
                          0.5324019047,
                          0.2
                        ],
                        "passed_time": 0.5883402811,
                        "iteration": 218,
                        "remaining_time": 4.784630323,
                        "learn": [
                          0.2
                        ]
                      },
                      {
                        "test": [
                          0.6766611896,
                          0.5338259264,
                          0.2
                        ],
                        "passed_time": 0.5906948157,
                        "iteration": 219,
                        "remaining_time": 4.779258054,
                        "learn": [
                          0.2
                        ]
                      },
                      {
                        "test": [
                          0.6799889794,
                          0.5345271784,
                          0.2
                        ],
                        "passed_time": 0.59482213,
                        "iteration": 220,
                        "remaining_time": 4.788183571,
                        "learn": [
                          0.2
                        ]
                      },
                      {
                        "test": [
                          0.6799889794,
                          0.5345271784,
                          0.2
                        ],
                        "passed_time": 0.5972274862,
                        "iteration": 221,
                        "remaining_time": 4.783200317,
                        "learn": [
                          0.2
                        ]
                      },
                      {
                        "test": [
                          0.6799889794,
                          0.5345271784,
                          0.2
                        ],
                        "passed_time": 0.5996390919,
                        "iteration": 222,
                        "remaining_time": 4.778289983,
                        "learn": [
                          0.2
                        ]
                      },
                      {
                        "test": [
                          0.6854077294,
                          0.5362099167,
                          0.2
                        ],
                        "passed_time": 0.6020968279,
                        "iteration": 223,
                        "remaining_time": 4.773767707,
                        "learn": [
                          0.2
                        ]
                      },
                      {
                        "test": [
                          0.6854077294,
                          0.5372002517,
                          0.2
                        ],
                        "passed_time": 0.6045935513,
                        "iteration": 224,
                        "remaining_time": 4.769571349,
                        "learn": [
                          0.2
                        ]
                      },
                      {
                        "test": [
                          0.6854077294,
                          0.5372002517,
                          0.2
                        ],
                        "passed_time": 0.6069653429,
                        "iteration": 225,
                        "remaining_time": 4.764409373,
                        "learn": [
                          0.2
                        ]
                      },
                      {
                        "test": [
                          0.6929077294,
                          0.548514971,
                          0.2
                        ],
                        "passed_time": 0.6093700955,
                        "iteration": 226,
                        "remaining_time": 4.759529424,
                        "learn": [
                          0.2
                        ]
                      },
                      {
                        "test": [
                          0.6895799396,
                          0.5468742053,
                          0.2
                        ],
                        "passed_time": 0.6117871811,
                        "iteration": 227,
                        "remaining_time": 4.754767039,
                        "learn": [
                          0.2
                        ]
                      },
                      {
                        "test": [
                          0.6949986896,
                          0.5489994789,
                          0.2
                        ],
                        "passed_time": 0.6141907459,
                        "iteration": 228,
                        "remaining_time": 4.749920572,
                        "learn": [
                          0.2
                        ]
                      },
                      {
                        "test": [
                          0.6949986896,
                          0.5499389927,
                          0.2
                        ],
                        "passed_time": 0.616572867,
                        "iteration": 229,
                        "remaining_time": 4.744930324,
                        "learn": [
                          0.2
                        ]
                      },
                      {
                        "test": [
                          0.6978273109,
                          0.5495472786,
                          0.2
                        ],
                        "passed_time": 0.6189786059,
                        "iteration": 230,
                        "remaining_time": 4.740143523,
                        "learn": [
                          0.2
                        ]
                      },
                      {
                        "test": [
                          0.6978273109,
                          0.5495472786,
                          0.2
                        ],
                        "passed_time": 0.6213617319,
                        "iteration": 231,
                        "remaining_time": 4.735204923,
                        "learn": [
                          0.2
                        ]
                      },
                      {
                        "test": [
                          0.6999085609,
                          0.5582941889,
                          0.2
                        ],
                        "passed_time": 0.6237345449,
                        "iteration": 232,
                        "remaining_time": 4.730210046,
                        "learn": [
                          0.2
                        ]
                      },
                      {
                        "test": [
                          0.6999085609,
                          0.5582941889,
                          0.2
                        ],
                        "passed_time": 0.6261195681,
                        "iteration": 233,
                        "remaining_time": 4.725329732,
                        "learn": [
                          0.2
                        ]
                      },
                      {
                        "test": [
                          0.6924085609,
                          0.5469794696,
                          0.2
                        ],
                        "passed_time": 0.6285297166,
                        "iteration": 234,
                        "remaining_time": 4.72065936,
                        "learn": [
                          0.2
                        ]
                      },
                      {
                        "test": [
                          0.6924085609,
                          0.5469794696,
                          0.2
                        ],
                        "passed_time": 0.6309175984,
                        "iteration": 235,
                        "remaining_time": 4.71584171,
                        "learn": [
                          0.2
                        ]
                      },
                      {
                        "test": [
                          0.6869898109,
                          0.5448541959,
                          0.2
                        ],
                        "passed_time": 0.6334215326,
                        "iteration": 236,
                        "remaining_time": 4.711907856,
                        "learn": [
                          0.2
                        ]
                      },
                      {
                        "test": [
                          0.6944898109,
                          0.5561689152,
                          0.2
                        ],
                        "passed_time": 0.6358073868,
                        "iteration": 237,
                        "remaining_time": 4.70711183,
                        "learn": [
                          0.2
                        ]
                      },
                      {
                        "test": [
                          0.7019898109,
                          0.5674836345,
                          0.2
                        ],
                        "passed_time": 0.6382071394,
                        "iteration": 238,
                        "remaining_time": 4.702438379,
                        "learn": [
                          0.2
                        ]
                      },
                      {
                        "test": [
                          0.7074085609,
                          0.5689076562,
                          0.2
                        ],
                        "passed_time": 0.6406085934,
                        "iteration": 239,
                        "remaining_time": 4.697796351,
                        "learn": [
                          0.2
                        ]
                      },
                      {
                        "test": [
                          0.7074085609,
                          0.5689076562,
                          0.2
                        ],
                        "passed_time": 0.6430357857,
                        "iteration": 240,
                        "remaining_time": 4.693360776,
                        "learn": [
                          0.2
                        ]
                      },
                      {
                        "test": [
                          0.6999085609,
                          0.5567078662,
                          0.2
                        ],
                        "passed_time": 0.6453651751,
                        "iteration": 241,
                        "remaining_time": 4.688231313,
                        "learn": [
                          0.2
                        ]
                      },
                      {
                        "test": [
                          0.6999085609,
                          0.5571504016,
                          0.2
                        ],
                        "passed_time": 0.6477443416,
                        "iteration": 242,
                        "remaining_time": 4.683484807,
                        "learn": [
                          0.2
                        ]
                      },
                      {
                        "test": [
                          0.6924085609,
                          0.5458356823,
                          0.2
                        ],
                        "passed_time": 0.650134217,
                        "iteration": 243,
                        "remaining_time": 4.678834775,
                        "learn": [
                          0.2
                        ]
                      },
                      {
                        "test": [
                          0.6924085609,
                          0.5474379194,
                          0.2
                        ],
                        "passed_time": 0.6525248043,
                        "iteration": 244,
                        "remaining_time": 4.674208292,
                        "learn": [
                          0.2
                        ]
                      },
                      {
                        "test": [
                          0.6999085609,
                          0.5587526387,
                          0.2
                        ],
                        "passed_time": 0.6549180984,
                        "iteration": 245,
                        "remaining_time": 4.669619287,
                        "learn": [
                          0.2
                        ]
                      },
                      {
                        "test": [
                          0.6999085609,
                          0.5587526387,
                          0.2
                        ],
                        "passed_time": 0.6575269168,
                        "iteration": 246,
                        "remaining_time": 4.666577673,
                        "learn": [
                          0.2
                        ]
                      },
                      {
                        "test": [
                          0.6944898109,
                          0.5562233583,
                          0.2
                        ],
                        "passed_time": 0.6599598796,
                        "iteration": 247,
                        "remaining_time": 4.662297214,
                        "learn": [
                          0.2
                        ]
                      },
                      {
                        "test": [
                          0.6898838734,
                          0.5548798378,
                          0.2
                        ],
                        "passed_time": 0.6623368443,
                        "iteration": 248,
                        "remaining_time": 4.657637809,
                        "learn": [
                          0.2
                        ]
                      },
                      {
                        "test": [
                          0.6898838734,
                          0.5553223732,
                          0.2
                        ],
                        "passed_time": 0.6647546072,
                        "iteration": 249,
                        "remaining_time": 4.65328225,
                        "learn": [
                          0.2
                        ]
                      },
                      {
                        "test": [
                          0.6898838734,
                          0.5546211212,
                          0.2
                        ],
                        "passed_time": 0.66725378,
                        "iteration": 250,
                        "remaining_time": 4.649509408,
                        "learn": [
                          0.2
                        ]
                      },
                      {
                        "test": [
                          0.6826410367,
                          0.5536816074,
                          0.2
                        ],
                        "passed_time": 0.6697203146,
                        "iteration": 251,
                        "remaining_time": 4.645520278,
                        "learn": [
                          0.2
                        ]
                      },
                      {
                        "test": [
                          0.6772222867,
                          0.5522575857,
                          0.2
                        ],
                        "passed_time": 0.6721023648,
                        "iteration": 252,
                        "remaining_time": 4.640959807,
                        "learn": [
                          0.2
                        ]
                      },
                      {
                        "test": [
                          0.6880597867,
                          0.5571504016,
                          0.2
                        ],
                        "passed_time": 0.6744897934,
                        "iteration": 253,
                        "remaining_time": 4.636453462,
                        "learn": [
                          0.2
                        ]
                      },
                      {
                        "test": [
                          0.6880597867,
                          0.5567463949,
                          0.2
                        ],
                        "passed_time": 0.6768386376,
                        "iteration": 254,
                        "remaining_time": 4.631699696,
                        "learn": [
                          0.2
                        ]
                      },
                      {
                        "test": [
                          0.6880597867,
                          0.5567463949,
                          0.2
                        ],
                        "passed_time": 0.6792838765,
                        "iteration": 255,
                        "remaining_time": 4.627621409,
                        "learn": [
                          0.2
                        ]
                      },
                      {
                        "test": [
                          0.6880597867,
                          0.5567463949,
                          0.2
                        ],
                        "passed_time": 0.68208491,
                        "iteration": 256,
                        "remaining_time": 4.625968865,
                        "learn": [
                          0.2
                        ]
                      },
                      {
                        "test": [
                          0.6847319969,
                          0.5565929426,
                          0.2
                        ],
                        "passed_time": 0.6853716207,
                        "iteration": 257,
                        "remaining_time": 4.62758668,
                        "learn": [
                          0.2
                        ]
                      },
                      {
                        "test": [
                          0.6913875766,
                          0.5572941946,
                          0.2
                        ],
                        "passed_time": 0.6878090825,
                        "iteration": 258,
                        "remaining_time": 4.623457964,
                        "learn": [
                          0.2
                        ]
                      },
                      {
                        "test": [
                          0.6913875766,
                          0.5579954466,
                          0.2
                        ],
                        "passed_time": 0.690248112,
                        "iteration": 259,
                        "remaining_time": 4.619352749,
                        "learn": [
                          0.2
                        ]
                      },
                      {
                        "test": [
                          0.6913875766,
                          0.5579954466,
                          0.2
                        ],
                        "passed_time": 0.6927008854,
                        "iteration": 260,
                        "remaining_time": 4.615351876,
                        "learn": [
                          0.2
                        ]
                      },
                      {
                        "test": [
                          0.6885589552,
                          0.5574476469,
                          0.2
                        ],
                        "passed_time": 0.6950891754,
                        "iteration": 261,
                        "remaining_time": 4.610935064,
                        "learn": [
                          0.2
                        ]
                      },
                      {
                        "test": [
                          0.6968063266,
                          0.5594194683,
                          0.2
                        ],
                        "passed_time": 0.6974500389,
                        "iteration": 262,
                        "remaining_time": 4.606352539,
                        "learn": [
                          0.2
                        ]
                      },
                      {
                        "test": [
                          0.6968063266,
                          0.5594194683,
                          0.2
                        ],
                        "passed_time": 0.6998013258,
                        "iteration": 263,
                        "remaining_time": 4.601723869,
                        "learn": [
                          0.2
                        ]
                      },
                      {
                        "test": [
                          0.6934785367,
                          0.5600617368,
                          0.2
                        ],
                        "passed_time": 0.7022384539,
                        "iteration": 264,
                        "remaining_time": 4.597674406,
                        "learn": [
                          0.2
                        ]
                      },
                      {
                        "test": [
                          0.6880597867,
                          0.5579364631,
                          0.2
                        ],
                        "passed_time": 0.7046224558,
                        "iteration": 265,
                        "remaining_time": 4.593290746,
                        "learn": [
                          0.2
                        ]
                      },
                      {
                        "test": [
                          0.6988875766,
                          0.5706536863,
                          0.2
                        ],
                        "passed_time": 0.7071240527,
                        "iteration": 266,
                        "remaining_time": 4.589685331,
                        "learn": [
                          0.2
                        ]
                      },
                      {
                        "test": [
                          0.6922319969,
                          0.5685499304,
                          0.2
                        ],
                        "passed_time": 0.7094488371,
                        "iteration": 267,
                        "remaining_time": 4.58494547,
                        "learn": [
                          0.2
                        ]
                      },
                      {
                        "test": [
                          0.6922319969,
                          0.5685499304,
                          0.2
                        ],
                        "passed_time": 0.7119185367,
                        "iteration": 268,
                        "remaining_time": 4.581156086,
                        "learn": [
                          0.2
                        ]
                      },
                      {
                        "test": [
                          0.6894033755,
                          0.5680021307,
                          0.2
                        ],
                        "passed_time": 0.7142713112,
                        "iteration": 269,
                        "remaining_time": 4.576627291,
                        "learn": [
                          0.2
                        ]
                      },
                      {
                        "test": [
                          0.6852311654,
                          0.5573886634,
                          0.2
                        ],
                        "passed_time": 0.7187086634,
                        "iteration": 270,
                        "remaining_time": 4.585414314,
                        "learn": [
                          0.2
                        ]
                      },
                      {
                        "test": [
                          0.6777311654,
                          0.5460739441,
                          0.2
                        ],
                        "passed_time": 0.7217094801,
                        "iteration": 271,
                        "remaining_time": 4.584977873,
                        "learn": [
                          0.2
                        ]
                      },
                      {
                        "test": [
                          0.6878026234,
                          0.5482625096,
                          0.2
                        ],
                        "passed_time": 0.7271761473,
                        "iteration": 272,
                        "remaining_time": 4.600121635,
                        "learn": [
                          0.2
                        ]
                      },
                      {
                        "test": [
                          0.6795552521,
                          0.5455894362,
                          0.2
                        ],
                        "passed_time": 0.7296114345,
                        "iteration": 273,
                        "remaining_time": 4.596019474,
                        "learn": [
                          0.2
                        ]
                      },
                      {
                        "test": [
                          0.6762274622,
                          0.5448881843,
                          0.2
                        ],
                        "passed_time": 0.7320159976,
                        "iteration": 274,
                        "remaining_time": 4.591736712,
                        "learn": [
                          0.2
                        ]
                      },
                      {
                        "test": [
                          0.6816462122,
                          0.5470134579,
                          0.2
                        ],
                        "passed_time": 0.7344841281,
                        "iteration": 275,
                        "remaining_time": 4.587864626,
                        "learn": [
                          0.2
                        ]
                      },
                      {
                        "test": [
                          0.6816462122,
                          0.5470134579,
                          0.2
                        ],
                        "passed_time": 0.7369434387,
                        "iteration": 276,
                        "remaining_time": 4.583947815,
                        "learn": [
                          0.2
                        ]
                      },
                      {
                        "test": [
                          0.6862521497,
                          0.5483569784,
                          0.2
                        ],
                        "passed_time": 0.73933527,
                        "iteration": 277,
                        "remaining_time": 4.579623507,
                        "learn": [
                          0.2
                        ]
                      },
                      {
                        "test": [
                          0.6862521497,
                          0.5483569784,
                          0.2
                        ],
                        "passed_time": 0.7417792662,
                        "iteration": 278,
                        "remaining_time": 4.575634829,
                        "learn": [
                          0.2
                        ]
                      },
                      {
                        "test": [
                          0.6862521497,
                          0.5483569784,
                          0.2
                        ],
                        "passed_time": 0.7441311567,
                        "iteration": 279,
                        "remaining_time": 4.571091391,
                        "learn": [
                          0.2
                        ]
                      },
                      {
                        "test": [
                          0.6862521497,
                          0.5483569784,
                          0.2
                        ],
                        "passed_time": 0.7469800601,
                        "iteration": 280,
                        "remaining_time": 4.569603998,
                        "learn": [
                          0.2
                        ]
                      },
                      {
                        "test": [
                          0.6862521497,
                          0.5483569784,
                          0.2
                        ],
                        "passed_time": 0.7493860195,
                        "iteration": 281,
                        "remaining_time": 4.565408445,
                        "learn": [
                          0.2
                        ]
                      },
                      {
                        "test": [
                          0.6823371029,
                          0.5474174646,
                          0.2
                        ],
                        "passed_time": 0.7517787281,
                        "iteration": 282,
                        "remaining_time": 4.561145146,
                        "learn": [
                          0.2
                        ]
                      },
                      {
                        "test": [
                          0.6823371029,
                          0.5474174646,
                          0.2
                        ],
                        "passed_time": 0.7541046671,
                        "iteration": 283,
                        "remaining_time": 4.55649158,
                        "learn": [
                          0.2
                        ]
                      },
                      {
                        "test": [
                          0.673590563,
                          0.544590939,
                          0.2
                        ],
                        "passed_time": 0.7564751628,
                        "iteration": 284,
                        "remaining_time": 4.552122471,
                        "learn": [
                          0.2
                        ]
                      },
                      {
                        "test": [
                          0.673590563,
                          0.544590939,
                          0.2
                        ],
                        "passed_time": 0.7589787011,
                        "iteration": 285,
                        "remaining_time": 4.548564663,
                        "learn": [
                          0.2
                        ]
                      },
                      {
                        "test": [
                          0.673590563,
                          0.544590939,
                          0.2
                        ],
                        "passed_time": 0.7613687965,
                        "iteration": 286,
                        "remaining_time": 4.544337103,
                        "learn": [
                          0.2
                        ]
                      },
                      {
                        "test": [
                          0.681090563,
                          0.5518916977,
                          0.2
                        ],
                        "passed_time": 0.7638265835,
                        "iteration": 287,
                        "remaining_time": 4.540524691,
                        "learn": [
                          0.2
                        ]
                      },
                      {
                        "test": [
                          0.675671813,
                          0.5493238887,
                          0.2
                        ],
                        "passed_time": 0.7662764756,
                        "iteration": 288,
                        "remaining_time": 4.536674912,
                        "learn": [
                          0.2
                        ]
                      },
                      {
                        "test": [
                          0.6764846255,
                          0.5505481772,
                          0.2
                        ],
                        "passed_time": 0.7686194757,
                        "iteration": 289,
                        "remaining_time": 4.532204495,
                        "learn": [
                          0.2
                        ]
                      },
                      {
                        "test": [
                          0.6764846255,
                          0.5505481772,
                          0.2
                        ],
                        "passed_time": 0.7709878405,
                        "iteration": 290,
                        "remaining_time": 4.527897661,
                        "learn": [
                          0.2
                        ]
                      },
                      {
                        "test": [
                          0.681090563,
                          0.5518916977,
                          0.2
                        ],
                        "passed_time": 0.7733848132,
                        "iteration": 291,
                        "remaining_time": 4.523771441,
                        "learn": [
                          0.2
                        ]
                      },
                      {
                        "test": [
                          0.6764846255,
                          0.5505481772,
                          0.2
                        ],
                        "passed_time": 0.7757134039,
                        "iteration": 292,
                        "remaining_time": 4.519258636,
                        "learn": [
                          0.2
                        ]
                      },
                      {
                        "test": [
                          0.6819033755,
                          0.5543142167,
                          0.2
                        ],
                        "passed_time": 0.7781352136,
                        "iteration": 293,
                        "remaining_time": 4.515301613,
                        "learn": [
                          0.2
                        ]
                      },
                      {
                        "test": [
                          0.679009313,
                          0.5483569784,
                          0.2
                        ],
                        "passed_time": 0.7805102774,
                        "iteration": 294,
                        "remaining_time": 4.511084824,
                        "learn": [
                          0.2
                        ]
                      },
                      {
                        "test": [
                          0.679009313,
                          0.5483569784,
                          0.2
                        ],
                        "passed_time": 0.7829323698,
                        "iteration": 295,
                        "remaining_time": 4.50715121,
                        "learn": [
                          0.2
                        ]
                      },
                      {
                        "test": [
                          0.6777311654,
                          0.5437007494,
                          0.2
                        ],
                        "passed_time": 0.7856548228,
                        "iteration": 296,
                        "remaining_time": 4.504950045,
                        "learn": [
                          0.2
                        ]
                      },
                      {
                        "test": [
                          0.6810589552,
                          0.544949801,
                          0.2
                        ],
                        "passed_time": 0.7880089773,
                        "iteration": 297,
                        "remaining_time": 4.500641877,
                        "learn": [
                          0.2
                        ]
                      },
                      {
                        "test": [
                          0.6810589552,
                          0.544949801,
                          0.2
                        ],
                        "passed_time": 0.7903823116,
                        "iteration": 298,
                        "remaining_time": 4.496455893,
                        "learn": [
                          0.2
                        ]
                      },
                      {
                        "test": [
                          0.6831402052,
                          0.5541392466,
                          0.2
                        ],
                        "passed_time": 0.7926976998,
                        "iteration": 299,
                        "remaining_time": 4.491953632,
                        "learn": [
                          0.2
                        ]
                      },
                      {
                        "test": [
                          0.6831402052,
                          0.5541392466,
                          0.2
                        ],
                        "passed_time": 0.7950787526,
                        "iteration": 300,
                        "remaining_time": 4.487836547,
                        "learn": [
                          0.2
                        ]
                      },
                      {
                        "test": [
                          0.6831402052,
                          0.5541392466,
                          0.2
                        ],
                        "passed_time": 0.7974297086,
                        "iteration": 301,
                        "remaining_time": 4.483561739,
                        "learn": [
                          0.2
                        ]
                      },
                      {
                        "test": [
                          0.6885589552,
                          0.5562645203,
                          0.2
                        ],
                        "passed_time": 0.7997564325,
                        "iteration": 302,
                        "remaining_time": 4.479163914,
                        "learn": [
                          0.2
                        ]
                      },
                      {
                        "test": [
                          0.6877461427,
                          0.5554827671,
                          0.2
                        ],
                        "passed_time": 0.8021068016,
                        "iteration": 303,
                        "remaining_time": 4.47491163,
                        "learn": [
                          0.2
                        ]
                      },
                      {
                        "test": [
                          0.6849175213,
                          0.5554827671,
                          0.2
                        ],
                        "passed_time": 0.8045392993,
                        "iteration": 304,
                        "remaining_time": 4.471128237,
                        "learn": [
                          0.2
                        ]
                      },
                      {
                        "test": [
                          0.6774175213,
                          0.5441680478,
                          0.2
                        ],
                        "passed_time": 0.8069308507,
                        "iteration": 305,
                        "remaining_time": 4.467126997,
                        "learn": [
                          0.2
                        ]
                      },
                      {
                        "test": [
                          0.6774175213,
                          0.5436202481,
                          0.2
                        ],
                        "passed_time": 0.8092783412,
                        "iteration": 306,
                        "remaining_time": 4.462893263,
                        "learn": [
                          0.2
                        ]
                      },
                      {
                        "test": [
                          0.6802461427,
                          0.5441680478,
                          0.2
                        ],
                        "passed_time": 0.8116472969,
                        "iteration": 307,
                        "remaining_time": 4.458789696,
                        "learn": [
                          0.2
                        ]
                      },
                      {
                        "test": [
                          0.6802461427,
                          0.5441680478,
                          0.2
                        ],
                        "passed_time": 0.8140167231,
                        "iteration": 308,
                        "remaining_time": 4.454699931,
                        "learn": [
                          0.2
                        ]
                      },
                      {
                        "test": [
                          0.6802461427,
                          0.5441680478,
                          0.2
                        ],
                        "passed_time": 0.8163978332,
                        "iteration": 309,
                        "remaining_time": 4.450684962,
                        "learn": [
                          0.2
                        ]
                      },
                      {
                        "test": [
                          0.6802461427,
                          0.5441680478,
                          0.2
                        ],
                        "passed_time": 0.8187637194,
                        "iteration": 310,
                        "remaining_time": 4.44659782,
                        "learn": [
                          0.2
                        ]
                      },
                      {
                        "test": [
                          0.6856648927,
                          0.5462933215,
                          0.2
                        ],
                        "passed_time": 0.8211035646,
                        "iteration": 311,
                        "remaining_time": 4.442380824,
                        "learn": [
                          0.2
                        ]
                      },
                      {
                        "test": [
                          0.6769183529,
                          0.5434667959,
                          0.2
                        ],
                        "passed_time": 0.823508784,
                        "iteration": 312,
                        "remaining_time": 4.438528174,
                        "learn": [
                          0.2
                        ]
                      },
                      {
                        "test": [
                          0.6844183529,
                          0.5547815151,
                          0.2
                        ],
                        "passed_time": 0.8258938568,
                        "iteration": 313,
                        "remaining_time": 4.434576568,
                        "learn": [
                          0.2
                        ]
                      },
                      {
                        "test": [
                          0.6844183529,
                          0.5547815151,
                          0.2
                        ],
                        "passed_time": 0.8282011277,
                        "iteration": 314,
                        "remaining_time": 4.430218731,
                        "learn": [
                          0.2
                        ]
                      },
                      {
                        "test": [
                          0.6844183529,
                          0.5547815151,
                          0.2
                        ],
                        "passed_time": 0.8305138532,
                        "iteration": 315,
                        "remaining_time": 4.425902939,
                        "learn": [
                          0.2
                        ]
                      },
                      {
                        "test": [
                          0.6798124154,
                          0.5534379946,
                          0.2
                        ],
                        "passed_time": 0.8328850861,
                        "iteration": 316,
                        "remaining_time": 4.42191041,
                        "learn": [
                          0.2
                        ]
                      },
                      {
                        "test": [
                          0.6798124154,
                          0.5534379946,
                          0.2
                        ],
                        "passed_time": 0.8352541219,
                        "iteration": 317,
                        "remaining_time": 4.417916456,
                        "learn": [
                          0.2
                        ]
                      },
                      {
                        "test": [
                          0.6798124154,
                          0.5534379946,
                          0.2
                        ],
                        "passed_time": 0.8400044209,
                        "iteration": 318,
                        "remaining_time": 4.426480976,
                        "learn": [
                          0.2
                        ]
                      },
                      {
                        "test": [
                          0.6743936654,
                          0.5507649213,
                          0.2
                        ],
                        "passed_time": 0.8435981944,
                        "iteration": 319,
                        "remaining_time": 4.428890521,
                        "learn": [
                          0.2
                        ]
                      },
                      {
                        "test": [
                          0.6798124154,
                          0.5534379946,
                          0.2
                        ],
                        "passed_time": 0.8470234968,
                        "iteration": 320,
                        "remaining_time": 4.430381467,
                        "learn": [
                          0.2
                        ]
                      },
                      {
                        "test": [
                          0.6852311654,
                          0.5555632683,
                          0.2
                        ],
                        "passed_time": 0.8494104991,
                        "iteration": 321,
                        "remaining_time": 4.42643111,
                        "learn": [
                          0.2
                        ]
                      },
                      {
                        "test": [
                          0.682402544,
                          0.5550154686,
                          0.2
                        ],
                        "passed_time": 0.8517566801,
                        "iteration": 322,
                        "remaining_time": 4.422278491,
                        "learn": [
                          0.2
                        ]
                      },
                      {
                        "test": [
                          0.682402544,
                          0.5550154686,
                          0.2
                        ],
                        "passed_time": 0.8541153345,
                        "iteration": 323,
                        "remaining_time": 4.418201545,
                        "learn": [
                          0.2
                        ]
                      },
                      {
                        "test": [
                          0.674902544,
                          0.5471669102,
                          0.2
                        ],
                        "passed_time": 0.856493822,
                        "iteration": 324,
                        "remaining_time": 4.41423739,
                        "learn": [
                          0.2
                        ]
                      },
                      {
                        "test": [
                          0.674902544,
                          0.5431529497,
                          0.2
                        ],
                        "passed_time": 0.8588038115,
                        "iteration": 325,
                        "remaining_time": 4.409931229,
                        "learn": [
                          0.2
                        ]
                      },
                      {
                        "test": [
                          0.674902544,
                          0.5471669102,
                          0.2
                        ],
                        "passed_time": 0.86137319,
                        "iteration": 326,
                        "remaining_time": 4.406964363,
                        "learn": [
                          0.2
                        ]
                      },
                      {
                        "test": [
                          0.674902544,
                          0.5427861292,
                          0.2
                        ],
                        "passed_time": 0.8637028984,
                        "iteration": 327,
                        "remaining_time": 4.402778189,
                        "learn": [
                          0.2
                        ]
                      },
                      {
                        "test": [
                          0.6777311654,
                          0.5427861292,
                          0.2
                        ],
                        "passed_time": 0.8664840576,
                        "iteration": 328,
                        "remaining_time": 4.400896232,
                        "learn": [
                          0.2
                        ]
                      },
                      {
                        "test": [
                          0.6777311654,
                          0.5433339289,
                          0.2
                        ],
                        "passed_time": 0.8688937288,
                        "iteration": 329,
                        "remaining_time": 4.39712887,
                        "learn": [
                          0.2
                        ]
                      },
                      {
                        "test": [
                          0.6777311654,
                          0.5423944151,
                          0.2
                        ],
                        "passed_time": 0.8712753707,
                        "iteration": 330,
                        "remaining_time": 4.39322838,
                        "learn": [
                          0.2
                        ]
                      },
                      {
                        "test": [
                          0.6677064779,
                          0.5389256209,
                          0.2
                        ],
                        "passed_time": 0.873839696,
                        "iteration": 331,
                        "remaining_time": 4.390254858,
                        "learn": [
                          0.2
                        ]
                      },
                      {
                        "test": [
                          0.6677064779,
                          0.5389256209,
                          0.2
                        ],
                        "passed_time": 0.8761658413,
                        "iteration": 332,
                        "remaining_time": 4.386091464,
                        "learn": [
                          0.2
                        ]
                      },
                      {
                        "test": [
                          0.6723124154,
                          0.5402691414,
                          0.2
                        ],
                        "passed_time": 0.8785025097,
                        "iteration": 333,
                        "remaining_time": 4.38199156,
                        "learn": [
                          0.2
                        ]
                      },
                      {
                        "test": [
                          0.6648124154,
                          0.5285118868,
                          0.2
                        ],
                        "passed_time": 0.8809080877,
                        "iteration": 334,
                        "remaining_time": 4.378244675,
                        "learn": [
                          0.2
                        ]
                      },
                      {
                        "test": [
                          0.6681402052,
                          0.5296048528,
                          0.2
                        ],
                        "passed_time": 0.8832516132,
                        "iteration": 335,
                        "remaining_time": 4.374198466,
                        "learn": [
                          0.2
                        ]
                      },
                      {
                        "test": [
                          0.6681402052,
                          0.5300473882,
                          0.2
                        ],
                        "passed_time": 0.8855969533,
                        "iteration": 336,
                        "remaining_time": 4.370171316,
                        "learn": [
                          0.2
                        ]
                      },
                      {
                        "test": [
                          0.6681402052,
                          0.5300473882,
                          0.2
                        ],
                        "passed_time": 0.8879838888,
                        "iteration": 337,
                        "remaining_time": 4.366358649,
                        "learn": [
                          0.2
                        ]
                      },
                      {
                        "test": [
                          0.6681402052,
                          0.5296048528,
                          0.2
                        ],
                        "passed_time": 0.8903832201,
                        "iteration": 338,
                        "remaining_time": 4.362615129,
                        "learn": [
                          0.2
                        ]
                      },
                      {
                        "test": [
                          0.6681402052,
                          0.528665339,
                          0.2
                        ],
                        "passed_time": 0.8927525827,
                        "iteration": 339,
                        "remaining_time": 4.358733198,
                        "learn": [
                          0.2
                        ]
                      },
                      {
                        "test": [
                          0.6681402052,
                          0.5296048528,
                          0.2
                        ],
                        "passed_time": 0.8950614804,
                        "iteration": 340,
                        "remaining_time": 4.354565971,
                        "learn": [
                          0.2
                        ]
                      },
                      {
                        "test": [
                          0.6720552521,
                          0.5305443666,
                          0.2
                        ],
                        "passed_time": 0.8975691823,
                        "iteration": 341,
                        "remaining_time": 4.351373404,
                        "learn": [
                          0.2
                        ]
                      },
                      {
                        "test": [
                          0.6681402052,
                          0.5296048528,
                          0.2
                        ],
                        "passed_time": 0.8999654018,
                        "iteration": 342,
                        "remaining_time": 4.34764627,
                        "learn": [
                          0.2
                        ]
                      },
                      {
                        "test": [
                          0.6635342677,
                          0.5287038677,
                          0.2
                        ],
                        "passed_time": 0.9023054951,
                        "iteration": 343,
                        "remaining_time": 4.343656686,
                        "learn": [
                          0.2
                        ]
                      },
                      {
                        "test": [
                          0.6635342677,
                          0.5287038677,
                          0.2
                        ],
                        "passed_time": 0.904694916,
                        "iteration": 344,
                        "remaining_time": 4.339913293,
                        "learn": [
                          0.2
                        ]
                      },
                      {
                        "test": [
                          0.6635342677,
                          0.5287038677,
                          0.2
                        ],
                        "passed_time": 0.9070388816,
                        "iteration": 345,
                        "remaining_time": 4.335960434,
                        "learn": [
                          0.2
                        ]
                      },
                      {
                        "test": [
                          0.6635342677,
                          0.5287038677,
                          0.2
                        ],
                        "passed_time": 0.9094127268,
                        "iteration": 346,
                        "remaining_time": 4.332159186,
                        "learn": [
                          0.2
                        ]
                      },
                      {
                        "test": [
                          0.6635342677,
                          0.5282613323,
                          0.2
                        ],
                        "passed_time": 0.9118293379,
                        "iteration": 347,
                        "remaining_time": 4.328569156,
                        "learn": [
                          0.2
                        ]
                      },
                      {
                        "test": [
                          0.6635342677,
                          0.5282613323,
                          0.2
                        ],
                        "passed_time": 0.914194695,
                        "iteration": 348,
                        "remaining_time": 4.324743385,
                        "learn": [
                          0.2
                        ]
                      },
                      {
                        "test": [
                          0.6635342677,
                          0.5282613323,
                          0.2
                        ],
                        "passed_time": 0.9165253684,
                        "iteration": 349,
                        "remaining_time": 4.320762451,
                        "learn": [
                          0.2
                        ]
                      },
                      {
                        "test": [
                          0.6635342677,
                          0.5282613323,
                          0.2
                        ],
                        "passed_time": 0.9188997841,
                        "iteration": 350,
                        "remaining_time": 4.316996422,
                        "learn": [
                          0.2
                        ]
                      },
                      {
                        "test": [
                          0.6635342677,
                          0.5282613323,
                          0.2
                        ],
                        "passed_time": 0.9212228135,
                        "iteration": 351,
                        "remaining_time": 4.312997718,
                        "learn": [
                          0.2
                        ]
                      },
                      {
                        "test": [
                          0.6635342677,
                          0.5282613323,
                          0.2
                        ],
                        "passed_time": 0.9236233302,
                        "iteration": 352,
                        "remaining_time": 4.309370042,
                        "learn": [
                          0.2
                        ]
                      },
                      {
                        "test": [
                          0.6635342677,
                          0.5282613323,
                          0.2
                        ],
                        "passed_time": 0.925968218,
                        "iteration": 353,
                        "remaining_time": 4.305490641,
                        "learn": [
                          0.2
                        ]
                      },
                      {
                        "test": [
                          0.6635342677,
                          0.5282613323,
                          0.2
                        ],
                        "passed_time": 0.9283345774,
                        "iteration": 354,
                        "remaining_time": 4.30171938,
                        "learn": [
                          0.2
                        ]
                      },
                      {
                        "test": [
                          0.6668620575,
                          0.5289625843,
                          0.2
                        ],
                        "passed_time": 0.9307034331,
                        "iteration": 355,
                        "remaining_time": 4.29796754,
                        "learn": [
                          0.2
                        ]
                      },
                      {
                        "test": [
                          0.6668620575,
                          0.5289625843,
                          0.2
                        ],
                        "passed_time": 0.9330386983,
                        "iteration": 356,
                        "remaining_time": 4.294068855,
                        "learn": [
                          0.2
                        ]
                      },
                      {
                        "test": [
                          0.671467995,
                          0.5303061048,
                          0.2
                        ],
                        "passed_time": 0.9354458454,
                        "iteration": 357,
                        "remaining_time": 4.290508598,
                        "learn": [
                          0.2
                        ]
                      },
                      {
                        "test": [
                          0.671467995,
                          0.5288187913,
                          0.2
                        ],
                        "passed_time": 0.9378445794,
                        "iteration": 358,
                        "remaining_time": 4.286916309,
                        "learn": [
                          0.2
                        ]
                      },
                      {
                        "test": [
                          0.671467995,
                          0.529366591,
                          0.2
                        ],
                        "passed_time": 0.940222451,
                        "iteration": 359,
                        "remaining_time": 4.28323561,
                        "learn": [
                          0.2
                        ]
                      },
                      {
                        "test": [
                          0.671467995,
                          0.5299143907,
                          0.2
                        ],
                        "passed_time": 0.9425615161,
                        "iteration": 360,
                        "remaining_time": 4.279385942,
                        "learn": [
                          0.2
                        ]
                      },
                      {
                        "test": [
                          0.671467995,
                          0.530356926,
                          0.2
                        ],
                        "passed_time": 0.9448708793,
                        "iteration": 361,
                        "remaining_time": 4.275410222,
                        "learn": [
                          0.2
                        ]
                      },
                      {
                        "test": [
                          0.671467995,
                          0.5298091263,
                          0.2
                        ],
                        "passed_time": 0.9472430255,
                        "iteration": 362,
                        "remaining_time": 4.271726812,
                        "learn": [
                          0.2
                        ]
                      },
                      {
                        "test": [
                          0.671467995,
                          0.5298091263,
                          0.2
                        ],
                        "passed_time": 0.9716004505,
                        "iteration": 363,
                        "remaining_time": 4.366863563,
                        "learn": [
                          0.2
                        ]
                      },
                      {
                        "test": [
                          0.6617652052,
                          0.5256417135,
                          0.2
                        ],
                        "passed_time": 0.9793517303,
                        "iteration": 364,
                        "remaining_time": 4.386959121,
                        "learn": [
                          0.2
                        ]
                      },
                      {
                        "test": [
                          0.6617652052,
                          0.5246513785,
                          0.2
                        ],
                        "passed_time": 0.9829640182,
                        "iteration": 365,
                        "remaining_time": 4.388424059,
                        "learn": [
                          0.2
                        ]
                      },
                      {
                        "test": [
                          0.6617652052,
                          0.5246513785,
                          0.2
                        ],
                        "passed_time": 0.9940152736,
                        "iteration": 366,
                        "remaining_time": 4.422961694,
                        "learn": [
                          0.2
                        ]
                      },
                      {
                        "test": [
                          0.6617652052,
                          0.5246513785,
                          0.2
                        ],
                        "passed_time": 0.9984714614,
                        "iteration": 367,
                        "remaining_time": 4.428003872,
                        "learn": [
                          0.2
                        ]
                      },
                      {
                        "test": [
                          0.6681402052,
                          0.5292131387,
                          0.2
                        ],
                        "passed_time": 1.002276351,
                        "iteration": 368,
                        "remaining_time": 4.430115796,
                        "learn": [
                          0.2
                        ]
                      },
                      {
                        "test": [
                          0.6681402052,
                          0.5292131387,
                          0.2
                        ],
                        "passed_time": 1.004667134,
                        "iteration": 369,
                        "remaining_time": 4.425966024,
                        "learn": [
                          0.2
                        ]
                      },
                      {
                        "test": [
                          0.6635342677,
                          0.5278696182,
                          0.2
                        ],
                        "passed_time": 1.007020543,
                        "iteration": 370,
                        "remaining_time": 4.421661632,
                        "learn": [
                          0.2
                        ]
                      },
                      {
                        "test": [
                          0.6635342677,
                          0.5278696182,
                          0.2
                        ],
                        "passed_time": 1.009420572,
                        "iteration": 371,
                        "remaining_time": 4.417571753,
                        "learn": [
                          0.2
                        ]
                      },
                      {
                        "test": [
                          0.6699092677,
                          0.5318835788,
                          0.2
                        ],
                        "passed_time": 1.012006639,
                        "iteration": 372,
                        "remaining_time": 4.414302417,
                        "learn": [
                          0.2
                        ]
                      },
                      {
                        "test": [
                          0.6699092677,
                          0.5318835788,
                          0.2
                        ],
                        "passed_time": 1.014449954,
                        "iteration": 373,
                        "remaining_time": 4.410416109,
                        "learn": [
                          0.2
                        ]
                      },
                      {
                        "test": [
                          0.6699092677,
                          0.5318835788,
                          0.2
                        ],
                        "passed_time": 1.016825644,
                        "iteration": 374,
                        "remaining_time": 4.406244457,
                        "learn": [
                          0.2
                        ]
                      },
                      {
                        "test": [
                          0.6738243146,
                          0.5328230926,
                          0.2
                        ],
                        "passed_time": 1.019245534,
                        "iteration": 375,
                        "remaining_time": 4.402273262,
                        "learn": [
                          0.2
                        ]
                      },
                      {
                        "test": [
                          0.6738243146,
                          0.5328230926,
                          0.2
                        ],
                        "passed_time": 1.021598719,
                        "iteration": 376,
                        "remaining_time": 4.398023131,
                        "learn": [
                          0.2
                        ]
                      },
                      {
                        "test": [
                          0.6738243146,
                          0.5328230926,
                          0.2
                        ],
                        "passed_time": 1.024025168,
                        "iteration": 377,
                        "remaining_time": 4.394097415,
                        "learn": [
                          0.2
                        ]
                      },
                      {
                        "test": [
                          0.6738243146,
                          0.5333708923,
                          0.2
                        ],
                        "passed_time": 1.026390252,
                        "iteration": 378,
                        "remaining_time": 4.389917147,
                        "learn": [
                          0.2
                        ]
                      },
                      {
                        "test": [
                          0.6738243146,
                          0.5338134276,
                          0.2
                        ],
                        "passed_time": 1.028727272,
                        "iteration": 379,
                        "remaining_time": 4.385626791,
                        "learn": [
                          0.2
                        ]
                      },
                      {
                        "test": [
                          0.6699092677,
                          0.5323261141,
                          0.2
                        ],
                        "passed_time": 1.031097663,
                        "iteration": 380,
                        "remaining_time": 4.381488497,
                        "learn": [
                          0.2
                        ]
                      },
                      {
                        "test": [
                          0.6699092677,
                          0.5323261141,
                          0.2
                        ],
                        "passed_time": 1.033405657,
                        "iteration": 381,
                        "remaining_time": 4.377095166,
                        "learn": [
                          0.2
                        ]
                      },
                      {
                        "test": [
                          0.6653033302,
                          0.5305400583,
                          0.2
                        ],
                        "passed_time": 1.035769061,
                        "iteration": 382,
                        "remaining_time": 4.372946661,
                        "learn": [
                          0.2
                        ]
                      },
                      {
                        "test": [
                          0.6653033302,
                          0.5299922586,
                          0.2
                        ],
                        "passed_time": 1.038142807,
                        "iteration": 383,
                        "remaining_time": 4.368850979,
                        "learn": [
                          0.2
                        ]
                      },
                      {
                        "test": [
                          0.6653033302,
                          0.5299922586,
                          0.2
                        ],
                        "passed_time": 1.040500429,
                        "iteration": 384,
                        "remaining_time": 4.364696607,
                        "learn": [
                          0.2
                        ]
                      },
                      {
                        "test": [
                          0.6653033302,
                          0.5299922586,
                          0.2
                        ],
                        "passed_time": 1.04285716,
                        "iteration": 385,
                        "remaining_time": 4.360547814,
                        "learn": [
                          0.2
                        ]
                      },
                      {
                        "test": [
                          0.6653033302,
                          0.5294444589,
                          0.2
                        ],
                        "passed_time": 1.045257374,
                        "iteration": 386,
                        "remaining_time": 4.35658952,
                        "learn": [
                          0.2
                        ]
                      },
                      {
                        "test": [
                          0.6653033302,
                          0.5298869942,
                          0.2
                        ],
                        "passed_time": 1.047601958,
                        "iteration": 387,
                        "remaining_time": 4.352408135,
                        "learn": [
                          0.2
                        ]
                      },
                      {
                        "test": [
                          0.6653033302,
                          0.5309825936,
                          0.2
                        ],
                        "passed_time": 1.049914642,
                        "iteration": 388,
                        "remaining_time": 4.348104083,
                        "learn": [
                          0.2
                        ]
                      },
                      {
                        "test": [
                          0.6728033302,
                          0.5407591782,
                          0.2
                        ],
                        "passed_time": 1.052340012,
                        "iteration": 389,
                        "remaining_time": 4.344275433,
                        "learn": [
                          0.2
                        ]
                      },
                      {
                        "test": [
                          0.6728033302,
                          0.5413069779,
                          0.2
                        ],
                        "passed_time": 1.054720162,
                        "iteration": 390,
                        "remaining_time": 4.340267878,
                        "learn": [
                          0.2
                        ]
                      },
                      {
                        "test": [
                          0.6728033302,
                          0.5407591782,
                          0.2
                        ],
                        "passed_time": 1.057221142,
                        "iteration": 391,
                        "remaining_time": 4.336764275,
                        "learn": [
                          0.2
                        ]
                      },
                      {
                        "test": [
                          0.6619755404,
                          0.5278036931,
                          0.2
                        ],
                        "passed_time": 1.059586052,
                        "iteration": 392,
                        "remaining_time": 4.332709377,
                        "learn": [
                          0.2
                        ]
                      },
                      {
                        "test": [
                          0.6619755404,
                          0.5282462285,
                          0.2
                        ],
                        "passed_time": 1.061973625,
                        "iteration": 393,
                        "remaining_time": 4.328755434,
                        "learn": [
                          0.2
                        ]
                      },
                      {
                        "test": [
                          0.6658905872,
                          0.5291857423,
                          0.2
                        ],
                        "passed_time": 1.064306393,
                        "iteration": 394,
                        "remaining_time": 4.324586736,
                        "learn": [
                          0.2
                        ]
                      },
                      {
                        "test": [
                          0.6658905872,
                          0.529733542,
                          0.2
                        ],
                        "passed_time": 1.06671552,
                        "iteration": 395,
                        "remaining_time": 4.320736602,
                        "learn": [
                          0.2
                        ]
                      },
                      {
                        "test": [
                          0.6658905872,
                          0.529733542,
                          0.2
                        ],
                        "passed_time": 1.069119734,
                        "iteration": 396,
                        "remaining_time": 4.316873888,
                        "learn": [
                          0.2
                        ]
                      },
                      {
                        "test": [
                          0.6692183771,
                          0.5304347939,
                          0.2
                        ],
                        "passed_time": 1.071546961,
                        "iteration": 397,
                        "remaining_time": 4.313111134,
                        "learn": [
                          0.2
                        ]
                      },
                      {
                        "test": [
                          0.6648041617,
                          0.5293418279,
                          0.2
                        ],
                        "passed_time": 1.075632549,
                        "iteration": 398,
                        "remaining_time": 4.3160093,
                        "learn": [
                          0.2
                        ]
                      },
                      {
                        "test": [
                          0.6681319516,
                          0.5304856152,
                          0.2
                        ],
                        "passed_time": 1.078050871,
                        "iteration": 399,
                        "remaining_time": 4.312203484,
                        "learn": [
                          0.2
                        ]
                      },
                      {
                        "test": [
                          0.6756319516,
                          0.5418003344,
                          0.2
                        ],
                        "passed_time": 1.080393575,
                        "iteration": 400,
                        "remaining_time": 4.308103057,
                        "learn": [
                          0.2
                        ]
                      },
                      {
                        "test": [
                          0.6756319516,
                          0.5418003344,
                          0.2
                        ],
                        "passed_time": 1.082782893,
                        "iteration": 401,
                        "remaining_time": 4.304196674,
                        "learn": [
                          0.2
                        ]
                      },
                      {
                        "test": [
                          0.6756319516,
                          0.5423481341,
                          0.2
                        ],
                        "passed_time": 1.085229604,
                        "iteration": 402,
                        "remaining_time": 4.300525253,
                        "learn": [
                          0.2
                        ]
                      },
                      {
                        "test": [
                          0.6756319516,
                          0.5423481341,
                          0.2
                        ],
                        "passed_time": 1.087705923,
                        "iteration": 403,
                        "remaining_time": 4.296976864,
                        "learn": [
                          0.2
                        ]
                      },
                      {
                        "test": [
                          0.6756319516,
                          0.5432876479,
                          0.2
                        ],
                        "passed_time": 1.090200102,
                        "iteration": 404,
                        "remaining_time": 4.293504107,
                        "learn": [
                          0.2
                        ]
                      },
                      {
                        "test": [
                          0.6756319516,
                          0.5432876479,
                          0.2
                        ],
                        "passed_time": 1.092574371,
                        "iteration": 405,
                        "remaining_time": 4.289565388,
                        "learn": [
                          0.2
                        ]
                      },
                      {
                        "test": [
                          0.6756319516,
                          0.5432876479,
                          0.2
                        ],
                        "passed_time": 1.094945466,
                        "iteration": 406,
                        "remaining_time": 4.285621933,
                        "learn": [
                          0.2
                        ]
                      },
                      {
                        "test": [
                          0.6756319516,
                          0.5423481341,
                          0.2
                        ],
                        "passed_time": 1.097316837,
                        "iteration": 407,
                        "remaining_time": 4.281687266,
                        "learn": [
                          0.2
                        ]
                      },
                      {
                        "test": [
                          0.6756319516,
                          0.5416468822,
                          0.2
                        ],
                        "passed_time": 1.099861171,
                        "iteration": 408,
                        "remaining_time": 4.278433063,
                        "learn": [
                          0.2
                        ]
                      },
                      {
                        "test": [
                          0.6723041617,
                          0.5403978305,
                          0.2
                        ],
                        "passed_time": 1.102216737,
                        "iteration": 409,
                        "remaining_time": 4.274450273,
                        "learn": [
                          0.2
                        ]
                      },
                      {
                        "test": [
                          0.6723041617,
                          0.5403978305,
                          0.2
                        ],
                        "passed_time": 1.104522778,
                        "iteration": 410,
                        "remaining_time": 4.270283926,
                        "learn": [
                          0.2
                        ]
                      },
                      {
                        "test": [
                          0.6756319516,
                          0.5410990825,
                          0.2
                        ],
                        "passed_time": 1.107657037,
                        "iteration": 411,
                        "remaining_time": 4.269318871,
                        "learn": [
                          0.2
                        ]
                      },
                      {
                        "test": [
                          0.6723041617,
                          0.5403978305,
                          0.2
                        ],
                        "passed_time": 1.110453619,
                        "iteration": 412,
                        "remaining_time": 4.267045746,
                        "learn": [
                          0.2
                        ]
                      },
                      {
                        "test": [
                          0.6723041617,
                          0.5403978305,
                          0.2
                        ],
                        "passed_time": 1.112809703,
                        "iteration": 413,
                        "remaining_time": 4.263082581,
                        "learn": [
                          0.2
                        ]
                      },
                      {
                        "test": [
                          0.6723041617,
                          0.5409456302,
                          0.2
                        ],
                        "passed_time": 1.116267822,
                        "iteration": 414,
                        "remaining_time": 4.263336139,
                        "learn": [
                          0.2
                        ]
                      },
                      {
                        "test": [
                          0.6723041617,
                          0.5403978305,
                          0.2
                        ],
                        "passed_time": 1.119613941,
                        "iteration": 415,
                        "remaining_time": 4.263145391,
                        "learn": [
                          0.2
                        ]
                      },
                      {
                        "test": [
                          0.6683891148,
                          0.5394583167,
                          0.2
                        ],
                        "passed_time": 1.122015627,
                        "iteration": 416,
                        "remaining_time": 4.259354286,
                        "learn": [
                          0.2
                        ]
                      },
                      {
                        "test": [
                          0.658686325,
                          0.5347431042,
                          0.2
                        ],
                        "passed_time": 1.124395376,
                        "iteration": 417,
                        "remaining_time": 4.255486805,
                        "learn": [
                          0.2
                        ]
                      },
                      {
                        "test": [
                          0.658686325,
                          0.535682618,
                          0.2
                        ],
                        "passed_time": 1.126715585,
                        "iteration": 418,
                        "remaining_time": 4.251401766,
                        "learn": [
                          0.2
                        ]
                      },
                      {
                        "test": [
                          0.658686325,
                          0.535682618,
                          0.2
                        ],
                        "passed_time": 1.129098803,
                        "iteration": 419,
                        "remaining_time": 4.247562165,
                        "learn": [
                          0.2
                        ]
                      },
                      {
                        "test": [
                          0.658686325,
                          0.535682618,
                          0.2
                        ],
                        "passed_time": 1.131442224,
                        "iteration": 420,
                        "remaining_time": 4.243580219,
                        "learn": [
                          0.2
                        ]
                      },
                      {
                        "test": [
                          0.658686325,
                          0.535682618,
                          0.2
                        ],
                        "passed_time": 1.133817201,
                        "iteration": 421,
                        "remaining_time": 4.239724036,
                        "learn": [
                          0.2
                        ]
                      },
                      {
                        "test": [
                          0.658686325,
                          0.535682618,
                          0.2
                        ],
                        "passed_time": 1.136419979,
                        "iteration": 422,
                        "remaining_time": 4.23672413,
                        "learn": [
                          0.2
                        ]
                      },
                      {
                        "test": [
                          0.658686325,
                          0.5352400827,
                          0.2
                        ],
                        "passed_time": 1.138762903,
                        "iteration": 423,
                        "remaining_time": 4.232760223,
                        "learn": [
                          0.2
                        ]
                      },
                      {
                        "test": [
                          0.658686325,
                          0.5338965622,
                          0.2
                        ],
                        "passed_time": 1.14115348,
                        "iteration": 424,
                        "remaining_time": 4.228980542,
                        "learn": [
                          0.2
                        ]
                      },
                      {
                        "test": [
                          0.653267575,
                          0.5317712885,
                          0.2
                        ],
                        "passed_time": 1.143563395,
                        "iteration": 425,
                        "remaining_time": 4.225278834,
                        "learn": [
                          0.2
                        ]
                      },
                      {
                        "test": [
                          0.653267575,
                          0.5317712885,
                          0.2
                        ],
                        "passed_time": 1.146128667,
                        "iteration": 426,
                        "remaining_time": 4.222155487,
                        "learn": [
                          0.2
                        ]
                      },
                      {
                        "test": [
                          0.653267575,
                          0.5317712885,
                          0.2
                        ],
                        "passed_time": 1.148483341,
                        "iteration": 427,
                        "remaining_time": 4.218261245,
                        "learn": [
                          0.2
                        ]
                      },
                      {
                        "test": [
                          0.653267575,
                          0.5317712885,
                          0.2
                        ],
                        "passed_time": 1.151019334,
                        "iteration": 428,
                        "remaining_time": 4.215038169,
                        "learn": [
                          0.2
                        ]
                      },
                      {
                        "test": [
                          0.6565953648,
                          0.5324725405,
                          0.2
                        ],
                        "passed_time": 1.153392207,
                        "iteration": 429,
                        "remaining_time": 4.21122271,
                        "learn": [
                          0.2
                        ]
                      },
                      {
                        "test": [
                          0.6599231547,
                          0.5331737924,
                          0.2
                        ],
                        "passed_time": 1.15594569,
                        "iteration": 430,
                        "remaining_time": 4.208071435,
                        "learn": [
                          0.2
                        ]
                      },
                      {
                        "test": [
                          0.6599231547,
                          0.5331737924,
                          0.2
                        ],
                        "passed_time": 1.158422547,
                        "iteration": 431,
                        "remaining_time": 4.204644801,
                        "learn": [
                          0.2
                        ]
                      },
                      {
                        "test": [
                          0.6599231547,
                          0.5331737924,
                          0.2
                        ],
                        "passed_time": 1.160883561,
                        "iteration": 432,
                        "remaining_time": 4.201165218,
                        "learn": [
                          0.2
                        ]
                      },
                      {
                        "test": [
                          0.6599231547,
                          0.5331737924,
                          0.2
                        ],
                        "passed_time": 1.163316449,
                        "iteration": 433,
                        "remaining_time": 4.197588845,
                        "learn": [
                          0.2
                        ]
                      },
                      {
                        "test": [
                          0.6599231547,
                          0.5331737924,
                          0.2
                        ],
                        "passed_time": 1.165788096,
                        "iteration": 434,
                        "remaining_time": 4.194157175,
                        "learn": [
                          0.2
                        ]
                      },
                      {
                        "test": [
                          0.6565953648,
                          0.5324725405,
                          0.2
                        ],
                        "passed_time": 1.168241963,
                        "iteration": 435,
                        "remaining_time": 4.190666124,
                        "learn": [
                          0.2
                        ]
                      },
                      {
                        "test": [
                          0.6565953648,
                          0.5324725405,
                          0.2
                        ],
                        "passed_time": 1.170770216,
                        "iteration": 436,
                        "remaining_time": 4.187445874,
                        "learn": [
                          0.2
                        ]
                      },
                      {
                        "test": [
                          0.6565953648,
                          0.5324725405,
                          0.2
                        ],
                        "passed_time": 1.173135965,
                        "iteration": 437,
                        "remaining_time": 4.183649263,
                        "learn": [
                          0.2
                        ]
                      },
                      {
                        "test": [
                          0.6620141148,
                          0.5345978141,
                          0.2
                        ],
                        "passed_time": 1.175546375,
                        "iteration": 438,
                        "remaining_time": 4.180017975,
                        "learn": [
                          0.2
                        ]
                      },
                      {
                        "test": [
                          0.6620141148,
                          0.5359413346,
                          0.2
                        ],
                        "passed_time": 1.177902688,
                        "iteration": 439,
                        "remaining_time": 4.176200439,
                        "learn": [
                          0.2
                        ]
                      },
                      {
                        "test": [
                          0.6620141148,
                          0.5359413346,
                          0.2
                        ],
                        "passed_time": 1.180447842,
                        "iteration": 440,
                        "remaining_time": 4.173057109,
                        "learn": [
                          0.2
                        ]
                      },
                      {
                        "test": [
                          0.6620141148,
                          0.5359413346,
                          0.2
                        ],
                        "passed_time": 1.183020339,
                        "iteration": 441,
                        "remaining_time": 4.170012869,
                        "learn": [
                          0.2
                        ]
                      },
                      {
                        "test": [
                          0.6620141148,
                          0.5359413346,
                          0.2
                        ],
                        "passed_time": 1.185468663,
                        "iteration": 442,
                        "remaining_time": 4.166534332,
                        "learn": [
                          0.2
                        ]
                      },
                      {
                        "test": [
                          0.6620141148,
                          0.5359413346,
                          0.2
                        ],
                        "passed_time": 1.187910429,
                        "iteration": 443,
                        "remaining_time": 4.163037449,
                        "learn": [
                          0.2
                        ]
                      },
                      {
                        "test": [
                          0.6620141148,
                          0.5345978141,
                          0.2
                        ],
                        "passed_time": 1.190388706,
                        "iteration": 444,
                        "remaining_time": 4.159672894,
                        "learn": [
                          0.2
                        ]
                      },
                      {
                        "test": [
                          0.6620141148,
                          0.5340500144,
                          0.2
                        ],
                        "passed_time": 1.192851375,
                        "iteration": 445,
                        "remaining_time": 4.156257931,
                        "learn": [
                          0.2
                        ]
                      },
                      {
                        "test": [
                          0.6620141148,
                          0.5340500144,
                          0.2
                        ],
                        "passed_time": 1.195312001,
                        "iteration": 446,
                        "remaining_time": 4.152840128,
                        "learn": [
                          0.2
                        ]
                      },
                      {
                        "test": [
                          0.6620141148,
                          0.5340500144,
                          0.2
                        ],
                        "passed_time": 1.197864079,
                        "iteration": 447,
                        "remaining_time": 4.149743418,
                        "learn": [
                          0.2
                        ]
                      },
                      {
                        "test": [
                          0.6620141148,
                          0.5340500144,
                          0.2
                        ],
                        "passed_time": 1.200387164,
                        "iteration": 448,
                        "remaining_time": 4.146548978,
                        "learn": [
                          0.2
                        ]
                      },
                      {
                        "test": [
                          0.6620141148,
                          0.5340500144,
                          0.2
                        ],
                        "passed_time": 1.204593336,
                        "iteration": 449,
                        "remaining_time": 4.149154823,
                        "learn": [
                          0.2
                        ]
                      },
                      {
                        "test": [
                          0.6565953648,
                          0.5319247408,
                          0.2
                        ],
                        "passed_time": 1.208528194,
                        "iteration": 450,
                        "remaining_time": 4.150798608,
                        "learn": [
                          0.2
                        ]
                      },
                      {
                        "test": [
                          0.6565953648,
                          0.5319247408,
                          0.2
                        ],
                        "passed_time": 1.216719431,
                        "iteration": 451,
                        "remaining_time": 4.166994865,
                        "learn": [
                          0.2
                        ]
                      },
                      {
                        "test": [
                          0.6565953648,
                          0.5319247408,
                          0.2
                        ],
                        "passed_time": 1.219839183,
                        "iteration": 452,
                        "remaining_time": 4.165764274,
                        "learn": [
                          0.2
                        ]
                      },
                      {
                        "test": [
                          0.6565953648,
                          0.5319247408,
                          0.2
                        ],
                        "passed_time": 1.222315295,
                        "iteration": 453,
                        "remaining_time": 4.162333581,
                        "learn": [
                          0.2
                        ]
                      },
                      {
                        "test": [
                          0.6565953648,
                          0.5319247408,
                          0.2
                        ],
                        "passed_time": 1.224725136,
                        "iteration": 454,
                        "remaining_time": 4.158682056,
                        "learn": [
                          0.2
                        ]
                      },
                      {
                        "test": [
                          0.6490953648,
                          0.5206100215,
                          0.2
                        ],
                        "passed_time": 1.227150977,
                        "iteration": 455,
                        "remaining_time": 4.15509015,
                        "learn": [
                          0.2
                        ]
                      },
                      {
                        "test": [
                          0.6565953648,
                          0.5319247408,
                          0.2
                        ],
                        "passed_time": 1.229545748,
                        "iteration": 456,
                        "remaining_time": 4.151398445,
                        "learn": [
                          0.2
                        ]
                      },
                      {
                        "test": [
                          0.6565953648,
                          0.5319247408,
                          0.2
                        ],
                        "passed_time": 1.231914634,
                        "iteration": 457,
                        "remaining_time": 4.147625254,
                        "learn": [
                          0.2
                        ]
                      },
                      {
                        "test": [
                          0.6565953648,
                          0.5319247408,
                          0.2
                        ],
                        "passed_time": 1.234257514,
                        "iteration": 458,
                        "remaining_time": 4.143770871,
                        "learn": [
                          0.2
                        ]
                      },
                      {
                        "test": [
                          0.6565953648,
                          0.5319247408,
                          0.2
                        ],
                        "passed_time": 1.236596435,
                        "iteration": 459,
                        "remaining_time": 4.139909806,
                        "learn": [
                          0.2
                        ]
                      },
                      {
                        "test": [
                          0.6565953648,
                          0.5324725405,
                          0.2
                        ],
                        "passed_time": 1.238928685,
                        "iteration": 460,
                        "remaining_time": 4.136033071,
                        "learn": [
                          0.2
                        ]
                      },
                      {
                        "test": [
                          0.6565953648,
                          0.5320300051,
                          0.2
                        ],
                        "passed_time": 1.241295275,
                        "iteration": 461,
                        "remaining_time": 4.132277344,
                        "learn": [
                          0.2
                        ]
                      },
                      {
                        "test": [
                          0.6565953648,
                          0.5320300051,
                          0.2
                        ],
                        "passed_time": 1.243771213,
                        "iteration": 462,
                        "remaining_time": 4.128890615,
                        "learn": [
                          0.2
                        ]
                      },
                      {
                        "test": [
                          0.6620141148,
                          0.5349509996,
                          0.2
                        ],
                        "passed_time": 1.246189691,
                        "iteration": 463,
                        "remaining_time": 4.125317598,
                        "learn": [
                          0.2
                        ]
                      },
                      {
                        "test": [
                          0.6620141148,
                          0.5349509996,
                          0.2
                        ],
                        "passed_time": 1.24858032,
                        "iteration": 464,
                        "remaining_time": 4.121657615,
                        "learn": [
                          0.2
                        ]
                      },
                      {
                        "test": [
                          0.6683891148,
                          0.5380254463,
                          0.2
                        ],
                        "passed_time": 1.250936712,
                        "iteration": 465,
                        "remaining_time": 4.117890377,
                        "learn": [
                          0.2
                        ]
                      },
                      {
                        "test": [
                          0.6620141148,
                          0.5326679653,
                          0.2
                        ],
                        "passed_time": 1.253281536,
                        "iteration": 466,
                        "remaining_time": 4.114091208,
                        "learn": [
                          0.2
                        ]
                      },
                      {
                        "test": [
                          0.6620141148,
                          0.5326679653,
                          0.2
                        ],
                        "passed_time": 1.255632,
                        "iteration": 467,
                        "remaining_time": 4.110316717,
                        "learn": [
                          0.2
                        ]
                      },
                      {
                        "test": [
                          0.6620141148,
                          0.5326679653,
                          0.2
                        ],
                        "passed_time": 1.257983123,
                        "iteration": 468,
                        "remaining_time": 4.106550449,
                        "learn": [
                          0.2
                        ]
                      },
                      {
                        "test": [
                          0.6605104117,
                          0.5314822054,
                          0.2
                        ],
                        "passed_time": 1.260327359,
                        "iteration": 469,
                        "remaining_time": 4.102767784,
                        "learn": [
                          0.2
                        ]
                      },
                      {
                        "test": [
                          0.6605104117,
                          0.5314822054,
                          0.2
                        ],
                        "passed_time": 1.262709746,
                        "iteration": 470,
                        "remaining_time": 4.099115078,
                        "learn": [
                          0.2
                        ]
                      },
                      {
                        "test": [
                          0.6605104117,
                          0.5314822054,
                          0.2
                        ],
                        "passed_time": 1.265092106,
                        "iteration": 471,
                        "remaining_time": 4.095467664,
                        "learn": [
                          0.2
                        ]
                      },
                      {
                        "test": [
                          0.6659291617,
                          0.5341552788,
                          0.2
                        ],
                        "passed_time": 1.267476593,
                        "iteration": 472,
                        "remaining_time": 4.091832468,
                        "learn": [
                          0.2
                        ]
                      },
                      {
                        "test": [
                          0.6723041617,
                          0.5381692393,
                          0.2
                        ],
                        "passed_time": 1.269871162,
                        "iteration": 473,
                        "remaining_time": 4.088235005,
                        "learn": [
                          0.2
                        ]
                      },
                      {
                        "test": [
                          0.6659291617,
                          0.5341552788,
                          0.2
                        ],
                        "passed_time": 1.272258112,
                        "iteration": 474,
                        "remaining_time": 4.084618148,
                        "learn": [
                          0.2
                        ]
                      },
                      {
                        "test": [
                          0.6605104117,
                          0.5329695189,
                          0.2
                        ],
                        "passed_time": 1.274614534,
                        "iteration": 475,
                        "remaining_time": 4.080908719,
                        "learn": [
                          0.2
                        ]
                      },
                      {
                        "test": [
                          0.6659291617,
                          0.5350947926,
                          0.2
                        ],
                        "passed_time": 1.277053773,
                        "iteration": 476,
                        "remaining_time": 4.077469384,
                        "learn": [
                          0.2
                        ]
                      },
                      {
                        "test": [
                          0.6659291617,
                          0.5355373279,
                          0.2
                        ],
                        "passed_time": 1.279393645,
                        "iteration": 477,
                        "remaining_time": 4.07371784,
                        "learn": [
                          0.2
                        ]
                      },
                      {
                        "test": [
                          0.6659291617,
                          0.5355373279,
                          0.2
                        ],
                        "passed_time": 1.28188704,
                        "iteration": 478,
                        "remaining_time": 4.070459684,
                        "learn": [
                          0.2
                        ]
                      },
                      {
                        "test": [
                          0.6659291617,
                          0.5355373279,
                          0.2
                        ],
                        "passed_time": 1.284534897,
                        "iteration": 479,
                        "remaining_time": 4.067693841,
                        "learn": [
                          0.2
                        ]
                      },
                      {
                        "test": [
                          0.6659291617,
                          0.5345978141,
                          0.2
                        ],
                        "passed_time": 1.287111912,
                        "iteration": 480,
                        "remaining_time": 4.064704769,
                        "learn": [
                          0.2
                        ]
                      },
                      {
                        "test": [
                          0.6605104117,
                          0.5319247408,
                          0.2
                        ],
                        "passed_time": 1.289599189,
                        "iteration": 481,
                        "remaining_time": 4.06143479,
                        "learn": [
                          0.2
                        ]
                      },
                      {
                        "test": [
                          0.6605104117,
                          0.5319247408,
                          0.2
                        ],
                        "passed_time": 1.29194873,
                        "iteration": 482,
                        "remaining_time": 4.057735452,
                        "learn": [
                          0.2
                        ]
                      },
                      {
                        "test": [
                          0.6605104117,
                          0.5319247408,
                          0.2
                        ],
                        "passed_time": 1.294313716,
                        "iteration": 483,
                        "remaining_time": 4.054090069,
                        "learn": [
                          0.2
                        ]
                      },
                      {
                        "test": [
                          0.6605104117,
                          0.5319247408,
                          0.2
                        ],
                        "passed_time": 1.296738606,
                        "iteration": 484,
                        "remaining_time": 4.050637088,
                        "learn": [
                          0.2
                        ]
                      },
                      {
                        "test": [
                          0.6605104117,
                          0.5319247408,
                          0.2
                        ],
                        "passed_time": 1.29913047,
                        "iteration": 485,
                        "remaining_time": 4.047085457,
                        "learn": [
                          0.2
                        ]
                      },
                      {
                        "test": [
                          0.6605104117,
                          0.5319247408,
                          0.2
                        ],
                        "passed_time": 1.30154575,
                        "iteration": 486,
                        "remaining_time": 4.043611336,
                        "learn": [
                          0.2
                        ]
                      },
                      {
                        "test": [
                          0.6698442086,
                          0.5349895282,
                          0.2
                        ],
                        "passed_time": 1.303982547,
                        "iteration": 487,
                        "remaining_time": 4.040208219,
                        "learn": [
                          0.2
                        ]
                      },
                      {
                        "test": [
                          0.6698442086,
                          0.5345469929,
                          0.2
                        ],
                        "passed_time": 1.306464505,
                        "iteration": 488,
                        "remaining_time": 4.036948604,
                        "learn": [
                          0.2
                        ]
                      },
                      {
                        "test": [
                          0.6659291617,
                          0.5336074791,
                          0.2
                        ],
                        "passed_time": 1.309219963,
                        "iteration": 489,
                        "remaining_time": 4.034534989,
                        "learn": [
                          0.2
                        ]
                      },
                      {
                        "test": [
                          0.6659291617,
                          0.5336074791,
                          0.2
                        ],
                        "passed_time": 1.311740884,
                        "iteration": 490,
                        "remaining_time": 4.031399174,
                        "learn": [
                          0.2
                        ]
                      },
                      {
                        "test": [
                          0.6659291617,
                          0.5336074791,
                          0.2
                        ],
                        "passed_time": 1.314175203,
                        "iteration": 491,
                        "remaining_time": 4.02800042,
                        "learn": [
                          0.2
                        ]
                      },
                      {
                        "test": [
                          0.6659291617,
                          0.5336074791,
                          0.2
                        ],
                        "passed_time": 1.316646039,
                        "iteration": 492,
                        "remaining_time": 4.024717203,
                        "learn": [
                          0.2
                        ]
                      },
                      {
                        "test": [
                          0.6659291617,
                          0.5336074791,
                          0.2
                        ],
                        "passed_time": 1.31907299,
                        "iteration": 493,
                        "remaining_time": 4.021303488,
                        "learn": [
                          0.2
                        ]
                      },
                      {
                        "test": [
                          0.6659291617,
                          0.5336074791,
                          0.2
                        ],
                        "passed_time": 1.321499987,
                        "iteration": 494,
                        "remaining_time": 4.017893899,
                        "learn": [
                          0.2
                        ]
                      },
                      {
                        "test": [
                          0.6659291617,
                          0.5336074791,
                          0.2
                        ],
                        "passed_time": 1.323884144,
                        "iteration": 495,
                        "remaining_time": 4.014358373,
                        "learn": [
                          0.2
                        ]
                      },
                      {
                        "test": [
                          0.6659291617,
                          0.5336074791,
                          0.2
                        ],
                        "passed_time": 1.326341071,
                        "iteration": 496,
                        "remaining_time": 4.011047544,
                        "learn": [
                          0.2
                        ]
                      },
                      {
                        "test": [
                          0.6659291617,
                          0.5336074791,
                          0.2
                        ],
                        "passed_time": 1.328689008,
                        "iteration": 497,
                        "remaining_time": 4.007411426,
                        "learn": [
                          0.2
                        ]
                      },
                      {
                        "test": [
                          0.6659291617,
                          0.5336074791,
                          0.2
                        ],
                        "passed_time": 1.331081411,
                        "iteration": 498,
                        "remaining_time": 4.003914223,
                        "learn": [
                          0.2
                        ]
                      },
                      {
                        "test": [
                          0.6659291617,
                          0.5336074791,
                          0.2
                        ],
                        "passed_time": 1.333534707,
                        "iteration": 499,
                        "remaining_time": 4.00060412,
                        "learn": [
                          0.2
                        ]
                      },
                      {
                        "test": [
                          0.6659291617,
                          0.5336074791,
                          0.2
                        ],
                        "passed_time": 1.335903938,
                        "iteration": 500,
                        "remaining_time": 3.997045915,
                        "learn": [
                          0.2
                        ]
                      },
                      {
                        "test": [
                          0.6659291617,
                          0.5314822054,
                          0.2
                        ],
                        "passed_time": 1.338286319,
                        "iteration": 501,
                        "remaining_time": 3.993531686,
                        "learn": [
                          0.2
                        ]
                      },
                      {
                        "test": [
                          0.6659291617,
                          0.5328257259,
                          0.2
                        ],
                        "passed_time": 1.340598161,
                        "iteration": 502,
                        "remaining_time": 3.989812022,
                        "learn": [
                          0.2
                        ]
                      },
                      {
                        "test": [
                          0.6659291617,
                          0.5337107966,
                          0.2
                        ],
                        "passed_time": 1.343181988,
                        "iteration": 503,
                        "remaining_time": 3.986905265,
                        "learn": [
                          0.2
                        ]
                      },
                      {
                        "test": [
                          0.6659291617,
                          0.5337107966,
                          0.2
                        ],
                        "passed_time": 1.34554261,
                        "iteration": 504,
                        "remaining_time": 3.983339014,
                        "learn": [
                          0.2
                        ]
                      },
                      {
                        "test": [
                          0.6659291617,
                          0.5344925498,
                          0.2
                        ],
                        "passed_time": 1.347922286,
                        "iteration": 505,
                        "remaining_time": 3.979833784,
                        "learn": [
                          0.2
                        ]
                      },
                      {
                        "test": [
                          0.6659291617,
                          0.5344925498,
                          0.2
                        ],
                        "passed_time": 1.350298975,
                        "iteration": 506,
                        "remaining_time": 3.976324199,
                        "learn": [
                          0.2
                        ]
                      },
                      {
                        "test": [
                          0.6659291617,
                          0.5358360703,
                          0.2
                        ],
                        "passed_time": 1.352688925,
                        "iteration": 507,
                        "remaining_time": 3.972858023,
                        "learn": [
                          0.2
                        ]
                      },
                      {
                        "test": [
                          0.6723041617,
                          0.5385065103,
                          0.2
                        ],
                        "passed_time": 1.35504775,
                        "iteration": 508,
                        "remaining_time": 3.969304901,
                        "learn": [
                          0.2
                        ]
                      },
                      {
                        "test": [
                          0.6723041617,
                          0.5363812366,
                          0.2
                        ],
                        "passed_time": 1.357387695,
                        "iteration": 509,
                        "remaining_time": 3.965701304,
                        "learn": [
                          0.2
                        ]
                      },
                      {
                        "test": [
                          0.6723041617,
                          0.5363812366,
                          0.2
                        ],
                        "passed_time": 1.359827758,
                        "iteration": 510,
                        "remaining_time": 3.962394386,
                        "learn": [
                          0.2
                        ]
                      },
                      {
                        "test": [
                          0.6723041617,
                          0.5363812366,
                          0.2
                        ],
                        "passed_time": 1.362623034,
                        "iteration": 511,
                        "remaining_time": 3.960123191,
                        "learn": [
                          0.2
                        ]
                      },
                      {
                        "test": [
                          0.6723041617,
                          0.5363812366,
                          0.2
                        ],
                        "passed_time": 1.365045907,
                        "iteration": 512,
                        "remaining_time": 3.956770496,
                        "learn": [
                          0.2
                        ]
                      },
                      {
                        "test": [
                          0.6723041617,
                          0.5373207504,
                          0.2
                        ],
                        "passed_time": 1.367369617,
                        "iteration": 513,
                        "remaining_time": 3.953134729,
                        "learn": [
                          0.2
                        ]
                      },
                      {
                        "test": [
                          0.6595541617,
                          0.5283533156,
                          0.2
                        ],
                        "passed_time": 1.369706833,
                        "iteration": 514,
                        "remaining_time": 3.949543003,
                        "learn": [
                          0.2
                        ]
                      },
                      {
                        "test": [
                          0.6541354117,
                          0.526619756,
                          0.2
                        ],
                        "passed_time": 1.372122653,
                        "iteration": 515,
                        "remaining_time": 3.946182205,
                        "learn": [
                          0.2
                        ]
                      },
                      {
                        "test": [
                          0.6541354117,
                          0.5256802422,
                          0.2
                        ],
                        "passed_time": 1.374462479,
                        "iteration": 516,
                        "remaining_time": 3.942607071,
                        "learn": [
                          0.2
                        ]
                      },
                      {
                        "test": [
                          0.6541354117,
                          0.5256802422,
                          0.2
                        ],
                        "passed_time": 1.37688554,
                        "iteration": 517,
                        "remaining_time": 3.939274846,
                        "learn": [
                          0.2
                        ]
                      },
                      {
                        "test": [
                          0.6541354117,
                          0.5256802422,
                          0.2
                        ],
                        "passed_time": 1.379250456,
                        "iteration": 518,
                        "remaining_time": 3.935780203,
                        "learn": [
                          0.2
                        ]
                      },
                      {
                        "test": [
                          0.6541354117,
                          0.5256802422,
                          0.2
                        ],
                        "passed_time": 1.381675221,
                        "iteration": 519,
                        "remaining_time": 3.932460245,
                        "learn": [
                          0.2
                        ]
                      },
                      {
                        "test": [
                          0.6605104117,
                          0.5306337165,
                          0.2
                        ],
                        "passed_time": 1.384008995,
                        "iteration": 520,
                        "remaining_time": 3.928885419,
                        "learn": [
                          0.2
                        ]
                      },
                      {
                        "test": [
                          0.6605104117,
                          0.5306337165,
                          0.2
                        ],
                        "passed_time": 1.386328466,
                        "iteration": 521,
                        "remaining_time": 3.925274851,
                        "learn": [
                          0.2
                        ]
                      },
                      {
                        "test": [
                          0.6541354117,
                          0.526619756,
                          0.2
                        ],
                        "passed_time": 1.388681906,
                        "iteration": 522,
                        "remaining_time": 3.921765155,
                        "learn": [
                          0.2
                        ]
                      },
                      {
                        "test": [
                          0.6541354117,
                          0.526619756,
                          0.2
                        ],
                        "passed_time": 1.391096006,
                        "iteration": 523,
                        "remaining_time": 3.918430734,
                        "learn": [
                          0.2
                        ]
                      },
                      {
                        "test": [
                          0.6541354117,
                          0.526619756,
                          0.2
                        ],
                        "passed_time": 1.393413714,
                        "iteration": 524,
                        "remaining_time": 3.914829006,
                        "learn": [
                          0.2
                        ]
                      },
                      {
                        "test": [
                          0.6605104117,
                          0.5306337165,
                          0.2
                        ],
                        "passed_time": 1.395746902,
                        "iteration": 525,
                        "remaining_time": 3.911275539,
                        "learn": [
                          0.2
                        ]
                      },
                      {
                        "test": [
                          0.6605104117,
                          0.5301911812,
                          0.2
                        ],
                        "passed_time": 1.398084345,
                        "iteration": 526,
                        "remaining_time": 3.907738595,
                        "learn": [
                          0.2
                        ]
                      },
                      {
                        "test": [
                          0.6644254586,
                          0.5315732303,
                          0.2
                        ],
                        "passed_time": 1.400474053,
                        "iteration": 527,
                        "remaining_time": 3.904351906,
                        "learn": [
                          0.2
                        ]
                      },
                      {
                        "test": [
                          0.6644254586,
                          0.53212103,
                          0.2
                        ],
                        "passed_time": 1.402790366,
                        "iteration": 528,
                        "remaining_time": 3.900764892,
                        "learn": [
                          0.2
                        ]
                      },
                      {
                        "test": [
                          0.6644254586,
                          0.53212103,
                          0.2
                        ],
                        "passed_time": 1.405125625,
                        "iteration": 529,
                        "remaining_time": 3.897235225,
                        "learn": [
                          0.2
                        ]
                      },
                      {
                        "test": [
                          0.6644254586,
                          0.53212103,
                          0.2
                        ],
                        "passed_time": 1.407482452,
                        "iteration": 530,
                        "remaining_time": 3.89376972,
                        "learn": [
                          0.2
                        ]
                      },
                      {
                        "test": [
                          0.6644254586,
                          0.5326688297,
                          0.2
                        ],
                        "passed_time": 1.409820464,
                        "iteration": 531,
                        "remaining_time": 3.890256467,
                        "learn": [
                          0.2
                        ]
                      },
                      {
                        "test": [
                          0.6644254586,
                          0.5326688297,
                          0.2
                        ],
                        "passed_time": 1.412191686,
                        "iteration": 532,
                        "remaining_time": 3.886839031,
                        "learn": [
                          0.2
                        ]
                      },
                      {
                        "test": [
                          0.6698442086,
                          0.534688839,
                          0.2
                        ],
                        "passed_time": 1.41470042,
                        "iteration": 533,
                        "remaining_time": 3.883803027,
                        "learn": [
                          0.2
                        ]
                      },
                      {
                        "test": [
                          0.6665164187,
                          0.5339875871,
                          0.2
                        ],
                        "passed_time": 1.417135399,
                        "iteration": 534,
                        "remaining_time": 3.880567028,
                        "learn": [
                          0.2
                        ]
                      },
                      {
                        "test": [
                          0.6728914187,
                          0.5380015476,
                          0.2
                        ],
                        "passed_time": 1.419419212,
                        "iteration": 535,
                        "remaining_time": 3.876921131,
                        "learn": [
                          0.2
                        ]
                      },
                      {
                        "test": [
                          0.6728914187,
                          0.5380015476,
                          0.2
                        ],
                        "passed_time": 1.421799743,
                        "iteration": 536,
                        "remaining_time": 3.873543808,
                        "learn": [
                          0.2
                        ]
                      },
                      {
                        "test": [
                          0.6728914187,
                          0.5380015476,
                          0.2
                        ],
                        "passed_time": 1.424352641,
                        "iteration": 537,
                        "remaining_time": 3.87063859,
                        "learn": [
                          0.2
                        ]
                      },
                      {
                        "test": [
                          0.6665164187,
                          0.5339875871,
                          0.2
                        ],
                        "passed_time": 1.426721985,
                        "iteration": 538,
                        "remaining_time": 3.867237143,
                        "learn": [
                          0.2
                        ]
                      },
                      {
                        "test": [
                          0.6665164187,
                          0.5339875871,
                          0.2
                        ],
                        "passed_time": 1.429066747,
                        "iteration": 539,
                        "remaining_time": 3.863773055,
                        "learn": [
                          0.2
                        ]
                      },
                      {
                        "test": [
                          0.6665164187,
                          0.5339875871,
                          0.2
                        ],
                        "passed_time": 1.431435388,
                        "iteration": 540,
                        "remaining_time": 3.860377506,
                        "learn": [
                          0.2
                        ]
                      },
                      {
                        "test": [
                          0.6665164187,
                          0.5339875871,
                          0.2
                        ],
                        "passed_time": 1.434567853,
                        "iteration": 541,
                        "remaining_time": 3.859040462,
                        "learn": [
                          0.2
                        ]
                      },
                      {
                        "test": [
                          0.6665164187,
                          0.5348885722,
                          0.2
                        ],
                        "passed_time": 1.436964371,
                        "iteration": 542,
                        "remaining_time": 3.85572208,
                        "learn": [
                          0.2
                        ]
                      },
                      {
                        "test": [
                          0.6665164187,
                          0.5348885722,
                          0.2
                        ],
                        "passed_time": 1.439312269,
                        "iteration": 543,
                        "remaining_time": 3.852276955,
                        "learn": [
                          0.2
                        ]
                      },
                      {
                        "test": [
                          0.6665164187,
                          0.5348885722,
                          0.2
                        ],
                        "passed_time": 1.441696324,
                        "iteration": 544,
                        "remaining_time": 3.848932389,
                        "learn": [
                          0.2
                        ]
                      },
                      {
                        "test": [
                          0.6665164187,
                          0.5335450517,
                          0.2
                        ],
                        "passed_time": 1.444068224,
                        "iteration": 545,
                        "remaining_time": 3.84555897,
                        "learn": [
                          0.2
                        ]
                      },
                      {
                        "test": [
                          0.6665164187,
                          0.5348885722,
                          0.2
                        ],
                        "passed_time": 1.446366479,
                        "iteration": 546,
                        "remaining_time": 3.841993591,
                        "learn": [
                          0.2
                        ]
                      },
                      {
                        "test": [
                          0.6665164187,
                          0.5348885722,
                          0.2
                        ],
                        "passed_time": 1.448716784,
                        "iteration": 547,
                        "remaining_time": 3.83857075,
                        "learn": [
                          0.2
                        ]
                      },
                      {
                        "test": [
                          0.6665164187,
                          0.5344460369,
                          0.2
                        ],
                        "passed_time": 1.451031523,
                        "iteration": 548,
                        "remaining_time": 3.835057815,
                        "learn": [
                          0.2
                        ]
                      },
                      {
                        "test": [
                          0.6665164187,
                          0.5344460369,
                          0.2
                        ],
                        "passed_time": 1.453416747,
                        "iteration": 549,
                        "remaining_time": 3.83173506,
                        "learn": [
                          0.2
                        ]
                      },
                      {
                        "test": [
                          0.6665164187,
                          0.5344460369,
                          0.2
                        ],
                        "passed_time": 1.456049568,
                        "iteration": 550,
                        "remaining_time": 3.829066831,
                        "learn": [
                          0.2
                        ]
                      },
                      {
                        "test": [
                          0.6665164187,
                          0.5348885722,
                          0.2
                        ],
                        "passed_time": 1.458733455,
                        "iteration": 551,
                        "remaining_time": 3.826532685,
                        "learn": [
                          0.2
                        ]
                      },
                      {
                        "test": [
                          0.6665164187,
                          0.5348885722,
                          0.2
                        ],
                        "passed_time": 1.461149955,
                        "iteration": 552,
                        "remaining_time": 3.823298346,
                        "learn": [
                          0.2
                        ]
                      },
                      {
                        "test": [
                          0.6665164187,
                          0.5348885722,
                          0.2
                        ],
                        "passed_time": 1.463592534,
                        "iteration": 553,
                        "remaining_time": 3.820135026,
                        "learn": [
                          0.2
                        ]
                      },
                      {
                        "test": [
                          0.6665164187,
                          0.5344460369,
                          0.2
                        ],
                        "passed_time": 1.466329336,
                        "iteration": 554,
                        "remaining_time": 3.817740344,
                        "learn": [
                          0.2
                        ]
                      },
                      {
                        "test": [
                          0.6665164187,
                          0.5348885722,
                          0.2
                        ],
                        "passed_time": 1.468799248,
                        "iteration": 555,
                        "remaining_time": 3.814651284,
                        "learn": [
                          0.2
                        ]
                      },
                      {
                        "test": [
                          0.6665164187,
                          0.5348885722,
                          0.2
                        ],
                        "passed_time": 1.471387916,
                        "iteration": 556,
                        "remaining_time": 3.811872105,
                        "learn": [
                          0.2
                        ]
                      },
                      {
                        "test": [
                          0.6665164187,
                          0.5362706214,
                          0.2
                        ],
                        "passed_time": 1.474048957,
                        "iteration": 557,
                        "remaining_time": 3.809280639,
                        "learn": [
                          0.2
                        ]
                      },
                      {
                        "test": [
                          0.6610976687,
                          0.5323592918,
                          0.2
                        ],
                        "passed_time": 1.476441255,
                        "iteration": 558,
                        "remaining_time": 3.805996152,
                        "learn": [
                          0.2
                        ]
                      },
                      {
                        "test": [
                          0.6610976687,
                          0.5319167565,
                          0.2
                        ],
                        "passed_time": 1.478824484,
                        "iteration": 559,
                        "remaining_time": 3.802691531,
                        "learn": [
                          0.2
                        ]
                      },
                      {
                        "test": [
                          0.6610976687,
                          0.5314742212,
                          0.2
                        ],
                        "passed_time": 1.481206661,
                        "iteration": 560,
                        "remaining_time": 3.799387496,
                        "learn": [
                          0.2
                        ]
                      },
                      {
                        "test": [
                          0.6610976687,
                          0.5314742212,
                          0.2
                        ],
                        "passed_time": 1.483613223,
                        "iteration": 561,
                        "remaining_time": 3.796149137,
                        "learn": [
                          0.2
                        ]
                      },
                      {
                        "test": [
                          0.6610976687,
                          0.5319167565,
                          0.2
                        ],
                        "passed_time": 1.486023854,
                        "iteration": 562,
                        "remaining_time": 3.792924119,
                        "learn": [
                          0.2
                        ]
                      },
                      {
                        "test": [
                          0.6582690474,
                          0.5313689568,
                          0.2
                        ],
                        "passed_time": 1.488544904,
                        "iteration": 563,
                        "remaining_time": 3.789983124,
                        "learn": [
                          0.2
                        ]
                      },
                      {
                        "test": [
                          0.6582690474,
                          0.5313689568,
                          0.2
                        ],
                        "passed_time": 1.490931805,
                        "iteration": 564,
                        "remaining_time": 3.786702902,
                        "learn": [
                          0.2
                        ]
                      },
                      {
                        "test": [
                          0.6582690474,
                          0.5309264215,
                          0.2
                        ],
                        "passed_time": 1.493339466,
                        "iteration": 565,
                        "remaining_time": 3.783478436,
                        "learn": [
                          0.2
                        ]
                      },
                      {
                        "test": [
                          0.6615968372,
                          0.5316276734,
                          0.2
                        ],
                        "passed_time": 1.495676243,
                        "iteration": 566,
                        "remaining_time": 3.780077699,
                        "learn": [
                          0.2
                        ]
                      },
                      {
                        "test": [
                          0.6615968372,
                          0.5316276734,
                          0.2
                        ],
                        "passed_time": 1.498098919,
                        "iteration": 567,
                        "remaining_time": 3.776897275,
                        "learn": [
                          0.2
                        ]
                      },
                      {
                        "test": [
                          0.6615968372,
                          0.5316276734,
                          0.2
                        ],
                        "passed_time": 1.500495268,
                        "iteration": 568,
                        "remaining_time": 3.7736533,
                        "learn": [
                          0.2
                        ]
                      },
                      {
                        "test": [
                          0.6670155872,
                          0.5337529471,
                          0.2
                        ],
                        "passed_time": 1.502851518,
                        "iteration": 569,
                        "remaining_time": 3.770311703,
                        "learn": [
                          0.2
                        ]
                      },
                      {
                        "test": [
                          0.6636877974,
                          0.5343952156,
                          0.2
                        ],
                        "passed_time": 1.505272288,
                        "iteration": 570,
                        "remaining_time": 3.767135025,
                        "learn": [
                          0.2
                        ]
                      },
                      {
                        "test": [
                          0.6636877974,
                          0.5330516951,
                          0.2
                        ],
                        "passed_time": 1.507738483,
                        "iteration": 571,
                        "remaining_time": 3.764074395,
                        "learn": [
                          0.2
                        ]
                      },
                      {
                        "test": [
                          0.6636877974,
                          0.5330516951,
                          0.2
                        ],
                        "passed_time": 1.510087335,
                        "iteration": 572,
                        "remaining_time": 3.760723607,
                        "learn": [
                          0.2
                        ]
                      },
                      {
                        "test": [
                          0.6626013719,
                          0.5340035015,
                          0.2
                        ],
                        "passed_time": 1.512556568,
                        "iteration": 573,
                        "remaining_time": 3.757675377,
                        "learn": [
                          0.2
                        ]
                      },
                      {
                        "test": [
                          0.6597727505,
                          0.5334557018,
                          0.2
                        ],
                        "passed_time": 1.514946793,
                        "iteration": 574,
                        "remaining_time": 3.754433356,
                        "learn": [
                          0.2
                        ]
                      },
                      {
                        "test": [
                          0.6597727505,
                          0.5338982372,
                          0.2
                        ],
                        "passed_time": 1.517537353,
                        "iteration": 575,
                        "remaining_time": 3.751689567,
                        "learn": [
                          0.2
                        ]
                      },
                      {
                        "test": [
                          0.6597727505,
                          0.5334557018,
                          0.2
                        ],
                        "passed_time": 1.520040537,
                        "iteration": 576,
                        "remaining_time": 3.748730823,
                        "learn": [
                          0.2
                        ]
                      },
                      {
                        "test": [
                          0.6597727505,
                          0.5334557018,
                          0.2
                        ],
                        "passed_time": 1.52249183,
                        "iteration": 577,
                        "remaining_time": 3.745645989,
                        "learn": [
                          0.2
                        ]
                      },
                      {
                        "test": [
                          0.6597727505,
                          0.5334557018,
                          0.2
                        ],
                        "passed_time": 1.524929789,
                        "iteration": 578,
                        "remaining_time": 3.742530623,
                        "learn": [
                          0.2
                        ]
                      },
                      {
                        "test": [
                          0.6631005404,
                          0.5341569538,
                          0.2
                        ],
                        "passed_time": 1.527959955,
                        "iteration": 579,
                        "remaining_time": 3.740867476,
                        "learn": [
                          0.2
                        ]
                      },
                      {
                        "test": [
                          0.6631005404,
                          0.5341569538,
                          0.2
                        ],
                        "passed_time": 1.530476986,
                        "iteration": 580,
                        "remaining_time": 3.737946374,
                        "learn": [
                          0.2
                        ]
                      },
                      {
                        "test": [
                          0.6591854935,
                          0.53321744,
                          0.2
                        ],
                        "passed_time": 1.53290002,
                        "iteration": 581,
                        "remaining_time": 3.734797643,
                        "learn": [
                          0.2
                        ]
                      },
                      {
                        "test": [
                          0.6591854935,
                          0.53321744,
                          0.2
                        ],
                        "passed_time": 1.535349912,
                        "iteration": 582,
                        "remaining_time": 3.731716681,
                        "learn": [
                          0.2
                        ]
                      },
                      {
                        "test": [
                          0.6558577036,
                          0.532516188,
                          0.2
                        ],
                        "passed_time": 1.537769095,
                        "iteration": 583,
                        "remaining_time": 3.728563422,
                        "learn": [
                          0.2
                        ]
                      },
                      {
                        "test": [
                          0.6533977505,
                          0.5280982208,
                          0.2
                        ],
                        "passed_time": 1.540273341,
                        "iteration": 584,
                        "remaining_time": 3.725618423,
                        "learn": [
                          0.2
                        ]
                      },
                      {
                        "test": [
                          0.6533977505,
                          0.5280982208,
                          0.2
                        ],
                        "passed_time": 1.542778934,
                        "iteration": 585,
                        "remaining_time": 3.722678178,
                        "learn": [
                          0.2
                        ]
                      },
                      {
                        "test": [
                          0.6533977505,
                          0.5294417413,
                          0.2
                        ],
                        "passed_time": 1.545192563,
                        "iteration": 586,
                        "remaining_time": 3.719518044,
                        "learn": [
                          0.2
                        ]
                      },
                      {
                        "test": [
                          0.6597727505,
                          0.5321121814,
                          0.2
                        ],
                        "passed_time": 1.547658546,
                        "iteration": 587,
                        "remaining_time": 3.716486169,
                        "learn": [
                          0.2
                        ]
                      },
                      {
                        "test": [
                          0.6636877974,
                          0.5330516951,
                          0.2
                        ],
                        "passed_time": 1.550138534,
                        "iteration": 588,
                        "remaining_time": 3.713489764,
                        "learn": [
                          0.2
                        ]
                      },
                      {
                        "test": [
                          0.6573127974,
                          0.5290377346,
                          0.2
                        ],
                        "passed_time": 1.552636154,
                        "iteration": 589,
                        "remaining_time": 3.710537248,
                        "learn": [
                          0.2
                        ]
                      },
                      {
                        "test": [
                          0.6606405872,
                          0.5291911869,
                          0.2
                        ],
                        "passed_time": 1.556232583,
                        "iteration": 590,
                        "remaining_time": 3.710205939,
                        "learn": [
                          0.2
                        ]
                      },
                      {
                        "test": [
                          0.6606405872,
                          0.5297389866,
                          0.2
                        ],
                        "passed_time": 1.558721792,
                        "iteration": 591,
                        "remaining_time": 3.707230209,
                        "learn": [
                          0.2
                        ]
                      },
                      {
                        "test": [
                          0.6670155872,
                          0.5337529471,
                          0.2
                        ],
                        "passed_time": 1.561226365,
                        "iteration": 592,
                        "remaining_time": 3.704292573,
                        "learn": [
                          0.2
                        ]
                      },
                      {
                        "test": [
                          0.6597727505,
                          0.5315643817,
                          0.2
                        ],
                        "passed_time": 1.563680444,
                        "iteration": 593,
                        "remaining_time": 3.701236875,
                        "learn": [
                          0.2
                        ]
                      },
                      {
                        "test": [
                          0.6631005404,
                          0.5322656336,
                          0.2
                        ],
                        "passed_time": 1.566166735,
                        "iteration": 594,
                        "remaining_time": 3.698259265,
                        "learn": [
                          0.2
                        ]
                      },
                      {
                        "test": [
                          0.6597727505,
                          0.5321121814,
                          0.2
                        ],
                        "passed_time": 1.568592412,
                        "iteration": 595,
                        "remaining_time": 3.695140513,
                        "learn": [
                          0.2
                        ]
                      },
                      {
                        "test": [
                          0.6631005404,
                          0.5328134333,
                          0.2
                        ],
                        "passed_time": 1.571114315,
                        "iteration": 596,
                        "remaining_time": 3.692250224,
                        "learn": [
                          0.2
                        ]
                      },
                      {
                        "test": [
                          0.6576817904,
                          0.5301403599,
                          0.2
                        ],
                        "passed_time": 1.573589045,
                        "iteration": 597,
                        "remaining_time": 3.689250571,
                        "learn": [
                          0.2
                        ]
                      },
                      {
                        "test": [
                          0.6631005404,
                          0.5322656336,
                          0.2
                        ],
                        "passed_time": 1.575988605,
                        "iteration": 598,
                        "remaining_time": 3.686076853,
                        "learn": [
                          0.2
                        ]
                      },
                      {
                        "test": [
                          0.6537667435,
                          0.5292008461,
                          0.2
                        ],
                        "passed_time": 1.578491426,
                        "iteration": 599,
                        "remaining_time": 3.683146662,
                        "learn": [
                          0.2
                        ]
                      },
                      {
                        "test": [
                          0.6537667435,
                          0.5292008461,
                          0.2
                        ],
                        "passed_time": 1.58091118,
                        "iteration": 600,
                        "remaining_time": 3.680024528,
                        "learn": [
                          0.2
                        ]
                      },
                      {
                        "test": [
                          0.6398917435,
                          0.5138721663,
                          0.2
                        ],
                        "passed_time": 1.583388872,
                        "iteration": 601,
                        "remaining_time": 3.677039274,
                        "learn": [
                          0.2
                        ]
                      },
                      {
                        "test": [
                          0.6398917435,
                          0.5138721663,
                          0.2
                        ],
                        "passed_time": 1.585854245,
                        "iteration": 602,
                        "remaining_time": 3.674027165,
                        "learn": [
                          0.2
                        ]
                      },
                      {
                        "test": [
                          0.6513067904,
                          0.5266741991,
                          0.2
                        ],
                        "passed_time": 1.588314403,
                        "iteration": 603,
                        "remaining_time": 3.671004811,
                        "learn": [
                          0.2
                        ]
                      },
                      {
                        "test": [
                          0.6513067904,
                          0.5272219988,
                          0.2
                        ],
                        "passed_time": 1.590803237,
                        "iteration": 604,
                        "remaining_time": 3.668050439,
                        "learn": [
                          0.2
                        ]
                      },
                      {
                        "test": [
                          0.6438067904,
                          0.5153594798,
                          0.2
                        ],
                        "passed_time": 1.593216799,
                        "iteration": 605,
                        "remaining_time": 3.664924452,
                        "learn": [
                          0.2
                        ]
                      },
                      {
                        "test": [
                          0.6438067904,
                          0.5153594798,
                          0.2
                        ],
                        "passed_time": 1.595713955,
                        "iteration": 606,
                        "remaining_time": 3.66199265,
                        "learn": [
                          0.2
                        ]
                      },
                      {
                        "test": [
                          0.6438067904,
                          0.5159072795,
                          0.2
                        ],
                        "passed_time": 1.598136766,
                        "iteration": 607,
                        "remaining_time": 3.658892069,
                        "learn": [
                          0.2
                        ]
                      },
                      {
                        "test": [
                          0.6438067904,
                          0.5159072795,
                          0.2
                        ],
                        "passed_time": 1.600581818,
                        "iteration": 608,
                        "remaining_time": 3.655844513,
                        "learn": [
                          0.2
                        ]
                      },
                      {
                        "test": [
                          0.6492255404,
                          0.5180325532,
                          0.2
                        ],
                        "passed_time": 1.60296888,
                        "iteration": 609,
                        "remaining_time": 3.652666792,
                        "learn": [
                          0.2
                        ]
                      },
                      {
                        "test": [
                          0.6492255404,
                          0.5180325532,
                          0.2
                        ],
                        "passed_time": 1.605422781,
                        "iteration": 610,
                        "remaining_time": 3.649643606,
                        "learn": [
                          0.2
                        ]
                      },
                      {
                        "test": [
                          0.6492255404,
                          0.5174847535,
                          0.2
                        ],
                        "passed_time": 1.608080627,
                        "iteration": 611,
                        "remaining_time": 3.64708482,
                        "learn": [
                          0.2
                        ]
                      },
                      {
                        "test": [
                          0.6492255404,
                          0.5180325532,
                          0.2
                        ],
                        "passed_time": 1.610522969,
                        "iteration": 612,
                        "remaining_time": 3.644038103,
                        "learn": [
                          0.2
                        ]
                      },
                      {
                        "test": [
                          0.6453104935,
                          0.5170930394,
                          0.2
                        ],
                        "passed_time": 1.612927218,
                        "iteration": 613,
                        "remaining_time": 3.640907369,
                        "learn": [
                          0.2
                        ]
                      },
                      {
                        "test": [
                          0.6453104935,
                          0.5170930394,
                          0.2
                        ],
                        "passed_time": 1.615327947,
                        "iteration": 614,
                        "remaining_time": 3.637771068,
                        "learn": [
                          0.2
                        ]
                      },
                      {
                        "test": [
                          0.6453104935,
                          0.5170930394,
                          0.2
                        ],
                        "passed_time": 1.617685995,
                        "iteration": 615,
                        "remaining_time": 3.634541262,
                        "learn": [
                          0.2
                        ]
                      },
                      {
                        "test": [
                          0.6453104935,
                          0.5170930394,
                          0.2
                        ],
                        "passed_time": 1.620068205,
                        "iteration": 616,
                        "remaining_time": 3.63136844,
                        "learn": [
                          0.2
                        ]
                      },
                      {
                        "test": [
                          0.6453104935,
                          0.5170930394,
                          0.2
                        ],
                        "passed_time": 1.622442151,
                        "iteration": 617,
                        "remaining_time": 3.628179698,
                        "learn": [
                          0.2
                        ]
                      },
                      {
                        "test": [
                          0.6453104935,
                          0.5170930394,
                          0.2
                        ],
                        "passed_time": 1.624822824,
                        "iteration": 618,
                        "remaining_time": 3.625008595,
                        "learn": [
                          0.2
                        ]
                      },
                      {
                        "test": [
                          0.6453104935,
                          0.5170930394,
                          0.2
                        ],
                        "passed_time": 1.627210466,
                        "iteration": 619,
                        "remaining_time": 3.621855554,
                        "learn": [
                          0.2
                        ]
                      },
                      {
                        "test": [
                          0.6453104935,
                          0.5170930394,
                          0.2
                        ],
                        "passed_time": 1.629587841,
                        "iteration": 620,
                        "remaining_time": 3.618682178,
                        "learn": [
                          0.2
                        ]
                      },
                      {
                        "test": [
                          0.6453104935,
                          0.5184365599,
                          0.2
                        ],
                        "passed_time": 1.631948717,
                        "iteration": 621,
                        "remaining_time": 3.615474809,
                        "learn": [
                          0.2
                        ]
                      },
                      {
                        "test": [
                          0.6453104935,
                          0.5170930394,
                          0.2
                        ],
                        "passed_time": 1.63435214,
                        "iteration": 622,
                        "remaining_time": 3.612364199,
                        "learn": [
                          0.2
                        ]
                      },
                      {
                        "test": [
                          0.6398917435,
                          0.5149677657,
                          0.2
                        ],
                        "passed_time": 1.636857914,
                        "iteration": 623,
                        "remaining_time": 3.609481553,
                        "learn": [
                          0.2
                        ]
                      },
                      {
                        "test": [
                          0.6453104935,
                          0.5184365599,
                          0.2
                        ],
                        "passed_time": 1.639599767,
                        "iteration": 624,
                        "remaining_time": 3.607119486,
                        "learn": [
                          0.2
                        ]
                      },
                      {
                        "test": [
                          0.6453104935,
                          0.5184365599,
                          0.2
                        ],
                        "passed_time": 1.642046525,
                        "iteration": 625,
                        "remaining_time": 3.604108508,
                        "learn": [
                          0.2
                        ]
                      },
                      {
                        "test": [
                          0.6453104935,
                          0.5170930394,
                          0.2
                        ],
                        "passed_time": 1.644468181,
                        "iteration": 626,
                        "remaining_time": 3.601044357,
                        "learn": [
                          0.2
                        ]
                      },
                      {
                        "test": [
                          0.6453104935,
                          0.5184365599,
                          0.2
                        ],
                        "passed_time": 1.64686382,
                        "iteration": 627,
                        "remaining_time": 3.597925416,
                        "learn": [
                          0.2
                        ]
                      },
                      {
                        "test": [
                          0.6453104935,
                          0.5184365599,
                          0.2
                        ],
                        "passed_time": 1.651042266,
                        "iteration": 628,
                        "remaining_time": 3.598694668,
                        "learn": [
                          0.2
                        ]
                      },
                      {
                        "test": [
                          0.6453104935,
                          0.5184365599,
                          0.2
                        ],
                        "passed_time": 1.656328315,
                        "iteration": 629,
                        "remaining_time": 3.601856812,
                        "learn": [
                          0.2
                        ]
                      },
                      {
                        "test": [
                          0.6453104935,
                          0.5184365599,
                          0.2
                        ],
                        "passed_time": 1.659659102,
                        "iteration": 630,
                        "remaining_time": 3.600750097,
                        "learn": [
                          0.2
                        ]
                      },
                      {
                        "test": [
                          0.6453104935,
                          0.5184365599,
                          0.2
                        ],
                        "passed_time": 1.662107973,
                        "iteration": 631,
                        "remaining_time": 3.597727385,
                        "learn": [
                          0.2
                        ]
                      },
                      {
                        "test": [
                          0.6453104935,
                          0.5184365599,
                          0.2
                        ],
                        "passed_time": 1.664447042,
                        "iteration": 632,
                        "remaining_time": 3.594469363,
                        "learn": [
                          0.2
                        ]
                      },
                      {
                        "test": [
                          0.6453104935,
                          0.5178887602,
                          0.2
                        ],
                        "passed_time": 1.667363233,
                        "iteration": 633,
                        "remaining_time": 3.592457692,
                        "learn": [
                          0.2
                        ]
                      },
                      {
                        "test": [
                          0.6453104935,
                          0.5184365599,
                          0.2
                        ],
                        "passed_time": 1.669805084,
                        "iteration": 634,
                        "remaining_time": 3.589423527,
                        "learn": [
                          0.2
                        ]
                      },
                      {
                        "test": [
                          0.6453104935,
                          0.5184365599,
                          0.2
                        ],
                        "passed_time": 1.672185766,
                        "iteration": 635,
                        "remaining_time": 3.58626004,
                        "learn": [
                          0.2
                        ]
                      },
                      {
                        "test": [
                          0.6486382833,
                          0.5191378118,
                          0.2
                        ],
                        "passed_time": 1.674578845,
                        "iteration": 636,
                        "remaining_time": 3.583125534,
                        "learn": [
                          0.2
                        ]
                      },
                      {
                        "test": [
                          0.6486382833,
                          0.5191378118,
                          0.2
                        ],
                        "passed_time": 1.677163845,
                        "iteration": 637,
                        "remaining_time": 3.580403066,
                        "learn": [
                          0.2
                        ]
                      },
                      {
                        "test": [
                          0.6525533302,
                          0.5195295259,
                          0.2
                        ],
                        "passed_time": 1.679660187,
                        "iteration": 638,
                        "remaining_time": 3.577492197,
                        "learn": [
                          0.2
                        ]
                      },
                      {
                        "test": [
                          0.6525533302,
                          0.5200773256,
                          0.2
                        ],
                        "passed_time": 1.682071956,
                        "iteration": 639,
                        "remaining_time": 3.574402907,
                        "learn": [
                          0.2
                        ]
                      },
                      {
                        "test": [
                          0.6486382833,
                          0.5191378118,
                          0.2
                        ],
                        "passed_time": 1.684534654,
                        "iteration": 640,
                        "remaining_time": 3.571423704,
                        "learn": [
                          0.2
                        ]
                      },
                      {
                        "test": [
                          0.6486382833,
                          0.5191378118,
                          0.2
                        ],
                        "passed_time": 1.686871529,
                        "iteration": 641,
                        "remaining_time": 3.568179962,
                        "learn": [
                          0.2
                        ]
                      },
                      {
                        "test": [
                          0.6486382833,
                          0.5191378118,
                          0.2
                        ],
                        "passed_time": 1.68926134,
                        "iteration": 642,
                        "remaining_time": 3.565050759,
                        "learn": [
                          0.2
                        ]
                      },
                      {
                        "test": [
                          0.6525533302,
                          0.5200773256,
                          0.2
                        ],
                        "passed_time": 1.691676781,
                        "iteration": 643,
                        "remaining_time": 3.561977819,
                        "learn": [
                          0.2
                        ]
                      },
                      {
                        "test": [
                          0.6525533302,
                          0.5200773256,
                          0.2
                        ],
                        "passed_time": 1.694340384,
                        "iteration": 644,
                        "remaining_time": 3.559428249,
                        "learn": [
                          0.2
                        ]
                      },
                      {
                        "test": [
                          0.6492255404,
                          0.5193760737,
                          0.2
                        ],
                        "passed_time": 1.696790024,
                        "iteration": 645,
                        "remaining_time": 3.556429865,
                        "learn": [
                          0.2
                        ]
                      },
                      {
                        "test": [
                          0.6492255404,
                          0.5189335383,
                          0.2
                        ],
                        "passed_time": 1.699127495,
                        "iteration": 646,
                        "remaining_time": 3.553198609,
                        "learn": [
                          0.2
                        ]
                      },
                      {
                        "test": [
                          0.6556005404,
                          0.5229474989,
                          0.2
                        ],
                        "passed_time": 1.701532485,
                        "iteration": 647,
                        "remaining_time": 3.550110986,
                        "learn": [
                          0.2
                        ]
                      },
                      {
                        "test": [
                          0.6492255404,
                          0.5189335383,
                          0.2
                        ],
                        "passed_time": 1.703928473,
                        "iteration": 648,
                        "remaining_time": 3.547006729,
                        "learn": [
                          0.2
                        ]
                      },
                      {
                        "test": [
                          0.6556005404,
                          0.5229474989,
                          0.2
                        ],
                        "passed_time": 1.706318343,
                        "iteration": 649,
                        "remaining_time": 3.543891943,
                        "learn": [
                          0.2
                        ]
                      },
                      {
                        "test": [
                          0.6556005404,
                          0.5229474989,
                          0.2
                        ],
                        "passed_time": 1.708753479,
                        "iteration": 650,
                        "remaining_time": 3.540873186,
                        "learn": [
                          0.2
                        ]
                      },
                      {
                        "test": [
                          0.6556005404,
                          0.5229474989,
                          0.2
                        ],
                        "passed_time": 1.711395852,
                        "iteration": 651,
                        "remaining_time": 3.538284676,
                        "learn": [
                          0.2
                        ]
                      },
                      {
                        "test": [
                          0.6556005404,
                          0.5229474989,
                          0.2
                        ],
                        "passed_time": 1.713743658,
                        "iteration": 652,
                        "remaining_time": 3.535088374,
                        "learn": [
                          0.2
                        ]
                      },
                      {
                        "test": [
                          0.6556005404,
                          0.5229474989,
                          0.2
                        ],
                        "passed_time": 1.716258295,
                        "iteration": 653,
                        "remaining_time": 3.532238021,
                        "learn": [
                          0.2
                        ]
                      },
                      {
                        "test": [
                          0.6631005404,
                          0.5342622182,
                          0.2
                        ],
                        "passed_time": 1.718651308,
                        "iteration": 654,
                        "remaining_time": 3.529138945,
                        "learn": [
                          0.2
                        ]
                      },
                      {
                        "test": [
                          0.6631005404,
                          0.5347047535,
                          0.2
                        ],
                        "passed_time": 1.721099131,
                        "iteration": 655,
                        "remaining_time": 3.526154316,
                        "learn": [
                          0.2
                        ]
                      },
                      {
                        "test": [
                          0.6631005404,
                          0.5347047535,
                          0.2
                        ],
                        "passed_time": 1.723530564,
                        "iteration": 656,
                        "remaining_time": 3.52313782,
                        "learn": [
                          0.2
                        ]
                      },
                      {
                        "test": [
                          0.6589283302,
                          0.5240912862,
                          0.2
                        ],
                        "passed_time": 1.725864518,
                        "iteration": 657,
                        "remaining_time": 3.51992429,
                        "learn": [
                          0.2
                        ]
                      },
                      {
                        "test": [
                          0.6525533302,
                          0.5200773256,
                          0.2
                        ],
                        "passed_time": 1.728267203,
                        "iteration": 658,
                        "remaining_time": 3.516853292,
                        "learn": [
                          0.2
                        ]
                      },
                      {
                        "test": [
                          0.6525533302,
                          0.5200773256,
                          0.2
                        ],
                        "passed_time": 1.730649323,
                        "iteration": 659,
                        "remaining_time": 3.513742565,
                        "learn": [
                          0.2
                        ]
                      },
                      {
                        "test": [
                          0.6556005404,
                          0.5233900342,
                          0.2
                        ],
                        "passed_time": 1.733018768,
                        "iteration": 660,
                        "remaining_time": 3.510608366,
                        "learn": [
                          0.2
                        ]
                      },
                      {
                        "test": [
                          0.6492255404,
                          0.5193760737,
                          0.2
                        ],
                        "passed_time": 1.735540578,
                        "iteration": 661,
                        "remaining_time": 3.50778443,
                        "learn": [
                          0.2
                        ]
                      },
                      {
                        "test": [
                          0.6492255404,
                          0.5189335383,
                          0.2
                        ],
                        "passed_time": 1.737909858,
                        "iteration": 662,
                        "remaining_time": 3.504653817,
                        "learn": [
                          0.2
                        ]
                      },
                      {
                        "test": [
                          0.6492255404,
                          0.5183857386,
                          0.2
                        ],
                        "passed_time": 1.740278371,
                        "iteration": 663,
                        "remaining_time": 3.501523952,
                        "learn": [
                          0.2
                        ]
                      },
                      {
                        "test": [
                          0.6492255404,
                          0.5189335383,
                          0.2
                        ],
                        "passed_time": 1.742657704,
                        "iteration": 664,
                        "remaining_time": 3.498418098,
                        "learn": [
                          0.2
                        ]
                      },
                      {
                        "test": [
                          0.6492255404,
                          0.5193760737,
                          0.2
                        ],
                        "passed_time": 1.745012623,
                        "iteration": 665,
                        "remaining_time": 3.495265524,
                        "learn": [
                          0.2
                        ]
                      },
                      {
                        "test": [
                          0.6492255404,
                          0.5196347903,
                          0.2
                        ],
                        "passed_time": 1.747429211,
                        "iteration": 666,
                        "remaining_time": 3.492238589,
                        "learn": [
                          0.2
                        ]
                      },
                      {
                        "test": [
                          0.6556005404,
                          0.5236487508,
                          0.2
                        ],
                        "passed_time": 1.749855569,
                        "iteration": 667,
                        "remaining_time": 3.489232961,
                        "learn": [
                          0.2
                        ]
                      },
                      {
                        "test": [
                          0.6589283302,
                          0.5247925381,
                          0.2
                        ],
                        "passed_time": 1.752529812,
                        "iteration": 668,
                        "remaining_time": 3.486722241,
                        "learn": [
                          0.2
                        ]
                      },
                      {
                        "test": [
                          0.6589283302,
                          0.5243500028,
                          0.2
                        ],
                        "passed_time": 1.754889586,
                        "iteration": 669,
                        "remaining_time": 3.48358679,
                        "learn": [
                          0.2
                        ]
                      },
                      {
                        "test": [
                          0.6525533302,
                          0.5207785776,
                          0.2
                        ],
                        "passed_time": 1.757276587,
                        "iteration": 670,
                        "remaining_time": 3.480507577,
                        "learn": [
                          0.2
                        ]
                      },
                      {
                        "test": [
                          0.6481391148,
                          0.5189843596,
                          0.2
                        ],
                        "passed_time": 1.759644424,
                        "iteration": 671,
                        "remaining_time": 3.477392553,
                        "learn": [
                          0.2
                        ]
                      },
                      {
                        "test": [
                          0.6481391148,
                          0.5189843596,
                          0.2
                        ],
                        "passed_time": 1.76202194,
                        "iteration": 672,
                        "remaining_time": 3.474298832,
                        "learn": [
                          0.2
                        ]
                      },
                      {
                        "test": [
                          0.6453104935,
                          0.5178887602,
                          0.2
                        ],
                        "passed_time": 1.764342259,
                        "iteration": 673,
                        "remaining_time": 3.471094711,
                        "learn": [
                          0.2
                        ]
                      },
                      {
                        "test": [
                          0.6453104935,
                          0.5178887602,
                          0.2
                        ],
                        "passed_time": 1.766683562,
                        "iteration": 674,
                        "remaining_time": 3.467934399,
                        "learn": [
                          0.2
                        ]
                      },
                      {
                        "test": [
                          0.6453104935,
                          0.5178887602,
                          0.2
                        ],
                        "passed_time": 1.769092754,
                        "iteration": 675,
                        "remaining_time": 3.464909477,
                        "learn": [
                          0.2
                        ]
                      },
                      {
                        "test": [
                          0.6516854935,
                          0.5220079851,
                          0.2
                        ],
                        "passed_time": 1.771611779,
                        "iteration": 676,
                        "remaining_time": 3.462101009,
                        "learn": [
                          0.2
                        ]
                      },
                      {
                        "test": [
                          0.6550132833,
                          0.5231517724,
                          0.2
                        ],
                        "passed_time": 1.774034163,
                        "iteration": 677,
                        "remaining_time": 3.459104962,
                        "learn": [
                          0.2
                        ]
                      },
                      {
                        "test": [
                          0.6589283302,
                          0.5236487508,
                          0.2
                        ],
                        "passed_time": 1.77643704,
                        "iteration": 678,
                        "remaining_time": 3.456072651,
                        "learn": [
                          0.2
                        ]
                      },
                      {
                        "test": [
                          0.6767569516,
                          0.5468259891,
                          0.2
                        ],
                        "passed_time": 1.778820044,
                        "iteration": 679,
                        "remaining_time": 3.453003614,
                        "learn": [
                          0.2
                        ]
                      },
                      {
                        "test": [
                          0.6739283302,
                          0.5488459984,
                          0.2
                        ],
                        "passed_time": 1.781250012,
                        "iteration": 680,
                        "remaining_time": 3.450027556,
                        "learn": [
                          0.2
                        ]
                      },
                      {
                        "test": [
                          0.6739283302,
                          0.5488459984,
                          0.2
                        ],
                        "passed_time": 1.783604138,
                        "iteration": 681,
                        "remaining_time": 3.446906531,
                        "learn": [
                          0.2
                        ]
                      },
                      {
                        "test": [
                          0.6739283302,
                          0.5488459984,
                          0.2
                        ],
                        "passed_time": 1.786041769,
                        "iteration": 682,
                        "remaining_time": 3.44394877,
                        "learn": [
                          0.2
                        ]
                      },
                      {
                        "test": [
                          0.6739283302,
                          0.5488459984,
                          0.2
                        ],
                        "passed_time": 1.788421548,
                        "iteration": 683,
                        "remaining_time": 3.440881223,
                        "learn": [
                          0.2
                        ]
                      },
                      {
                        "test": [
                          0.6692569516,
                          0.5434365599,
                          0.2
                        ],
                        "passed_time": 1.792570526,
                        "iteration": 684,
                        "remaining_time": 3.441212031,
                        "learn": [
                          0.2
                        ]
                      },
                      {
                        "test": [
                          0.6692569516,
                          0.5420930394,
                          0.2
                        ],
                        "passed_time": 1.795891469,
                        "iteration": 685,
                        "remaining_time": 3.439943718,
                        "learn": [
                          0.2
                        ]
                      },
                      {
                        "test": [
                          0.6692569516,
                          0.5420930394,
                          0.2
                        ],
                        "passed_time": 1.800547407,
                        "iteration": 686,
                        "remaining_time": 3.441220881,
                        "learn": [
                          0.2
                        ]
                      },
                      {
                        "test": [
                          0.6692569516,
                          0.5427942914,
                          0.2
                        ],
                        "passed_time": 1.802946749,
                        "iteration": 687,
                        "remaining_time": 3.438177522,
                        "learn": [
                          0.2
                        ]
                      },
                      {
                        "test": [
                          0.6692569516,
                          0.5427942914,
                          0.2
                        ],
                        "passed_time": 1.805283468,
                        "iteration": 688,
                        "remaining_time": 3.435016874,
                        "learn": [
                          0.2
                        ]
                      },
                      {
                        "test": [
                          0.6692569516,
                          0.5427942914,
                          0.2
                        ],
                        "passed_time": 1.807638565,
                        "iteration": 689,
                        "remaining_time": 3.431893507,
                        "learn": [
                          0.2
                        ]
                      },
                      {
                        "test": [
                          0.6692569516,
                          0.5411535256,
                          0.2
                        ],
                        "passed_time": 1.809958957,
                        "iteration": 690,
                        "remaining_time": 3.42870662,
                        "learn": [
                          0.2
                        ]
                      },
                      {
                        "test": [
                          0.6692569516,
                          0.5418547776,
                          0.2
                        ],
                        "passed_time": 1.81232589,
                        "iteration": 691,
                        "remaining_time": 3.425610208,
                        "learn": [
                          0.2
                        ]
                      },
                      {
                        "test": [
                          0.6638382016,
                          0.5397295039,
                          0.2
                        ],
                        "passed_time": 1.814714779,
                        "iteration": 692,
                        "remaining_time": 3.42255731,
                        "learn": [
                          0.2
                        ]
                      },
                      {
                        "test": [
                          0.6692569516,
                          0.5418547776,
                          0.2
                        ],
                        "passed_time": 1.817065848,
                        "iteration": 693,
                        "remaining_time": 3.419435154,
                        "learn": [
                          0.2
                        ]
                      },
                      {
                        "test": [
                          0.6692569516,
                          0.5418547776,
                          0.2
                        ],
                        "passed_time": 1.819437374,
                        "iteration": 694,
                        "remaining_time": 3.41635363,
                        "learn": [
                          0.2
                        ]
                      },
                      {
                        "test": [
                          0.6638382016,
                          0.5397295039,
                          0.2
                        ],
                        "passed_time": 1.821783876,
                        "iteration": 695,
                        "remaining_time": 3.413227262,
                        "learn": [
                          0.2
                        ]
                      },
                      {
                        "test": [
                          0.6638382016,
                          0.5397295039,
                          0.2
                        ],
                        "passed_time": 1.824168598,
                        "iteration": 696,
                        "remaining_time": 3.410174582,
                        "learn": [
                          0.2
                        ]
                      },
                      {
                        "test": [
                          0.6638382016,
                          0.5391817042,
                          0.2
                        ],
                        "passed_time": 1.826520557,
                        "iteration": 697,
                        "remaining_time": 3.4070627,
                        "learn": [
                          0.2
                        ]
                      },
                      {
                        "test": [
                          0.6638382016,
                          0.5397295039,
                          0.2
                        ],
                        "passed_time": 1.828909098,
                        "iteration": 698,
                        "remaining_time": 3.404021082,
                        "learn": [
                          0.2
                        ]
                      },
                      {
                        "test": [
                          0.6638382016,
                          0.5397295039,
                          0.2
                        ],
                        "passed_time": 1.831263569,
                        "iteration": 699,
                        "remaining_time": 3.400918058,
                        "learn": [
                          0.2
                        ]
                      },
                      {
                        "test": [
                          0.6638382016,
                          0.5392869685,
                          0.2
                        ],
                        "passed_time": 1.833593999,
                        "iteration": 700,
                        "remaining_time": 3.397772617,
                        "learn": [
                          0.2
                        ]
                      },
                      {
                        "test": [
                          0.6638382016,
                          0.5402264823,
                          0.2
                        ],
                        "passed_time": 1.835981399,
                        "iteration": 701,
                        "remaining_time": 3.394734838,
                        "learn": [
                          0.2
                        ]
                      },
                      {
                        "test": [
                          0.6713382016,
                          0.5515412016,
                          0.2
                        ],
                        "passed_time": 1.838340775,
                        "iteration": 702,
                        "remaining_time": 3.391647205,
                        "learn": [
                          0.2
                        ]
                      },
                      {
                        "test": [
                          0.6788382016,
                          0.5628559209,
                          0.2
                        ],
                        "passed_time": 1.840732453,
                        "iteration": 703,
                        "remaining_time": 3.388621107,
                        "learn": [
                          0.2
                        ]
                      },
                      {
                        "test": [
                          0.6788382016,
                          0.5628559209,
                          0.2
                        ],
                        "passed_time": 1.843274766,
                        "iteration": 704,
                        "remaining_time": 3.385873506,
                        "learn": [
                          0.2
                        ]
                      },
                      {
                        "test": [
                          0.6788382016,
                          0.5628559209,
                          0.2
                        ],
                        "passed_time": 1.845790216,
                        "iteration": 705,
                        "remaining_time": 3.383077251,
                        "learn": [
                          0.2
                        ]
                      },
                      {
                        "test": [
                          0.6788382016,
                          0.5628559209,
                          0.2
                        ],
                        "passed_time": 1.848304066,
                        "iteration": 706,
                        "remaining_time": 3.380278864,
                        "learn": [
                          0.2
                        ]
                      },
                      {
                        "test": [
                          0.6788382016,
                          0.5628559209,
                          0.2
                        ],
                        "passed_time": 1.850676532,
                        "iteration": 707,
                        "remaining_time": 3.377223276,
                        "learn": [
                          0.2
                        ]
                      },
                      {
                        "test": [
                          0.6713382016,
                          0.5515412016,
                          0.2
                        ],
                        "passed_time": 1.853038613,
                        "iteration": 708,
                        "remaining_time": 3.374150704,
                        "learn": [
                          0.2
                        ]
                      },
                      {
                        "test": [
                          0.6713382016,
                          0.5509934019,
                          0.2
                        ],
                        "passed_time": 1.855372719,
                        "iteration": 709,
                        "remaining_time": 3.371029307,
                        "learn": [
                          0.2
                        ]
                      },
                      {
                        "test": [
                          0.6713382016,
                          0.5509934019,
                          0.2
                        ],
                        "passed_time": 1.857809687,
                        "iteration": 710,
                        "remaining_time": 3.368096606,
                        "learn": [
                          0.2
                        ]
                      },
                      {
                        "test": [
                          0.6713382016,
                          0.5509934019,
                          0.2
                        ],
                        "passed_time": 1.860179722,
                        "iteration": 711,
                        "remaining_time": 3.365044216,
                        "learn": [
                          0.2
                        ]
                      },
                      {
                        "test": [
                          0.6713382016,
                          0.5509934019,
                          0.2
                        ],
                        "passed_time": 1.862551135,
                        "iteration": 712,
                        "remaining_time": 3.361996228,
                        "learn": [
                          0.2
                        ]
                      },
                      {
                        "test": [
                          0.6713382016,
                          0.5514359372,
                          0.2
                        ],
                        "passed_time": 1.864887329,
                        "iteration": 713,
                        "remaining_time": 3.358886702,
                        "learn": [
                          0.2
                        ]
                      },
                      {
                        "test": [
                          0.6713382016,
                          0.5514359372,
                          0.2
                        ],
                        "passed_time": 1.867266738,
                        "iteration": 714,
                        "remaining_time": 3.355857005,
                        "learn": [
                          0.2
                        ]
                      },
                      {
                        "test": [
                          0.6713382016,
                          0.5514359372,
                          0.2
                        ],
                        "passed_time": 1.869620711,
                        "iteration": 715,
                        "remaining_time": 3.35278351,
                        "learn": [
                          0.2
                        ]
                      },
                      {
                        "test": [
                          0.6713382016,
                          0.5527794577,
                          0.2
                        ],
                        "passed_time": 1.872014628,
                        "iteration": 716,
                        "remaining_time": 3.349783498,
                        "learn": [
                          0.2
                        ]
                      },
                      {
                        "test": [
                          0.6713382016,
                          0.5527794577,
                          0.2
                        ],
                        "passed_time": 1.874435817,
                        "iteration": 717,
                        "remaining_time": 3.346833868,
                        "learn": [
                          0.2
                        ]
                      },
                      {
                        "test": [
                          0.6713382016,
                          0.5527794577,
                          0.2
                        ],
                        "passed_time": 1.876802546,
                        "iteration": 718,
                        "remaining_time": 3.34378868,
                        "learn": [
                          0.2
                        ]
                      },
                      {
                        "test": [
                          0.6713382016,
                          0.5527794577,
                          0.2
                        ],
                        "passed_time": 1.8792197,
                        "iteration": 719,
                        "remaining_time": 3.340835021,
                        "learn": [
                          0.2
                        ]
                      },
                      {
                        "test": [
                          0.6713382016,
                          0.5527794577,
                          0.2
                        ],
                        "passed_time": 1.881632702,
                        "iteration": 720,
                        "remaining_time": 3.337875487,
                        "learn": [
                          0.2
                        ]
                      },
                      {
                        "test": [
                          0.6713382016,
                          0.5527794577,
                          0.2
                        ],
                        "passed_time": 1.884030907,
                        "iteration": 721,
                        "remaining_time": 3.334891274,
                        "learn": [
                          0.2
                        ]
                      },
                      {
                        "test": [
                          0.6713382016,
                          0.5527794577,
                          0.2
                        ],
                        "passed_time": 1.886386204,
                        "iteration": 722,
                        "remaining_time": 3.331832895,
                        "learn": [
                          0.2
                        ]
                      },
                      {
                        "test": [
                          0.6713382016,
                          0.5527794577,
                          0.2
                        ],
                        "passed_time": 1.888850796,
                        "iteration": 723,
                        "remaining_time": 3.328969083,
                        "learn": [
                          0.2
                        ]
                      },
                      {
                        "test": [
                          0.6713382016,
                          0.5527794577,
                          0.2
                        ],
                        "passed_time": 1.891235526,
                        "iteration": 724,
                        "remaining_time": 3.325965925,
                        "learn": [
                          0.2
                        ]
                      },
                      {
                        "test": [
                          0.6713382016,
                          0.5527794577,
                          0.2
                        ],
                        "passed_time": 1.893706597,
                        "iteration": 725,
                        "remaining_time": 3.323115984,
                        "learn": [
                          0.2
                        ]
                      },
                      {
                        "test": [
                          0.6713382016,
                          0.5527794577,
                          0.2
                        ],
                        "passed_time": 1.89610444,
                        "iteration": 726,
                        "remaining_time": 3.320138861,
                        "learn": [
                          0.2
                        ]
                      },
                      {
                        "test": [
                          0.6713382016,
                          0.5527794577,
                          0.2
                        ],
                        "passed_time": 1.89848454,
                        "iteration": 727,
                        "remaining_time": 3.317132329,
                        "learn": [
                          0.2
                        ]
                      },
                      {
                        "test": [
                          0.6713382016,
                          0.5527794577,
                          0.2
                        ],
                        "passed_time": 1.900949209,
                        "iteration": 728,
                        "remaining_time": 3.314274958,
                        "learn": [
                          0.2
                        ]
                      },
                      {
                        "test": [
                          0.6713382016,
                          0.5527794577,
                          0.2
                        ],
                        "passed_time": 1.903310664,
                        "iteration": 729,
                        "remaining_time": 3.311239101,
                        "learn": [
                          0.2
                        ]
                      },
                      {
                        "test": [
                          0.6680104117,
                          0.5520782058,
                          0.2
                        ],
                        "passed_time": 1.905756623,
                        "iteration": 730,
                        "remaining_time": 3.308351785,
                        "learn": [
                          0.2
                        ]
                      },
                      {
                        "test": [
                          0.6680104117,
                          0.5520782058,
                          0.2
                        ],
                        "passed_time": 1.908124003,
                        "iteration": 731,
                        "remaining_time": 3.305329557,
                        "learn": [
                          0.2
                        ]
                      },
                      {
                        "test": [
                          0.6713382016,
                          0.5527794577,
                          0.2
                        ],
                        "passed_time": 1.910444965,
                        "iteration": 732,
                        "remaining_time": 3.302228882,
                        "learn": [
                          0.2
                        ]
                      },
                      {
                        "test": [
                          0.6713382016,
                          0.5527794577,
                          0.2
                        ],
                        "passed_time": 1.912867757,
                        "iteration": 733,
                        "remaining_time": 3.299305968,
                        "learn": [
                          0.2
                        ]
                      },
                      {
                        "test": [
                          0.6713382016,
                          0.5527794577,
                          0.2
                        ],
                        "passed_time": 1.915216325,
                        "iteration": 734,
                        "remaining_time": 3.296256668,
                        "learn": [
                          0.2
                        ]
                      },
                      {
                        "test": [
                          0.6713382016,
                          0.5527794577,
                          0.2
                        ],
                        "passed_time": 1.917592115,
                        "iteration": 735,
                        "remaining_time": 3.293256024,
                        "learn": [
                          0.2
                        ]
                      },
                      {
                        "test": [
                          0.6713382016,
                          0.5527794577,
                          0.2
                        ],
                        "passed_time": 1.919937451,
                        "iteration": 736,
                        "remaining_time": 3.290204886,
                        "learn": [
                          0.2
                        ]
                      },
                      {
                        "test": [
                          0.6680104117,
                          0.5530177196,
                          0.2
                        ],
                        "passed_time": 1.922308883,
                        "iteration": 737,
                        "remaining_time": 3.287200285,
                        "learn": [
                          0.2
                        ]
                      },
                      {
                        "test": [
                          0.6680104117,
                          0.5530177196,
                          0.2
                        ],
                        "passed_time": 1.924644936,
                        "iteration": 738,
                        "remaining_time": 3.284137029,
                        "learn": [
                          0.2
                        ]
                      },
                      {
                        "test": [
                          0.6680104117,
                          0.5530177196,
                          0.2
                        ],
                        "passed_time": 1.927074733,
                        "iteration": 739,
                        "remaining_time": 3.281235355,
                        "learn": [
                          0.2
                        ]
                      },
                      {
                        "test": [
                          0.6680104117,
                          0.5530177196,
                          0.2
                        ],
                        "passed_time": 1.929442246,
                        "iteration": 740,
                        "remaining_time": 3.278229132,
                        "learn": [
                          0.2
                        ]
                      },
                      {
                        "test": [
                          0.6651817904,
                          0.5524699199,
                          0.2
                        ],
                        "passed_time": 1.931808179,
                        "iteration": 741,
                        "remaining_time": 3.275221952,
                        "learn": [
                          0.2
                        ]
                      },
                      {
                        "test": [
                          0.6680104117,
                          0.5520782058,
                          0.2
                        ],
                        "passed_time": 1.934324091,
                        "iteration": 742,
                        "remaining_time": 3.272470232,
                        "learn": [
                          0.2
                        ]
                      },
                      {
                        "test": [
                          0.6685095802,
                          0.552231658,
                          0.2
                        ],
                        "passed_time": 1.968453215,
                        "iteration": 743,
                        "remaining_time": 3.323087685,
                        "learn": [
                          0.2
                        ]
                      },
                      {
                        "test": [
                          0.6685095802,
                          0.552231658,
                          0.2
                        ],
                        "passed_time": 1.985350667,
                        "iteration": 744,
                        "remaining_time": 3.344449781,
                        "learn": [
                          0.2
                        ]
                      },
                      {
                        "test": [
                          0.6651817904,
                          0.5507210502,
                          0.2
                        ],
                        "passed_time": 1.988937309,
                        "iteration": 745,
                        "remaining_time": 3.343334296,
                        "learn": [
                          0.2
                        ]
                      },
                      {
                        "test": [
                          0.6651817904,
                          0.5507210502,
                          0.2
                        ],
                        "passed_time": 1.992534188,
                        "iteration": 746,
                        "remaining_time": 3.342229367,
                        "learn": [
                          0.2
                        ]
                      },
                      {
                        "test": [
                          0.6651817904,
                          0.5507210502,
                          0.2
                        ],
                        "passed_time": 1.996182161,
                        "iteration": 747,
                        "remaining_time": 3.341203295,
                        "learn": [
                          0.2
                        ]
                      },
                      {
                        "test": [
                          0.6651817904,
                          0.5510878707,
                          0.2
                        ],
                        "passed_time": 1.999577023,
                        "iteration": 748,
                        "remaining_time": 3.339747471,
                        "learn": [
                          0.2
                        ]
                      },
                      {
                        "test": [
                          0.6651817904,
                          0.5520273845,
                          0.2
                        ],
                        "passed_time": 2.002806315,
                        "iteration": 749,
                        "remaining_time": 3.338010524,
                        "learn": [
                          0.2
                        ]
                      },
                      {
                        "test": [
                          0.6651817904,
                          0.5510878707,
                          0.2
                        ],
                        "passed_time": 2.005740282,
                        "iteration": 750,
                        "remaining_time": 3.335778446,
                        "learn": [
                          0.2
                        ]
                      },
                      {
                        "test": [
                          0.6651817904,
                          0.5510878707,
                          0.2
                        ],
                        "passed_time": 2.00934939,
                        "iteration": 751,
                        "remaining_time": 3.334664944,
                        "learn": [
                          0.2
                        ]
                      },
                      {
                        "test": [
                          0.6651817904,
                          0.5510878707,
                          0.2
                        ],
                        "passed_time": 2.013445367,
                        "iteration": 752,
                        "remaining_time": 3.334351092,
                        "learn": [
                          0.2
                        ]
                      },
                      {
                        "test": [
                          0.6651817904,
                          0.5507210502,
                          0.2
                        ],
                        "passed_time": 2.017301206,
                        "iteration": 753,
                        "remaining_time": 3.333630374,
                        "learn": [
                          0.2
                        ]
                      },
                      {
                        "test": [
                          0.6651817904,
                          0.5507210502,
                          0.2
                        ],
                        "passed_time": 2.020758355,
                        "iteration": 754,
                        "remaining_time": 3.33224391,
                        "learn": [
                          0.2
                        ]
                      },
                      {
                        "test": [
                          0.6612667435,
                          0.5497815364,
                          0.2
                        ],
                        "passed_time": 2.023846999,
                        "iteration": 755,
                        "remaining_time": 3.330245591,
                        "learn": [
                          0.2
                        ]
                      },
                      {
                        "test": [
                          0.6612667435,
                          0.5497815364,
                          0.2
                        ],
                        "passed_time": 2.027054814,
                        "iteration": 756,
                        "remaining_time": 3.328440071,
                        "learn": [
                          0.2
                        ]
                      },
                      {
                        "test": [
                          0.6612667435,
                          0.5497815364,
                          0.2
                        ],
                        "passed_time": 2.029482685,
                        "iteration": 757,
                        "remaining_time": 3.325352895,
                        "learn": [
                          0.2
                        ]
                      },
                      {
                        "test": [
                          0.6612667435,
                          0.5457675759,
                          0.2
                        ],
                        "passed_time": 2.032448678,
                        "iteration": 758,
                        "remaining_time": 3.323147311,
                        "learn": [
                          0.2
                        ]
                      },
                      {
                        "test": [
                          0.6651817904,
                          0.5467070897,
                          0.2
                        ],
                        "passed_time": 2.035019237,
                        "iteration": 759,
                        "remaining_time": 3.320294544,
                        "learn": [
                          0.2
                        ]
                      },
                      {
                        "test": [
                          0.6651817904,
                          0.5467070897,
                          0.2
                        ],
                        "passed_time": 2.03738671,
                        "iteration": 760,
                        "remaining_time": 3.317111871,
                        "learn": [
                          0.2
                        ]
                      },
                      {
                        "test": [
                          0.6651817904,
                          0.5467070897,
                          0.2
                        ],
                        "passed_time": 2.040074221,
                        "iteration": 761,
                        "remaining_time": 3.314451293,
                        "learn": [
                          0.2
                        ]
                      },
                      {
                        "test": [
                          0.6651817904,
                          0.5476466035,
                          0.2
                        ],
                        "passed_time": 2.043198893,
                        "iteration": 762,
                        "remaining_time": 3.312499384,
                        "learn": [
                          0.2
                        ]
                      },
                      {
                        "test": [
                          0.6651817904,
                          0.5476466035,
                          0.2
                        ],
                        "passed_time": 2.047125754,
                        "iteration": 763,
                        "remaining_time": 3.311842189,
                        "learn": [
                          0.2
                        ]
                      },
                      {
                        "test": [
                          0.6651817904,
                          0.5476466035,
                          0.2
                        ],
                        "passed_time": 2.051960839,
                        "iteration": 764,
                        "remaining_time": 3.312642662,
                        "learn": [
                          0.2
                        ]
                      },
                      {
                        "test": [
                          0.6651817904,
                          0.5476466035,
                          0.2
                        ],
                        "passed_time": 2.05520903,
                        "iteration": 765,
                        "remaining_time": 3.310871989,
                        "learn": [
                          0.2
                        ]
                      },
                      {
                        "test": [
                          0.6651817904,
                          0.551660564,
                          0.2
                        ],
                        "passed_time": 2.058461032,
                        "iteration": 766,
                        "remaining_time": 3.309103588,
                        "learn": [
                          0.2
                        ]
                      },
                      {
                        "test": [
                          0.6651817904,
                          0.551660564,
                          0.2
                        ],
                        "passed_time": 2.06334334,
                        "iteration": 767,
                        "remaining_time": 3.309946608,
                        "learn": [
                          0.2
                        ]
                      },
                      {
                        "test": [
                          0.6685095802,
                          0.552361816,
                          0.2
                        ],
                        "passed_time": 2.067035597,
                        "iteration": 768,
                        "remaining_time": 3.308869726,
                        "learn": [
                          0.2
                        ]
                      },
                      {
                        "test": [
                          0.6645945333,
                          0.5514223022,
                          0.2
                        ],
                        "passed_time": 2.06955088,
                        "iteration": 769,
                        "remaining_time": 3.305905952,
                        "learn": [
                          0.2
                        ]
                      },
                      {
                        "test": [
                          0.6645945333,
                          0.5514223022,
                          0.2
                        ],
                        "passed_time": 2.072028258,
                        "iteration": 770,
                        "remaining_time": 3.302882916,
                        "learn": [
                          0.2
                        ]
                      },
                      {
                        "test": [
                          0.6685095802,
                          0.552361816,
                          0.2
                        ],
                        "passed_time": 2.074838957,
                        "iteration": 771,
                        "remaining_time": 3.300391502,
                        "learn": [
                          0.2
                        ]
                      },
                      {
                        "test": [
                          0.6645945333,
                          0.5514223022,
                          0.2
                        ],
                        "passed_time": 2.077271401,
                        "iteration": 772,
                        "remaining_time": 3.297298847,
                        "learn": [
                          0.2
                        ]
                      },
                      {
                        "test": [
                          0.6685095802,
                          0.552361816,
                          0.2
                        ],
                        "passed_time": 2.079813321,
                        "iteration": 773,
                        "remaining_time": 3.294381307,
                        "learn": [
                          0.2
                        ]
                      },
                      {
                        "test": [
                          0.6645945333,
                          0.5514223022,
                          0.2
                        ],
                        "passed_time": 2.082258078,
                        "iteration": 774,
                        "remaining_time": 3.291311156,
                        "learn": [
                          0.2
                        ]
                      },
                      {
                        "test": [
                          0.6685095802,
                          0.5510182955,
                          0.2
                        ],
                        "passed_time": 2.084738057,
                        "iteration": 775,
                        "remaining_time": 3.288298172,
                        "learn": [
                          0.2
                        ]
                      },
                      {
                        "test": [
                          0.6685095802,
                          0.552361816,
                          0.2
                        ],
                        "passed_time": 2.087113059,
                        "iteration": 776,
                        "remaining_time": 3.285121327,
                        "learn": [
                          0.2
                        ]
                      },
                      {
                        "test": [
                          0.6685095802,
                          0.5519192806,
                          0.2
                        ],
                        "passed_time": 2.08955277,
                        "iteration": 777,
                        "remaining_time": 3.282048181,
                        "learn": [
                          0.2
                        ]
                      },
                      {
                        "test": [
                          0.6685095802,
                          0.552361816,
                          0.2
                        ],
                        "passed_time": 2.091944305,
                        "iteration": 778,
                        "remaining_time": 3.278901151,
                        "learn": [
                          0.2
                        ]
                      },
                      {
                        "test": [
                          0.6645945333,
                          0.5514223022,
                          0.2
                        ],
                        "passed_time": 2.094339149,
                        "iteration": 779,
                        "remaining_time": 3.275761233,
                        "learn": [
                          0.2
                        ]
                      },
                      {
                        "test": [
                          0.6645945333,
                          0.5514223022,
                          0.2
                        ],
                        "passed_time": 2.096913266,
                        "iteration": 780,
                        "remaining_time": 3.272903036,
                        "learn": [
                          0.2
                        ]
                      },
                      {
                        "test": [
                          0.6645945333,
                          0.5514223022,
                          0.2
                        ],
                        "passed_time": 2.099391759,
                        "iteration": 781,
                        "remaining_time": 3.269896628,
                        "learn": [
                          0.2
                        ]
                      },
                      {
                        "test": [
                          0.6645945333,
                          0.5514223022,
                          0.2
                        ],
                        "passed_time": 2.101799883,
                        "iteration": 782,
                        "remaining_time": 3.266782193,
                        "learn": [
                          0.2
                        ]
                      },
                      {
                        "test": [
                          0.6645945333,
                          0.5514223022,
                          0.2
                        ],
                        "passed_time": 2.104245872,
                        "iteration": 783,
                        "remaining_time": 3.263728291,
                        "learn": [
                          0.2
                        ]
                      },
                      {
                        "test": [
                          0.6645945333,
                          0.5514223022,
                          0.2
                        ],
                        "passed_time": 2.106613628,
                        "iteration": 784,
                        "remaining_time": 3.260554851,
                        "learn": [
                          0.2
                        ]
                      },
                      {
                        "test": [
                          0.6645945333,
                          0.5514223022,
                          0.2
                        ],
                        "passed_time": 2.109040768,
                        "iteration": 785,
                        "remaining_time": 3.257475181,
                        "learn": [
                          0.2
                        ]
                      },
                      {
                        "test": [
                          0.6645945333,
                          0.5500787817,
                          0.2
                        ],
                        "passed_time": 2.111388701,
                        "iteration": 786,
                        "remaining_time": 3.254275088,
                        "learn": [
                          0.2
                        ]
                      },
                      {
                        "test": [
                          0.6645945333,
                          0.5500787817,
                          0.2
                        ],
                        "passed_time": 2.113779534,
                        "iteration": 787,
                        "remaining_time": 3.251143141,
                        "learn": [
                          0.2
                        ]
                      },
                      {
                        "test": [
                          0.6645945333,
                          0.5500787817,
                          0.2
                        ],
                        "passed_time": 2.116167125,
                        "iteration": 788,
                        "remaining_time": 3.248008097,
                        "learn": [
                          0.2
                        ]
                      },
                      {
                        "test": [
                          0.6645945333,
                          0.5500787817,
                          0.2
                        ],
                        "passed_time": 2.118507164,
                        "iteration": 789,
                        "remaining_time": 3.244802112,
                        "learn": [
                          0.2
                        ]
                      },
                      {
                        "test": [
                          0.6645945333,
                          0.5500787817,
                          0.2
                        ],
                        "passed_time": 2.120905002,
                        "iteration": 790,
                        "remaining_time": 3.241686659,
                        "learn": [
                          0.2
                        ]
                      },
                      {
                        "test": [
                          0.6645945333,
                          0.5500787817,
                          0.2
                        ],
                        "passed_time": 2.123245742,
                        "iteration": 791,
                        "remaining_time": 3.23848593,
                        "learn": [
                          0.2
                        ]
                      },
                      {
                        "test": [
                          0.6645945333,
                          0.5500787817,
                          0.2
                        ],
                        "passed_time": 2.125654344,
                        "iteration": 792,
                        "remaining_time": 3.23539066,
                        "learn": [
                          0.2
                        ]
                      },
                      {
                        "test": [
                          0.6645945333,
                          0.5500787817,
                          0.2
                        ],
                        "passed_time": 2.12801238,
                        "iteration": 793,
                        "remaining_time": 3.232220316,
                        "learn": [
                          0.2
                        ]
                      },
                      {
                        "test": [
                          0.6645945333,
                          0.5500787817,
                          0.2
                        ],
                        "passed_time": 2.130426586,
                        "iteration": 794,
                        "remaining_time": 3.229137152,
                        "learn": [
                          0.2
                        ]
                      },
                      {
                        "test": [
                          0.6612667435,
                          0.5493775297,
                          0.2
                        ],
                        "passed_time": 2.13279568,
                        "iteration": 795,
                        "remaining_time": 3.225987436,
                        "learn": [
                          0.2
                        ]
                      },
                      {
                        "test": [
                          0.6612667435,
                          0.5507210502,
                          0.2
                        ],
                        "passed_time": 2.13520275,
                        "iteration": 796,
                        "remaining_time": 3.222896999,
                        "learn": [
                          0.2
                        ]
                      },
                      {
                        "test": [
                          0.6612667435,
                          0.5510878707,
                          0.2
                        ],
                        "passed_time": 2.137549416,
                        "iteration": 797,
                        "remaining_time": 3.21971729,
                        "learn": [
                          0.2
                        ]
                      },
                      {
                        "test": [
                          0.6612667435,
                          0.5510878707,
                          0.2
                        ],
                        "passed_time": 2.13989201,
                        "iteration": 798,
                        "remaining_time": 3.216533547,
                        "learn": [
                          0.2
                        ]
                      },
                      {
                        "test": [
                          0.6640953648,
                          0.5512688499,
                          0.2
                        ],
                        "passed_time": 2.142416621,
                        "iteration": 799,
                        "remaining_time": 3.213624932,
                        "learn": [
                          0.2
                        ]
                      },
                      {
                        "test": [
                          0.6715953648,
                          0.5629503897,
                          0.2
                        ],
                        "passed_time": 2.144766136,
                        "iteration": 800,
                        "remaining_time": 3.210455177,
                        "learn": [
                          0.2
                        ]
                      },
                      {
                        "test": [
                          0.6715953648,
                          0.5625835692,
                          0.2
                        ],
                        "passed_time": 2.147114617,
                        "iteration": 801,
                        "remaining_time": 3.207285925,
                        "learn": [
                          0.2
                        ]
                      },
                      {
                        "test": [
                          0.6715953648,
                          0.5612400487,
                          0.2
                        ],
                        "passed_time": 2.149451367,
                        "iteration": 802,
                        "remaining_time": 3.204101228,
                        "learn": [
                          0.2
                        ]
                      },
                      {
                        "test": [
                          0.6715953648,
                          0.5589364292,
                          0.2
                        ],
                        "passed_time": 2.151839964,
                        "iteration": 803,
                        "remaining_time": 3.200995767,
                        "learn": [
                          0.2
                        ]
                      },
                      {
                        "test": [
                          0.6715953648,
                          0.5625835692,
                          0.2
                        ],
                        "passed_time": 2.15417644,
                        "iteration": 804,
                        "remaining_time": 3.197814715,
                        "learn": [
                          0.2
                        ]
                      },
                      {
                        "test": [
                          0.6715953648,
                          0.5625835692,
                          0.2
                        ],
                        "passed_time": 2.15668741,
                        "iteration": 805,
                        "remaining_time": 3.194894252,
                        "learn": [
                          0.2
                        ]
                      },
                      {
                        "test": [
                          0.6715953648,
                          0.5625835692,
                          0.2
                        ],
                        "passed_time": 2.159001107,
                        "iteration": 806,
                        "remaining_time": 3.191683173,
                        "learn": [
                          0.2
                        ]
                      },
                      {
                        "test": [
                          0.6715953648,
                          0.5625835692,
                          0.2
                        ],
                        "passed_time": 2.161391054,
                        "iteration": 807,
                        "remaining_time": 3.188586803,
                        "learn": [
                          0.2
                        ]
                      },
                      {
                        "test": [
                          0.6715953648,
                          0.5625835692,
                          0.2
                        ],
                        "passed_time": 2.163782111,
                        "iteration": 808,
                        "remaining_time": 3.185493812,
                        "learn": [
                          0.2
                        ]
                      },
                      {
                        "test": [
                          0.6715953648,
                          0.5625835692,
                          0.2
                        ],
                        "passed_time": 2.166226577,
                        "iteration": 809,
                        "remaining_time": 3.18248102,
                        "learn": [
                          0.2
                        ]
                      },
                      {
                        "test": [
                          0.6715953648,
                          0.5625835692,
                          0.2
                        ],
                        "passed_time": 2.168569878,
                        "iteration": 810,
                        "remaining_time": 3.179321313,
                        "learn": [
                          0.2
                        ]
                      },
                      {
                        "test": [
                          0.6687667435,
                          0.5620357695,
                          0.2
                        ],
                        "passed_time": 2.170955999,
                        "iteration": 811,
                        "remaining_time": 3.176226265,
                        "learn": [
                          0.2
                        ]
                      },
                      {
                        "test": [
                          0.6720945333,
                          0.5627370215,
                          0.2
                        ],
                        "passed_time": 2.173495045,
                        "iteration": 812,
                        "remaining_time": 3.173356234,
                        "learn": [
                          0.2
                        ]
                      },
                      {
                        "test": [
                          0.6720945333,
                          0.5627370215,
                          0.2
                        ],
                        "passed_time": 2.176042753,
                        "iteration": 813,
                        "remaining_time": 3.170499638,
                        "learn": [
                          0.2
                        ]
                      },
                      {
                        "test": [
                          0.6720945333,
                          0.5627370215,
                          0.2
                        ],
                        "passed_time": 2.179485437,
                        "iteration": 814,
                        "remaining_time": 3.168945083,
                        "learn": [
                          0.2
                        ]
                      },
                      {
                        "test": [
                          0.6687667435,
                          0.5620357695,
                          0.2
                        ],
                        "passed_time": 2.183088146,
                        "iteration": 815,
                        "remaining_time": 3.167618094,
                        "learn": [
                          0.2
                        ]
                      },
                      {
                        "test": [
                          0.6687667435,
                          0.5620357695,
                          0.2
                        ],
                        "passed_time": 2.188037029,
                        "iteration": 816,
                        "remaining_time": 3.168234769,
                        "learn": [
                          0.2
                        ]
                      },
                      {
                        "test": [
                          0.6687667435,
                          0.5620357695,
                          0.2
                        ],
                        "passed_time": 2.191916283,
                        "iteration": 817,
                        "remaining_time": 3.167292232,
                        "learn": [
                          0.2
                        ]
                      },
                      {
                        "test": [
                          0.6687667435,
                          0.5620357695,
                          0.2
                        ],
                        "passed_time": 2.195116387,
                        "iteration": 818,
                        "remaining_time": 3.165363191,
                        "learn": [
                          0.2
                        ]
                      },
                      {
                        "test": [
                          0.6687667435,
                          0.5620357695,
                          0.2
                        ],
                        "passed_time": 2.197772913,
                        "iteration": 819,
                        "remaining_time": 3.162648826,
                        "learn": [
                          0.2
                        ]
                      },
                      {
                        "test": [
                          0.6612667435,
                          0.5507210502,
                          0.2
                        ],
                        "passed_time": 2.200873972,
                        "iteration": 820,
                        "remaining_time": 3.160572976,
                        "learn": [
                          0.2
                        ]
                      },
                      {
                        "test": [
                          0.6612667435,
                          0.5507210502,
                          0.2
                        ],
                        "passed_time": 2.203636822,
                        "iteration": 821,
                        "remaining_time": 3.158009947,
                        "learn": [
                          0.2
                        ]
                      },
                      {
                        "test": [
                          0.6612667435,
                          0.5507210502,
                          0.2
                        ],
                        "passed_time": 2.206026951,
                        "iteration": 822,
                        "remaining_time": 3.154913391,
                        "learn": [
                          0.2
                        ]
                      },
                      {
                        "test": [
                          0.6612667435,
                          0.5493775297,
                          0.2
                        ],
                        "passed_time": 2.208415395,
                        "iteration": 823,
                        "remaining_time": 3.151816147,
                        "learn": [
                          0.2
                        ]
                      },
                      {
                        "test": [
                          0.6612667435,
                          0.5484380159,
                          0.2
                        ],
                        "passed_time": 2.210817976,
                        "iteration": 824,
                        "remaining_time": 3.148740754,
                        "learn": [
                          0.2
                        ]
                      },
                      {
                        "test": [
                          0.6612667435,
                          0.5484380159,
                          0.2
                        ],
                        "passed_time": 2.21313961,
                        "iteration": 825,
                        "remaining_time": 3.145551939,
                        "learn": [
                          0.2
                        ]
                      },
                      {
                        "test": [
                          0.6612667435,
                          0.5484380159,
                          0.2
                        ],
                        "passed_time": 2.215485707,
                        "iteration": 826,
                        "remaining_time": 3.142399921,
                        "learn": [
                          0.2
                        ]
                      },
                      {
                        "test": [
                          0.6651817904,
                          0.5493775297,
                          0.2
                        ],
                        "passed_time": 2.217823491,
                        "iteration": 827,
                        "remaining_time": 3.139238082,
                        "learn": [
                          0.2
                        ]
                      },
                      {
                        "test": [
                          0.6651817904,
                          0.5493775297,
                          0.2
                        ],
                        "passed_time": 2.220283698,
                        "iteration": 828,
                        "remaining_time": 3.136251158,
                        "learn": [
                          0.2
                        ]
                      },
                      {
                        "test": [
                          0.6697877279,
                          0.5507210502,
                          0.2
                        ],
                        "passed_time": 2.22263149,
                        "iteration": 829,
                        "remaining_time": 3.13310704,
                        "learn": [
                          0.2
                        ]
                      },
                      {
                        "test": [
                          0.6697877279,
                          0.551660564,
                          0.2
                        ],
                        "passed_time": 2.225003616,
                        "iteration": 830,
                        "remaining_time": 3.12999907,
                        "learn": [
                          0.2
                        ]
                      },
                      {
                        "test": [
                          0.6697877279,
                          0.551660564,
                          0.2
                        ],
                        "passed_time": 2.227341234,
                        "iteration": 831,
                        "remaining_time": 3.126844425,
                        "learn": [
                          0.2
                        ]
                      },
                      {
                        "test": [
                          0.6697877279,
                          0.551660564,
                          0.2
                        ],
                        "passed_time": 2.229662316,
                        "iteration": 832,
                        "remaining_time": 3.123668574,
                        "learn": [
                          0.2
                        ]
                      },
                      {
                        "test": [
                          0.6697877279,
                          0.551660564,
                          0.2
                        ],
                        "passed_time": 2.231981513,
                        "iteration": 833,
                        "remaining_time": 3.12049214,
                        "learn": [
                          0.2
                        ]
                      },
                      {
                        "test": [
                          0.6697877279,
                          0.551660564,
                          0.2
                        ],
                        "passed_time": 2.236289699,
                        "iteration": 834,
                        "remaining_time": 3.120092813,
                        "learn": [
                          0.2
                        ]
                      },
                      {
                        "test": [
                          0.6651817904,
                          0.550683864,
                          0.2
                        ],
                        "passed_time": 2.238640582,
                        "iteration": 835,
                        "remaining_time": 3.116958896,
                        "learn": [
                          0.2
                        ]
                      },
                      {
                        "test": [
                          0.6697877279,
                          0.5520273845,
                          0.2
                        ],
                        "passed_time": 2.241310513,
                        "iteration": 836,
                        "remaining_time": 3.114270163,
                        "learn": [
                          0.2
                        ]
                      },
                      {
                        "test": [
                          0.6697877279,
                          0.5520273845,
                          0.2
                        ],
                        "passed_time": 2.243689791,
                        "iteration": 837,
                        "remaining_time": 3.111178445,
                        "learn": [
                          0.2
                        ]
                      },
                      {
                        "test": [
                          0.6697877279,
                          0.553370905,
                          0.2
                        ],
                        "passed_time": 2.245978234,
                        "iteration": 838,
                        "remaining_time": 3.107962729,
                        "learn": [
                          0.2
                        ]
                      },
                      {
                        "test": [
                          0.6697877279,
                          0.553370905,
                          0.2
                        ],
                        "passed_time": 2.248343563,
                        "iteration": 839,
                        "remaining_time": 3.104855397,
                        "learn": [
                          0.2
                        ]
                      },
                      {
                        "test": [
                          0.6697877279,
                          0.5528231053,
                          0.2
                        ],
                        "passed_time": 2.250685297,
                        "iteration": 840,
                        "remaining_time": 3.101717311,
                        "learn": [
                          0.2
                        ]
                      },
                      {
                        "test": [
                          0.6697877279,
                          0.5528231053,
                          0.2
                        ],
                        "passed_time": 2.253010286,
                        "iteration": 841,
                        "remaining_time": 3.098558089,
                        "learn": [
                          0.2
                        ]
                      },
                      {
                        "test": [
                          0.6651817904,
                          0.5514795848,
                          0.2
                        ],
                        "passed_time": 2.255344886,
                        "iteration": 842,
                        "remaining_time": 3.095414037,
                        "learn": [
                          0.2
                        ]
                      },
                      {
                        "test": [
                          0.6651817904,
                          0.5514795848,
                          0.2
                        ],
                        "passed_time": 2.257666664,
                        "iteration": 843,
                        "remaining_time": 3.09225434,
                        "learn": [
                          0.2
                        ]
                      },
                      {
                        "test": [
                          0.6651817904,
                          0.5514795848,
                          0.2
                        ],
                        "passed_time": 2.26000476,
                        "iteration": 844,
                        "remaining_time": 3.089118932,
                        "learn": [
                          0.2
                        ]
                      },
                      {
                        "test": [
                          0.6651817904,
                          0.550540071,
                          0.2
                        ],
                        "passed_time": 2.262397035,
                        "iteration": 845,
                        "remaining_time": 3.086059313,
                        "learn": [
                          0.2
                        ]
                      },
                      {
                        "test": [
                          0.6651817904,
                          0.550540071,
                          0.2
                        ],
                        "passed_time": 2.264723389,
                        "iteration": 846,
                        "remaining_time": 3.082911532,
                        "learn": [
                          0.2
                        ]
                      },
                      {
                        "test": [
                          0.6651817904,
                          0.550540071,
                          0.2
                        ],
                        "passed_time": 2.267082766,
                        "iteration": 847,
                        "remaining_time": 3.07981055,
                        "learn": [
                          0.2
                        ]
                      },
                      {
                        "test": [
                          0.6651817904,
                          0.550540071,
                          0.2
                        ],
                        "passed_time": 2.269389354,
                        "iteration": 848,
                        "remaining_time": 3.076639749,
                        "learn": [
                          0.2
                        ]
                      },
                      {
                        "test": [
                          0.6651817904,
                          0.550540071,
                          0.2
                        ],
                        "passed_time": 2.271764851,
                        "iteration": 849,
                        "remaining_time": 3.07356421,
                        "learn": [
                          0.2
                        ]
                      },
                      {
                        "test": [
                          0.6651817904,
                          0.550540071,
                          0.2
                        ],
                        "passed_time": 2.275101516,
                        "iteration": 850,
                        "remaining_time": 3.071788063,
                        "learn": [
                          0.2
                        ]
                      },
                      {
                        "test": [
                          0.6651817904,
                          0.550540071,
                          0.2
                        ],
                        "passed_time": 2.277554004,
                        "iteration": 851,
                        "remaining_time": 3.068816898,
                        "learn": [
                          0.2
                        ]
                      },
                      {
                        "test": [
                          0.6651817904,
                          0.550540071,
                          0.2
                        ],
                        "passed_time": 2.280087635,
                        "iteration": 852,
                        "remaining_time": 3.065956058,
                        "learn": [
                          0.2
                        ]
                      },
                      {
                        "test": [
                          0.6651817904,
                          0.550540071,
                          0.2
                        ],
                        "passed_time": 2.28243179,
                        "iteration": 853,
                        "remaining_time": 3.062841723,
                        "learn": [
                          0.2
                        ]
                      },
                      {
                        "test": [
                          0.6651817904,
                          0.550540071,
                          0.2
                        ],
                        "passed_time": 2.285024069,
                        "iteration": 854,
                        "remaining_time": 3.060061472,
                        "learn": [
                          0.2
                        ]
                      },
                      {
                        "test": [
                          0.6651817904,
                          0.550540071,
                          0.2
                        ],
                        "passed_time": 2.287439223,
                        "iteration": 855,
                        "remaining_time": 3.057044942,
                        "learn": [
                          0.2
                        ]
                      },
                      {
                        "test": [
                          0.6651817904,
                          0.5491965505,
                          0.2
                        ],
                        "passed_time": 2.289811275,
                        "iteration": 856,
                        "remaining_time": 3.053972331,
                        "learn": [
                          0.2
                        ]
                      },
                      {
                        "test": [
                          0.6651817904,
                          0.5491965505,
                          0.2
                        ],
                        "passed_time": 2.292160994,
                        "iteration": 857,
                        "remaining_time": 3.050871626,
                        "learn": [
                          0.2
                        ]
                      },
                      {
                        "test": [
                          0.6651817904,
                          0.5491965505,
                          0.2
                        ],
                        "passed_time": 2.294479295,
                        "iteration": 858,
                        "remaining_time": 3.047730937,
                        "learn": [
                          0.2
                        ]
                      },
                      {
                        "test": [
                          0.6651817904,
                          0.5491965505,
                          0.2
                        ],
                        "passed_time": 2.296869465,
                        "iteration": 859,
                        "remaining_time": 3.04468743,
                        "learn": [
                          0.2
                        ]
                      },
                      {
                        "test": [
                          0.6651817904,
                          0.5491965505,
                          0.2
                        ],
                        "passed_time": 2.2994216,
                        "iteration": 860,
                        "remaining_time": 3.0418597,
                        "learn": [
                          0.2
                        ]
                      },
                      {
                        "test": [
                          0.6726817904,
                          0.5605112698,
                          0.2
                        ],
                        "passed_time": 2.301768377,
                        "iteration": 861,
                        "remaining_time": 3.0387615,
                        "learn": [
                          0.2
                        ]
                      },
                      {
                        "test": [
                          0.6726817904,
                          0.5605112698,
                          0.2
                        ],
                        "passed_time": 2.304083309,
                        "iteration": 862,
                        "remaining_time": 3.035623085,
                        "learn": [
                          0.2
                        ]
                      },
                      {
                        "test": [
                          0.6726817904,
                          0.5605112698,
                          0.2
                        ],
                        "passed_time": 2.306476751,
                        "iteration": 863,
                        "remaining_time": 3.032589803,
                        "learn": [
                          0.2
                        ]
                      },
                      {
                        "test": [
                          0.6726817904,
                          0.5605112698,
                          0.2
                        ],
                        "passed_time": 2.308849204,
                        "iteration": 864,
                        "remaining_time": 3.029530459,
                        "learn": [
                          0.2
                        ]
                      },
                      {
                        "test": [
                          0.6726817904,
                          0.5605112698,
                          0.2
                        ],
                        "passed_time": 2.311524648,
                        "iteration": 865,
                        "remaining_time": 3.026869459,
                        "learn": [
                          0.2
                        ]
                      },
                      {
                        "test": [
                          0.6687667435,
                          0.559571756,
                          0.2
                        ],
                        "passed_time": 2.313933889,
                        "iteration": 866,
                        "remaining_time": 3.023860549,
                        "learn": [
                          0.2
                        ]
                      },
                      {
                        "test": [
                          0.6687667435,
                          0.559571756,
                          0.2
                        ],
                        "passed_time": 2.31635902,
                        "iteration": 867,
                        "remaining_time": 3.020873745,
                        "learn": [
                          0.2
                        ]
                      },
                      {
                        "test": [
                          0.6612667435,
                          0.5482570367,
                          0.2
                        ],
                        "passed_time": 2.31894705,
                        "iteration": 868,
                        "remaining_time": 3.018100245,
                        "learn": [
                          0.2
                        ]
                      },
                      {
                        "test": [
                          0.6573516966,
                          0.5473175229,
                          0.2
                        ],
                        "passed_time": 2.321489072,
                        "iteration": 869,
                        "remaining_time": 3.015267416,
                        "learn": [
                          0.2
                        ]
                      },
                      {
                        "test": [
                          0.6612667435,
                          0.5482570367,
                          0.2
                        ],
                        "passed_time": 2.323934602,
                        "iteration": 870,
                        "remaining_time": 3.012310179,
                        "learn": [
                          0.2
                        ]
                      },
                      {
                        "test": [
                          0.6573516966,
                          0.5473175229,
                          0.2
                        ],
                        "passed_time": 2.32635804,
                        "iteration": 871,
                        "remaining_time": 3.009325538,
                        "learn": [
                          0.2
                        ]
                      },
                      {
                        "test": [
                          0.6640953648,
                          0.5478653226,
                          0.2
                        ],
                        "passed_time": 2.328802445,
                        "iteration": 872,
                        "remaining_time": 3.006369251,
                        "learn": [
                          0.2
                        ]
                      },
                      {
                        "test": [
                          0.6640953648,
                          0.5488048364,
                          0.2
                        ],
                        "passed_time": 2.331393895,
                        "iteration": 873,
                        "remaining_time": 3.003603576,
                        "learn": [
                          0.2
                        ]
                      },
                      {
                        "test": [
                          0.6680104117,
                          0.5497443502,
                          0.2
                        ],
                        "passed_time": 2.333851836,
                        "iteration": 874,
                        "remaining_time": 3.000666646,
                        "learn": [
                          0.2
                        ]
                      },
                      {
                        "test": [
                          0.6755104117,
                          0.5610590695,
                          0.2
                        ],
                        "passed_time": 2.33622439,
                        "iteration": 875,
                        "remaining_time": 2.997621249,
                        "learn": [
                          0.2
                        ]
                      },
                      {
                        "test": [
                          0.6755104117,
                          0.5617603215,
                          0.2
                        ],
                        "passed_time": 2.338681299,
                        "iteration": 876,
                        "remaining_time": 2.994685404,
                        "learn": [
                          0.2
                        ]
                      },
                      {
                        "test": [
                          0.6755104117,
                          0.5617603215,
                          0.2
                        ],
                        "passed_time": 2.341245344,
                        "iteration": 877,
                        "remaining_time": 2.991887559,
                        "learn": [
                          0.2
                        ]
                      },
                      {
                        "test": [
                          0.6755104117,
                          0.5617603215,
                          0.2
                        ],
                        "passed_time": 2.343711645,
                        "iteration": 878,
                        "remaining_time": 2.98896559,
                        "learn": [
                          0.2
                        ]
                      },
                      {
                        "test": [
                          0.6755104117,
                          0.5617603215,
                          0.2
                        ],
                        "passed_time": 2.34613927,
                        "iteration": 879,
                        "remaining_time": 2.985995435,
                        "learn": [
                          0.2
                        ]
                      },
                      {
                        "test": [
                          0.6755104117,
                          0.5623081212,
                          0.2
                        ],
                        "passed_time": 2.34859539,
                        "iteration": 880,
                        "remaining_time": 2.983062703,
                        "learn": [
                          0.2
                        ]
                      },
                      {
                        "test": [
                          0.6755104117,
                          0.5623081212,
                          0.2
                        ],
                        "passed_time": 2.35108448,
                        "iteration": 881,
                        "remaining_time": 2.980172845,
                        "learn": [
                          0.2
                        ]
                      },
                      {
                        "test": [
                          0.6755104117,
                          0.5623081212,
                          0.2
                        ],
                        "passed_time": 2.353556268,
                        "iteration": 882,
                        "remaining_time": 2.977262006,
                        "learn": [
                          0.2
                        ]
                      },
                      {
                        "test": [
                          0.6755104117,
                          0.5623081212,
                          0.2
                        ],
                        "passed_time": 2.356029539,
                        "iteration": 883,
                        "remaining_time": 2.974354033,
                        "learn": [
                          0.2
                        ]
                      },
                      {
                        "test": [
                          0.6721826219,
                          0.5601195557,
                          0.2
                        ],
                        "passed_time": 2.358500049,
                        "iteration": 884,
                        "remaining_time": 2.971443565,
                        "learn": [
                          0.2
                        ]
                      },
                      {
                        "test": [
                          0.6721826219,
                          0.5568068471,
                          0.2
                        ],
                        "passed_time": 2.360968938,
                        "iteration": 885,
                        "remaining_time": 2.968532051,
                        "learn": [
                          0.2
                        ]
                      },
                      {
                        "test": [
                          0.6721826219,
                          0.557045109,
                          0.2
                        ],
                        "passed_time": 2.363468286,
                        "iteration": 886,
                        "remaining_time": 2.965659754,
                        "learn": [
                          0.2
                        ]
                      },
                      {
                        "test": [
                          0.6755104117,
                          0.5623081212,
                          0.2
                        ],
                        "passed_time": 2.36587931,
                        "iteration": 887,
                        "remaining_time": 2.962677694,
                        "learn": [
                          0.2
                        ]
                      },
                      {
                        "test": [
                          0.6755104117,
                          0.5623081212,
                          0.2
                        ],
                        "passed_time": 2.36834273,
                        "iteration": 888,
                        "remaining_time": 2.959762399,
                        "learn": [
                          0.2
                        ]
                      },
                      {
                        "test": [
                          0.6755104117,
                          0.5623081212,
                          0.2
                        ],
                        "passed_time": 2.370820595,
                        "iteration": 889,
                        "remaining_time": 2.956866135,
                        "learn": [
                          0.2
                        ]
                      },
                      {
                        "test": [
                          0.6755104117,
                          0.5617603215,
                          0.2
                        ],
                        "passed_time": 2.373274888,
                        "iteration": 890,
                        "remaining_time": 2.953941472,
                        "learn": [
                          0.2
                        ]
                      },
                      {
                        "test": [
                          0.6794254586,
                          0.5626998353,
                          0.2
                        ],
                        "passed_time": 2.375717472,
                        "iteration": 891,
                        "remaining_time": 2.951003318,
                        "learn": [
                          0.2
                        ]
                      },
                      {
                        "test": [
                          0.6794254586,
                          0.5626998353,
                          0.2
                        ],
                        "passed_time": 2.378146718,
                        "iteration": 892,
                        "remaining_time": 2.948049739,
                        "learn": [
                          0.2
                        ]
                      },
                      {
                        "test": [
                          0.6794254586,
                          0.5626998353,
                          0.2
                        ],
                        "passed_time": 2.380556612,
                        "iteration": 893,
                        "remaining_time": 2.945073392,
                        "learn": [
                          0.2
                        ]
                      },
                      {
                        "test": [
                          0.6794254586,
                          0.5610590695,
                          0.2
                        ],
                        "passed_time": 2.382984337,
                        "iteration": 894,
                        "remaining_time": 2.942120327,
                        "learn": [
                          0.2
                        ]
                      },
                      {
                        "test": [
                          0.6794254586,
                          0.5610590695,
                          0.2
                        ],
                        "passed_time": 2.385545943,
                        "iteration": 895,
                        "remaining_time": 2.939333394,
                        "learn": [
                          0.2
                        ]
                      },
                      {
                        "test": [
                          0.6794254586,
                          0.5610590695,
                          0.2
                        ],
                        "passed_time": 2.389053209,
                        "iteration": 896,
                        "remaining_time": 2.937709799,
                        "learn": [
                          0.2
                        ]
                      },
                      {
                        "test": [
                          0.6794254586,
                          0.5610590695,
                          0.2
                        ],
                        "passed_time": 2.392334426,
                        "iteration": 897,
                        "remaining_time": 2.935804608,
                        "learn": [
                          0.2
                        ]
                      },
                      {
                        "test": [
                          0.6794254586,
                          0.5616068692,
                          0.2
                        ],
                        "passed_time": 2.394794579,
                        "iteration": 898,
                        "remaining_time": 2.932890803,
                        "learn": [
                          0.2
                        ]
                      },
                      {
                        "test": [
                          0.6794254586,
                          0.562546383,
                          0.2
                        ],
                        "passed_time": 2.397234282,
                        "iteration": 899,
                        "remaining_time": 2.929953011,
                        "learn": [
                          0.2
                        ]
                      },
                      {
                        "test": [
                          0.6794254586,
                          0.5619985833,
                          0.2
                        ],
                        "passed_time": 2.399713784,
                        "iteration": 900,
                        "remaining_time": 2.927064871,
                        "learn": [
                          0.2
                        ]
                      },
                      {
                        "test": [
                          0.6794254586,
                          0.5619985833,
                          0.2
                        ],
                        "passed_time": 2.402325381,
                        "iteration": 901,
                        "remaining_time": 2.924338435,
                        "learn": [
                          0.2
                        ]
                      },
                      {
                        "test": [
                          0.6794254586,
                          0.5619985833,
                          0.2
                        ],
                        "passed_time": 2.404773353,
                        "iteration": 902,
                        "remaining_time": 2.921413476,
                        "learn": [
                          0.2
                        ]
                      },
                      {
                        "test": [
                          0.6794254586,
                          0.5619985833,
                          0.2
                        ],
                        "passed_time": 2.407130898,
                        "iteration": 903,
                        "remaining_time": 2.918379939,
                        "learn": [
                          0.2
                        ]
                      },
                      {
                        "test": [
                          0.6794254586,
                          0.5619985833,
                          0.2
                        ],
                        "passed_time": 2.409538774,
                        "iteration": 904,
                        "remaining_time": 2.915408792,
                        "learn": [
                          0.2
                        ]
                      },
                      {
                        "test": [
                          0.6794254586,
                          0.5619985833,
                          0.2
                        ],
                        "passed_time": 2.412002399,
                        "iteration": 905,
                        "remaining_time": 2.912506208,
                        "learn": [
                          0.2
                        ]
                      },
                      {
                        "test": [
                          0.6794254586,
                          0.5619985833,
                          0.2
                        ],
                        "passed_time": 2.414346166,
                        "iteration": 906,
                        "remaining_time": 2.909460154,
                        "learn": [
                          0.2
                        ]
                      },
                      {
                        "test": [
                          0.6794254586,
                          0.5619985833,
                          0.2
                        ],
                        "passed_time": 2.416714069,
                        "iteration": 907,
                        "remaining_time": 2.906444673,
                        "learn": [
                          0.2
                        ]
                      },
                      {
                        "test": [
                          0.6794254586,
                          0.5619985833,
                          0.2
                        ],
                        "passed_time": 2.419314625,
                        "iteration": 908,
                        "remaining_time": 2.903709852,
                        "learn": [
                          0.2
                        ]
                      },
                      {
                        "test": [
                          0.6794254586,
                          0.5619985833,
                          0.2
                        ],
                        "passed_time": 2.421741697,
                        "iteration": 909,
                        "remaining_time": 2.900767527,
                        "learn": [
                          0.2
                        ]
                      },
                      {
                        "test": [
                          0.6794254586,
                          0.5619985833,
                          0.2
                        ],
                        "passed_time": 2.42419237,
                        "iteration": 910,
                        "remaining_time": 2.897854545,
                        "learn": [
                          0.2
                        ]
                      },
                      {
                        "test": [
                          0.6794254586,
                          0.5619985833,
                          0.2
                        ],
                        "passed_time": 2.426713888,
                        "iteration": 911,
                        "remaining_time": 2.895027094,
                        "learn": [
                          0.2
                        ]
                      },
                      {
                        "test": [
                          0.6794254586,
                          0.5619985833,
                          0.2
                        ],
                        "passed_time": 2.429213192,
                        "iteration": 912,
                        "remaining_time": 2.892173867,
                        "learn": [
                          0.2
                        ]
                      },
                      {
                        "test": [
                          0.6760976687,
                          0.5612973314,
                          0.2
                        ],
                        "passed_time": 2.43177447,
                        "iteration": 913,
                        "remaining_time": 2.889395049,
                        "learn": [
                          0.2
                        ]
                      },
                      {
                        "test": [
                          0.6760976687,
                          0.5619985833,
                          0.2
                        ],
                        "passed_time": 2.434302139,
                        "iteration": 914,
                        "remaining_time": 2.886576853,
                        "learn": [
                          0.2
                        ]
                      },
                      {
                        "test": [
                          0.6760976687,
                          0.5612973314,
                          0.2
                        ],
                        "passed_time": 2.437035777,
                        "iteration": 915,
                        "remaining_time": 2.884003037,
                        "learn": [
                          0.2
                        ]
                      },
                      {
                        "test": [
                          0.6760976687,
                          0.5612973314,
                          0.2
                        ],
                        "passed_time": 2.43961782,
                        "iteration": 916,
                        "remaining_time": 2.881249835,
                        "learn": [
                          0.2
                        ]
                      },
                      {
                        "test": [
                          0.6807036062,
                          0.5631886515,
                          0.2
                        ],
                        "passed_time": 2.44208587,
                        "iteration": 917,
                        "remaining_time": 2.878362649,
                        "learn": [
                          0.2
                        ]
                      },
                      {
                        "test": [
                          0.6807036062,
                          0.5638899035,
                          0.2
                        ],
                        "passed_time": 2.444575267,
                        "iteration": 918,
                        "remaining_time": 2.875501484,
                        "learn": [
                          0.2
                        ]
                      },
                      {
                        "test": [
                          0.6807036062,
                          0.5638899035,
                          0.2
                        ],
                        "passed_time": 2.447145975,
                        "iteration": 919,
                        "remaining_time": 2.87273658,
                        "learn": [
                          0.2
                        ]
                      },
                      {
                        "test": [
                          0.6807036062,
                          0.5638899035,
                          0.2
                        ],
                        "passed_time": 2.449644,
                        "iteration": 920,
                        "remaining_time": 2.869886945,
                        "learn": [
                          0.2
                        ]
                      },
                      {
                        "test": [
                          0.6807036062,
                          0.5638899035,
                          0.2
                        ],
                        "passed_time": 2.452123795,
                        "iteration": 921,
                        "remaining_time": 2.867016758,
                        "learn": [
                          0.2
                        ]
                      },
                      {
                        "test": [
                          0.6807036062,
                          0.5638899035,
                          0.2
                        ],
                        "passed_time": 2.454552635,
                        "iteration": 922,
                        "remaining_time": 2.864087961,
                        "learn": [
                          0.2
                        ]
                      },
                      {
                        "test": [
                          0.6807036062,
                          0.5631886515,
                          0.2
                        ],
                        "passed_time": 2.457002267,
                        "iteration": 923,
                        "remaining_time": 2.861184458,
                        "learn": [
                          0.2
                        ]
                      },
                      {
                        "test": [
                          0.6807036062,
                          0.5631886515,
                          0.2
                        ],
                        "passed_time": 2.459443456,
                        "iteration": 924,
                        "remaining_time": 2.858272125,
                        "learn": [
                          0.2
                        ]
                      },
                      {
                        "test": [
                          0.6807036062,
                          0.5643324388,
                          0.2
                        ],
                        "passed_time": 2.461850064,
                        "iteration": 925,
                        "remaining_time": 2.8553207,
                        "learn": [
                          0.2
                        ]
                      },
                      {
                        "test": [
                          0.6732690474,
                          0.5626793805,
                          0.2
                        ],
                        "passed_time": 2.464267555,
                        "iteration": 926,
                        "remaining_time": 2.852383049,
                        "learn": [
                          0.2
                        ]
                      },
                      {
                        "test": [
                          0.6778749849,
                          0.5621438734,
                          0.2
                        ],
                        "passed_time": 2.466717921,
                        "iteration": 927,
                        "remaining_time": 2.849484495,
                        "learn": [
                          0.2
                        ]
                      },
                      {
                        "test": [
                          0.6778749849,
                          0.5626408518,
                          0.2
                        ],
                        "passed_time": 2.469240857,
                        "iteration": 928,
                        "remaining_time": 2.846670569,
                        "learn": [
                          0.2
                        ]
                      },
                      {
                        "test": [
                          0.6732690474,
                          0.5612973314,
                          0.2
                        ],
                        "passed_time": 2.471690748,
                        "iteration": 929,
                        "remaining_time": 2.843773226,
                        "learn": [
                          0.2
                        ]
                      },
                      {
                        "test": [
                          0.6778749849,
                          0.5630833872,
                          0.2
                        ],
                        "passed_time": 2.474090985,
                        "iteration": 930,
                        "remaining_time": 2.840819831,
                        "learn": [
                          0.2
                        ]
                      },
                      {
                        "test": [
                          0.6732690474,
                          0.5617398667,
                          0.2
                        ],
                        "passed_time": 2.476516948,
                        "iteration": 931,
                        "remaining_time": 2.837897103,
                        "learn": [
                          0.2
                        ]
                      },
                      {
                        "test": [
                          0.6732690474,
                          0.5617398667,
                          0.2
                        ],
                        "passed_time": 2.478975945,
                        "iteration": 932,
                        "remaining_time": 2.835013219,
                        "learn": [
                          0.2
                        ]
                      },
                      {
                        "test": [
                          0.6732690474,
                          0.5617398667,
                          0.2
                        ],
                        "passed_time": 2.481367926,
                        "iteration": 933,
                        "remaining_time": 2.832053757,
                        "learn": [
                          0.2
                        ]
                      },
                      {
                        "test": [
                          0.6732690474,
                          0.5608003529,
                          0.2
                        ],
                        "passed_time": 2.483859309,
                        "iteration": 934,
                        "remaining_time": 2.829208732,
                        "learn": [
                          0.2
                        ]
                      },
                      {
                        "test": [
                          0.6732690474,
                          0.5608003529,
                          0.2
                        ],
                        "passed_time": 2.486518943,
                        "iteration": 935,
                        "remaining_time": 2.826555721,
                        "learn": [
                          0.2
                        ]
                      },
                      {
                        "test": [
                          0.6732690474,
                          0.5617398667,
                          0.2
                        ],
                        "passed_time": 2.488916634,
                        "iteration": 936,
                        "remaining_time": 2.82360553,
                        "learn": [
                          0.2
                        ]
                      },
                      {
                        "test": [
                          0.6732690474,
                          0.5608003529,
                          0.2
                        ],
                        "passed_time": 2.491382251,
                        "iteration": 937,
                        "remaining_time": 2.820733423,
                        "learn": [
                          0.2
                        ]
                      },
                      {
                        "test": [
                          0.6732690474,
                          0.5608003529,
                          0.2
                        ],
                        "passed_time": 2.493766984,
                        "iteration": 938,
                        "remaining_time": 2.817770788,
                        "learn": [
                          0.2
                        ]
                      },
                      {
                        "test": [
                          0.6732690474,
                          0.5608003529,
                          0.2
                        ],
                        "passed_time": 2.496240746,
                        "iteration": 939,
                        "remaining_time": 2.814909777,
                        "learn": [
                          0.2
                        ]
                      },
                      {
                        "test": [
                          0.6732690474,
                          0.5608003529,
                          0.2
                        ],
                        "passed_time": 2.49866705,
                        "iteration": 940,
                        "remaining_time": 2.811996181,
                        "learn": [
                          0.2
                        ]
                      },
                      {
                        "test": [
                          0.6732690474,
                          0.5617398667,
                          0.2
                        ],
                        "passed_time": 2.501095953,
                        "iteration": 941,
                        "remaining_time": 2.809086538,
                        "learn": [
                          0.2
                        ]
                      },
                      {
                        "test": [
                          0.6732690474,
                          0.5617398667,
                          0.2
                        ],
                        "passed_time": 2.50356315,
                        "iteration": 942,
                        "remaining_time": 2.806220837,
                        "learn": [
                          0.2
                        ]
                      },
                      {
                        "test": [
                          0.6732690474,
                          0.5626793805,
                          0.2
                        ],
                        "passed_time": 2.505913284,
                        "iteration": 943,
                        "remaining_time": 2.80322503,
                        "learn": [
                          0.2
                        ]
                      },
                      {
                        "test": [
                          0.6778749849,
                          0.564022901,
                          0.2
                        ],
                        "passed_time": 2.508268657,
                        "iteration": 944,
                        "remaining_time": 2.800236438,
                        "learn": [
                          0.2
                        ]
                      },
                      {
                        "test": [
                          0.6778749849,
                          0.564022901,
                          0.2
                        ],
                        "passed_time": 2.512265185,
                        "iteration": 945,
                        "remaining_time": 2.799077701,
                        "learn": [
                          0.2
                        ]
                      },
                      {
                        "test": [
                          0.6778749849,
                          0.564022901,
                          0.2
                        ],
                        "passed_time": 2.514662527,
                        "iteration": 946,
                        "remaining_time": 2.796134784,
                        "learn": [
                          0.2
                        ]
                      },
                      {
                        "test": [
                          0.6840313961,
                          0.5652719526,
                          0.2
                        ],
                        "passed_time": 2.517076428,
                        "iteration": 947,
                        "remaining_time": 2.793211395,
                        "learn": [
                          0.2
                        ]
                      },
                      {
                        "test": [
                          0.6801163492,
                          0.5643324388,
                          0.2
                        ],
                        "passed_time": 2.51940015,
                        "iteration": 948,
                        "remaining_time": 2.790189207,
                        "learn": [
                          0.2
                        ]
                      },
                      {
                        "test": [
                          0.6772877279,
                          0.5637846391,
                          0.2
                        ],
                        "passed_time": 2.522132116,
                        "iteration": 949,
                        "remaining_time": 2.787619707,
                        "learn": [
                          0.2
                        ]
                      },
                      {
                        "test": [
                          0.6767885594,
                          0.5636311869,
                          0.2
                        ],
                        "passed_time": 2.524523998,
                        "iteration": 950,
                        "remaining_time": 2.784674736,
                        "learn": [
                          0.2
                        ]
                      },
                      {
                        "test": [
                          0.6767885594,
                          0.5636311869,
                          0.2
                        ],
                        "passed_time": 2.5268921,
                        "iteration": 951,
                        "remaining_time": 2.781704748,
                        "learn": [
                          0.2
                        ]
                      },
                      {
                        "test": [
                          0.6767885594,
                          0.5636311869,
                          0.2
                        ],
                        "passed_time": 2.52929922,
                        "iteration": 952,
                        "remaining_time": 2.778778892,
                        "learn": [
                          0.2
                        ]
                      },
                      {
                        "test": [
                          0.6767885594,
                          0.5636311869,
                          0.2
                        ],
                        "passed_time": 2.531677706,
                        "iteration": 953,
                        "remaining_time": 2.775822726,
                        "learn": [
                          0.2
                        ]
                      },
                      {
                        "test": [
                          0.6801163492,
                          0.5643324388,
                          0.2
                        ],
                        "passed_time": 2.534022237,
                        "iteration": 954,
                        "remaining_time": 2.772830615,
                        "learn": [
                          0.2
                        ]
                      },
                      {
                        "test": [
                          0.6755104117,
                          0.5629889184,
                          0.2
                        ],
                        "passed_time": 2.53639111,
                        "iteration": 955,
                        "remaining_time": 2.769866442,
                        "learn": [
                          0.2
                        ]
                      },
                      {
                        "test": [
                          0.6755104117,
                          0.5629889184,
                          0.2
                        ],
                        "passed_time": 2.5387895,
                        "iteration": 956,
                        "remaining_time": 2.766935683,
                        "learn": [
                          0.2
                        ]
                      },
                      {
                        "test": [
                          0.6765968372,
                          0.5633806325,
                          0.2
                        ],
                        "passed_time": 2.541151473,
                        "iteration": 957,
                        "remaining_time": 2.763966425,
                        "learn": [
                          0.2
                        ]
                      },
                      {
                        "test": [
                          0.6765968372,
                          0.5633806325,
                          0.2
                        ],
                        "passed_time": 2.543489613,
                        "iteration": 958,
                        "remaining_time": 2.760972562,
                        "learn": [
                          0.2
                        ]
                      },
                      {
                        "test": [
                          0.6765968372,
                          0.5633806325,
                          0.2
                        ],
                        "passed_time": 2.546001254,
                        "iteration": 959,
                        "remaining_time": 2.758168025,
                        "learn": [
                          0.2
                        ]
                      },
                      {
                        "test": [
                          0.6765968372,
                          0.5631423706,
                          0.2
                        ],
                        "passed_time": 2.548459144,
                        "iteration": 960,
                        "remaining_time": 2.755305984,
                        "learn": [
                          0.2
                        ]
                      },
                      {
                        "test": [
                          0.6765968372,
                          0.5624411187,
                          0.2
                        ],
                        "passed_time": 2.550829597,
                        "iteration": 961,
                        "remaining_time": 2.752350439,
                        "learn": [
                          0.2
                        ]
                      },
                      {
                        "test": [
                          0.6765968372,
                          0.5624411187,
                          0.2
                        ],
                        "passed_time": 2.553228938,
                        "iteration": 962,
                        "remaining_time": 2.749427216,
                        "learn": [
                          0.2
                        ]
                      },
                      {
                        "test": [
                          0.6765968372,
                          0.5624411187,
                          0.2
                        ],
                        "passed_time": 2.55589854,
                        "iteration": 963,
                        "remaining_time": 2.746795527,
                        "learn": [
                          0.2
                        ]
                      },
                      {
                        "test": [
                          0.6765968372,
                          0.5624411187,
                          0.2
                        ],
                        "passed_time": 2.558283751,
                        "iteration": 964,
                        "remaining_time": 2.743858738,
                        "learn": [
                          0.2
                        ]
                      },
                      {
                        "test": [
                          0.6765968372,
                          0.5624411187,
                          0.2
                        ],
                        "passed_time": 2.560598666,
                        "iteration": 965,
                        "remaining_time": 2.740847847,
                        "learn": [
                          0.2
                        ]
                      },
                      {
                        "test": [
                          0.6732690474,
                          0.5617398667,
                          0.2
                        ],
                        "passed_time": 2.563087994,
                        "iteration": 966,
                        "remaining_time": 2.738024713,
                        "learn": [
                          0.2
                        ]
                      },
                      {
                        "test": [
                          0.6732690474,
                          0.5617398667,
                          0.2
                        ],
                        "passed_time": 2.565443643,
                        "iteration": 967,
                        "remaining_time": 2.735059751,
                        "learn": [
                          0.2
                        ]
                      },
                      {
                        "test": [
                          0.6732690474,
                          0.5617398667,
                          0.2
                        ],
                        "passed_time": 2.567813236,
                        "iteration": 968,
                        "remaining_time": 2.732110884,
                        "learn": [
                          0.2
                        ]
                      },
                      {
                        "test": [
                          0.6657690474,
                          0.5504251474,
                          0.2
                        ],
                        "passed_time": 2.570469881,
                        "iteration": 969,
                        "remaining_time": 2.729468018,
                        "learn": [
                          0.2
                        ]
                      },
                      {
                        "test": [
                          0.6657690474,
                          0.5504251474,
                          0.2
                        ],
                        "passed_time": 2.572826472,
                        "iteration": 970,
                        "remaining_time": 2.726507147,
                        "learn": [
                          0.2
                        ]
                      },
                      {
                        "test": [
                          0.6657690474,
                          0.5504251474,
                          0.2
                        ],
                        "passed_time": 2.575168027,
                        "iteration": 971,
                        "remaining_time": 2.723531617,
                        "learn": [
                          0.2
                        ]
                      },
                      {
                        "test": [
                          0.6657690474,
                          0.5504251474,
                          0.2
                        ],
                        "passed_time": 2.577533905,
                        "iteration": 972,
                        "remaining_time": 2.720583063,
                        "learn": [
                          0.2
                        ]
                      },
                      {
                        "test": [
                          0.6711877974,
                          0.5532516731,
                          0.2
                        ],
                        "passed_time": 2.579860962,
                        "iteration": 973,
                        "remaining_time": 2.717594812,
                        "learn": [
                          0.2
                        ]
                      },
                      {
                        "test": [
                          0.6711877974,
                          0.5532516731,
                          0.2
                        ],
                        "passed_time": 2.582406225,
                        "iteration": 974,
                        "remaining_time": 2.714837313,
                        "learn": [
                          0.2
                        ]
                      },
                      {
                        "test": [
                          0.6732690474,
                          0.5615016049,
                          0.2
                        ],
                        "passed_time": 2.584761401,
                        "iteration": 975,
                        "remaining_time": 2.711880814,
                        "learn": [
                          0.2
                        ]
                      },
                      {
                        "test": [
                          0.6732690474,
                          0.5615016049,
                          0.2
                        ],
                        "passed_time": 2.587162915,
                        "iteration": 976,
                        "remaining_time": 2.708974065,
                        "learn": [
                          0.2
                        ]
                      },
                      {
                        "test": [
                          0.6786877974,
                          0.5636268786,
                          0.2
                        ],
                        "passed_time": 2.589477861,
                        "iteration": 977,
                        "remaining_time": 2.705977887,
                        "learn": [
                          0.2
                        ]
                      },
                      {
                        "test": [
                          0.6732690474,
                          0.5615016049,
                          0.2
                        ],
                        "passed_time": 2.591804382,
                        "iteration": 978,
                        "remaining_time": 2.702995173,
                        "learn": [
                          0.2
                        ]
                      },
                      {
                        "test": [
                          0.6721826219,
                          0.5620494046,
                          0.2
                        ],
                        "passed_time": 2.594146508,
                        "iteration": 979,
                        "remaining_time": 2.700030039,
                        "learn": [
                          0.2
                        ]
                      },
                      {
                        "test": [
                          0.6693540005,
                          0.5615016049,
                          0.2
                        ],
                        "passed_time": 2.596493252,
                        "iteration": 980,
                        "remaining_time": 2.697070972,
                        "learn": [
                          0.2
                        ]
                      },
                      {
                        "test": [
                          0.6721826219,
                          0.5620494046,
                          0.2
                        ],
                        "passed_time": 2.598806806,
                        "iteration": 981,
                        "remaining_time": 2.694078746,
                        "learn": [
                          0.2
                        ]
                      },
                      {
                        "test": [
                          0.6760976687,
                          0.5629889184,
                          0.2
                        ],
                        "passed_time": 2.601191834,
                        "iteration": 982,
                        "remaining_time": 2.691161847,
                        "learn": [
                          0.2
                        ]
                      },
                      {
                        "test": [
                          0.6760976687,
                          0.5629889184,
                          0.2
                        ],
                        "passed_time": 2.603505237,
                        "iteration": 983,
                        "remaining_time": 2.688172074,
                        "learn": [
                          0.2
                        ]
                      },
                      {
                        "test": [
                          0.668854832,
                          0.5613481526,
                          0.2
                        ],
                        "passed_time": 2.605840697,
                        "iteration": 984,
                        "remaining_time": 2.685206404,
                        "learn": [
                          0.2
                        ]
                      },
                      {
                        "test": [
                          0.6693540005,
                          0.5610590695,
                          0.2
                        ],
                        "passed_time": 2.608144884,
                        "iteration": 985,
                        "remaining_time": 2.68220985,
                        "learn": [
                          0.2
                        ]
                      },
                      {
                        "test": [
                          0.6732690474,
                          0.5619985833,
                          0.2
                        ],
                        "passed_time": 2.610461672,
                        "iteration": 986,
                        "remaining_time": 2.679227633,
                        "learn": [
                          0.2
                        ]
                      },
                      {
                        "test": [
                          0.6693540005,
                          0.5610590695,
                          0.2
                        ],
                        "passed_time": 2.612896555,
                        "iteration": 987,
                        "remaining_time": 2.676367726,
                        "learn": [
                          0.2
                        ]
                      },
                      {
                        "test": [
                          0.6693540005,
                          0.5615016049,
                          0.2
                        ],
                        "passed_time": 2.615354732,
                        "iteration": 988,
                        "remaining_time": 2.673532492,
                        "learn": [
                          0.2
                        ]
                      },
                      {
                        "test": [
                          0.6732690474,
                          0.5619985833,
                          0.2
                        ],
                        "passed_time": 2.617662785,
                        "iteration": 989,
                        "remaining_time": 2.670544861,
                        "learn": [
                          0.2
                        ]
                      },
                      {
                        "test": [
                          0.6732690474,
                          0.5619985833,
                          0.2
                        ],
                        "passed_time": 2.619969561,
                        "iteration": 990,
                        "remaining_time": 2.667557303,
                        "learn": [
                          0.2
                        ]
                      },
                      {
                        "test": [
                          0.6757290005,
                          0.5650730301,
                          0.2
                        ],
                        "passed_time": 2.622329201,
                        "iteration": 991,
                        "remaining_time": 2.664624833,
                        "learn": [
                          0.2
                        ]
                      },
                      {
                        "test": [
                          0.6757290005,
                          0.5650730301,
                          0.2
                        ],
                        "passed_time": 2.624679484,
                        "iteration": 992,
                        "remaining_time": 2.661684029,
                        "learn": [
                          0.2
                        ]
                      },
                      {
                        "test": [
                          0.6796440474,
                          0.5660125439,
                          0.2
                        ],
                        "passed_time": 2.626950387,
                        "iteration": 993,
                        "remaining_time": 2.658664073,
                        "learn": [
                          0.2
                        ]
                      },
                      {
                        "test": [
                          0.6796440474,
                          0.5660125439,
                          0.2
                        ],
                        "passed_time": 2.629277161,
                        "iteration": 994,
                        "remaining_time": 2.655702058,
                        "learn": [
                          0.2
                        ]
                      },
                      {
                        "test": [
                          0.6796440474,
                          0.5660125439,
                          0.2
                        ],
                        "passed_time": 2.631615591,
                        "iteration": 995,
                        "remaining_time": 2.652753065,
                        "learn": [
                          0.2
                        ]
                      },
                      {
                        "test": [
                          0.6796440474,
                          0.5664550792,
                          0.2
                        ],
                        "passed_time": 2.633925597,
                        "iteration": 996,
                        "remaining_time": 2.649776703,
                        "learn": [
                          0.2
                        ]
                      },
                      {
                        "test": [
                          0.6796440474,
                          0.5664550792,
                          0.2
                        ],
                        "passed_time": 2.636310281,
                        "iteration": 997,
                        "remaining_time": 2.646876655,
                        "learn": [
                          0.2
                        ]
                      },
                      {
                        "test": [
                          0.6796440474,
                          0.5664550792,
                          0.2
                        ],
                        "passed_time": 2.638621442,
                        "iteration": 998,
                        "remaining_time": 2.643903967,
                        "learn": [
                          0.2
                        ]
                      },
                      {
                        "test": [
                          0.6757290005,
                          0.5655155654,
                          0.2
                        ],
                        "passed_time": 2.640997019,
                        "iteration": 999,
                        "remaining_time": 2.640997019,
                        "learn": [
                          0.2
                        ]
                      },
                      {
                        "test": [
                          0.6757290005,
                          0.5655155654,
                          0.2
                        ],
                        "passed_time": 2.643271614,
                        "iteration": 1000,
                        "remaining_time": 2.637990352,
                        "learn": [
                          0.2
                        ]
                      },
                      {
                        "test": [
                          0.6796440474,
                          0.5664550792,
                          0.2
                        ],
                        "passed_time": 2.645645674,
                        "iteration": 1001,
                        "remaining_time": 2.635084214,
                        "learn": [
                          0.2
                        ]
                      },
                      {
                        "test": [
                          0.6763162575,
                          0.5657538272,
                          0.2
                        ],
                        "passed_time": 2.647954778,
                        "iteration": 1002,
                        "remaining_time": 2.63211457,
                        "learn": [
                          0.2
                        ]
                      },
                      {
                        "test": [
                          0.6763162575,
                          0.5654647442,
                          0.2
                        ],
                        "passed_time": 2.65034547,
                        "iteration": 1003,
                        "remaining_time": 2.629227179,
                        "learn": [
                          0.2
                        ]
                      },
                      {
                        "test": [
                          0.6763162575,
                          0.5660125439,
                          0.2
                        ],
                        "passed_time": 2.652656713,
                        "iteration": 1004,
                        "remaining_time": 2.626262118,
                        "learn": [
                          0.2
                        ]
                      },
                      {
                        "test": [
                          0.6724012107,
                          0.5645252304,
                          0.2
                        ],
                        "passed_time": 2.655033414,
                        "iteration": 1005,
                        "remaining_time": 2.623363035,
                        "learn": [
                          0.2
                        ]
                      },
                      {
                        "test": [
                          0.6724012107,
                          0.5654647442,
                          0.2
                        ],
                        "passed_time": 2.657362094,
                        "iteration": 1006,
                        "remaining_time": 2.620417636,
                        "learn": [
                          0.2
                        ]
                      },
                      {
                        "test": [
                          0.6724012107,
                          0.5647634922,
                          0.2
                        ],
                        "passed_time": 2.659707459,
                        "iteration": 1007,
                        "remaining_time": 2.617489881,
                        "learn": [
                          0.2
                        ]
                      },
                      {
                        "test": [
                          0.6724012107,
                          0.5647634922,
                          0.2
                        ],
                        "passed_time": 2.662082231,
                        "iteration": 1008,
                        "remaining_time": 2.614592161,
                        "learn": [
                          0.2
                        ]
                      },
                      {
                        "test": [
                          0.6724012107,
                          0.5647634922,
                          0.2
                        ],
                        "passed_time": 2.664386758,
                        "iteration": 1009,
                        "remaining_time": 2.611626624,
                        "learn": [
                          0.2
                        ]
                      },
                      {
                        "test": [
                          0.6724012107,
                          0.5647634922,
                          0.2
                        ],
                        "passed_time": 2.666776231,
                        "iteration": 1010,
                        "remaining_time": 2.608745492,
                        "learn": [
                          0.2
                        ]
                      },
                      {
                        "test": [
                          0.6724012107,
                          0.5647634922,
                          0.2
                        ],
                        "passed_time": 2.669165357,
                        "iteration": 1011,
                        "remaining_time": 2.605864992,
                        "learn": [
                          0.2
                        ]
                      },
                      {
                        "test": [
                          0.6724012107,
                          0.5653112919,
                          0.2
                        ],
                        "passed_time": 2.671517206,
                        "iteration": 1012,
                        "remaining_time": 2.602949143,
                        "learn": [
                          0.2
                        ]
                      },
                      {
                        "test": [
                          0.6757290005,
                          0.5660125439,
                          0.2
                        ],
                        "passed_time": 2.673783592,
                        "iteration": 1013,
                        "remaining_time": 2.599951304,
                        "learn": [
                          0.2
                        ]
                      },
                      {
                        "test": [
                          0.6757290005,
                          0.5660125439,
                          0.2
                        ],
                        "passed_time": 2.676308122,
                        "iteration": 1014,
                        "remaining_time": 2.597205419,
                        "learn": [
                          0.2
                        ]
                      },
                      {
                        "test": [
                          0.6757290005,
                          0.5660125439,
                          0.2
                        ],
                        "passed_time": 2.678728648,
                        "iteration": 1015,
                        "remaining_time": 2.594359241,
                        "learn": [
                          0.2
                        ]
                      },
                      {
                        "test": [
                          0.6757290005,
                          0.5664550792,
                          0.2
                        ],
                        "passed_time": 2.681058621,
                        "iteration": 1016,
                        "remaining_time": 2.591426376,
                        "learn": [
                          0.2
                        ]
                      },
                      {
                        "test": [
                          0.6757290005,
                          0.5664550792,
                          0.2
                        ],
                        "passed_time": 2.683415327,
                        "iteration": 1017,
                        "remaining_time": 2.588520483,
                        "learn": [
                          0.2
                        ]
                      },
                      {
                        "test": [
                          0.6757290005,
                          0.5664550792,
                          0.2
                        ],
                        "passed_time": 2.685873737,
                        "iteration": 1018,
                        "remaining_time": 2.585713578,
                        "learn": [
                          0.2
                        ]
                      },
                      {
                        "test": [
                          0.6682290005,
                          0.5551403599,
                          0.2
                        ],
                        "passed_time": 2.688206184,
                        "iteration": 1019,
                        "remaining_time": 2.582786333,
                        "learn": [
                          0.2
                        ]
                      },
                      {
                        "test": [
                          0.6682290005,
                          0.5551403599,
                          0.2
                        ],
                        "passed_time": 2.690512711,
                        "iteration": 1020,
                        "remaining_time": 2.579835401,
                        "learn": [
                          0.2
                        ]
                      },
                      {
                        "test": [
                          0.6682290005,
                          0.5551403599,
                          0.2
                        ],
                        "passed_time": 2.692852518,
                        "iteration": 1021,
                        "remaining_time": 2.576917576,
                        "learn": [
                          0.2
                        ]
                      },
                      {
                        "test": [
                          0.6682290005,
                          0.5546978246,
                          0.2
                        ],
                        "passed_time": 2.695186707,
                        "iteration": 1022,
                        "remaining_time": 2.573995516,
                        "learn": [
                          0.2
                        ]
                      },
                      {
                        "test": [
                          0.6682290005,
                          0.5541500249,
                          0.2
                        ],
                        "passed_time": 2.697566675,
                        "iteration": 1023,
                        "remaining_time": 2.571118237,
                        "learn": [
                          0.2
                        ]
                      },
                      {
                        "test": [
                          0.6682290005,
                          0.5541500249,
                          0.2
                        ],
                        "passed_time": 2.700014654,
                        "iteration": 1024,
                        "remaining_time": 2.568306622,
                        "learn": [
                          0.2
                        ]
                      },
                      {
                        "test": [
                          0.6618540005,
                          0.5501360643,
                          0.2
                        ],
                        "passed_time": 2.702531819,
                        "iteration": 1025,
                        "remaining_time": 2.565561396,
                        "learn": [
                          0.2
                        ]
                      },
                      {
                        "test": [
                          0.6618540005,
                          0.5501360643,
                          0.2
                        ],
                        "passed_time": 2.704830255,
                        "iteration": 1026,
                        "remaining_time": 2.562609384,
                        "learn": [
                          0.2
                        ]
                      },
                      {
                        "test": [
                          0.6618540005,
                          0.5501360643,
                          0.2
                        ],
                        "passed_time": 2.70718115,
                        "iteration": 1027,
                        "remaining_time": 2.559708247,
                        "learn": [
                          0.2
                        ]
                      },
                      {
                        "test": [
                          0.6618540005,
                          0.5501360643,
                          0.2
                        ],
                        "passed_time": 2.709539666,
                        "iteration": 1028,
                        "remaining_time": 2.55681537,
                        "learn": [
                          0.2
                        ]
                      },
                      {
                        "test": [
                          0.6646826219,
                          0.550683864,
                          0.2
                        ],
                        "passed_time": 2.71186878,
                        "iteration": 1029,
                        "remaining_time": 2.553895841,
                        "learn": [
                          0.2
                        ]
                      },
                      {
                        "test": [
                          0.6646826219,
                          0.550683864,
                          0.2
                        ],
                        "passed_time": 2.714241897,
                        "iteration": 1030,
                        "remaining_time": 2.551018815,
                        "learn": [
                          0.2
                        ]
                      },
                      {
                        "test": [
                          0.6646826219,
                          0.550683864,
                          0.2
                        ],
                        "passed_time": 2.716570336,
                        "iteration": 1031,
                        "remaining_time": 2.548100857,
                        "learn": [
                          0.2
                        ]
                      },
                      {
                        "test": [
                          0.6646826219,
                          0.550683864,
                          0.2
                        ],
                        "passed_time": 2.718871287,
                        "iteration": 1032,
                        "remaining_time": 2.54515831,
                        "learn": [
                          0.2
                        ]
                      },
                      {
                        "test": [
                          0.6646826219,
                          0.550683864,
                          0.2
                        ],
                        "passed_time": 2.72120606,
                        "iteration": 1033,
                        "remaining_time": 2.542248602,
                        "learn": [
                          0.2
                        ]
                      },
                      {
                        "test": [
                          0.6680104117,
                          0.551385116,
                          0.2
                        ],
                        "passed_time": 2.723540263,
                        "iteration": 1034,
                        "remaining_time": 2.539339472,
                        "learn": [
                          0.2
                        ]
                      },
                      {
                        "test": [
                          0.6680104117,
                          0.551385116,
                          0.2
                        ],
                        "passed_time": 2.725898975,
                        "iteration": 1035,
                        "remaining_time": 2.536454258,
                        "learn": [
                          0.2
                        ]
                      },
                      {
                        "test": [
                          0.6680104117,
                          0.551385116,
                          0.2
                        ],
                        "passed_time": 2.728185101,
                        "iteration": 1036,
                        "remaining_time": 2.533502654,
                        "learn": [
                          0.2
                        ]
                      },
                      {
                        "test": [
                          0.6680104117,
                          0.551385116,
                          0.2
                        ],
                        "passed_time": 2.730549668,
                        "iteration": 1037,
                        "remaining_time": 2.53062503,
                        "learn": [
                          0.2
                        ]
                      },
                      {
                        "test": [
                          0.6680104117,
                          0.551385116,
                          0.2
                        ],
                        "passed_time": 2.73282313,
                        "iteration": 1038,
                        "remaining_time": 2.527664127,
                        "learn": [
                          0.2
                        ]
                      },
                      {
                        "test": [
                          0.6680104117,
                          0.551385116,
                          0.2
                        ],
                        "passed_time": 2.735144141,
                        "iteration": 1039,
                        "remaining_time": 2.524748438,
                        "learn": [
                          0.2
                        ]
                      },
                      {
                        "test": [
                          0.6680104117,
                          0.551385116,
                          0.2
                        ],
                        "passed_time": 2.737437571,
                        "iteration": 1040,
                        "remaining_time": 2.521808483,
                        "learn": [
                          0.2
                        ]
                      },
                      {
                        "test": [
                          0.6646826219,
                          0.5511263994,
                          0.2
                        ],
                        "passed_time": 2.739818027,
                        "iteration": 1041,
                        "remaining_time": 2.518949779,
                        "learn": [
                          0.2
                        ]
                      },
                      {
                        "test": [
                          0.6646826219,
                          0.5511263994,
                          0.2
                        ],
                        "passed_time": 2.742146821,
                        "iteration": 1042,
                        "remaining_time": 2.516044591,
                        "learn": [
                          0.2
                        ]
                      },
                      {
                        "test": [
                          0.6646826219,
                          0.5511263994,
                          0.2
                        ],
                        "passed_time": 2.74451863,
                        "iteration": 1043,
                        "remaining_time": 2.513179895,
                        "learn": [
                          0.2
                        ]
                      },
                      {
                        "test": [
                          0.6646826219,
                          0.5511263994,
                          0.2
                        ],
                        "passed_time": 2.746887383,
                        "iteration": 1044,
                        "remaining_time": 2.51031335,
                        "learn": [
                          0.2
                        ]
                      },
                      {
                        "test": [
                          0.661354832,
                          0.5504251474,
                          0.2
                        ],
                        "passed_time": 2.749210994,
                        "iteration": 1045,
                        "remaining_time": 2.507406585,
                        "learn": [
                          0.2
                        ]
                      },
                      {
                        "test": [
                          0.653854832,
                          0.5391104281,
                          0.2
                        ],
                        "passed_time": 2.751512624,
                        "iteration": 1046,
                        "remaining_time": 2.504480927,
                        "learn": [
                          0.2
                        ]
                      },
                      {
                        "test": [
                          0.653854832,
                          0.5391104281,
                          0.2
                        ],
                        "passed_time": 2.753789178,
                        "iteration": 1047,
                        "remaining_time": 2.50153368,
                        "learn": [
                          0.2
                        ]
                      },
                      {
                        "test": [
                          0.653854832,
                          0.5391104281,
                          0.2
                        ],
                        "passed_time": 2.756314732,
                        "iteration": 1048,
                        "remaining_time": 2.498813451,
                        "learn": [
                          0.2
                        ]
                      },
                      {
                        "test": [
                          0.653854832,
                          0.5391104281,
                          0.2
                        ],
                        "passed_time": 2.758608498,
                        "iteration": 1049,
                        "remaining_time": 2.495883879,
                        "learn": [
                          0.2
                        ]
                      },
                      {
                        "test": [
                          0.653854832,
                          0.5391104281,
                          0.2
                        ],
                        "passed_time": 2.760916041,
                        "iteration": 1050,
                        "remaining_time": 2.492967957,
                        "learn": [
                          0.2
                        ]
                      },
                      {
                        "test": [
                          0.653854832,
                          0.5391104281,
                          0.2
                        ],
                        "passed_time": 2.763232453,
                        "iteration": 1051,
                        "remaining_time": 2.490061184,
                        "learn": [
                          0.2
                        ]
                      },
                      {
                        "test": [
                          0.6571826219,
                          0.5398116801,
                          0.2
                        ],
                        "passed_time": 2.765651982,
                        "iteration": 1052,
                        "remaining_time": 2.487248269,
                        "learn": [
                          0.2
                        ]
                      },
                      {
                        "test": [
                          0.653854832,
                          0.5391104281,
                          0.2
                        ],
                        "passed_time": 2.767970966,
                        "iteration": 1053,
                        "remaining_time": 2.484345857,
                        "learn": [
                          0.2
                        ]
                      },
                      {
                        "test": [
                          0.653854832,
                          0.5391104281,
                          0.2
                        ],
                        "passed_time": 2.770279626,
                        "iteration": 1054,
                        "remaining_time": 2.481435305,
                        "learn": [
                          0.2
                        ]
                      },
                      {
                        "test": [
                          0.653854832,
                          0.5391104281,
                          0.2
                        ],
                        "passed_time": 2.772741685,
                        "iteration": 1055,
                        "remaining_time": 2.478663021,
                        "learn": [
                          0.2
                        ]
                      },
                      {
                        "test": [
                          0.653854832,
                          0.5391104281,
                          0.2
                        ],
                        "passed_time": 2.775098047,
                        "iteration": 1056,
                        "remaining_time": 2.475797028,
                        "learn": [
                          0.2
                        ]
                      },
                      {
                        "test": [
                          0.653854832,
                          0.5391104281,
                          0.2
                        ],
                        "passed_time": 2.777451227,
                        "iteration": 1057,
                        "remaining_time": 2.472929164,
                        "learn": [
                          0.2
                        ]
                      },
                      {
                        "test": [
                          0.653854832,
                          0.5391104281,
                          0.2
                        ],
                        "passed_time": 2.779782691,
                        "iteration": 1058,
                        "remaining_time": 2.470042976,
                        "learn": [
                          0.2
                        ]
                      },
                      {
                        "test": [
                          0.653854832,
                          0.5391104281,
                          0.2
                        ],
                        "passed_time": 2.78217427,
                        "iteration": 1059,
                        "remaining_time": 2.467211145,
                        "learn": [
                          0.2
                        ]
                      },
                      {
                        "test": [
                          0.653854832,
                          0.5396582278,
                          0.2
                        ],
                        "passed_time": 2.784538542,
                        "iteration": 1060,
                        "remaining_time": 2.464355976,
                        "learn": [
                          0.2
                        ]
                      },
                      {
                        "test": [
                          0.6571826219,
                          0.5403594798,
                          0.2
                        ],
                        "passed_time": 2.787052184,
                        "iteration": 1061,
                        "remaining_time": 2.461633662,
                        "learn": [
                          0.2
                        ]
                      },
                      {
                        "test": [
                          0.6571826219,
                          0.5403594798,
                          0.2
                        ],
                        "passed_time": 2.789361209,
                        "iteration": 1062,
                        "remaining_time": 2.458731376,
                        "learn": [
                          0.2
                        ]
                      },
                      {
                        "test": [
                          0.6571826219,
                          0.5403594798,
                          0.2
                        ],
                        "passed_time": 2.791683416,
                        "iteration": 1063,
                        "remaining_time": 2.455841802,
                        "learn": [
                          0.2
                        ]
                      },
                      {
                        "test": [
                          0.6571826219,
                          0.5403594798,
                          0.2
                        ],
                        "passed_time": 2.794051297,
                        "iteration": 1064,
                        "remaining_time": 2.452993392,
                        "learn": [
                          0.2
                        ]
                      },
                      {
                        "test": [
                          0.6571826219,
                          0.5403594798,
                          0.2
                        ],
                        "passed_time": 2.796377169,
                        "iteration": 1065,
                        "remaining_time": 2.450109077,
                        "learn": [
                          0.2
                        ]
                      },
                      {
                        "test": [
                          0.6571826219,
                          0.5403594798,
                          0.2
                        ],
                        "passed_time": 2.798705766,
                        "iteration": 1066,
                        "remaining_time": 2.447228191,
                        "learn": [
                          0.2
                        ]
                      },
                      {
                        "test": [
                          0.6571826219,
                          0.539419966,
                          0.2
                        ],
                        "passed_time": 2.801066798,
                        "iteration": 1067,
                        "remaining_time": 2.444376644,
                        "learn": [
                          0.2
                        ]
                      },
                      {
                        "test": [
                          0.6571826219,
                          0.539419966,
                          0.2
                        ],
                        "passed_time": 2.803423271,
                        "iteration": 1068,
                        "remaining_time": 2.441522045,
                        "learn": [
                          0.2
                        ]
                      },
                      {
                        "test": [
                          0.6635576219,
                          0.5434339265,
                          0.2
                        ],
                        "passed_time": 2.805830901,
                        "iteration": 1069,
                        "remaining_time": 2.438712839,
                        "learn": [
                          0.2
                        ]
                      },
                      {
                        "test": [
                          0.6635576219,
                          0.5434339265,
                          0.2
                        ],
                        "passed_time": 2.808492472,
                        "iteration": 1070,
                        "remaining_time": 2.436124656,
                        "learn": [
                          0.2
                        ]
                      },
                      {
                        "test": [
                          0.6635576219,
                          0.5434339265,
                          0.2
                        ],
                        "passed_time": 2.81091153,
                        "iteration": 1071,
                        "remaining_time": 2.433326399,
                        "learn": [
                          0.2
                        ]
                      },
                      {
                        "test": [
                          0.6571826219,
                          0.539419966,
                          0.2
                        ],
                        "passed_time": 2.813355082,
                        "iteration": 1072,
                        "remaining_time": 2.43055001,
                        "learn": [
                          0.2
                        ]
                      },
                      {
                        "test": [
                          0.6571826219,
                          0.539419966,
                          0.2
                        ],
                        "passed_time": 2.815715281,
                        "iteration": 1073,
                        "remaining_time": 2.427702375,
                        "learn": [
                          0.2
                        ]
                      },
                      {
                        "test": [
                          0.6635576219,
                          0.5434339265,
                          0.2
                        ],
                        "passed_time": 2.81802646,
                        "iteration": 1074,
                        "remaining_time": 2.424813466,
                        "learn": [
                          0.2
                        ]
                      },
                      {
                        "test": [
                          0.6635576219,
                          0.5434339265,
                          0.2
                        ],
                        "passed_time": 2.82033015,
                        "iteration": 1075,
                        "remaining_time": 2.4219192,
                        "learn": [
                          0.2
                        ]
                      },
                      {
                        "test": [
                          0.6635576219,
                          0.5434339265,
                          0.2
                        ],
                        "passed_time": 2.822618757,
                        "iteration": 1076,
                        "remaining_time": 2.419013103,
                        "learn": [
                          0.2
                        ]
                      },
                      {
                        "test": [
                          0.6635576219,
                          0.5443734403,
                          0.2
                        ],
                        "passed_time": 2.824951259,
                        "iteration": 1077,
                        "remaining_time": 2.416145697,
                        "learn": [
                          0.2
                        ]
                      },
                      {
                        "test": [
                          0.6635576219,
                          0.5443734403,
                          0.2
                        ],
                        "passed_time": 2.82725472,
                        "iteration": 1078,
                        "remaining_time": 2.413254492,
                        "learn": [
                          0.2
                        ]
                      },
                      {
                        "test": [
                          0.6635576219,
                          0.5443734403,
                          0.2
                        ],
                        "passed_time": 2.829594226,
                        "iteration": 1079,
                        "remaining_time": 2.410395082,
                        "learn": [
                          0.2
                        ]
                      },
                      {
                        "test": [
                          0.6571826219,
                          0.5403594798,
                          0.2
                        ],
                        "passed_time": 2.831938444,
                        "iteration": 1080,
                        "remaining_time": 2.407540639,
                        "learn": [
                          0.2
                        ]
                      },
                      {
                        "test": [
                          0.6635576219,
                          0.5443734403,
                          0.2
                        ],
                        "passed_time": 2.834307517,
                        "iteration": 1081,
                        "remaining_time": 2.404708226,
                        "learn": [
                          0.2
                        ]
                      },
                      {
                        "test": [
                          0.6571826219,
                          0.5403594798,
                          0.2
                        ],
                        "passed_time": 2.836659611,
                        "iteration": 1082,
                        "remaining_time": 2.401862293,
                        "learn": [
                          0.2
                        ]
                      },
                      {
                        "test": [
                          0.6571826219,
                          0.539419966,
                          0.2
                        ],
                        "passed_time": 2.839007642,
                        "iteration": 1083,
                        "remaining_time": 2.399013838,
                        "learn": [
                          0.2
                        ]
                      },
                      {
                        "test": [
                          0.6571826219,
                          0.539419966,
                          0.2
                        ],
                        "passed_time": 2.841312989,
                        "iteration": 1084,
                        "remaining_time": 2.396130309,
                        "learn": [
                          0.2
                        ]
                      },
                      {
                        "test": [
                          0.6571826219,
                          0.539419966,
                          0.2
                        ],
                        "passed_time": 2.843654277,
                        "iteration": 1085,
                        "remaining_time": 2.393278093,
                        "learn": [
                          0.2
                        ]
                      },
                      {
                        "test": [
                          0.6571826219,
                          0.539419966,
                          0.2
                        ],
                        "passed_time": 2.845996733,
                        "iteration": 1086,
                        "remaining_time": 2.390427799,
                        "learn": [
                          0.2
                        ]
                      },
                      {
                        "test": [
                          0.6571826219,
                          0.539419966,
                          0.2
                        ],
                        "passed_time": 2.848326497,
                        "iteration": 1087,
                        "remaining_time": 2.387567799,
                        "learn": [
                          0.2
                        ]
                      },
                      {
                        "test": [
                          0.6571826219,
                          0.539419966,
                          0.2
                        ],
                        "passed_time": 2.850681956,
                        "iteration": 1088,
                        "remaining_time": 2.384730268,
                        "learn": [
                          0.2
                        ]
                      },
                      {
                        "test": [
                          0.6571826219,
                          0.539419966,
                          0.2
                        ],
                        "passed_time": 2.853008806,
                        "iteration": 1089,
                        "remaining_time": 2.381869737,
                        "learn": [
                          0.2
                        ]
                      },
                      {
                        "test": [
                          0.6571826219,
                          0.539419966,
                          0.2
                        ],
                        "passed_time": 2.855359066,
                        "iteration": 1090,
                        "remaining_time": 2.37902969,
                        "learn": [
                          0.2
                        ]
                      },
                      {
                        "test": [
                          0.6571826219,
                          0.539419966,
                          0.2
                        ],
                        "passed_time": 2.857914833,
                        "iteration": 1091,
                        "remaining_time": 2.376361418,
                        "learn": [
                          0.2
                        ]
                      },
                      {
                        "test": [
                          0.6571826219,
                          0.539419966,
                          0.2
                        ],
                        "passed_time": 2.860289686,
                        "iteration": 1092,
                        "remaining_time": 2.373543225,
                        "learn": [
                          0.2
                        ]
                      },
                      {
                        "test": [
                          0.6571826219,
                          0.539419966,
                          0.2
                        ],
                        "passed_time": 2.862730545,
                        "iteration": 1093,
                        "remaining_time": 2.370780506,
                        "learn": [
                          0.2
                        ]
                      },
                      {
                        "test": [
                          0.6571826219,
                          0.539419966,
                          0.2
                        ],
                        "passed_time": 2.865044217,
                        "iteration": 1094,
                        "remaining_time": 2.367913257,
                        "learn": [
                          0.2
                        ]
                      },
                      {
                        "test": [
                          0.6571826219,
                          0.539419966,
                          0.2
                        ],
                        "passed_time": 2.867413785,
                        "iteration": 1095,
                        "remaining_time": 2.365093122,
                        "learn": [
                          0.2
                        ]
                      },
                      {
                        "test": [
                          0.6571826219,
                          0.539419966,
                          0.2
                        ],
                        "passed_time": 2.869894417,
                        "iteration": 1096,
                        "remaining_time": 2.362365231,
                        "learn": [
                          0.2
                        ]
                      },
                      {
                        "test": [
                          0.6571826219,
                          0.539419966,
                          0.2
                        ],
                        "passed_time": 2.872222791,
                        "iteration": 1097,
                        "remaining_time": 2.359512712,
                        "learn": [
                          0.2
                        ]
                      },
                      {
                        "test": [
                          0.6571826219,
                          0.539419966,
                          0.2
                        ],
                        "passed_time": 2.874531521,
                        "iteration": 1098,
                        "remaining_time": 2.356645041,
                        "learn": [
                          0.2
                        ]
                      },
                      {
                        "test": [
                          0.6571826219,
                          0.539419966,
                          0.2
                        ],
                        "passed_time": 2.876851208,
                        "iteration": 1099,
                        "remaining_time": 2.353787352,
                        "learn": [
                          0.2
                        ]
                      },
                      {
                        "test": [
                          0.6571826219,
                          0.539419966,
                          0.2
                        ],
                        "passed_time": 2.879197643,
                        "iteration": 1100,
                        "remaining_time": 2.35095248,
                        "learn": [
                          0.2
                        ]
                      },
                      {
                        "test": [
                          0.6571826219,
                          0.5403594798,
                          0.2
                        ],
                        "passed_time": 2.88151399,
                        "iteration": 1101,
                        "remaining_time": 2.348093977,
                        "learn": [
                          0.2
                        ]
                      },
                      {
                        "test": [
                          0.653267575,
                          0.539419966,
                          0.2
                        ],
                        "passed_time": 2.883847167,
                        "iteration": 1102,
                        "remaining_time": 2.345250144,
                        "learn": [
                          0.2
                        ]
                      },
                      {
                        "test": [
                          0.653267575,
                          0.539419966,
                          0.2
                        ],
                        "passed_time": 2.886239557,
                        "iteration": 1103,
                        "remaining_time": 2.342455293,
                        "learn": [
                          0.2
                        ]
                      },
                      {
                        "test": [
                          0.653267575,
                          0.539419966,
                          0.2
                        ],
                        "passed_time": 2.888604865,
                        "iteration": 1104,
                        "remaining_time": 2.339639234,
                        "learn": [
                          0.2
                        ]
                      },
                      {
                        "test": [
                          0.653267575,
                          0.539419966,
                          0.2
                        ],
                        "passed_time": 2.890888517,
                        "iteration": 1105,
                        "remaining_time": 2.336757988,
                        "learn": [
                          0.2
                        ]
                      },
                      {
                        "test": [
                          0.653267575,
                          0.539419966,
                          0.2
                        ],
                        "passed_time": 2.893231862,
                        "iteration": 1106,
                        "remaining_time": 2.333925974,
                        "learn": [
                          0.2
                        ]
                      },
                      {
                        "test": [
                          0.653267575,
                          0.5384804522,
                          0.2
                        ],
                        "passed_time": 2.895658175,
                        "iteration": 1107,
                        "remaining_time": 2.331161635,
                        "learn": [
                          0.2
                        ]
                      },
                      {
                        "test": [
                          0.653267575,
                          0.5384804522,
                          0.2
                        ],
                        "passed_time": 2.898023904,
                        "iteration": 1108,
                        "remaining_time": 2.328349232,
                        "learn": [
                          0.2
                        ]
                      },
                      {
                        "test": [
                          0.653267575,
                          0.5384804522,
                          0.2
                        ],
                        "passed_time": 2.900366453,
                        "iteration": 1109,
                        "remaining_time": 2.325519048,
                        "learn": [
                          0.2
                        ]
                      },
                      {
                        "test": [
                          0.659642575,
                          0.5424944128,
                          0.2
                        ],
                        "passed_time": 2.902643906,
                        "iteration": 1110,
                        "remaining_time": 2.322637653,
                        "learn": [
                          0.2
                        ]
                      },
                      {
                        "test": [
                          0.653267575,
                          0.5384804522,
                          0.2
                        ],
                        "passed_time": 2.905218403,
                        "iteration": 1111,
                        "remaining_time": 2.319994552,
                        "learn": [
                          0.2
                        ]
                      },
                      {
                        "test": [
                          0.653267575,
                          0.5384804522,
                          0.2
                        ],
                        "passed_time": 2.907650521,
                        "iteration": 1112,
                        "remaining_time": 2.317238106,
                        "learn": [
                          0.2
                        ]
                      },
                      {
                        "test": [
                          0.653267575,
                          0.5384804522,
                          0.2
                        ],
                        "passed_time": 2.909990127,
                        "iteration": 1113,
                        "remaining_time": 2.314408665,
                        "learn": [
                          0.2
                        ]
                      },
                      {
                        "test": [
                          0.653267575,
                          0.5384804522,
                          0.2
                        ],
                        "passed_time": 2.912403397,
                        "iteration": 1114,
                        "remaining_time": 2.311638571,
                        "learn": [
                          0.2
                        ]
                      },
                      {
                        "test": [
                          0.653267575,
                          0.5384804522,
                          0.2
                        ],
                        "passed_time": 2.91474588,
                        "iteration": 1115,
                        "remaining_time": 2.308813045,
                        "learn": [
                          0.2
                        ]
                      },
                      {
                        "test": [
                          0.653267575,
                          0.539419966,
                          0.2
                        ],
                        "passed_time": 2.91708339,
                        "iteration": 1116,
                        "remaining_time": 2.305984453,
                        "learn": [
                          0.2
                        ]
                      },
                      {
                        "test": [
                          0.653267575,
                          0.5380379169,
                          0.2
                        ],
                        "passed_time": 2.919442086,
                        "iteration": 1117,
                        "remaining_time": 2.303173453,
                        "learn": [
                          0.2
                        ]
                      },
                      {
                        "test": [
                          0.653267575,
                          0.5384804522,
                          0.2
                        ],
                        "passed_time": 2.921795398,
                        "iteration": 1118,
                        "remaining_time": 2.300359022,
                        "learn": [
                          0.2
                        ]
                      },
                      {
                        "test": [
                          0.653267575,
                          0.5384804522,
                          0.2
                        ],
                        "passed_time": 2.92413235,
                        "iteration": 1119,
                        "remaining_time": 2.297532561,
                        "learn": [
                          0.2
                        ]
                      },
                      {
                        "test": [
                          0.653267575,
                          0.5384804522,
                          0.2
                        ],
                        "passed_time": 2.926539444,
                        "iteration": 1120,
                        "remaining_time": 2.294761973,
                        "learn": [
                          0.2
                        ]
                      },
                      {
                        "test": [
                          0.653267575,
                          0.5384804522,
                          0.2
                        ],
                        "passed_time": 2.92887472,
                        "iteration": 1121,
                        "remaining_time": 2.291935833,
                        "learn": [
                          0.2
                        ]
                      },
                      {
                        "test": [
                          0.653267575,
                          0.5384804522,
                          0.2
                        ],
                        "passed_time": 2.931271875,
                        "iteration": 1122,
                        "remaining_time": 2.289158891,
                        "learn": [
                          0.2
                        ]
                      },
                      {
                        "test": [
                          0.653267575,
                          0.5384804522,
                          0.2
                        ],
                        "passed_time": 2.952938163,
                        "iteration": 1123,
                        "remaining_time": 2.301400205,
                        "learn": [
                          0.2
                        ]
                      },
                      {
                        "test": [
                          0.653267575,
                          0.5384804522,
                          0.2
                        ],
                        "passed_time": 3.001106948,
                        "iteration": 1124,
                        "remaining_time": 2.334194293,
                        "learn": [
                          0.2
                        ]
                      },
                      {
                        "test": [
                          0.653267575,
                          0.5384804522,
                          0.2
                        ],
                        "passed_time": 3.009925113,
                        "iteration": 1125,
                        "remaining_time": 2.336300665,
                        "learn": [
                          0.2
                        ]
                      },
                      {
                        "test": [
                          0.653267575,
                          0.5384804522,
                          0.2
                        ],
                        "passed_time": 3.017902599,
                        "iteration": 1126,
                        "remaining_time": 2.337736441,
                        "learn": [
                          0.2
                        ]
                      },
                      {
                        "test": [
                          0.653267575,
                          0.5384804522,
                          0.2
                        ],
                        "passed_time": 3.021550253,
                        "iteration": 1127,
                        "remaining_time": 2.335808351,
                        "learn": [
                          0.2
                        ]
                      },
                      {
                        "test": [
                          0.653267575,
                          0.5384804522,
                          0.2
                        ],
                        "passed_time": 3.029686078,
                        "iteration": 1128,
                        "remaining_time": 2.337339747,
                        "learn": [
                          0.2
                        ]
                      },
                      {
                        "test": [
                          0.653267575,
                          0.5384804522,
                          0.2
                        ],
                        "passed_time": 3.037427145,
                        "iteration": 1129,
                        "remaining_time": 2.338550103,
                        "learn": [
                          0.2
                        ]
                      },
                      {
                        "test": [
                          0.653267575,
                          0.5384804522,
                          0.2
                        ],
                        "passed_time": 3.040911735,
                        "iteration": 1130,
                        "remaining_time": 2.33647418,
                        "learn": [
                          0.2
                        ]
                      },
                      {
                        "test": [
                          0.653267575,
                          0.5384804522,
                          0.2
                        ],
                        "passed_time": 3.048554267,
                        "iteration": 1131,
                        "remaining_time": 2.337584014,
                        "learn": [
                          0.2
                        ]
                      },
                      {
                        "test": [
                          0.6504389536,
                          0.5379326525,
                          0.2
                        ],
                        "passed_time": 3.056192301,
                        "iteration": 1132,
                        "remaining_time": 2.338674956,
                        "learn": [
                          0.2
                        ]
                      },
                      {
                        "test": [
                          0.653267575,
                          0.5384804522,
                          0.2
                        ],
                        "passed_time": 3.070613791,
                        "iteration": 1133,
                        "remaining_time": 2.344930814,
                        "learn": [
                          0.2
                        ]
                      },
                      {
                        "test": [
                          0.653267575,
                          0.5384804522,
                          0.2
                        ],
                        "passed_time": 3.073861777,
                        "iteration": 1134,
                        "remaining_time": 2.342634746,
                        "learn": [
                          0.2
                        ]
                      },
                      {
                        "test": [
                          0.6504389536,
                          0.5379326525,
                          0.2
                        ],
                        "passed_time": 3.077931147,
                        "iteration": 1135,
                        "remaining_time": 2.340961717,
                        "learn": [
                          0.2
                        ]
                      },
                      {
                        "test": [
                          0.6504389536,
                          0.5379326525,
                          0.2
                        ],
                        "passed_time": 3.081262344,
                        "iteration": 1136,
                        "remaining_time": 2.338724189,
                        "learn": [
                          0.2
                        ]
                      },
                      {
                        "test": [
                          0.6504389536,
                          0.5379326525,
                          0.2
                        ],
                        "passed_time": 3.083695217,
                        "iteration": 1137,
                        "remaining_time": 2.335804285,
                        "learn": [
                          0.2
                        ]
                      },
                      {
                        "test": [
                          0.6504389536,
                          0.5379326525,
                          0.2
                        ],
                        "passed_time": 3.086149836,
                        "iteration": 1138,
                        "remaining_time": 2.332901676,
                        "learn": [
                          0.2
                        ]
                      },
                      {
                        "test": [
                          0.6504389536,
                          0.5379326525,
                          0.2
                        ],
                        "passed_time": 3.089039024,
                        "iteration": 1139,
                        "remaining_time": 2.330327684,
                        "learn": [
                          0.2
                        ]
                      },
                      {
                        "test": [
                          0.6504389536,
                          0.5379326525,
                          0.2
                        ],
                        "passed_time": 3.091451675,
                        "iteration": 1140,
                        "remaining_time": 2.327394381,
                        "learn": [
                          0.2
                        ]
                      },
                      {
                        "test": [
                          0.6504389536,
                          0.5379326525,
                          0.2
                        ],
                        "passed_time": 3.093876866,
                        "iteration": 1141,
                        "remaining_time": 2.32447141,
                        "learn": [
                          0.2
                        ]
                      },
                      {
                        "test": [
                          0.6504389536,
                          0.5379326525,
                          0.2
                        ],
                        "passed_time": 3.096473835,
                        "iteration": 1142,
                        "remaining_time": 2.321678107,
                        "learn": [
                          0.2
                        ]
                      },
                      {
                        "test": [
                          0.6504389536,
                          0.5379326525,
                          0.2
                        ],
                        "passed_time": 3.098785414,
                        "iteration": 1143,
                        "remaining_time": 2.318671603,
                        "learn": [
                          0.2
                        ]
                      },
                      {
                        "test": [
                          0.6504389536,
                          0.5379326525,
                          0.2
                        ],
                        "passed_time": 3.10460949,
                        "iteration": 1144,
                        "remaining_time": 2.318289183,
                        "learn": [
                          0.2
                        ]
                      },
                      {
                        "test": [
                          0.6504389536,
                          0.5379326525,
                          0.2
                        ],
                        "passed_time": 3.107152795,
                        "iteration": 1145,
                        "remaining_time": 2.315452432,
                        "learn": [
                          0.2
                        ]
                      },
                      {
                        "test": [
                          0.6504389536,
                          0.5379326525,
                          0.2
                        ],
                        "passed_time": 3.109594757,
                        "iteration": 1146,
                        "remaining_time": 2.312540827,
                        "learn": [
                          0.2
                        ]
                      },
                      {
                        "test": [
                          0.6504389536,
                          0.5379326525,
                          0.2
                        ],
                        "passed_time": 3.112069549,
                        "iteration": 1147,
                        "remaining_time": 2.309654404,
                        "learn": [
                          0.2
                        ]
                      },
                      {
                        "test": [
                          0.6504389536,
                          0.5374901172,
                          0.2
                        ],
                        "passed_time": 3.114434518,
                        "iteration": 1148,
                        "remaining_time": 2.306687358,
                        "learn": [
                          0.2
                        ]
                      },
                      {
                        "test": [
                          0.6504389536,
                          0.5374901172,
                          0.2
                        ],
                        "passed_time": 3.116775737,
                        "iteration": 1149,
                        "remaining_time": 2.303703805,
                        "learn": [
                          0.2
                        ]
                      },
                      {
                        "test": [
                          0.6504389536,
                          0.5374901172,
                          0.2
                        ],
                        "passed_time": 3.119093233,
                        "iteration": 1150,
                        "remaining_time": 2.30070387,
                        "learn": [
                          0.2
                        ]
                      },
                      {
                        "test": [
                          0.6504389536,
                          0.5388336377,
                          0.2
                        ],
                        "passed_time": 3.121464249,
                        "iteration": 1151,
                        "remaining_time": 2.297744516,
                        "learn": [
                          0.2
                        ]
                      },
                      {
                        "test": [
                          0.6504389536,
                          0.5393814374,
                          0.2
                        ],
                        "passed_time": 3.123833954,
                        "iteration": 1152,
                        "remaining_time": 2.29478522,
                        "learn": [
                          0.2
                        ]
                      },
                      {
                        "test": [
                          0.6471111638,
                          0.5373366649,
                          0.2
                        ],
                        "passed_time": 3.126188395,
                        "iteration": 1153,
                        "remaining_time": 2.291815756,
                        "learn": [
                          0.2
                        ]
                      },
                      {
                        "test": [
                          0.6471111638,
                          0.5373366649,
                          0.2
                        ],
                        "passed_time": 3.128716885,
                        "iteration": 1154,
                        "remaining_time": 2.288974691,
                        "learn": [
                          0.2
                        ]
                      },
                      {
                        "test": [
                          0.6471111638,
                          0.5373366649,
                          0.2
                        ],
                        "passed_time": 3.131061429,
                        "iteration": 1155,
                        "remaining_time": 2.285999867,
                        "learn": [
                          0.2
                        ]
                      },
                      {
                        "test": [
                          0.6504389536,
                          0.5380379169,
                          0.2
                        ],
                        "passed_time": 3.133425013,
                        "iteration": 1156,
                        "remaining_time": 2.283040005,
                        "learn": [
                          0.2
                        ]
                      },
                      {
                        "test": [
                          0.6504389536,
                          0.5380379169,
                          0.2
                        ],
                        "passed_time": 3.135925819,
                        "iteration": 1157,
                        "remaining_time": 2.28018095,
                        "learn": [
                          0.2
                        ]
                      },
                      {
                        "test": [
                          0.6504389536,
                          0.5380379169,
                          0.2
                        ],
                        "passed_time": 3.138310646,
                        "iteration": 1158,
                        "remaining_time": 2.277238355,
                        "learn": [
                          0.2
                        ]
                      },
                      {
                        "test": [
                          0.6504389536,
                          0.5389774307,
                          0.2
                        ],
                        "passed_time": 3.140719012,
                        "iteration": 1159,
                        "remaining_time": 2.274313767,
                        "learn": [
                          0.2
                        ]
                      },
                      {
                        "test": [
                          0.6504389536,
                          0.5389774307,
                          0.2
                        ],
                        "passed_time": 3.143095501,
                        "iteration": 1160,
                        "remaining_time": 2.271367033,
                        "learn": [
                          0.2
                        ]
                      },
                      {
                        "test": [
                          0.6504389536,
                          0.5389774307,
                          0.2
                        ],
                        "passed_time": 3.145646536,
                        "iteration": 1161,
                        "remaining_time": 2.268547158,
                        "learn": [
                          0.2
                        ]
                      },
                      {
                        "test": [
                          0.6504389536,
                          0.5389774307,
                          0.2
                        ],
                        "passed_time": 3.148060828,
                        "iteration": 1162,
                        "remaining_time": 2.265629332,
                        "learn": [
                          0.2
                        ]
                      },
                      {
                        "test": [
                          0.6504389536,
                          0.5389774307,
                          0.2
                        ],
                        "passed_time": 3.150657568,
                        "iteration": 1163,
                        "remaining_time": 2.262843408,
                        "learn": [
                          0.2
                        ]
                      },
                      {
                        "test": [
                          0.6504389536,
                          0.5389774307,
                          0.2
                        ],
                        "passed_time": 3.153054243,
                        "iteration": 1164,
                        "remaining_time": 2.259914415,
                        "learn": [
                          0.2
                        ]
                      },
                      {
                        "test": [
                          0.6504389536,
                          0.5389774307,
                          0.2
                        ],
                        "passed_time": 3.155395179,
                        "iteration": 1165,
                        "remaining_time": 2.256946466,
                        "learn": [
                          0.2
                        ]
                      },
                      {
                        "test": [
                          0.6504389536,
                          0.5389774307,
                          0.2
                        ],
                        "passed_time": 3.157724739,
                        "iteration": 1166,
                        "remaining_time": 2.253971472,
                        "learn": [
                          0.2
                        ]
                      },
                      {
                        "test": [
                          0.6504389536,
                          0.5389774307,
                          0.2
                        ],
                        "passed_time": 3.160073745,
                        "iteration": 1167,
                        "remaining_time": 2.251011434,
                        "learn": [
                          0.2
                        ]
                      },
                      {
                        "test": [
                          0.6504389536,
                          0.5389774307,
                          0.2
                        ],
                        "passed_time": 3.163156382,
                        "iteration": 1168,
                        "remaining_time": 2.248573955,
                        "learn": [
                          0.2
                        ]
                      },
                      {
                        "test": [
                          0.6504389536,
                          0.5403209512,
                          0.2
                        ],
                        "passed_time": 3.168846265,
                        "iteration": 1169,
                        "remaining_time": 2.247984958,
                        "learn": [
                          0.2
                        ]
                      },
                      {
                        "test": [
                          0.6504389536,
                          0.5403209512,
                          0.2
                        ],
                        "passed_time": 3.172439047,
                        "iteration": 1170,
                        "remaining_time": 2.245902622,
                        "learn": [
                          0.2
                        ]
                      },
                      {
                        "test": [
                          0.653267575,
                          0.5395252304,
                          0.2
                        ],
                        "passed_time": 3.178332857,
                        "iteration": 1171,
                        "remaining_time": 2.24544335,
                        "learn": [
                          0.2
                        ]
                      },
                      {
                        "test": [
                          0.653267575,
                          0.5395252304,
                          0.2
                        ],
                        "passed_time": 3.18074681,
                        "iteration": 1172,
                        "remaining_time": 2.242521408,
                        "learn": [
                          0.2
                        ]
                      },
                      {
                        "test": [
                          0.653267575,
                          0.5395252304,
                          0.2
                        ],
                        "passed_time": 3.183146911,
                        "iteration": 1173,
                        "remaining_time": 2.239590586,
                        "learn": [
                          0.2
                        ]
                      },
                      {
                        "test": [
                          0.653267575,
                          0.5395252304,
                          0.2
                        ],
                        "passed_time": 3.185440206,
                        "iteration": 1174,
                        "remaining_time": 2.236585676,
                        "learn": [
                          0.2
                        ]
                      },
                      {
                        "test": [
                          0.653267575,
                          0.5389774307,
                          0.2
                        ],
                        "passed_time": 3.187725265,
                        "iteration": 1175,
                        "remaining_time": 2.233576206,
                        "learn": [
                          0.2
                        ]
                      },
                      {
                        "test": [
                          0.6504389536,
                          0.538429631,
                          0.2
                        ],
                        "passed_time": 3.190093329,
                        "iteration": 1176,
                        "remaining_time": 2.230626007,
                        "learn": [
                          0.2
                        ]
                      },
                      {
                        "test": [
                          0.6504389536,
                          0.5374901172,
                          0.2
                        ],
                        "passed_time": 3.192459459,
                        "iteration": 1177,
                        "remaining_time": 2.227675446,
                        "learn": [
                          0.2
                        ]
                      },
                      {
                        "test": [
                          0.6504389536,
                          0.5374901172,
                          0.2
                        ],
                        "passed_time": 3.194771312,
                        "iteration": 1178,
                        "remaining_time": 2.22468808,
                        "learn": [
                          0.2
                        ]
                      },
                      {
                        "test": [
                          0.6568139536,
                          0.5415040777,
                          0.2
                        ],
                        "passed_time": 3.197156169,
                        "iteration": 1179,
                        "remaining_time": 2.221752592,
                        "learn": [
                          0.2
                        ]
                      },
                      {
                        "test": [
                          0.659642575,
                          0.5429913912,
                          0.2
                        ],
                        "passed_time": 3.199658245,
                        "iteration": 1180,
                        "remaining_time": 2.218899325,
                        "learn": [
                          0.2
                        ]
                      },
                      {
                        "test": [
                          0.659642575,
                          0.5429913912,
                          0.2
                        ],
                        "passed_time": 3.202055855,
                        "iteration": 1181,
                        "remaining_time": 2.215974357,
                        "learn": [
                          0.2
                        ]
                      },
                      {
                        "test": [
                          0.659642575,
                          0.5422901392,
                          0.2
                        ],
                        "passed_time": 3.204390552,
                        "iteration": 1182,
                        "remaining_time": 2.213006831,
                        "learn": [
                          0.2
                        ]
                      },
                      {
                        "test": [
                          0.659642575,
                          0.5422901392,
                          0.2
                        ],
                        "passed_time": 3.206774424,
                        "iteration": 1183,
                        "remaining_time": 2.210074265,
                        "learn": [
                          0.2
                        ]
                      },
                      {
                        "test": [
                          0.659642575,
                          0.5440761951,
                          0.2
                        ],
                        "passed_time": 3.209109943,
                        "iteration": 1184,
                        "remaining_time": 2.20710937,
                        "learn": [
                          0.2
                        ]
                      },
                      {
                        "test": [
                          0.659642575,
                          0.5440761951,
                          0.2
                        ],
                        "passed_time": 3.21147539,
                        "iteration": 1185,
                        "remaining_time": 2.204166077,
                        "learn": [
                          0.2
                        ]
                      },
                      {
                        "test": [
                          0.6563147852,
                          0.5447184636,
                          0.2
                        ],
                        "passed_time": 3.213859927,
                        "iteration": 1186,
                        "remaining_time": 2.201236833,
                        "learn": [
                          0.2
                        ]
                      },
                      {
                        "test": [
                          0.6563147852,
                          0.5442759283,
                          0.2
                        ],
                        "passed_time": 3.216230456,
                        "iteration": 1187,
                        "remaining_time": 2.198298931,
                        "learn": [
                          0.2
                        ]
                      },
                      {
                        "test": [
                          0.6563147852,
                          0.5442759283,
                          0.2
                        ],
                        "passed_time": 3.2186242,
                        "iteration": 1188,
                        "remaining_time": 2.195377818,
                        "learn": [
                          0.2
                        ]
                      },
                      {
                        "test": [
                          0.6563147852,
                          0.5452662633,
                          0.2
                        ],
                        "passed_time": 3.221048596,
                        "iteration": 1189,
                        "remaining_time": 2.192478456,
                        "learn": [
                          0.2
                        ]
                      },
                      {
                        "test": [
                          0.6563147852,
                          0.5434802075,
                          0.2
                        ],
                        "passed_time": 3.223407351,
                        "iteration": 1190,
                        "remaining_time": 2.189535304,
                        "learn": [
                          0.2
                        ]
                      },
                      {
                        "test": [
                          0.6563147852,
                          0.5434802075,
                          0.2
                        ],
                        "passed_time": 3.225829248,
                        "iteration": 1191,
                        "remaining_time": 2.186635934,
                        "learn": [
                          0.2
                        ]
                      },
                      {
                        "test": [
                          0.659642575,
                          0.5441814594,
                          0.2
                        ],
                        "passed_time": 3.228188448,
                        "iteration": 1192,
                        "remaining_time": 2.183694952,
                        "learn": [
                          0.2
                        ]
                      },
                      {
                        "test": [
                          0.659642575,
                          0.5446239948,
                          0.2
                        ],
                        "passed_time": 3.230624701,
                        "iteration": 1193,
                        "remaining_time": 2.180806959,
                        "learn": [
                          0.2
                        ]
                      },
                      {
                        "test": [
                          0.659642575,
                          0.5441814594,
                          0.2
                        ],
                        "passed_time": 3.232965383,
                        "iteration": 1194,
                        "remaining_time": 2.177855342,
                        "learn": [
                          0.2
                        ]
                      },
                      {
                        "test": [
                          0.653267575,
                          0.5406100342,
                          0.2
                        ],
                        "passed_time": 3.235288901,
                        "iteration": 1195,
                        "remaining_time": 2.174893207,
                        "learn": [
                          0.2
                        ]
                      },
                      {
                        "test": [
                          0.6499397852,
                          0.5399087823,
                          0.2
                        ],
                        "passed_time": 3.23763459,
                        "iteration": 1196,
                        "remaining_time": 2.171947014,
                        "learn": [
                          0.2
                        ]
                      },
                      {
                        "test": [
                          0.6499397852,
                          0.5399087823,
                          0.2
                        ],
                        "passed_time": 3.240073531,
                        "iteration": 1197,
                        "remaining_time": 2.16906425,
                        "learn": [
                          0.2
                        ]
                      },
                      {
                        "test": [
                          0.6499397852,
                          0.5406100342,
                          0.2
                        ],
                        "passed_time": 3.242441576,
                        "iteration": 1198,
                        "remaining_time": 2.166134864,
                        "learn": [
                          0.2
                        ]
                      },
                      {
                        "test": [
                          0.6499397852,
                          0.5406100342,
                          0.2
                        ],
                        "passed_time": 3.245120414,
                        "iteration": 1199,
                        "remaining_time": 2.163413609,
                        "learn": [
                          0.2
                        ]
                      },
                      {
                        "test": [
                          0.653267575,
                          0.5413112862,
                          0.2
                        ],
                        "passed_time": 3.247642267,
                        "iteration": 1200,
                        "remaining_time": 2.160587986,
                        "learn": [
                          0.2
                        ]
                      },
                      {
                        "test": [
                          0.653267575,
                          0.5413112862,
                          0.2
                        ],
                        "passed_time": 3.250183864,
                        "iteration": 1201,
                        "remaining_time": 2.157775976,
                        "learn": [
                          0.2
                        ]
                      },
                      {
                        "test": [
                          0.653267575,
                          0.5413112862,
                          0.2
                        ],
                        "passed_time": 3.252693851,
                        "iteration": 1202,
                        "remaining_time": 2.154943474,
                        "learn": [
                          0.2
                        ]
                      },
                      {
                        "test": [
                          0.653267575,
                          0.5413112862,
                          0.2
                        ],
                        "passed_time": 3.255193386,
                        "iteration": 1203,
                        "remaining_time": 2.152104598,
                        "learn": [
                          0.2
                        ]
                      },
                      {
                        "test": [
                          0.653267575,
                          0.5413112862,
                          0.2
                        ],
                        "passed_time": 3.257865052,
                        "iteration": 1204,
                        "remaining_time": 2.149379847,
                        "learn": [
                          0.2
                        ]
                      },
                      {
                        "test": [
                          0.653267575,
                          0.5413112862,
                          0.2
                        ],
                        "passed_time": 3.260346257,
                        "iteration": 1205,
                        "remaining_time": 2.146529791,
                        "learn": [
                          0.2
                        ]
                      },
                      {
                        "test": [
                          0.653267575,
                          0.5413112862,
                          0.2
                        ],
                        "passed_time": 3.262833921,
                        "iteration": 1206,
                        "remaining_time": 2.143684589,
                        "learn": [
                          0.2
                        ]
                      },
                      {
                        "test": [
                          0.653267575,
                          0.5413112862,
                          0.2
                        ],
                        "passed_time": 3.265287094,
                        "iteration": 1207,
                        "remaining_time": 2.140817366,
                        "learn": [
                          0.2
                        ]
                      },
                      {
                        "test": [
                          0.6499397852,
                          0.5406100342,
                          0.2
                        ],
                        "passed_time": 3.267705166,
                        "iteration": 1208,
                        "remaining_time": 2.137927863,
                        "learn": [
                          0.2
                        ]
                      },
                      {
                        "test": [
                          0.6499397852,
                          0.5406100342,
                          0.2
                        ],
                        "passed_time": 3.271387396,
                        "iteration": 1209,
                        "remaining_time": 2.135864498,
                        "learn": [
                          0.2
                        ]
                      },
                      {
                        "test": [
                          0.6499397852,
                          0.5406100342,
                          0.2
                        ],
                        "passed_time": 3.275376247,
                        "iteration": 1210,
                        "remaining_time": 2.133998232,
                        "learn": [
                          0.2
                        ]
                      },
                      {
                        "test": [
                          0.6574397852,
                          0.5519247535,
                          0.2
                        ],
                        "passed_time": 3.280108641,
                        "iteration": 1211,
                        "remaining_time": 2.132611889,
                        "learn": [
                          0.2
                        ]
                      },
                      {
                        "test": [
                          0.6574397852,
                          0.5519247535,
                          0.2
                        ],
                        "passed_time": 3.282615172,
                        "iteration": 1212,
                        "remaining_time": 2.129775879,
                        "learn": [
                          0.2
                        ]
                      },
                      {
                        "test": [
                          0.6574397852,
                          0.5519247535,
                          0.2
                        ],
                        "passed_time": 3.285104092,
                        "iteration": 1213,
                        "remaining_time": 2.126929009,
                        "learn": [
                          0.2
                        ]
                      },
                      {
                        "test": [
                          0.6499397852,
                          0.5406100342,
                          0.2
                        ],
                        "passed_time": 3.287537031,
                        "iteration": 1214,
                        "remaining_time": 2.124046559,
                        "learn": [
                          0.2
                        ]
                      },
                      {
                        "test": [
                          0.653267575,
                          0.5413112862,
                          0.2
                        ],
                        "passed_time": 3.289931446,
                        "iteration": 1215,
                        "remaining_time": 2.121140011,
                        "learn": [
                          0.2
                        ]
                      },
                      {
                        "test": [
                          0.6574397852,
                          0.5519247535,
                          0.2
                        ],
                        "passed_time": 3.292482049,
                        "iteration": 1216,
                        "remaining_time": 2.118334794,
                        "learn": [
                          0.2
                        ]
                      },
                      {
                        "test": [
                          0.6574397852,
                          0.5519247535,
                          0.2
                        ],
                        "passed_time": 3.294978237,
                        "iteration": 1217,
                        "remaining_time": 2.115495058,
                        "learn": [
                          0.2
                        ]
                      },
                      {
                        "test": [
                          0.6499397852,
                          0.5406100342,
                          0.2
                        ],
                        "passed_time": 3.297301039,
                        "iteration": 1218,
                        "remaining_time": 2.112544801,
                        "learn": [
                          0.2
                        ]
                      },
                      {
                        "test": [
                          0.6499397852,
                          0.5406100342,
                          0.2
                        ],
                        "passed_time": 3.299602644,
                        "iteration": 1219,
                        "remaining_time": 2.109582018,
                        "learn": [
                          0.2
                        ]
                      },
                      {
                        "test": [
                          0.6499397852,
                          0.5406100342,
                          0.2
                        ],
                        "passed_time": 3.301884855,
                        "iteration": 1220,
                        "remaining_time": 2.106607946,
                        "learn": [
                          0.2
                        ]
                      },
                      {
                        "test": [
                          0.6574397852,
                          0.5519247535,
                          0.2
                        ],
                        "passed_time": 3.304200029,
                        "iteration": 1221,
                        "remaining_time": 2.103655992,
                        "learn": [
                          0.2
                        ]
                      },
                      {
                        "test": [
                          0.6499397852,
                          0.5406100342,
                          0.2
                        ],
                        "passed_time": 3.306531602,
                        "iteration": 1222,
                        "remaining_time": 2.100715499,
                        "learn": [
                          0.2
                        ]
                      },
                      {
                        "test": [
                          0.6499397852,
                          0.5406100342,
                          0.2
                        ],
                        "passed_time": 3.308928727,
                        "iteration": 1223,
                        "remaining_time": 2.097817559,
                        "learn": [
                          0.2
                        ]
                      },
                      {
                        "test": [
                          0.6499397852,
                          0.5406100342,
                          0.2
                        ],
                        "passed_time": 3.31125902,
                        "iteration": 1224,
                        "remaining_time": 2.094878156,
                        "learn": [
                          0.2
                        ]
                      },
                      {
                        "test": [
                          0.6499397852,
                          0.5406100342,
                          0.2
                        ],
                        "passed_time": 3.313548952,
                        "iteration": 1225,
                        "remaining_time": 2.091914265,
                        "learn": [
                          0.2
                        ]
                      },
                      {
                        "test": [
                          0.6499397852,
                          0.5406100342,
                          0.2
                        ],
                        "passed_time": 3.315880096,
                        "iteration": 1226,
                        "remaining_time": 2.088977436,
                        "learn": [
                          0.2
                        ]
                      },
                      {
                        "test": [
                          0.6499397852,
                          0.5406100342,
                          0.2
                        ],
                        "passed_time": 3.318227413,
                        "iteration": 1227,
                        "remaining_time": 2.086051761,
                        "learn": [
                          0.2
                        ]
                      },
                      {
                        "test": [
                          0.6499397852,
                          0.5400622345,
                          0.2
                        ],
                        "passed_time": 3.320556582,
                        "iteration": 1228,
                        "remaining_time": 2.083115642,
                        "learn": [
                          0.2
                        ]
                      },
                      {
                        "test": [
                          0.6499397852,
                          0.5400622345,
                          0.2
                        ],
                        "passed_time": 3.322949789,
                        "iteration": 1229,
                        "remaining_time": 2.0802206,
                        "learn": [
                          0.2
                        ]
                      },
                      {
                        "test": [
                          0.6499397852,
                          0.5400622345,
                          0.2
                        ],
                        "passed_time": 3.325291822,
                        "iteration": 1230,
                        "remaining_time": 2.077294404,
                        "learn": [
                          0.2
                        ]
                      },
                      {
                        "test": [
                          0.6499397852,
                          0.5391227207,
                          0.2
                        ],
                        "passed_time": 3.327635982,
                        "iteration": 1231,
                        "remaining_time": 2.074370482,
                        "learn": [
                          0.2
                        ]
                      },
                      {
                        "test": [
                          0.6499397852,
                          0.5400622345,
                          0.2
                        ],
                        "passed_time": 3.330039522,
                        "iteration": 1232,
                        "remaining_time": 2.071484439,
                        "learn": [
                          0.2
                        ]
                      },
                      {
                        "test": [
                          0.6499397852,
                          0.5391227207,
                          0.2
                        ],
                        "passed_time": 3.332392298,
                        "iteration": 1233,
                        "remaining_time": 2.068567666,
                        "learn": [
                          0.2
                        ]
                      },
                      {
                        "test": [
                          0.6471111638,
                          0.538574921,
                          0.2
                        ],
                        "passed_time": 3.334859274,
                        "iteration": 1234,
                        "remaining_time": 2.065722547,
                        "learn": [
                          0.2
                        ]
                      },
                      {
                        "test": [
                          0.6471111638,
                          0.5395144348,
                          0.2
                        ],
                        "passed_time": 3.337209144,
                        "iteration": 1235,
                        "remaining_time": 2.062805652,
                        "learn": [
                          0.2
                        ]
                      },
                      {
                        "test": [
                          0.6471111638,
                          0.538574921,
                          0.2
                        ],
                        "passed_time": 3.339604575,
                        "iteration": 1236,
                        "remaining_time": 2.059917777,
                        "learn": [
                          0.2
                        ]
                      },
                      {
                        "test": [
                          0.6471111638,
                          0.538574921,
                          0.2
                        ],
                        "passed_time": 3.341911878,
                        "iteration": 1237,
                        "remaining_time": 2.056976455,
                        "learn": [
                          0.2
                        ]
                      },
                      {
                        "test": [
                          0.6471111638,
                          0.5395144348,
                          0.2
                        ],
                        "passed_time": 3.344457648,
                        "iteration": 1238,
                        "remaining_time": 2.054182623,
                        "learn": [
                          0.2
                        ]
                      },
                      {
                        "test": [
                          0.6471111638,
                          0.5395144348,
                          0.2
                        ],
                        "passed_time": 3.349066977,
                        "iteration": 1239,
                        "remaining_time": 2.052653953,
                        "learn": [
                          0.2
                        ]
                      },
                      {
                        "test": [
                          0.6471111638,
                          0.538574921,
                          0.2
                        ],
                        "passed_time": 3.351529519,
                        "iteration": 1240,
                        "remaining_time": 2.049807337,
                        "learn": [
                          0.2
                        ]
                      },
                      {
                        "test": [
                          0.6534861638,
                          0.5427190395,
                          0.2
                        ],
                        "passed_time": 3.353870257,
                        "iteration": 1241,
                        "remaining_time": 2.046887001,
                        "learn": [
                          0.2
                        ]
                      },
                      {
                        "test": [
                          0.6534861638,
                          0.54308586,
                          0.2
                        ],
                        "passed_time": 3.356174835,
                        "iteration": 1242,
                        "remaining_time": 2.043945575,
                        "learn": [
                          0.2
                        ]
                      },
                      {
                        "test": [
                          0.6534861638,
                          0.54308586,
                          0.2
                        ],
                        "passed_time": 3.358473479,
                        "iteration": 1243,
                        "remaining_time": 2.041001568,
                        "learn": [
                          0.2
                        ]
                      },
                      {
                        "test": [
                          0.6534861638,
                          0.5435283954,
                          0.2
                        ],
                        "passed_time": 3.360794356,
                        "iteration": 1244,
                        "remaining_time": 2.038072079,
                        "learn": [
                          0.2
                        ]
                      },
                      {
                        "test": [
                          0.6568139536,
                          0.5442296473,
                          0.2
                        ],
                        "passed_time": 3.363142077,
                        "iteration": 1245,
                        "remaining_time": 2.035159812,
                        "learn": [
                          0.2
                        ]
                      },
                      {
                        "test": [
                          0.6609861638,
                          0.5548431147,
                          0.2
                        ],
                        "passed_time": 3.365464778,
                        "iteration": 1246,
                        "remaining_time": 2.032233342,
                        "learn": [
                          0.2
                        ]
                      },
                      {
                        "test": [
                          0.6609861638,
                          0.5548431147,
                          0.2
                        ],
                        "passed_time": 3.367864805,
                        "iteration": 1247,
                        "remaining_time": 2.029354434,
                        "learn": [
                          0.2
                        ]
                      },
                      {
                        "test": [
                          0.6609861638,
                          0.5548431147,
                          0.2
                        ],
                        "passed_time": 3.370233958,
                        "iteration": 1248,
                        "remaining_time": 2.026457728,
                        "learn": [
                          0.2
                        ]
                      },
                      {
                        "test": [
                          0.6609861638,
                          0.5548431147,
                          0.2
                        ],
                        "passed_time": 3.372544049,
                        "iteration": 1249,
                        "remaining_time": 2.02352643,
                        "learn": [
                          0.2
                        ]
                      },
                      {
                        "test": [
                          0.6609861638,
                          0.5548431147,
                          0.2
                        ],
                        "passed_time": 3.375021436,
                        "iteration": 1250,
                        "remaining_time": 2.020696287,
                        "learn": [
                          0.2
                        ]
                      },
                      {
                        "test": [
                          0.6609861638,
                          0.5548431147,
                          0.2
                        ],
                        "passed_time": 3.377487372,
                        "iteration": 1251,
                        "remaining_time": 2.017859867,
                        "learn": [
                          0.2
                        ]
                      },
                      {
                        "test": [
                          0.6609861638,
                          0.5548431147,
                          0.2
                        ],
                        "passed_time": 3.37981522,
                        "iteration": 1252,
                        "remaining_time": 2.014941715,
                        "learn": [
                          0.2
                        ]
                      },
                      {
                        "test": [
                          0.6609861638,
                          0.5553909144,
                          0.2
                        ],
                        "passed_time": 3.382190895,
                        "iteration": 1253,
                        "remaining_time": 2.012052957,
                        "learn": [
                          0.2
                        ]
                      },
                      {
                        "test": [
                          0.6609861638,
                          0.5553909144,
                          0.2
                        ],
                        "passed_time": 3.384542563,
                        "iteration": 1254,
                        "remaining_time": 2.009150764,
                        "learn": [
                          0.2
                        ]
                      },
                      {
                        "test": [
                          0.6609861638,
                          0.5553909144,
                          0.2
                        ],
                        "passed_time": 3.3869133,
                        "iteration": 1255,
                        "remaining_time": 2.006260745,
                        "learn": [
                          0.2
                        ]
                      },
                      {
                        "test": [
                          0.6609861638,
                          0.5553909144,
                          0.2
                        ],
                        "passed_time": 3.389568311,
                        "iteration": 1256,
                        "remaining_time": 2.003539582,
                        "learn": [
                          0.2
                        ]
                      },
                      {
                        "test": [
                          0.6609861638,
                          0.5553909144,
                          0.2
                        ],
                        "passed_time": 3.392010907,
                        "iteration": 1257,
                        "remaining_time": 2.000693238,
                        "learn": [
                          0.2
                        ]
                      },
                      {
                        "test": [
                          0.6609861638,
                          0.5553909144,
                          0.2
                        ],
                        "passed_time": 3.394289461,
                        "iteration": 1258,
                        "remaining_time": 1.997750986,
                        "learn": [
                          0.2
                        ]
                      },
                      {
                        "test": [
                          0.6609861638,
                          0.5553909144,
                          0.2
                        ],
                        "passed_time": 3.396660416,
                        "iteration": 1259,
                        "remaining_time": 1.994864054,
                        "learn": [
                          0.2
                        ]
                      },
                      {
                        "test": [
                          0.6581575424,
                          0.5548431147,
                          0.2
                        ],
                        "passed_time": 3.399067952,
                        "iteration": 1260,
                        "remaining_time": 1.991999379,
                        "learn": [
                          0.2
                        ]
                      },
                      {
                        "test": [
                          0.6609861638,
                          0.5553909144,
                          0.2
                        ],
                        "passed_time": 3.401447729,
                        "iteration": 1261,
                        "remaining_time": 1.989119195,
                        "learn": [
                          0.2
                        ]
                      },
                      {
                        "test": [
                          0.6581575424,
                          0.5548431147,
                          0.2
                        ],
                        "passed_time": 3.403787211,
                        "iteration": 1262,
                        "remaining_time": 1.98621629,
                        "learn": [
                          0.2
                        ]
                      },
                      {
                        "test": [
                          0.6581575424,
                          0.5548431147,
                          0.2
                        ],
                        "passed_time": 3.406102306,
                        "iteration": 1263,
                        "remaining_time": 1.983300077,
                        "learn": [
                          0.2
                        ]
                      },
                      {
                        "test": [
                          0.6581575424,
                          0.5538527796,
                          0.2
                        ],
                        "passed_time": 3.408491528,
                        "iteration": 1264,
                        "remaining_time": 1.980427884,
                        "learn": [
                          0.2
                        ]
                      },
                      {
                        "test": [
                          0.6609861638,
                          0.5544005793,
                          0.2
                        ],
                        "passed_time": 3.410816768,
                        "iteration": 1265,
                        "remaining_time": 1.977519359,
                        "learn": [
                          0.2
                        ]
                      },
                      {
                        "test": [
                          0.6581575424,
                          0.5534102443,
                          0.2
                        ],
                        "passed_time": 3.413143494,
                        "iteration": 1266,
                        "remaining_time": 1.974612613,
                        "learn": [
                          0.2
                        ]
                      },
                      {
                        "test": [
                          0.6581575424,
                          0.553958044,
                          0.2
                        ],
                        "passed_time": 3.415545141,
                        "iteration": 1267,
                        "remaining_time": 1.971750034,
                        "learn": [
                          0.2
                        ]
                      },
                      {
                        "test": [
                          0.6581575424,
                          0.553958044,
                          0.2
                        ],
                        "passed_time": 3.417853959,
                        "iteration": 1268,
                        "remaining_time": 1.968834707,
                        "learn": [
                          0.2
                        ]
                      },
                      {
                        "test": [
                          0.6581575424,
                          0.553958044,
                          0.2
                        ],
                        "passed_time": 3.420287581,
                        "iteration": 1269,
                        "remaining_time": 1.965992074,
                        "learn": [
                          0.2
                        ]
                      },
                      {
                        "test": [
                          0.6581575424,
                          0.5535912235,
                          0.2
                        ],
                        "passed_time": 3.4226756,
                        "iteration": 1270,
                        "remaining_time": 1.963123928,
                        "learn": [
                          0.2
                        ]
                      },
                      {
                        "test": [
                          0.6581575424,
                          0.5535912235,
                          0.2
                        ],
                        "passed_time": 3.424997191,
                        "iteration": 1271,
                        "remaining_time": 1.960218518,
                        "learn": [
                          0.2
                        ]
                      },
                      {
                        "test": [
                          0.6581575424,
                          0.553958044,
                          0.2
                        ],
                        "passed_time": 3.427292268,
                        "iteration": 1272,
                        "remaining_time": 1.957298884,
                        "learn": [
                          0.2
                        ]
                      },
                      {
                        "test": [
                          0.6609861638,
                          0.5545058437,
                          0.2
                        ],
                        "passed_time": 3.429646687,
                        "iteration": 1273,
                        "remaining_time": 1.954414046,
                        "learn": [
                          0.2
                        ]
                      },
                      {
                        "test": [
                          0.6638147852,
                          0.5550536434,
                          0.2
                        ],
                        "passed_time": 3.431966589,
                        "iteration": 1274,
                        "remaining_time": 1.951510413,
                        "learn": [
                          0.2
                        ]
                      },
                      {
                        "test": [
                          0.6638147852,
                          0.5550536434,
                          0.2
                        ],
                        "passed_time": 3.434570845,
                        "iteration": 1275,
                        "remaining_time": 1.948769038,
                        "learn": [
                          0.2
                        ]
                      },
                      {
                        "test": [
                          0.6638147852,
                          0.5550536434,
                          0.2
                        ],
                        "passed_time": 3.43734667,
                        "iteration": 1276,
                        "remaining_time": 1.946125013,
                        "learn": [
                          0.2
                        ]
                      },
                      {
                        "test": [
                          0.6638147852,
                          0.5545058437,
                          0.2
                        ],
                        "passed_time": 3.439879081,
                        "iteration": 1277,
                        "remaining_time": 1.943343268,
                        "learn": [
                          0.2
                        ]
                      },
                      {
                        "test": [
                          0.6638147852,
                          0.5545058437,
                          0.2
                        ],
                        "passed_time": 3.442357734,
                        "iteration": 1278,
                        "remaining_time": 1.940531608,
                        "learn": [
                          0.2
                        ]
                      },
                      {
                        "test": [
                          0.6638147852,
                          0.5545058437,
                          0.2
                        ],
                        "passed_time": 3.44482024,
                        "iteration": 1279,
                        "remaining_time": 1.937711385,
                        "learn": [
                          0.2
                        ]
                      },
                      {
                        "test": [
                          0.6638147852,
                          0.5550536434,
                          0.2
                        ],
                        "passed_time": 3.44721711,
                        "iteration": 1280,
                        "remaining_time": 1.934854881,
                        "learn": [
                          0.2
                        ]
                      },
                      {
                        "test": [
                          0.6638147852,
                          0.5550536434,
                          0.2
                        ],
                        "passed_time": 3.449613331,
                        "iteration": 1281,
                        "remaining_time": 1.93199873,
                        "learn": [
                          0.2
                        ]
                      },
                      {
                        "test": [
                          0.6638147852,
                          0.5550536434,
                          0.2
                        ],
                        "passed_time": 3.451954179,
                        "iteration": 1282,
                        "remaining_time": 1.929112351,
                        "learn": [
                          0.2
                        ]
                      },
                      {
                        "test": [
                          0.6609861638,
                          0.5545058437,
                          0.2
                        ],
                        "passed_time": 3.454318049,
                        "iteration": 1283,
                        "remaining_time": 1.92623966,
                        "learn": [
                          0.2
                        ]
                      },
                      {
                        "test": [
                          0.6609861638,
                          0.5545815585,
                          0.2
                        ],
                        "passed_time": 3.456655589,
                        "iteration": 1284,
                        "remaining_time": 1.92335311,
                        "learn": [
                          0.2
                        ]
                      },
                      {
                        "test": [
                          0.6609861638,
                          0.5545815585,
                          0.2
                        ],
                        "passed_time": 3.45906638,
                        "iteration": 1285,
                        "remaining_time": 1.920508084,
                        "learn": [
                          0.2
                        ]
                      },
                      {
                        "test": [
                          0.6609861638,
                          0.5545815585,
                          0.2
                        ],
                        "passed_time": 3.461372897,
                        "iteration": 1286,
                        "remaining_time": 1.917605964,
                        "learn": [
                          0.2
                        ]
                      },
                      {
                        "test": [
                          0.6609861638,
                          0.5545815585,
                          0.2
                        ],
                        "passed_time": 3.463710434,
                        "iteration": 1287,
                        "remaining_time": 1.914721917,
                        "learn": [
                          0.2
                        ]
                      },
                      {
                        "test": [
                          0.6609861638,
                          0.5545815585,
                          0.2
                        ],
                        "passed_time": 3.466024857,
                        "iteration": 1288,
                        "remaining_time": 1.911825968,
                        "learn": [
                          0.2
                        ]
                      },
                      {
                        "test": [
                          0.6638147852,
                          0.5551293582,
                          0.2
                        ],
                        "passed_time": 3.468317729,
                        "iteration": 1289,
                        "remaining_time": 1.90891906,
                        "learn": [
                          0.2
                        ]
                      },
                      {
                        "test": [
                          0.6638147852,
                          0.5551293582,
                          0.2
                        ],
                        "passed_time": 3.470720434,
                        "iteration": 1290,
                        "remaining_time": 1.906073422,
                        "learn": [
                          0.2
                        ]
                      },
                      {
                        "test": [
                          0.6609861638,
                          0.5545815585,
                          0.2
                        ],
                        "passed_time": 3.474479756,
                        "iteration": 1291,
                        "remaining_time": 1.903971879,
                        "learn": [
                          0.2
                        ]
                      },
                      {
                        "test": [
                          0.6609861638,
                          0.5541390232,
                          0.2
                        ],
                        "passed_time": 3.476925659,
                        "iteration": 1292,
                        "remaining_time": 1.901149606,
                        "learn": [
                          0.2
                        ]
                      },
                      {
                        "test": [
                          0.6609861638,
                          0.5541390232,
                          0.2
                        ],
                        "passed_time": 3.479357241,
                        "iteration": 1293,
                        "remaining_time": 1.898320102,
                        "learn": [
                          0.2
                        ]
                      },
                      {
                        "test": [
                          0.6638147852,
                          0.5551293582,
                          0.2
                        ],
                        "passed_time": 3.481726991,
                        "iteration": 1294,
                        "remaining_time": 1.895457551,
                        "learn": [
                          0.2
                        ]
                      },
                      {
                        "test": [
                          0.6638147852,
                          0.5546868229,
                          0.2
                        ],
                        "passed_time": 3.484137576,
                        "iteration": 1295,
                        "remaining_time": 1.892617942,
                        "learn": [
                          0.2
                        ]
                      },
                      {
                        "test": [
                          0.6638147852,
                          0.5541390232,
                          0.2
                        ],
                        "passed_time": 3.486479572,
                        "iteration": 1296,
                        "remaining_time": 1.889741819,
                        "learn": [
                          0.2
                        ]
                      },
                      {
                        "test": [
                          0.6638147852,
                          0.5541390232,
                          0.2
                        ],
                        "passed_time": 3.488904688,
                        "iteration": 1297,
                        "remaining_time": 1.886911472,
                        "learn": [
                          0.2
                        ]
                      },
                      {
                        "test": [
                          0.6638147852,
                          0.5546868229,
                          0.2
                        ],
                        "passed_time": 3.491229087,
                        "iteration": 1298,
                        "remaining_time": 1.884027398,
                        "learn": [
                          0.2
                        ]
                      },
                      {
                        "test": [
                          0.6638147852,
                          0.5546868229,
                          0.2
                        ],
                        "passed_time": 3.493565575,
                        "iteration": 1299,
                        "remaining_time": 1.881150694,
                        "learn": [
                          0.2
                        ]
                      },
                      {
                        "test": [
                          0.6638147852,
                          0.5546868229,
                          0.2
                        ],
                        "passed_time": 3.49589744,
                        "iteration": 1300,
                        "remaining_time": 1.878272337,
                        "learn": [
                          0.2
                        ]
                      },
                      {
                        "test": [
                          0.6638147852,
                          0.5541390232,
                          0.2
                        ],
                        "passed_time": 3.498395363,
                        "iteration": 1301,
                        "remaining_time": 1.875483843,
                        "learn": [
                          0.2
                        ]
                      },
                      {
                        "test": [
                          0.6609861638,
                          0.5541390232,
                          0.2
                        ],
                        "passed_time": 3.500779421,
                        "iteration": 1302,
                        "remaining_time": 1.872634886,
                        "learn": [
                          0.2
                        ]
                      },
                      {
                        "test": [
                          0.6609861638,
                          0.5554825437,
                          0.2
                        ],
                        "passed_time": 3.503195822,
                        "iteration": 1303,
                        "remaining_time": 1.869803905,
                        "learn": [
                          0.2
                        ]
                      },
                      {
                        "test": [
                          0.6609861638,
                          0.5554825437,
                          0.2
                        ],
                        "passed_time": 3.505581767,
                        "iteration": 1304,
                        "remaining_time": 1.86695734,
                        "learn": [
                          0.2
                        ]
                      },
                      {
                        "test": [
                          0.6609861638,
                          0.5554825437,
                          0.2
                        ],
                        "passed_time": 3.507950749,
                        "iteration": 1305,
                        "remaining_time": 1.864102465,
                        "learn": [
                          0.2
                        ]
                      },
                      {
                        "test": [
                          0.6609861638,
                          0.5554825437,
                          0.2
                        ],
                        "passed_time": 3.510317603,
                        "iteration": 1306,
                        "remaining_time": 1.861247207,
                        "learn": [
                          0.2
                        ]
                      },
                      {
                        "test": [
                          0.6643139536,
                          0.5561837956,
                          0.2
                        ],
                        "passed_time": 3.512649975,
                        "iteration": 1307,
                        "remaining_time": 1.858374452,
                        "learn": [
                          0.2
                        ]
                      },
                      {
                        "test": [
                          0.6609861638,
                          0.5554825437,
                          0.2
                        ],
                        "passed_time": 3.51504847,
                        "iteration": 1308,
                        "remaining_time": 1.855537428,
                        "learn": [
                          0.2
                        ]
                      },
                      {
                        "test": [
                          0.6609861638,
                          0.5554825437,
                          0.2
                        ],
                        "passed_time": 3.51739694,
                        "iteration": 1309,
                        "remaining_time": 1.852674724,
                        "learn": [
                          0.2
                        ]
                      },
                      {
                        "test": [
                          0.6609861638,
                          0.5554825437,
                          0.2
                        ],
                        "passed_time": 3.519717259,
                        "iteration": 1310,
                        "remaining_time": 1.84979801,
                        "learn": [
                          0.2
                        ]
                      },
                      {
                        "test": [
                          0.6609861638,
                          0.5554825437,
                          0.2
                        ],
                        "passed_time": 3.522037574,
                        "iteration": 1311,
                        "remaining_time": 1.846922142,
                        "learn": [
                          0.2
                        ]
                      },
                      {
                        "test": [
                          0.6638147852,
                          0.5560303434,
                          0.2
                        ],
                        "passed_time": 3.52435543,
                        "iteration": 1312,
                        "remaining_time": 1.844045834,
                        "learn": [
                          0.2
                        ]
                      },
                      {
                        "test": [
                          0.6609861638,
                          0.5554825437,
                          0.2
                        ],
                        "passed_time": 3.526684444,
                        "iteration": 1313,
                        "remaining_time": 1.841176201,
                        "learn": [
                          0.2
                        ]
                      },
                      {
                        "test": [
                          0.6609861638,
                          0.5554825437,
                          0.2
                        ],
                        "passed_time": 3.52902552,
                        "iteration": 1314,
                        "remaining_time": 1.838313674,
                        "learn": [
                          0.2
                        ]
                      },
                      {
                        "test": [
                          0.667142575,
                          0.5567315953,
                          0.2
                        ],
                        "passed_time": 3.531329088,
                        "iteration": 1315,
                        "remaining_time": 1.835432444,
                        "learn": [
                          0.2
                        ]
                      },
                      {
                        "test": [
                          0.667142575,
                          0.5567315953,
                          0.2
                        ],
                        "passed_time": 3.533685693,
                        "iteration": 1316,
                        "remaining_time": 1.832579597,
                        "learn": [
                          0.2
                        ]
                      },
                      {
                        "test": [
                          0.6638147852,
                          0.5560303434,
                          0.2
                        ],
                        "passed_time": 3.536050149,
                        "iteration": 1317,
                        "remaining_time": 1.829731564,
                        "learn": [
                          0.2
                        ]
                      },
                      {
                        "test": [
                          0.6609861638,
                          0.5554825437,
                          0.2
                        ],
                        "passed_time": 3.538526936,
                        "iteration": 1318,
                        "remaining_time": 1.826942262,
                        "learn": [
                          0.2
                        ]
                      },
                      {
                        "test": [
                          0.6609861638,
                          0.5554825437,
                          0.2
                        ],
                        "passed_time": 3.541016844,
                        "iteration": 1319,
                        "remaining_time": 1.824160193,
                        "learn": [
                          0.2
                        ]
                      },
                      {
                        "test": [
                          0.6609861638,
                          0.5554825437,
                          0.2
                        ],
                        "passed_time": 3.543413772,
                        "iteration": 1320,
                        "remaining_time": 1.821330773,
                        "learn": [
                          0.2
                        ]
                      },
                      {
                        "test": [
                          0.6609861638,
                          0.5554825437,
                          0.2
                        ],
                        "passed_time": 3.545769165,
                        "iteration": 1321,
                        "remaining_time": 1.818480707,
                        "learn": [
                          0.2
                        ]
                      },
                      {
                        "test": [
                          0.6609861638,
                          0.5554825437,
                          0.2
                        ],
                        "passed_time": 3.548072798,
                        "iteration": 1322,
                        "remaining_time": 1.815604901,
                        "learn": [
                          0.2
                        ]
                      },
                      {
                        "test": [
                          0.6570711169,
                          0.5545430299,
                          0.2
                        ],
                        "passed_time": 3.550421664,
                        "iteration": 1323,
                        "remaining_time": 1.812753055,
                        "learn": [
                          0.2
                        ]
                      },
                      {
                        "test": [
                          0.6570711169,
                          0.5545430299,
                          0.2
                        ],
                        "passed_time": 3.552878969,
                        "iteration": 1324,
                        "remaining_time": 1.80995721,
                        "learn": [
                          0.2
                        ]
                      },
                      {
                        "test": [
                          0.6598997383,
                          0.5550908296,
                          0.2
                        ],
                        "passed_time": 3.555174801,
                        "iteration": 1325,
                        "remaining_time": 1.807079801,
                        "learn": [
                          0.2
                        ]
                      },
                      {
                        "test": [
                          0.6598997383,
                          0.5550908296,
                          0.2
                        ],
                        "passed_time": 3.557445457,
                        "iteration": 1326,
                        "remaining_time": 1.804190499,
                        "learn": [
                          0.2
                        ]
                      },
                      {
                        "test": [
                          0.6598997383,
                          0.5550908296,
                          0.2
                        ],
                        "passed_time": 3.559792042,
                        "iteration": 1327,
                        "remaining_time": 1.801340551,
                        "learn": [
                          0.2
                        ]
                      },
                      {
                        "test": [
                          0.6598997383,
                          0.5550908296,
                          0.2
                        ],
                        "passed_time": 3.562312433,
                        "iteration": 1328,
                        "remaining_time": 1.798579114,
                        "learn": [
                          0.2
                        ]
                      },
                      {
                        "test": [
                          0.6598997383,
                          0.5550908296,
                          0.2
                        ],
                        "passed_time": 3.564740971,
                        "iteration": 1329,
                        "remaining_time": 1.795771767,
                        "learn": [
                          0.2
                        ]
                      },
                      {
                        "test": [
                          0.6632275281,
                          0.5557920815,
                          0.2
                        ],
                        "passed_time": 3.567089131,
                        "iteration": 1330,
                        "remaining_time": 1.79292459,
                        "learn": [
                          0.2
                        ]
                      },
                      {
                        "test": [
                          0.6643139536,
                          0.5561837956,
                          0.2
                        ],
                        "passed_time": 3.569414029,
                        "iteration": 1331,
                        "remaining_time": 1.790066495,
                        "learn": [
                          0.2
                        ]
                      },
                      {
                        "test": [
                          0.6609861638,
                          0.5554825437,
                          0.2
                        ],
                        "passed_time": 3.571798616,
                        "iteration": 1332,
                        "remaining_time": 1.787239068,
                        "learn": [
                          0.2
                        ]
                      },
                      {
                        "test": [
                          0.6609861638,
                          0.5554825437,
                          0.2
                        ],
                        "passed_time": 3.574258281,
                        "iteration": 1333,
                        "remaining_time": 1.784449787,
                        "learn": [
                          0.2
                        ]
                      },
                      {
                        "test": [
                          0.6609861638,
                          0.555925079,
                          0.2
                        ],
                        "passed_time": 3.576651647,
                        "iteration": 1334,
                        "remaining_time": 1.781627974,
                        "learn": [
                          0.2
                        ]
                      },
                      {
                        "test": [
                          0.6609861638,
                          0.555925079,
                          0.2
                        ],
                        "passed_time": 3.578983606,
                        "iteration": 1335,
                        "remaining_time": 1.778776283,
                        "learn": [
                          0.2
                        ]
                      },
                      {
                        "test": [
                          0.6643139536,
                          0.556626331,
                          0.2
                        ],
                        "passed_time": 3.581562028,
                        "iteration": 1336,
                        "remaining_time": 1.776047588,
                        "learn": [
                          0.2
                        ]
                      },
                      {
                        "test": [
                          0.6609861638,
                          0.555925079,
                          0.2
                        ],
                        "passed_time": 3.583967572,
                        "iteration": 1337,
                        "remaining_time": 1.773233582,
                        "learn": [
                          0.2
                        ]
                      },
                      {
                        "test": [
                          0.6609861638,
                          0.555925079,
                          0.2
                        ],
                        "passed_time": 3.586346139,
                        "iteration": 1338,
                        "remaining_time": 1.770406869,
                        "learn": [
                          0.2
                        ]
                      },
                      {
                        "test": [
                          0.6609861638,
                          0.555925079,
                          0.2
                        ],
                        "passed_time": 3.588666786,
                        "iteration": 1339,
                        "remaining_time": 1.767552298,
                        "learn": [
                          0.2
                        ]
                      },
                      {
                        "test": [
                          0.6609861638,
                          0.555925079,
                          0.2
                        ],
                        "passed_time": 3.591028874,
                        "iteration": 1340,
                        "remaining_time": 1.764718887,
                        "learn": [
                          0.2
                        ]
                      },
                      {
                        "test": [
                          0.6609861638,
                          0.555925079,
                          0.2
                        ],
                        "passed_time": 3.593400831,
                        "iteration": 1341,
                        "remaining_time": 1.761891018,
                        "learn": [
                          0.2
                        ]
                      },
                      {
                        "test": [
                          0.6609861638,
                          0.555925079,
                          0.2
                        ],
                        "passed_time": 3.595897435,
                        "iteration": 1342,
                        "remaining_time": 1.759124806,
                        "learn": [
                          0.2
                        ]
                      },
                      {
                        "test": [
                          0.6609861638,
                          0.555925079,
                          0.2
                        ],
                        "passed_time": 3.598474853,
                        "iteration": 1343,
                        "remaining_time": 1.75639844,
                        "learn": [
                          0.2
                        ]
                      },
                      {
                        "test": [
                          0.6609861638,
                          0.555925079,
                          0.2
                        ],
                        "passed_time": 3.601163869,
                        "iteration": 1344,
                        "remaining_time": 1.753726643,
                        "learn": [
                          0.2
                        ]
                      },
                      {
                        "test": [
                          0.6609861638,
                          0.555925079,
                          0.2
                        ],
                        "passed_time": 3.603578239,
                        "iteration": 1345,
                        "remaining_time": 1.750921373,
                        "learn": [
                          0.2
                        ]
                      },
                      {
                        "test": [
                          0.6609861638,
                          0.5554825437,
                          0.2
                        ],
                        "passed_time": 3.606046858,
                        "iteration": 1346,
                        "remaining_time": 1.748142983,
                        "learn": [
                          0.2
                        ]
                      },
                      {
                        "test": [
                          0.6534861638,
                          0.5441678244,
                          0.2
                        ],
                        "passed_time": 3.608675968,
                        "iteration": 1347,
                        "remaining_time": 1.745442679,
                        "learn": [
                          0.2
                        ]
                      },
                      {
                        "test": [
                          0.6534861638,
                          0.5446103597,
                          0.2
                        ],
                        "passed_time": 3.611114842,
                        "iteration": 1348,
                        "remaining_time": 1.742650676,
                        "learn": [
                          0.2
                        ]
                      },
                      {
                        "test": [
                          0.6609861638,
                          0.555925079,
                          0.2
                        ],
                        "passed_time": 3.613459655,
                        "iteration": 1349,
                        "remaining_time": 1.739813908,
                        "learn": [
                          0.2
                        ]
                      },
                      {
                        "test": [
                          0.6609861638,
                          0.555925079,
                          0.2
                        ],
                        "passed_time": 3.615803879,
                        "iteration": 1350,
                        "remaining_time": 1.736977585,
                        "learn": [
                          0.2
                        ]
                      },
                      {
                        "test": [
                          0.6609861638,
                          0.555925079,
                          0.2
                        ],
                        "passed_time": 3.618154042,
                        "iteration": 1351,
                        "remaining_time": 1.734144837,
                        "learn": [
                          0.2
                        ]
                      },
                      {
                        "test": [
                          0.6609861638,
                          0.5554825437,
                          0.2
                        ],
                        "passed_time": 3.620555764,
                        "iteration": 1352,
                        "remaining_time": 1.731337457,
                        "learn": [
                          0.2
                        ]
                      },
                      {
                        "test": [
                          0.6638147852,
                          0.5564728787,
                          0.2
                        ],
                        "passed_time": 3.622901117,
                        "iteration": 1353,
                        "remaining_time": 1.728503783,
                        "learn": [
                          0.2
                        ]
                      },
                      {
                        "test": [
                          0.6563147852,
                          0.5451581594,
                          0.2
                        ],
                        "passed_time": 3.625278262,
                        "iteration": 1354,
                        "remaining_time": 1.725685963,
                        "learn": [
                          0.2
                        ]
                      },
                      {
                        "test": [
                          0.6563147852,
                          0.5451581594,
                          0.2
                        ],
                        "passed_time": 3.627665363,
                        "iteration": 1355,
                        "remaining_time": 1.72287352,
                        "learn": [
                          0.2
                        ]
                      },
                      {
                        "test": [
                          0.6563147852,
                          0.5451581594,
                          0.2
                        ],
                        "passed_time": 3.630042322,
                        "iteration": 1356,
                        "remaining_time": 1.7200569,
                        "learn": [
                          0.2
                        ]
                      },
                      {
                        "test": [
                          0.6563147852,
                          0.5451581594,
                          0.2
                        ],
                        "passed_time": 3.632410409,
                        "iteration": 1357,
                        "remaining_time": 1.717236732,
                        "learn": [
                          0.2
                        ]
                      },
                      {
                        "test": [
                          0.6534861638,
                          0.5446103597,
                          0.2
                        ],
                        "passed_time": 3.634980641,
                        "iteration": 1358,
                        "remaining_time": 1.714512576,
                        "learn": [
                          0.2
                        ]
                      },
                      {
                        "test": [
                          0.6534861638,
                          0.5446103597,
                          0.2
                        ],
                        "passed_time": 3.63738536,
                        "iteration": 1359,
                        "remaining_time": 1.711710758,
                        "learn": [
                          0.2
                        ]
                      },
                      {
                        "test": [
                          0.6534861638,
                          0.5446103597,
                          0.2
                        ],
                        "passed_time": 3.639750581,
                        "iteration": 1360,
                        "remaining_time": 1.708890978,
                        "learn": [
                          0.2
                        ]
                      },
                      {
                        "test": [
                          0.6534861638,
                          0.5446103597,
                          0.2
                        ],
                        "passed_time": 3.642083771,
                        "iteration": 1361,
                        "remaining_time": 1.706056862,
                        "learn": [
                          0.2
                        ]
                      },
                      {
                        "test": [
                          0.6534861638,
                          0.5446103597,
                          0.2
                        ],
                        "passed_time": 3.64438718,
                        "iteration": 1362,
                        "remaining_time": 1.703209563,
                        "learn": [
                          0.2
                        ]
                      },
                      {
                        "test": [
                          0.6534861638,
                          0.5446103597,
                          0.2
                        ],
                        "passed_time": 3.646733865,
                        "iteration": 1363,
                        "remaining_time": 1.700383239,
                        "learn": [
                          0.2
                        ]
                      },
                      {
                        "test": [
                          0.6534861638,
                          0.5446103597,
                          0.2
                        ],
                        "passed_time": 3.649135755,
                        "iteration": 1364,
                        "remaining_time": 1.6975833,
                        "learn": [
                          0.2
                        ]
                      },
                      {
                        "test": [
                          0.6534861638,
                          0.5446103597,
                          0.2
                        ],
                        "passed_time": 3.651485792,
                        "iteration": 1365,
                        "remaining_time": 1.694759877,
                        "learn": [
                          0.2
                        ]
                      },
                      {
                        "test": [
                          0.6534861638,
                          0.5446103597,
                          0.2
                        ],
                        "passed_time": 3.653902373,
                        "iteration": 1366,
                        "remaining_time": 1.69196796,
                        "learn": [
                          0.2
                        ]
                      },
                      {
                        "test": [
                          0.6534861638,
                          0.5446103597,
                          0.2
                        ],
                        "passed_time": 3.65628625,
                        "iteration": 1367,
                        "remaining_time": 1.689161484,
                        "learn": [
                          0.2
                        ]
                      },
                      {
                        "test": [
                          0.6534861638,
                          0.5446103597,
                          0.2
                        ],
                        "passed_time": 3.658675822,
                        "iteration": 1368,
                        "remaining_time": 1.68635825,
                        "learn": [
                          0.2
                        ]
                      },
                      {
                        "test": [
                          0.6534861638,
                          0.5446103597,
                          0.2
                        ],
                        "passed_time": 3.661048137,
                        "iteration": 1369,
                        "remaining_time": 1.683547683,
                        "learn": [
                          0.2
                        ]
                      },
                      {
                        "test": [
                          0.6534861638,
                          0.5446103597,
                          0.2
                        ],
                        "passed_time": 3.663416687,
                        "iteration": 1370,
                        "remaining_time": 1.680736029,
                        "learn": [
                          0.2
                        ]
                      },
                      {
                        "test": [
                          0.6534861638,
                          0.5446103597,
                          0.2
                        ],
                        "passed_time": 3.665752659,
                        "iteration": 1371,
                        "remaining_time": 1.677910109,
                        "learn": [
                          0.2
                        ]
                      },
                      {
                        "test": [
                          0.6534861638,
                          0.5446103597,
                          0.2
                        ],
                        "passed_time": 3.668185115,
                        "iteration": 1372,
                        "remaining_time": 1.675128964,
                        "learn": [
                          0.2
                        ]
                      },
                      {
                        "test": [
                          0.6534861638,
                          0.5446103597,
                          0.2
                        ],
                        "passed_time": 3.670515259,
                        "iteration": 1373,
                        "remaining_time": 1.672301712,
                        "learn": [
                          0.2
                        ]
                      },
                      {
                        "test": [
                          0.6534861638,
                          0.5446103597,
                          0.2
                        ],
                        "passed_time": 3.67285093,
                        "iteration": 1374,
                        "remaining_time": 1.669477695,
                        "learn": [
                          0.2
                        ]
                      },
                      {
                        "test": [
                          0.6534861638,
                          0.5446103597,
                          0.2
                        ],
                        "passed_time": 3.675585612,
                        "iteration": 1375,
                        "remaining_time": 1.666835336,
                        "learn": [
                          0.2
                        ]
                      },
                      {
                        "test": [
                          0.6534861638,
                          0.5446103597,
                          0.2
                        ],
                        "passed_time": 3.677890792,
                        "iteration": 1376,
                        "remaining_time": 1.663998521,
                        "learn": [
                          0.2
                        ]
                      },
                      {
                        "test": [
                          0.6534861638,
                          0.5446103597,
                          0.2
                        ],
                        "passed_time": 3.680265114,
                        "iteration": 1377,
                        "remaining_time": 1.661193687,
                        "learn": [
                          0.2
                        ]
                      },
                      {
                        "test": [
                          0.6534861638,
                          0.5446103597,
                          0.2
                        ],
                        "passed_time": 3.682598451,
                        "iteration": 1378,
                        "remaining_time": 1.658371021,
                        "learn": [
                          0.2
                        ]
                      },
                      {
                        "test": [
                          0.6534861638,
                          0.5446103597,
                          0.2
                        ],
                        "passed_time": 3.684960608,
                        "iteration": 1379,
                        "remaining_time": 1.655562012,
                        "learn": [
                          0.2
                        ]
                      },
                      {
                        "test": [
                          0.6534861638,
                          0.5446103597,
                          0.2
                        ],
                        "passed_time": 3.687338129,
                        "iteration": 1380,
                        "remaining_time": 1.652760537,
                        "learn": [
                          0.2
                        ]
                      },
                      {
                        "test": [
                          0.6534861638,
                          0.5446103597,
                          0.2
                        ],
                        "passed_time": 3.689689712,
                        "iteration": 1381,
                        "remaining_time": 1.649948077,
                        "learn": [
                          0.2
                        ]
                      },
                      {
                        "test": [
                          0.6534861638,
                          0.5446103597,
                          0.2
                        ],
                        "passed_time": 3.69206255,
                        "iteration": 1382,
                        "remaining_time": 1.647145765,
                        "learn": [
                          0.2
                        ]
                      },
                      {
                        "test": [
                          0.6534861638,
                          0.5446103597,
                          0.2
                        ],
                        "passed_time": 3.694456083,
                        "iteration": 1383,
                        "remaining_time": 1.644353285,
                        "learn": [
                          0.2
                        ]
                      },
                      {
                        "test": [
                          0.6534861638,
                          0.5446103597,
                          0.2
                        ],
                        "passed_time": 3.696833334,
                        "iteration": 1384,
                        "remaining_time": 1.641554152,
                        "learn": [
                          0.2
                        ]
                      },
                      {
                        "test": [
                          0.6534861638,
                          0.5446103597,
                          0.2
                        ],
                        "passed_time": 3.699228993,
                        "iteration": 1385,
                        "remaining_time": 1.638763782,
                        "learn": [
                          0.2
                        ]
                      },
                      {
                        "test": [
                          0.6534861638,
                          0.5446103597,
                          0.2
                        ],
                        "passed_time": 3.701590108,
                        "iteration": 1386,
                        "remaining_time": 1.635958714,
                        "learn": [
                          0.2
                        ]
                      },
                      {
                        "test": [
                          0.6534861638,
                          0.5446103597,
                          0.2
                        ],
                        "passed_time": 3.703926181,
                        "iteration": 1387,
                        "remaining_time": 1.633143244,
                        "learn": [
                          0.2
                        ]
                      },
                      {
                        "test": [
                          0.6534861638,
                          0.5446103597,
                          0.2
                        ],
                        "passed_time": 3.70627191,
                        "iteration": 1388,
                        "remaining_time": 1.630332712,
                        "learn": [
                          0.2
                        ]
                      },
                      {
                        "test": [
                          0.6534861638,
                          0.5446103597,
                          0.2
                        ],
                        "passed_time": 3.708609562,
                        "iteration": 1389,
                        "remaining_time": 1.627519304,
                        "learn": [
                          0.2
                        ]
                      },
                      {
                        "test": [
                          0.6534861638,
                          0.5446103597,
                          0.2
                        ],
                        "passed_time": 3.710946323,
                        "iteration": 1390,
                        "remaining_time": 1.62470619,
                        "learn": [
                          0.2
                        ]
                      },
                      {
                        "test": [
                          0.6534861638,
                          0.5446103597,
                          0.2
                        ],
                        "passed_time": 3.713324852,
                        "iteration": 1391,
                        "remaining_time": 1.621912004,
                        "learn": [
                          0.2
                        ]
                      },
                      {
                        "test": [
                          0.6534861638,
                          0.5446103597,
                          0.2
                        ],
                        "passed_time": 3.715669672,
                        "iteration": 1392,
                        "remaining_time": 1.619103726,
                        "learn": [
                          0.2
                        ]
                      },
                      {
                        "test": [
                          0.6534861638,
                          0.5446103597,
                          0.2
                        ],
                        "passed_time": 3.717994568,
                        "iteration": 1393,
                        "remaining_time": 1.616287452,
                        "learn": [
                          0.2
                        ]
                      },
                      {
                        "test": [
                          0.6534861638,
                          0.5446103597,
                          0.2
                        ],
                        "passed_time": 3.720362298,
                        "iteration": 1394,
                        "remaining_time": 1.613490459,
                        "learn": [
                          0.2
                        ]
                      },
                      {
                        "test": [
                          0.6534861638,
                          0.5446103597,
                          0.2
                        ],
                        "passed_time": 3.722879283,
                        "iteration": 1395,
                        "remaining_time": 1.610758658,
                        "learn": [
                          0.2
                        ]
                      },
                      {
                        "test": [
                          0.6534861638,
                          0.5446103597,
                          0.2
                        ],
                        "passed_time": 3.725164132,
                        "iteration": 1396,
                        "remaining_time": 1.607926966,
                        "learn": [
                          0.2
                        ]
                      },
                      {
                        "test": [
                          0.6609861638,
                          0.555925079,
                          0.2
                        ],
                        "passed_time": 3.727570951,
                        "iteration": 1397,
                        "remaining_time": 1.605148578,
                        "learn": [
                          0.2
                        ]
                      },
                      {
                        "test": [
                          0.6638147852,
                          0.5564728787,
                          0.2
                        ],
                        "passed_time": 3.729904815,
                        "iteration": 1398,
                        "remaining_time": 1.602339381,
                        "learn": [
                          0.2
                        ]
                      },
                      {
                        "test": [
                          0.6638147852,
                          0.5564728787,
                          0.2
                        ],
                        "passed_time": 3.732372747,
                        "iteration": 1399,
                        "remaining_time": 1.59958832,
                        "learn": [
                          0.2
                        ]
                      },
                      {
                        "test": [
                          0.6638147852,
                          0.5564728787,
                          0.2
                        ],
                        "passed_time": 3.734711028,
                        "iteration": 1400,
                        "remaining_time": 1.596782231,
                        "learn": [
                          0.2
                        ]
                      },
                      {
                        "test": [
                          0.6692335352,
                          0.5585981524,
                          0.2
                        ],
                        "passed_time": 3.737008697,
                        "iteration": 1401,
                        "remaining_time": 1.593959487,
                        "learn": [
                          0.2
                        ]
                      },
                      {
                        "test": [
                          0.6692335352,
                          0.5585981524,
                          0.2
                        ],
                        "passed_time": 3.739372501,
                        "iteration": 1402,
                        "remaining_time": 1.591165633,
                        "learn": [
                          0.2
                        ]
                      },
                      {
                        "test": [
                          0.6692335352,
                          0.5585981524,
                          0.2
                        ],
                        "passed_time": 3.741661381,
                        "iteration": 1403,
                        "remaining_time": 1.588340586,
                        "learn": [
                          0.2
                        ]
                      },
                      {
                        "test": [
                          0.6692335352,
                          0.5585981524,
                          0.2
                        ],
                        "passed_time": 3.744043299,
                        "iteration": 1404,
                        "remaining_time": 1.585555703,
                        "learn": [
                          0.2
                        ]
                      },
                      {
                        "test": [
                          0.6664049138,
                          0.5580503527,
                          0.2
                        ],
                        "passed_time": 3.7463792,
                        "iteration": 1405,
                        "remaining_time": 1.582751952,
                        "learn": [
                          0.2
                        ]
                      },
                      {
                        "test": [
                          0.6664049138,
                          0.5580503527,
                          0.2
                        ],
                        "passed_time": 3.748711214,
                        "iteration": 1406,
                        "remaining_time": 1.579947228,
                        "learn": [
                          0.2
                        ]
                      },
                      {
                        "test": [
                          0.6609861638,
                          0.555925079,
                          0.2
                        ],
                        "passed_time": 3.751087744,
                        "iteration": 1407,
                        "remaining_time": 1.577161892,
                        "learn": [
                          0.2
                        ]
                      },
                      {
                        "test": [
                          0.6609861638,
                          0.555925079,
                          0.2
                        ],
                        "passed_time": 3.753400563,
                        "iteration": 1408,
                        "remaining_time": 1.574350414,
                        "learn": [
                          0.2
                        ]
                      },
                      {
                        "test": [
                          0.6609861638,
                          0.555925079,
                          0.2
                        ],
                        "passed_time": 3.755748644,
                        "iteration": 1409,
                        "remaining_time": 1.571554397,
                        "learn": [
                          0.2
                        ]
                      },
                      {
                        "test": [
                          0.6609861638,
                          0.555925079,
                          0.2
                        ],
                        "passed_time": 3.758083499,
                        "iteration": 1410,
                        "remaining_time": 1.568753495,
                        "learn": [
                          0.2
                        ]
                      },
                      {
                        "test": [
                          0.6609861638,
                          0.555925079,
                          0.2
                        ],
                        "passed_time": 3.760422601,
                        "iteration": 1411,
                        "remaining_time": 1.565955021,
                        "learn": [
                          0.2
                        ]
                      },
                      {
                        "test": [
                          0.6609861638,
                          0.555925079,
                          0.2
                        ],
                        "passed_time": 3.762873195,
                        "iteration": 1412,
                        "remaining_time": 1.563203514,
                        "learn": [
                          0.2
                        ]
                      },
                      {
                        "test": [
                          0.6609861638,
                          0.555925079,
                          0.2
                        ],
                        "passed_time": 3.765225414,
                        "iteration": 1413,
                        "remaining_time": 1.560411664,
                        "learn": [
                          0.2
                        ]
                      },
                      {
                        "test": [
                          0.6609861638,
                          0.555925079,
                          0.2
                        ],
                        "passed_time": 3.767593081,
                        "iteration": 1414,
                        "remaining_time": 1.557626822,
                        "learn": [
                          0.2
                        ]
                      },
                      {
                        "test": [
                          0.6609861638,
                          0.555925079,
                          0.2
                        ],
                        "passed_time": 3.769975519,
                        "iteration": 1415,
                        "remaining_time": 1.554848661,
                        "learn": [
                          0.2
                        ]
                      },
                      {
                        "test": [
                          0.6638147852,
                          0.5564728787,
                          0.2
                        ],
                        "passed_time": 3.772342831,
                        "iteration": 1416,
                        "remaining_time": 1.552064835,
                        "learn": [
                          0.2
                        ]
                      },
                      {
                        "test": [
                          0.6638147852,
                          0.5564728787,
                          0.2
                        ],
                        "passed_time": 3.774728564,
                        "iteration": 1417,
                        "remaining_time": 1.549289157,
                        "learn": [
                          0.2
                        ]
                      },
                      {
                        "test": [
                          0.6638147852,
                          0.5564728787,
                          0.2
                        ],
                        "passed_time": 3.777184827,
                        "iteration": 1418,
                        "remaining_time": 1.546542907,
                        "learn": [
                          0.2
                        ]
                      },
                      {
                        "test": [
                          0.6638147852,
                          0.5564728787,
                          0.2
                        ],
                        "passed_time": 3.77966355,
                        "iteration": 1419,
                        "remaining_time": 1.543806239,
                        "learn": [
                          0.2
                        ]
                      },
                      {
                        "test": [
                          0.6638147852,
                          0.5564728787,
                          0.2
                        ],
                        "passed_time": 3.782055403,
                        "iteration": 1420,
                        "remaining_time": 1.541034538,
                        "learn": [
                          0.2
                        ]
                      },
                      {
                        "test": [
                          0.6638147852,
                          0.5564728787,
                          0.2
                        ],
                        "passed_time": 3.784463402,
                        "iteration": 1421,
                        "remaining_time": 1.538269934,
                        "learn": [
                          0.2
                        ]
                      },
                      {
                        "test": [
                          0.6638147852,
                          0.5564728787,
                          0.2
                        ],
                        "passed_time": 3.786871072,
                        "iteration": 1422,
                        "remaining_time": 1.535505698,
                        "learn": [
                          0.2
                        ]
                      },
                      {
                        "test": [
                          0.6638147852,
                          0.5564728787,
                          0.2
                        ],
                        "passed_time": 3.789394647,
                        "iteration": 1423,
                        "remaining_time": 1.532788846,
                        "learn": [
                          0.2
                        ]
                      },
                      {
                        "test": [
                          0.6638147852,
                          0.5564728787,
                          0.2
                        ],
                        "passed_time": 3.791755882,
                        "iteration": 1424,
                        "remaining_time": 1.530006759,
                        "learn": [
                          0.2
                        ]
                      },
                      {
                        "test": [
                          0.6638147852,
                          0.5564728787,
                          0.2
                        ],
                        "passed_time": 3.794097787,
                        "iteration": 1425,
                        "remaining_time": 1.527217482,
                        "learn": [
                          0.2
                        ]
                      },
                      {
                        "test": [
                          0.6598997383,
                          0.5555333649,
                          0.2
                        ],
                        "passed_time": 3.796388873,
                        "iteration": 1426,
                        "remaining_time": 1.524408426,
                        "learn": [
                          0.2
                        ]
                      },
                      {
                        "test": [
                          0.6598997383,
                          0.5555333649,
                          0.2
                        ],
                        "passed_time": 3.798786128,
                        "iteration": 1427,
                        "remaining_time": 1.521642623,
                        "learn": [
                          0.2
                        ]
                      },
                      {
                        "test": [
                          0.6598997383,
                          0.5555333649,
                          0.2
                        ],
                        "passed_time": 3.801214176,
                        "iteration": 1428,
                        "remaining_time": 1.518889639,
                        "learn": [
                          0.2
                        ]
                      },
                      {
                        "test": [
                          0.6598997383,
                          0.5555333649,
                          0.2
                        ],
                        "passed_time": 3.80374147,
                        "iteration": 1429,
                        "remaining_time": 1.51617667,
                        "learn": [
                          0.2
                        ]
                      },
                      {
                        "test": [
                          0.6638147852,
                          0.5564728787,
                          0.2
                        ],
                        "passed_time": 3.806103942,
                        "iteration": 1430,
                        "remaining_time": 1.513398423,
                        "learn": [
                          0.2
                        ]
                      },
                      {
                        "test": [
                          0.6638147852,
                          0.5564728787,
                          0.2
                        ],
                        "passed_time": 3.808500955,
                        "iteration": 1431,
                        "remaining_time": 1.510634457,
                        "learn": [
                          0.2
                        ]
                      },
                      {
                        "test": [
                          0.6638147852,
                          0.5564728787,
                          0.2
                        ],
                        "passed_time": 3.810835747,
                        "iteration": 1432,
                        "remaining_time": 1.507846384,
                        "learn": [
                          0.2
                        ]
                      },
                      {
                        "test": [
                          0.6713147852,
                          0.567787598,
                          0.2
                        ],
                        "passed_time": 3.813233739,
                        "iteration": 1433,
                        "remaining_time": 1.505083889,
                        "learn": [
                          0.2
                        ]
                      },
                      {
                        "test": [
                          0.6713147852,
                          0.567787598,
                          0.2
                        ],
                        "passed_time": 3.815556781,
                        "iteration": 1434,
                        "remaining_time": 1.502292391,
                        "learn": [
                          0.2
                        ]
                      },
                      {
                        "test": [
                          0.6713147852,
                          0.567787598,
                          0.2
                        ],
                        "passed_time": 3.817958579,
                        "iteration": 1435,
                        "remaining_time": 1.499532478,
                        "learn": [
                          0.2
                        ]
                      },
                      {
                        "test": [
                          0.6739049138,
                          0.569365072,
                          0.2
                        ],
                        "passed_time": 3.82035434,
                        "iteration": 1436,
                        "remaining_time": 1.496770698,
                        "learn": [
                          0.2
                        ]
                      },
                      {
                        "test": [
                          0.6692335352,
                          0.5585981524,
                          0.2
                        ],
                        "passed_time": 3.822794646,
                        "iteration": 1437,
                        "remaining_time": 1.494026837,
                        "learn": [
                          0.2
                        ]
                      },
                      {
                        "test": [
                          0.6692335352,
                          0.5585981524,
                          0.2
                        ],
                        "passed_time": 3.825182968,
                        "iteration": 1438,
                        "remaining_time": 1.491263131,
                        "learn": [
                          0.2
                        ]
                      },
                      {
                        "test": [
                          0.6692335352,
                          0.5585981524,
                          0.2
                        ],
                        "passed_time": 3.827763341,
                        "iteration": 1439,
                        "remaining_time": 1.488574633,
                        "learn": [
                          0.2
                        ]
                      },
                      {
                        "test": [
                          0.6692335352,
                          0.5585981524,
                          0.2
                        ],
                        "passed_time": 3.830172583,
                        "iteration": 1440,
                        "remaining_time": 1.485819899,
                        "learn": [
                          0.2
                        ]
                      },
                      {
                        "test": [
                          0.6692335352,
                          0.5585981524,
                          0.2
                        ],
                        "passed_time": 3.832729306,
                        "iteration": 1441,
                        "remaining_time": 1.483122713,
                        "learn": [
                          0.2
                        ]
                      },
                      {
                        "test": [
                          0.6692335352,
                          0.5585981524,
                          0.2
                        ],
                        "passed_time": 3.835064948,
                        "iteration": 1442,
                        "remaining_time": 1.480340385,
                        "learn": [
                          0.2
                        ]
                      },
                      {
                        "test": [
                          0.6692335352,
                          0.5585981524,
                          0.2
                        ],
                        "passed_time": 3.837444671,
                        "iteration": 1443,
                        "remaining_time": 1.477575649,
                        "learn": [
                          0.2
                        ]
                      },
                      {
                        "test": [
                          0.6692335352,
                          0.5585981524,
                          0.2
                        ],
                        "passed_time": 3.839783067,
                        "iteration": 1444,
                        "remaining_time": 1.474795572,
                        "learn": [
                          0.2
                        ]
                      },
                      {
                        "test": [
                          0.6692335352,
                          0.5585981524,
                          0.2
                        ],
                        "passed_time": 3.84214448,
                        "iteration": 1445,
                        "remaining_time": 1.472024925,
                        "learn": [
                          0.2
                        ]
                      },
                      {
                        "test": [
                          0.6692335352,
                          0.5585981524,
                          0.2
                        ],
                        "passed_time": 3.844478849,
                        "iteration": 1446,
                        "remaining_time": 1.469244508,
                        "learn": [
                          0.2
                        ]
                      },
                      {
                        "test": [
                          0.6692335352,
                          0.5585981524,
                          0.2
                        ],
                        "passed_time": 3.846862747,
                        "iteration": 1447,
                        "remaining_time": 1.466483589,
                        "learn": [
                          0.2
                        ]
                      },
                      {
                        "test": [
                          0.6692335352,
                          0.5585981524,
                          0.2
                        ],
                        "passed_time": 3.84923668,
                        "iteration": 1448,
                        "remaining_time": 1.4637194,
                        "learn": [
                          0.2
                        ]
                      },
                      {
                        "test": [
                          0.6692335352,
                          0.5585981524,
                          0.2
                        ],
                        "passed_time": 3.851604528,
                        "iteration": 1449,
                        "remaining_time": 1.460953442,
                        "learn": [
                          0.2
                        ]
                      },
                      {
                        "test": [
                          0.6692335352,
                          0.5585981524,
                          0.2
                        ],
                        "passed_time": 3.853947102,
                        "iteration": 1450,
                        "remaining_time": 1.458178469,
                        "learn": [
                          0.2
                        ]
                      },
                      {
                        "test": [
                          0.6692335352,
                          0.5585981524,
                          0.2
                        ],
                        "passed_time": 3.856292693,
                        "iteration": 1451,
                        "remaining_time": 1.455405231,
                        "learn": [
                          0.2
                        ]
                      },
                      {
                        "test": [
                          0.6692335352,
                          0.5585981524,
                          0.2
                        ],
                        "passed_time": 3.858733404,
                        "iteration": 1452,
                        "remaining_time": 1.452668391,
                        "learn": [
                          0.2
                        ]
                      },
                      {
                        "test": [
                          0.6692335352,
                          0.5585981524,
                          0.2
                        ],
                        "passed_time": 3.861150478,
                        "iteration": 1453,
                        "remaining_time": 1.449923082,
                        "learn": [
                          0.2
                        ]
                      },
                      {
                        "test": [
                          0.6767335352,
                          0.5699128717,
                          0.2
                        ],
                        "passed_time": 3.863632634,
                        "iteration": 1454,
                        "remaining_time": 1.447202602,
                        "learn": [
                          0.2
                        ]
                      },
                      {
                        "test": [
                          0.6767335352,
                          0.5699128717,
                          0.2
                        ],
                        "passed_time": 3.866065426,
                        "iteration": 1455,
                        "remaining_time": 1.444464005,
                        "learn": [
                          0.2
                        ]
                      },
                      {
                        "test": [
                          0.6767335352,
                          0.5699128717,
                          0.2
                        ],
                        "passed_time": 3.868456587,
                        "iteration": 1456,
                        "remaining_time": 1.441710313,
                        "learn": [
                          0.2
                        ]
                      },
                      {
                        "test": [
                          0.6767335352,
                          0.5699128717,
                          0.2
                        ],
                        "passed_time": 3.870776552,
                        "iteration": 1457,
                        "remaining_time": 1.438930653,
                        "learn": [
                          0.2
                        ]
                      },
                      {
                        "test": [
                          0.6842335352,
                          0.5812275909,
                          0.2
                        ],
                        "passed_time": 3.873137827,
                        "iteration": 1458,
                        "remaining_time": 1.436166939,
                        "learn": [
                          0.2
                        ]
                      },
                      {
                        "test": [
                          0.6842335352,
                          0.5812275909,
                          0.2
                        ],
                        "passed_time": 3.875491863,
                        "iteration": 1459,
                        "remaining_time": 1.4334011,
                        "learn": [
                          0.2
                        ]
                      },
                      {
                        "test": [
                          0.6842335352,
                          0.5812275909,
                          0.2
                        ],
                        "passed_time": 3.877829243,
                        "iteration": 1460,
                        "remaining_time": 1.43062968,
                        "learn": [
                          0.2
                        ]
                      },
                      {
                        "test": [
                          0.6842335352,
                          0.5812275909,
                          0.2
                        ],
                        "passed_time": 3.880167748,
                        "iteration": 1461,
                        "remaining_time": 1.427859267,
                        "learn": [
                          0.2
                        ]
                      },
                      {
                        "test": [
                          0.6842335352,
                          0.5812275909,
                          0.2
                        ],
                        "passed_time": 3.882513871,
                        "iteration": 1462,
                        "remaining_time": 1.425092241,
                        "learn": [
                          0.2
                        ]
                      },
                      {
                        "test": [
                          0.6842335352,
                          0.5812275909,
                          0.2
                        ],
                        "passed_time": 3.884907529,
                        "iteration": 1463,
                        "remaining_time": 1.422343194,
                        "learn": [
                          0.2
                        ]
                      },
                      {
                        "test": [
                          0.6842335352,
                          0.5812275909,
                          0.2
                        ],
                        "passed_time": 3.887381493,
                        "iteration": 1464,
                        "remaining_time": 1.419623958,
                        "learn": [
                          0.2
                        ]
                      },
                      {
                        "test": [
                          0.6842335352,
                          0.5812275909,
                          0.2
                        ],
                        "passed_time": 3.889792124,
                        "iteration": 1465,
                        "remaining_time": 1.416881988,
                        "learn": [
                          0.2
                        ]
                      },
                      {
                        "test": [
                          0.6842335352,
                          0.5812275909,
                          0.2
                        ],
                        "passed_time": 3.892227723,
                        "iteration": 1466,
                        "remaining_time": 1.414149541,
                        "learn": [
                          0.2
                        ]
                      },
                      {
                        "test": [
                          0.6842335352,
                          0.5812275909,
                          0.2
                        ],
                        "passed_time": 3.894621429,
                        "iteration": 1467,
                        "remaining_time": 1.411402316,
                        "learn": [
                          0.2
                        ]
                      },
                      {
                        "test": [
                          0.6842335352,
                          0.5812275909,
                          0.2
                        ],
                        "passed_time": 3.896977361,
                        "iteration": 1468,
                        "remaining_time": 1.408641919,
                        "learn": [
                          0.2
                        ]
                      },
                      {
                        "test": [
                          0.6842335352,
                          0.5798840705,
                          0.2
                        ],
                        "passed_time": 3.899362812,
                        "iteration": 1469,
                        "remaining_time": 1.405892715,
                        "learn": [
                          0.2
                        ]
                      },
                      {
                        "test": [
                          0.6842335352,
                          0.5798840705,
                          0.2
                        ],
                        "passed_time": 3.901752938,
                        "iteration": 1470,
                        "remaining_time": 1.403145686,
                        "learn": [
                          0.2
                        ]
                      },
                      {
                        "test": [
                          0.6842335352,
                          0.5798840705,
                          0.2
                        ],
                        "passed_time": 3.904138139,
                        "iteration": 1471,
                        "remaining_time": 1.400397376,
                        "learn": [
                          0.2
                        ]
                      },
                      {
                        "test": [
                          0.6842335352,
                          0.5798840705,
                          0.2
                        ],
                        "passed_time": 3.906482808,
                        "iteration": 1472,
                        "remaining_time": 1.397635058,
                        "learn": [
                          0.2
                        ]
                      },
                      {
                        "test": [
                          0.6842335352,
                          0.5798840705,
                          0.2
                        ],
                        "passed_time": 3.90881647,
                        "iteration": 1473,
                        "remaining_time": 1.394869378,
                        "learn": [
                          0.2
                        ]
                      },
                      {
                        "test": [
                          0.6842335352,
                          0.5812275909,
                          0.2
                        ],
                        "passed_time": 3.911144473,
                        "iteration": 1474,
                        "remaining_time": 1.39210227,
                        "learn": [
                          0.2
                        ]
                      },
                      {
                        "test": [
                          0.6842335352,
                          0.5812275909,
                          0.2
                        ],
                        "passed_time": 3.913471126,
                        "iteration": 1475,
                        "remaining_time": 1.389335278,
                        "learn": [
                          0.2
                        ]
                      },
                      {
                        "test": [
                          0.6842335352,
                          0.5812275909,
                          0.2
                        ],
                        "passed_time": 3.915772797,
                        "iteration": 1476,
                        "remaining_time": 1.386560036,
                        "learn": [
                          0.2
                        ]
                      },
                      {
                        "test": [
                          0.6842335352,
                          0.5812275909,
                          0.2
                        ],
                        "passed_time": 3.91810558,
                        "iteration": 1477,
                        "remaining_time": 1.383796423,
                        "learn": [
                          0.2
                        ]
                      },
                      {
                        "test": [
                          0.6842335352,
                          0.5812275909,
                          0.2
                        ],
                        "passed_time": 3.920478119,
                        "iteration": 1478,
                        "remaining_time": 1.381047397,
                        "learn": [
                          0.2
                        ]
                      },
                      {
                        "test": [
                          0.6842335352,
                          0.5812275909,
                          0.2
                        ],
                        "passed_time": 3.923096547,
                        "iteration": 1479,
                        "remaining_time": 1.378385273,
                        "learn": [
                          0.2
                        ]
                      },
                      {
                        "test": [
                          0.6842335352,
                          0.5812275909,
                          0.2
                        ],
                        "passed_time": 3.925488049,
                        "iteration": 1480,
                        "remaining_time": 1.375643685,
                        "learn": [
                          0.2
                        ]
                      },
                      {
                        "test": [
                          0.6842335352,
                          0.5812275909,
                          0.2
                        ],
                        "passed_time": 3.927874965,
                        "iteration": 1481,
                        "remaining_time": 1.372900966,
                        "learn": [
                          0.2
                        ]
                      },
                      {
                        "test": [
                          0.6842335352,
                          0.5812275909,
                          0.2
                        ],
                        "passed_time": 3.930269295,
                        "iteration": 1482,
                        "remaining_time": 1.370161312,
                        "learn": [
                          0.2
                        ]
                      },
                      {
                        "test": [
                          0.6842335352,
                          0.5812275909,
                          0.2
                        ],
                        "passed_time": 3.932596049,
                        "iteration": 1483,
                        "remaining_time": 1.367398626,
                        "learn": [
                          0.2
                        ]
                      },
                      {
                        "test": [
                          0.6842335352,
                          0.5812275909,
                          0.2
                        ],
                        "passed_time": 3.934954477,
                        "iteration": 1484,
                        "remaining_time": 1.364647512,
                        "learn": [
                          0.2
                        ]
                      },
                      {
                        "test": [
                          0.6842335352,
                          0.5812275909,
                          0.2
                        ],
                        "passed_time": 3.937301216,
                        "iteration": 1485,
                        "remaining_time": 1.361892884,
                        "learn": [
                          0.2
                        ]
                      },
                      {
                        "test": [
                          0.6842335352,
                          0.5798840705,
                          0.2
                        ],
                        "passed_time": 3.939649644,
                        "iteration": 1486,
                        "remaining_time": 1.359139386,
                        "learn": [
                          0.2
                        ]
                      },
                      {
                        "test": [
                          0.6842335352,
                          0.5812275909,
                          0.2
                        ],
                        "passed_time": 3.941980717,
                        "iteration": 1487,
                        "remaining_time": 1.356380462,
                        "learn": [
                          0.2
                        ]
                      },
                      {
                        "test": [
                          0.6842335352,
                          0.5812275909,
                          0.2
                        ],
                        "passed_time": 3.944319102,
                        "iteration": 1488,
                        "remaining_time": 1.353624621,
                        "learn": [
                          0.2
                        ]
                      },
                      {
                        "test": [
                          0.6842335352,
                          0.5812275909,
                          0.2
                        ],
                        "passed_time": 3.946861294,
                        "iteration": 1489,
                        "remaining_time": 1.350939101,
                        "learn": [
                          0.2
                        ]
                      },
                      {
                        "test": [
                          0.687561325,
                          0.5819288429,
                          0.2
                        ],
                        "passed_time": 3.949382069,
                        "iteration": 1490,
                        "remaining_time": 1.348246461,
                        "learn": [
                          0.2
                        ]
                      },
                      {
                        "test": [
                          0.687561325,
                          0.5819288429,
                          0.2
                        ],
                        "passed_time": 3.951771098,
                        "iteration": 1491,
                        "remaining_time": 1.345509194,
                        "learn": [
                          0.2
                        ]
                      },
                      {
                        "test": [
                          0.6842335352,
                          0.5812275909,
                          0.2
                        ],
                        "passed_time": 3.976807703,
                        "iteration": 1492,
                        "remaining_time": 1.350463165,
                        "learn": [
                          0.2
                        ]
                      },
                      {
                        "test": [
                          0.687561325,
                          0.5819288429,
                          0.2
                        ],
                        "passed_time": 4.215912977,
                        "iteration": 1493,
                        "remaining_time": 1.427879496,
                        "learn": [
                          0.2
                        ]
                      },
                      {
                        "test": [
                          0.687561325,
                          0.5819288429,
                          0.2
                        ],
                        "passed_time": 4.221537617,
                        "iteration": 1494,
                        "remaining_time": 1.426004346,
                        "learn": [
                          0.2
                        ]
                      },
                      {
                        "test": [
                          0.6842335352,
                          0.5812275909,
                          0.2
                        ],
                        "passed_time": 4.229780795,
                        "iteration": 1495,
                        "remaining_time": 1.425006364,
                        "learn": [
                          0.2
                        ]
                      },
                      {
                        "test": [
                          0.688148582,
                          0.5808235843,
                          0.2
                        ],
                        "passed_time": 4.237749504,
                        "iteration": 1496,
                        "remaining_time": 1.42390648,
                        "learn": [
                          0.2
                        ]
                      },
                      {
                        "test": [
                          0.688148582,
                          0.5808235843,
                          0.2
                        ],
                        "passed_time": 4.241472255,
                        "iteration": 1497,
                        "remaining_time": 1.421374548,
                        "learn": [
                          0.2
                        ]
                      },
                      {
                        "test": [
                          0.688148582,
                          0.5808235843,
                          0.2
                        ],
                        "passed_time": 4.250127169,
                        "iteration": 1498,
                        "remaining_time": 1.420489467,
                        "learn": [
                          0.2
                        ]
                      },
                      {
                        "test": [
                          0.688148582,
                          0.5808235843,
                          0.2
                        ],
                        "passed_time": 4.258332503,
                        "iteration": 1499,
                        "remaining_time": 1.419444168,
                        "learn": [
                          0.2
                        ]
                      },
                      {
                        "test": [
                          0.688148582,
                          0.5808235843,
                          0.2
                        ],
                        "passed_time": 4.266540456,
                        "iteration": 1500,
                        "remaining_time": 1.418390198,
                        "learn": [
                          0.2
                        ]
                      },
                      {
                        "test": [
                          0.6914763719,
                          0.5815248362,
                          0.2
                        ],
                        "passed_time": 4.270419957,
                        "iteration": 1501,
                        "remaining_time": 1.41589157,
                        "learn": [
                          0.2
                        ]
                      },
                      {
                        "test": [
                          0.688148582,
                          0.5808235843,
                          0.2
                        ],
                        "passed_time": 4.278326638,
                        "iteration": 1502,
                        "remaining_time": 1.41472278,
                        "learn": [
                          0.2
                        ]
                      },
                      {
                        "test": [
                          0.688148582,
                          0.5808235843,
                          0.2
                        ],
                        "passed_time": 4.286127859,
                        "iteration": 1503,
                        "remaining_time": 1.413510252,
                        "learn": [
                          0.2
                        ]
                      },
                      {
                        "test": [
                          0.688148582,
                          0.5808235843,
                          0.2
                        ],
                        "passed_time": 4.289712756,
                        "iteration": 1504,
                        "remaining_time": 1.410902202,
                        "learn": [
                          0.2
                        ]
                      },
                      {
                        "test": [
                          0.688148582,
                          0.5808235843,
                          0.2
                        ],
                        "passed_time": 4.297988635,
                        "iteration": 1505,
                        "remaining_time": 1.409831597,
                        "learn": [
                          0.2
                        ]
                      },
                      {
                        "test": [
                          0.688148582,
                          0.5808235843,
                          0.2
                        ],
                        "passed_time": 4.301589651,
                        "iteration": 1506,
                        "remaining_time": 1.407222096,
                        "learn": [
                          0.2
                        ]
                      },
                      {
                        "test": [
                          0.688148582,
                          0.5808235843,
                          0.2
                        ],
                        "passed_time": 4.305070258,
                        "iteration": 1507,
                        "remaining_time": 1.404571994,
                        "learn": [
                          0.2
                        ]
                      },
                      {
                        "test": [
                          0.688148582,
                          0.5808235843,
                          0.2
                        ],
                        "passed_time": 4.308186615,
                        "iteration": 1508,
                        "remaining_time": 1.401802272,
                        "learn": [
                          0.2
                        ]
                      },
                      {
                        "test": [
                          0.688148582,
                          0.5808235843,
                          0.2
                        ],
                        "passed_time": 4.312540922,
                        "iteration": 1509,
                        "remaining_time": 1.399433809,
                        "learn": [
                          0.2
                        ]
                      },
                      {
                        "test": [
                          0.688148582,
                          0.5808235843,
                          0.2
                        ],
                        "passed_time": 4.3179368,
                        "iteration": 1510,
                        "remaining_time": 1.397399798,
                        "learn": [
                          0.2
                        ]
                      },
                      {
                        "test": [
                          0.688148582,
                          0.5808235843,
                          0.2
                        ],
                        "passed_time": 4.320797,
                        "iteration": 1511,
                        "remaining_time": 1.394542947,
                        "learn": [
                          0.2
                        ]
                      },
                      {
                        "test": [
                          0.6914763719,
                          0.5815248362,
                          0.2
                        ],
                        "passed_time": 4.324263237,
                        "iteration": 1512,
                        "remaining_time": 1.391881161,
                        "learn": [
                          0.2
                        ]
                      },
                      {
                        "test": [
                          0.6914763719,
                          0.5815248362,
                          0.2
                        ],
                        "passed_time": 4.327388147,
                        "iteration": 1513,
                        "remaining_time": 1.389108745,
                        "learn": [
                          0.2
                        ]
                      },
                      {
                        "test": [
                          0.688148582,
                          0.5808235843,
                          0.2
                        ],
                        "passed_time": 4.331900001,
                        "iteration": 1514,
                        "remaining_time": 1.386779868,
                        "learn": [
                          0.2
                        ]
                      },
                      {
                        "test": [
                          0.6914763719,
                          0.5815248362,
                          0.2
                        ],
                        "passed_time": 4.33596994,
                        "iteration": 1515,
                        "remaining_time": 1.384307026,
                        "learn": [
                          0.2
                        ]
                      },
                      {
                        "test": [
                          0.6914763719,
                          0.5815248362,
                          0.2
                        ],
                        "passed_time": 4.338345054,
                        "iteration": 1516,
                        "remaining_time": 1.38129246,
                        "learn": [
                          0.2
                        ]
                      },
                      {
                        "test": [
                          0.6914763719,
                          0.5815248362,
                          0.2
                        ],
                        "passed_time": 4.340617291,
                        "iteration": 1517,
                        "remaining_time": 1.37824607,
                        "learn": [
                          0.2
                        ]
                      },
                      {
                        "test": [
                          0.6914763719,
                          0.5815248362,
                          0.2
                        ],
                        "passed_time": 4.343434096,
                        "iteration": 1518,
                        "remaining_time": 1.37537314,
                        "learn": [
                          0.2
                        ]
                      },
                      {
                        "test": [
                          0.6914763719,
                          0.5815248362,
                          0.2
                        ],
                        "passed_time": 4.345787169,
                        "iteration": 1519,
                        "remaining_time": 1.372353843,
                        "learn": [
                          0.2
                        ]
                      },
                      {
                        "test": [
                          0.6914763719,
                          0.5809770365,
                          0.2
                        ],
                        "passed_time": 4.348138504,
                        "iteration": 1520,
                        "remaining_time": 1.369334874,
                        "learn": [
                          0.2
                        ]
                      },
                      {
                        "test": [
                          0.6914763719,
                          0.5815248362,
                          0.2
                        ],
                        "passed_time": 4.350472861,
                        "iteration": 1521,
                        "remaining_time": 1.366311451,
                        "learn": [
                          0.2
                        ]
                      },
                      {
                        "test": [
                          0.6914763719,
                          0.5815248362,
                          0.2
                        ],
                        "passed_time": 4.352882354,
                        "iteration": 1522,
                        "remaining_time": 1.363312464,
                        "learn": [
                          0.2
                        ]
                      },
                      {
                        "test": [
                          0.6914763719,
                          0.5809770365,
                          0.2
                        ],
                        "passed_time": 4.355240084,
                        "iteration": 1523,
                        "remaining_time": 1.360298084,
                        "learn": [
                          0.2
                        ]
                      },
                      {
                        "test": [
                          0.6914763719,
                          0.5809770365,
                          0.2
                        ],
                        "passed_time": 4.357545766,
                        "iteration": 1524,
                        "remaining_time": 1.357268353,
                        "learn": [
                          0.2
                        ]
                      },
                      {
                        "test": [
                          0.6914763719,
                          0.5809770365,
                          0.2
                        ],
                        "passed_time": 4.359893053,
                        "iteration": 1525,
                        "remaining_time": 1.354252495,
                        "learn": [
                          0.2
                        ]
                      },
                      {
                        "test": [
                          0.6914763719,
                          0.5809770365,
                          0.2
                        ],
                        "passed_time": 4.362300134,
                        "iteration": 1526,
                        "remaining_time": 1.351256034,
                        "learn": [
                          0.2
                        ]
                      },
                      {
                        "test": [
                          0.6914763719,
                          0.5809770365,
                          0.2
                        ],
                        "passed_time": 4.364591459,
                        "iteration": 1527,
                        "remaining_time": 1.348224587,
                        "learn": [
                          0.2
                        ]
                      },
                      {
                        "test": [
                          0.6914763719,
                          0.5809770365,
                          0.2
                        ],
                        "passed_time": 4.366875582,
                        "iteration": 1528,
                        "remaining_time": 1.345191889,
                        "learn": [
                          0.2
                        ]
                      },
                      {
                        "test": [
                          0.6914763719,
                          0.5809770365,
                          0.2
                        ],
                        "passed_time": 4.36917111,
                        "iteration": 1529,
                        "remaining_time": 1.342163674,
                        "learn": [
                          0.2
                        ]
                      },
                      {
                        "test": [
                          0.687561325,
                          0.5800375227,
                          0.2
                        ],
                        "passed_time": 4.37164976,
                        "iteration": 1530,
                        "remaining_time": 1.339192513,
                        "learn": [
                          0.2
                        ]
                      },
                      {
                        "test": [
                          0.6914763719,
                          0.5809770365,
                          0.2
                        ],
                        "passed_time": 4.374025913,
                        "iteration": 1531,
                        "remaining_time": 1.336190684,
                        "learn": [
                          0.2
                        ]
                      },
                      {
                        "test": [
                          0.6914763719,
                          0.5809770365,
                          0.2
                        ],
                        "passed_time": 4.376394271,
                        "iteration": 1532,
                        "remaining_time": 1.333187296,
                        "learn": [
                          0.2
                        ]
                      },
                      {
                        "test": [
                          0.6914763719,
                          0.5809770365,
                          0.2
                        ],
                        "passed_time": 4.378962951,
                        "iteration": 1533,
                        "remaining_time": 1.33024559,
                        "learn": [
                          0.2
                        ]
                      },
                      {
                        "test": [
                          0.6914763719,
                          0.5809770365,
                          0.2
                        ],
                        "passed_time": 4.38122454,
                        "iteration": 1534,
                        "remaining_time": 1.327211343,
                        "learn": [
                          0.2
                        ]
                      },
                      {
                        "test": [
                          0.6914763719,
                          0.5815248362,
                          0.2
                        ],
                        "passed_time": 4.383627254,
                        "iteration": 1535,
                        "remaining_time": 1.324220733,
                        "learn": [
                          0.2
                        ]
                      },
                      {
                        "test": [
                          0.6914763719,
                          0.5815248362,
                          0.2
                        ],
                        "passed_time": 4.386119498,
                        "iteration": 1536,
                        "remaining_time": 1.321257858,
                        "learn": [
                          0.2
                        ]
                      },
                      {
                        "test": [
                          0.6914763719,
                          0.5815248362,
                          0.2
                        ],
                        "passed_time": 4.388399744,
                        "iteration": 1537,
                        "remaining_time": 1.318231913,
                        "learn": [
                          0.2
                        ]
                      },
                      {
                        "test": [
                          0.6914763719,
                          0.5815248362,
                          0.2
                        ],
                        "passed_time": 4.390729655,
                        "iteration": 1538,
                        "remaining_time": 1.315221813,
                        "learn": [
                          0.2
                        ]
                      },
                      {
                        "test": [
                          0.6914763719,
                          0.5815248362,
                          0.2
                        ],
                        "passed_time": 4.393085217,
                        "iteration": 1539,
                        "remaining_time": 1.31222026,
                        "learn": [
                          0.2
                        ]
                      },
                      {
                        "test": [
                          0.6914763719,
                          0.5815248362,
                          0.2
                        ],
                        "passed_time": 4.395422233,
                        "iteration": 1540,
                        "remaining_time": 1.30921402,
                        "learn": [
                          0.2
                        ]
                      },
                      {
                        "test": [
                          0.6914763719,
                          0.5815248362,
                          0.2
                        ],
                        "passed_time": 4.397739351,
                        "iteration": 1541,
                        "remaining_time": 1.306202738,
                        "learn": [
                          0.2
                        ]
                      },
                      {
                        "test": [
                          0.6914763719,
                          0.5815248362,
                          0.2
                        ],
                        "passed_time": 4.40006106,
                        "iteration": 1542,
                        "remaining_time": 1.303193716,
                        "learn": [
                          0.2
                        ]
                      },
                      {
                        "test": [
                          0.6914763719,
                          0.5815248362,
                          0.2
                        ],
                        "passed_time": 4.402366347,
                        "iteration": 1543,
                        "remaining_time": 1.300180735,
                        "learn": [
                          0.2
                        ]
                      },
                      {
                        "test": [
                          0.6914763719,
                          0.5815248362,
                          0.2
                        ],
                        "passed_time": 4.404971893,
                        "iteration": 1544,
                        "remaining_time": 1.297257095,
                        "learn": [
                          0.2
                        ]
                      },
                      {
                        "test": [
                          0.6914763719,
                          0.5815248362,
                          0.2
                        ],
                        "passed_time": 4.407957178,
                        "iteration": 1545,
                        "remaining_time": 1.294445381,
                        "learn": [
                          0.2
                        ]
                      },
                      {
                        "test": [
                          0.6914763719,
                          0.5815248362,
                          0.2
                        ],
                        "passed_time": 4.410542096,
                        "iteration": 1546,
                        "remaining_time": 1.291516205,
                        "learn": [
                          0.2
                        ]
                      },
                      {
                        "test": [
                          0.6914763719,
                          0.5815248362,
                          0.2
                        ],
                        "passed_time": 4.412922055,
                        "iteration": 1547,
                        "remaining_time": 1.288527628,
                        "learn": [
                          0.2
                        ]
                      },
                      {
                        "test": [
                          0.6914763719,
                          0.5815248362,
                          0.2
                        ],
                        "passed_time": 4.415280913,
                        "iteration": 1548,
                        "remaining_time": 1.285533694,
                        "learn": [
                          0.2
                        ]
                      },
                      {
                        "test": [
                          0.6914763719,
                          0.5815248362,
                          0.2
                        ],
                        "passed_time": 4.417583108,
                        "iteration": 1549,
                        "remaining_time": 1.282524128,
                        "learn": [
                          0.2
                        ]
                      },
                      {
                        "test": [
                          0.6914763719,
                          0.5815248362,
                          0.2
                        ],
                        "passed_time": 4.419919719,
                        "iteration": 1550,
                        "remaining_time": 1.279525438,
                        "learn": [
                          0.2
                        ]
                      },
                      {
                        "test": [
                          0.6914763719,
                          0.5815248362,
                          0.2
                        ],
                        "passed_time": 4.422188208,
                        "iteration": 1551,
                        "remaining_time": 1.276507936,
                        "learn": [
                          0.2
                        ]
                      },
                      {
                        "test": [
                          0.6914763719,
                          0.5815248362,
                          0.2
                        ],
                        "passed_time": 4.424470917,
                        "iteration": 1552,
                        "remaining_time": 1.273495493,
                        "learn": [
                          0.2
                        ]
                      },
                      {
                        "test": [
                          0.6914763719,
                          0.5815248362,
                          0.2
                        ],
                        "passed_time": 4.426735747,
                        "iteration": 1553,
                        "remaining_time": 1.270478857,
                        "learn": [
                          0.2
                        ]
                      },
                      {
                        "test": [
                          0.6914763719,
                          0.5815248362,
                          0.2
                        ],
                        "passed_time": 4.428971324,
                        "iteration": 1554,
                        "remaining_time": 1.267454816,
                        "learn": [
                          0.2
                        ]
                      },
                      {
                        "test": [
                          0.6914763719,
                          0.5815248362,
                          0.2
                        ],
                        "passed_time": 4.431485226,
                        "iteration": 1555,
                        "remaining_time": 1.264511209,
                        "learn": [
                          0.2
                        ]
                      },
                      {
                        "test": [
                          0.6914763719,
                          0.5815248362,
                          0.2
                        ],
                        "passed_time": 4.43381193,
                        "iteration": 1556,
                        "remaining_time": 1.261514891,
                        "learn": [
                          0.2
                        ]
                      },
                      {
                        "test": [
                          0.6914763719,
                          0.5815248362,
                          0.2
                        ],
                        "passed_time": 4.43619998,
                        "iteration": 1557,
                        "remaining_time": 1.258536837,
                        "learn": [
                          0.2
                        ]
                      },
                      {
                        "test": [
                          0.6914763719,
                          0.5815248362,
                          0.2
                        ],
                        "passed_time": 4.438534762,
                        "iteration": 1558,
                        "remaining_time": 1.255544471,
                        "learn": [
                          0.2
                        ]
                      },
                      {
                        "test": [
                          0.6914763719,
                          0.5815248362,
                          0.2
                        ],
                        "passed_time": 4.442217036,
                        "iteration": 1559,
                        "remaining_time": 1.25293301,
                        "learn": [
                          0.2
                        ]
                      },
                      {
                        "test": [
                          0.6914763719,
                          0.5815248362,
                          0.2
                        ],
                        "passed_time": 4.4446322,
                        "iteration": 1560,
                        "remaining_time": 1.249963828,
                        "learn": [
                          0.2
                        ]
                      },
                      {
                        "test": [
                          0.6914763719,
                          0.5815248362,
                          0.2
                        ],
                        "passed_time": 4.447019904,
                        "iteration": 1561,
                        "remaining_time": 1.246987656,
                        "learn": [
                          0.2
                        ]
                      },
                      {
                        "test": [
                          0.6914763719,
                          0.5815248362,
                          0.2
                        ],
                        "passed_time": 4.449412314,
                        "iteration": 1562,
                        "remaining_time": 1.244013552,
                        "learn": [
                          0.2
                        ]
                      },
                      {
                        "test": [
                          0.6914763719,
                          0.5815248362,
                          0.2
                        ],
                        "passed_time": 4.451781906,
                        "iteration": 1563,
                        "remaining_time": 1.241033831,
                        "learn": [
                          0.2
                        ]
                      },
                      {
                        "test": [
                          0.6914763719,
                          0.5815248362,
                          0.2
                        ],
                        "passed_time": 4.454100115,
                        "iteration": 1564,
                        "remaining_time": 1.238040607,
                        "learn": [
                          0.2
                        ]
                      },
                      {
                        "test": [
                          0.6914763719,
                          0.5815248362,
                          0.2
                        ],
                        "passed_time": 4.456521834,
                        "iteration": 1565,
                        "remaining_time": 1.235076932,
                        "learn": [
                          0.2
                        ]
                      },
                      {
                        "test": [
                          0.6914763719,
                          0.5815248362,
                          0.2
                        ],
                        "passed_time": 4.458950659,
                        "iteration": 1566,
                        "remaining_time": 1.232115913,
                        "learn": [
                          0.2
                        ]
                      },
                      {
                        "test": [
                          0.6914763719,
                          0.5815248362,
                          0.2
                        ],
                        "passed_time": 4.461274443,
                        "iteration": 1567,
                        "remaining_time": 1.229126632,
                        "learn": [
                          0.2
                        ]
                      },
                      {
                        "test": [
                          0.6914763719,
                          0.5815248362,
                          0.2
                        ],
                        "passed_time": 4.46358613,
                        "iteration": 1568,
                        "remaining_time": 1.226134877,
                        "learn": [
                          0.2
                        ]
                      },
                      {
                        "test": [
                          0.6914763719,
                          0.5815248362,
                          0.2
                        ],
                        "passed_time": 4.465900777,
                        "iteration": 1569,
                        "remaining_time": 1.223144799,
                        "learn": [
                          0.2
                        ]
                      },
                      {
                        "test": [
                          0.6914763719,
                          0.5815248362,
                          0.2
                        ],
                        "passed_time": 4.468288419,
                        "iteration": 1570,
                        "remaining_time": 1.220175514,
                        "learn": [
                          0.2
                        ]
                      },
                      {
                        "test": [
                          0.6914763719,
                          0.5815248362,
                          0.2
                        ],
                        "passed_time": 4.470707653,
                        "iteration": 1571,
                        "remaining_time": 1.21721557,
                        "learn": [
                          0.2
                        ]
                      },
                      {
                        "test": [
                          0.6914763719,
                          0.5815248362,
                          0.2
                        ],
                        "passed_time": 4.473051666,
                        "iteration": 1572,
                        "remaining_time": 1.214235894,
                        "learn": [
                          0.2
                        ]
                      },
                      {
                        "test": [
                          0.6914763719,
                          0.5815248362,
                          0.2
                        ],
                        "passed_time": 4.475425501,
                        "iteration": 1573,
                        "remaining_time": 1.211265097,
                        "learn": [
                          0.2
                        ]
                      },
                      {
                        "test": [
                          0.687561325,
                          0.5805853224,
                          0.2
                        ],
                        "passed_time": 4.47783817,
                        "iteration": 1574,
                        "remaining_time": 1.208305538,
                        "learn": [
                          0.2
                        ]
                      },
                      {
                        "test": [
                          0.687561325,
                          0.5805853224,
                          0.2
                        ],
                        "passed_time": 4.480146213,
                        "iteration": 1575,
                        "remaining_time": 1.205318524,
                        "learn": [
                          0.2
                        ]
                      },
                      {
                        "test": [
                          0.6914763719,
                          0.5815248362,
                          0.2
                        ],
                        "passed_time": 4.482506811,
                        "iteration": 1576,
                        "remaining_time": 1.202346469,
                        "learn": [
                          0.2
                        ]
                      },
                      {
                        "test": [
                          0.6914763719,
                          0.5815248362,
                          0.2
                        ],
                        "passed_time": 4.484908681,
                        "iteration": 1577,
                        "remaining_time": 1.199386225,
                        "learn": [
                          0.2
                        ]
                      },
                      {
                        "test": [
                          0.6914763719,
                          0.5815248362,
                          0.2
                        ],
                        "passed_time": 4.487367592,
                        "iteration": 1578,
                        "remaining_time": 1.196441898,
                        "learn": [
                          0.2
                        ]
                      },
                      {
                        "test": [
                          0.6914763719,
                          0.5815248362,
                          0.2
                        ],
                        "passed_time": 4.489692049,
                        "iteration": 1579,
                        "remaining_time": 1.193462444,
                        "learn": [
                          0.2
                        ]
                      },
                      {
                        "test": [
                          0.6914763719,
                          0.5815248362,
                          0.2
                        ],
                        "passed_time": 4.492048774,
                        "iteration": 1580,
                        "remaining_time": 1.19049237,
                        "learn": [
                          0.2
                        ]
                      },
                      {
                        "test": [
                          0.6914763719,
                          0.5815248362,
                          0.2
                        ],
                        "passed_time": 4.494379333,
                        "iteration": 1581,
                        "remaining_time": 1.187516157,
                        "learn": [
                          0.2
                        ]
                      },
                      {
                        "test": [
                          0.6914763719,
                          0.5815248362,
                          0.2
                        ],
                        "passed_time": 4.496718789,
                        "iteration": 1582,
                        "remaining_time": 1.184543105,
                        "learn": [
                          0.2
                        ]
                      },
                      {
                        "test": [
                          0.6914763719,
                          0.5815248362,
                          0.2
                        ],
                        "passed_time": 4.499057045,
                        "iteration": 1583,
                        "remaining_time": 1.181570537,
                        "learn": [
                          0.2
                        ]
                      },
                      {
                        "test": [
                          0.6914763719,
                          0.5815248362,
                          0.2
                        ],
                        "passed_time": 4.501396348,
                        "iteration": 1584,
                        "remaining_time": 1.178599044,
                        "learn": [
                          0.2
                        ]
                      },
                      {
                        "test": [
                          0.6914763719,
                          0.5815248362,
                          0.2
                        ],
                        "passed_time": 4.503810319,
                        "iteration": 1585,
                        "remaining_time": 1.175647839,
                        "learn": [
                          0.2
                        ]
                      },
                      {
                        "test": [
                          0.6914763719,
                          0.5815248362,
                          0.2
                        ],
                        "passed_time": 4.506081102,
                        "iteration": 1586,
                        "remaining_time": 1.172660047,
                        "learn": [
                          0.2
                        ]
                      },
                      {
                        "test": [
                          0.6914763719,
                          0.5815248362,
                          0.2
                        ],
                        "passed_time": 4.508396078,
                        "iteration": 1587,
                        "remaining_time": 1.169684625,
                        "learn": [
                          0.2
                        ]
                      },
                      {
                        "test": [
                          0.6914763719,
                          0.5815248362,
                          0.2
                        ],
                        "passed_time": 4.510757521,
                        "iteration": 1588,
                        "remaining_time": 1.166722052,
                        "learn": [
                          0.2
                        ]
                      },
                      {
                        "test": [
                          0.6914763719,
                          0.5815248362,
                          0.2
                        ],
                        "passed_time": 4.513060318,
                        "iteration": 1589,
                        "remaining_time": 1.163745114,
                        "learn": [
                          0.2
                        ]
                      },
                      {
                        "test": [
                          0.6914763719,
                          0.5815248362,
                          0.2
                        ],
                        "passed_time": 4.515356855,
                        "iteration": 1590,
                        "remaining_time": 1.160767413,
                        "learn": [
                          0.2
                        ]
                      },
                      {
                        "test": [
                          0.688148582,
                          0.5821671047,
                          0.2
                        ],
                        "passed_time": 4.517700311,
                        "iteration": 1591,
                        "remaining_time": 1.157802592,
                        "learn": [
                          0.2
                        ]
                      },
                      {
                        "test": [
                          0.688148582,
                          0.5821671047,
                          0.2
                        ],
                        "passed_time": 4.520036419,
                        "iteration": 1592,
                        "remaining_time": 1.154836675,
                        "learn": [
                          0.2
                        ]
                      },
                      {
                        "test": [
                          0.688148582,
                          0.5821671047,
                          0.2
                        ],
                        "passed_time": 4.522397147,
                        "iteration": 1593,
                        "remaining_time": 1.151877818,
                        "learn": [
                          0.2
                        ]
                      },
                      {
                        "test": [
                          0.6842335352,
                          0.5812275909,
                          0.2
                        ],
                        "passed_time": 4.524763082,
                        "iteration": 1594,
                        "remaining_time": 1.148921033,
                        "learn": [
                          0.2
                        ]
                      },
                      {
                        "test": [
                          0.681773582,
                          0.5781531442,
                          0.2
                        ],
                        "passed_time": 4.527329464,
                        "iteration": 1595,
                        "remaining_time": 1.146015729,
                        "learn": [
                          0.2
                        ]
                      },
                      {
                        "test": [
                          0.688148582,
                          0.5821671047,
                          0.2
                        ],
                        "passed_time": 4.529665863,
                        "iteration": 1596,
                        "remaining_time": 1.143052813,
                        "learn": [
                          0.2
                        ]
                      },
                      {
                        "test": [
                          0.681773582,
                          0.5781531442,
                          0.2
                        ],
                        "passed_time": 4.531982032,
                        "iteration": 1597,
                        "remaining_time": 1.140085592,
                        "learn": [
                          0.2
                        ]
                      },
                      {
                        "test": [
                          0.681773582,
                          0.5781531442,
                          0.2
                        ],
                        "passed_time": 4.534535825,
                        "iteration": 1598,
                        "remaining_time": 1.137178778,
                        "learn": [
                          0.2
                        ]
                      },
                      {
                        "test": [
                          0.681773582,
                          0.5785956795,
                          0.2
                        ],
                        "passed_time": 4.536852327,
                        "iteration": 1599,
                        "remaining_time": 1.134213082,
                        "learn": [
                          0.2
                        ]
                      },
                      {
                        "test": [
                          0.681773582,
                          0.5785956795,
                          0.2
                        ],
                        "passed_time": 4.539199807,
                        "iteration": 1600,
                        "remaining_time": 1.131255917,
                        "learn": [
                          0.2
                        ]
                      },
                      {
                        "test": [
                          0.681773582,
                          0.5785956795,
                          0.2
                        ],
                        "passed_time": 4.541512284,
                        "iteration": 1601,
                        "remaining_time": 1.128290817,
                        "learn": [
                          0.2
                        ]
                      },
                      {
                        "test": [
                          0.681773582,
                          0.5785956795,
                          0.2
                        ],
                        "passed_time": 4.543852696,
                        "iteration": 1602,
                        "remaining_time": 1.12533345,
                        "learn": [
                          0.2
                        ]
                      },
                      {
                        "test": [
                          0.681773582,
                          0.5785956795,
                          0.2
                        ],
                        "passed_time": 4.546361334,
                        "iteration": 1603,
                        "remaining_time": 1.122418384,
                        "learn": [
                          0.2
                        ]
                      },
                      {
                        "test": [
                          0.681773582,
                          0.5785956795,
                          0.2
                        ],
                        "passed_time": 4.548708639,
                        "iteration": 1604,
                        "remaining_time": 1.11946412,
                        "learn": [
                          0.2
                        ]
                      },
                      {
                        "test": [
                          0.6778585352,
                          0.5776561657,
                          0.2
                        ],
                        "passed_time": 4.551001975,
                        "iteration": 1605,
                        "remaining_time": 1.116497371,
                        "learn": [
                          0.2
                        ]
                      },
                      {
                        "test": [
                          0.681186325,
                          0.5783574177,
                          0.2
                        ],
                        "passed_time": 4.553409588,
                        "iteration": 1606,
                        "remaining_time": 1.113559408,
                        "learn": [
                          0.2
                        ]
                      },
                      {
                        "test": [
                          0.681186325,
                          0.5783574177,
                          0.2
                        ],
                        "passed_time": 4.555788281,
                        "iteration": 1607,
                        "remaining_time": 1.110615054,
                        "learn": [
                          0.2
                        ]
                      },
                      {
                        "test": [
                          0.681186325,
                          0.5783574177,
                          0.2
                        ],
                        "passed_time": 4.559813979,
                        "iteration": 1608,
                        "remaining_time": 1.108071638,
                        "learn": [
                          0.2
                        ]
                      },
                      {
                        "test": [
                          0.681186325,
                          0.5783574177,
                          0.2
                        ],
                        "passed_time": 4.5627286,
                        "iteration": 1609,
                        "remaining_time": 1.105257239,
                        "learn": [
                          0.2
                        ]
                      },
                      {
                        "test": [
                          0.681186325,
                          0.5783574177,
                          0.2
                        ],
                        "passed_time": 4.567558559,
                        "iteration": 1610,
                        "remaining_time": 1.102905201,
                        "learn": [
                          0.2
                        ]
                      },
                      {
                        "test": [
                          0.6778585352,
                          0.5776561657,
                          0.2
                        ],
                        "passed_time": 4.570028755,
                        "iteration": 1611,
                        "remaining_time": 1.099982107,
                        "learn": [
                          0.2
                        ]
                      },
                      {
                        "test": [
                          0.6778585352,
                          0.5776561657,
                          0.2
                        ],
                        "passed_time": 4.572391481,
                        "iteration": 1612,
                        "remaining_time": 1.09703379,
                        "learn": [
                          0.2
                        ]
                      },
                      {
                        "test": [
                          0.6778585352,
                          0.5776561657,
                          0.2
                        ],
                        "passed_time": 4.574767053,
                        "iteration": 1613,
                        "remaining_time": 1.09408927,
                        "learn": [
                          0.2
                        ]
                      },
                      {
                        "test": [
                          0.6778585352,
                          0.5776561657,
                          0.2
                        ],
                        "passed_time": 4.577310733,
                        "iteration": 1614,
                        "remaining_time": 1.091185531,
                        "learn": [
                          0.2
                        ]
                      },
                      {
                        "test": [
                          0.6778585352,
                          0.5776561657,
                          0.2
                        ],
                        "passed_time": 4.57965055,
                        "iteration": 1615,
                        "remaining_time": 1.088233794,
                        "learn": [
                          0.2
                        ]
                      },
                      {
                        "test": [
                          0.6778585352,
                          0.5776561657,
                          0.2
                        ],
                        "passed_time": 4.58197737,
                        "iteration": 1616,
                        "remaining_time": 1.085279736,
                        "learn": [
                          0.2
                        ]
                      },
                      {
                        "test": [
                          0.6778585352,
                          0.5776561657,
                          0.2
                        ],
                        "passed_time": 4.584327637,
                        "iteration": 1617,
                        "remaining_time": 1.082331988,
                        "learn": [
                          0.2
                        ]
                      },
                      {
                        "test": [
                          0.6778585352,
                          0.5776561657,
                          0.2
                        ],
                        "passed_time": 4.58672534,
                        "iteration": 1618,
                        "remaining_time": 1.079396142,
                        "learn": [
                          0.2
                        ]
                      },
                      {
                        "test": [
                          0.681186325,
                          0.5783574177,
                          0.2
                        ],
                        "passed_time": 4.589225565,
                        "iteration": 1619,
                        "remaining_time": 1.076485009,
                        "learn": [
                          0.2
                        ]
                      },
                      {
                        "test": [
                          0.681186325,
                          0.5783574177,
                          0.2
                        ],
                        "passed_time": 4.591668442,
                        "iteration": 1620,
                        "remaining_time": 1.073560974,
                        "learn": [
                          0.2
                        ]
                      },
                      {
                        "test": [
                          0.681186325,
                          0.5783574177,
                          0.2
                        ],
                        "passed_time": 4.594317691,
                        "iteration": 1621,
                        "remaining_time": 1.070685627,
                        "learn": [
                          0.2
                        ]
                      },
                      {
                        "test": [
                          0.681186325,
                          0.5779148824,
                          0.2
                        ],
                        "passed_time": 4.596721971,
                        "iteration": 1622,
                        "remaining_time": 1.067753656,
                        "learn": [
                          0.2
                        ]
                      },
                      {
                        "test": [
                          0.681186325,
                          0.5760743834,
                          0.2
                        ],
                        "passed_time": 4.599115242,
                        "iteration": 1623,
                        "remaining_time": 1.064819785,
                        "learn": [
                          0.2
                        ]
                      },
                      {
                        "test": [
                          0.681186325,
                          0.5756318481,
                          0.2
                        ],
                        "passed_time": 4.601619521,
                        "iteration": 1624,
                        "remaining_time": 1.061912197,
                        "learn": [
                          0.2
                        ]
                      },
                      {
                        "test": [
                          0.681186325,
                          0.5760743834,
                          0.2
                        ],
                        "passed_time": 4.604038636,
                        "iteration": 1625,
                        "remaining_time": 1.058985516,
                        "learn": [
                          0.2
                        ]
                      },
                      {
                        "test": [
                          0.681186325,
                          0.5760743834,
                          0.2
                        ],
                        "passed_time": 4.606415545,
                        "iteration": 1626,
                        "remaining_time": 1.056049784,
                        "learn": [
                          0.2
                        ]
                      },
                      {
                        "test": [
                          0.681186325,
                          0.5756318481,
                          0.2
                        ],
                        "passed_time": 4.608780226,
                        "iteration": 1627,
                        "remaining_time": 1.053111943,
                        "learn": [
                          0.2
                        ]
                      },
                      {
                        "test": [
                          0.681186325,
                          0.5756318481,
                          0.2
                        ],
                        "passed_time": 4.611283232,
                        "iteration": 1628,
                        "remaining_time": 1.05020631,
                        "learn": [
                          0.2
                        ]
                      },
                      {
                        "test": [
                          0.681186325,
                          0.5756318481,
                          0.2
                        ],
                        "passed_time": 4.613718097,
                        "iteration": 1629,
                        "remaining_time": 1.047285703,
                        "learn": [
                          0.2
                        ]
                      },
                      {
                        "test": [
                          0.681186325,
                          0.5756318481,
                          0.2
                        ],
                        "passed_time": 4.616098909,
                        "iteration": 1630,
                        "remaining_time": 1.044353462,
                        "learn": [
                          0.2
                        ]
                      },
                      {
                        "test": [
                          0.681186325,
                          0.5756318481,
                          0.2
                        ],
                        "passed_time": 4.618447703,
                        "iteration": 1631,
                        "remaining_time": 1.041414678,
                        "learn": [
                          0.2
                        ]
                      },
                      {
                        "test": [
                          0.681186325,
                          0.5756318481,
                          0.2
                        ],
                        "passed_time": 4.620842603,
                        "iteration": 1632,
                        "remaining_time": 1.038486978,
                        "learn": [
                          0.2
                        ]
                      },
                      {
                        "test": [
                          0.681186325,
                          0.5756318481,
                          0.2
                        ],
                        "passed_time": 4.623178807,
                        "iteration": 1633,
                        "remaining_time": 1.035546783,
                        "learn": [
                          0.2
                        ]
                      },
                      {
                        "test": [
                          0.681186325,
                          0.5756318481,
                          0.2
                        ],
                        "passed_time": 4.625486125,
                        "iteration": 1634,
                        "remaining_time": 1.032600878,
                        "learn": [
                          0.2
                        ]
                      },
                      {
                        "test": [
                          0.681186325,
                          0.5756318481,
                          0.2
                        ],
                        "passed_time": 4.627824471,
                        "iteration": 1635,
                        "remaining_time": 1.029662657,
                        "learn": [
                          0.2
                        ]
                      },
                      {
                        "test": [
                          0.681186325,
                          0.5756318481,
                          0.2
                        ],
                        "passed_time": 4.630164878,
                        "iteration": 1636,
                        "remaining_time": 1.026725627,
                        "learn": [
                          0.2
                        ]
                      },
                      {
                        "test": [
                          0.681186325,
                          0.5756318481,
                          0.2
                        ],
                        "passed_time": 4.632489313,
                        "iteration": 1637,
                        "remaining_time": 1.023785794,
                        "learn": [
                          0.2
                        ]
                      },
                      {
                        "test": [
                          0.681186325,
                          0.5756318481,
                          0.2
                        ],
                        "passed_time": 4.634828737,
                        "iteration": 1638,
                        "remaining_time": 1.020850015,
                        "learn": [
                          0.2
                        ]
                      },
                      {
                        "test": [
                          0.6778585352,
                          0.5749305961,
                          0.2
                        ],
                        "passed_time": 4.637194255,
                        "iteration": 1639,
                        "remaining_time": 1.01792069,
                        "learn": [
                          0.2
                        ]
                      },
                      {
                        "test": [
                          0.6778585352,
                          0.5749305961,
                          0.2
                        ],
                        "passed_time": 4.639519814,
                        "iteration": 1640,
                        "remaining_time": 1.014983311,
                        "learn": [
                          0.2
                        ]
                      },
                      {
                        "test": [
                          0.6778585352,
                          0.5749305961,
                          0.2
                        ],
                        "passed_time": 4.642405796,
                        "iteration": 1641,
                        "remaining_time": 1.012168864,
                        "learn": [
                          0.2
                        ]
                      },
                      {
                        "test": [
                          0.6750299138,
                          0.5748253318,
                          0.2
                        ],
                        "passed_time": 4.644893622,
                        "iteration": 1642,
                        "remaining_time": 1.009267817,
                        "learn": [
                          0.2
                        ]
                      },
                      {
                        "test": [
                          0.6750299138,
                          0.5748253318,
                          0.2
                        ],
                        "passed_time": 4.647460781,
                        "iteration": 1643,
                        "remaining_time": 1.006384451,
                        "learn": [
                          0.2
                        ]
                      },
                      {
                        "test": [
                          0.6750299138,
                          0.5748253318,
                          0.2
                        ],
                        "passed_time": 4.649883658,
                        "iteration": 1644,
                        "remaining_time": 1.003470333,
                        "learn": [
                          0.2
                        ]
                      },
                      {
                        "test": [
                          0.6750299138,
                          0.5748253318,
                          0.2
                        ],
                        "passed_time": 4.6522829,
                        "iteration": 1645,
                        "remaining_time": 1.000551729,
                        "learn": [
                          0.2
                        ]
                      },
                      {
                        "test": [
                          0.6778585352,
                          0.5753731315,
                          0.2
                        ],
                        "passed_time": 4.654682443,
                        "iteration": 1646,
                        "remaining_time": 0.9976338205,
                        "learn": [
                          0.2
                        ]
                      },
                      {
                        "test": [
                          0.6750299138,
                          0.5748253318,
                          0.2
                        ],
                        "passed_time": 4.657130629,
                        "iteration": 1647,
                        "remaining_time": 0.9947269306,
                        "learn": [
                          0.2
                        ]
                      },
                      {
                        "test": [
                          0.6750299138,
                          0.5748253318,
                          0.2
                        ],
                        "passed_time": 4.659575496,
                        "iteration": 1648,
                        "remaining_time": 0.9918198903,
                        "learn": [
                          0.2
                        ]
                      },
                      {
                        "test": [
                          0.6750299138,
                          0.5748253318,
                          0.2
                        ],
                        "passed_time": 4.661899294,
                        "iteration": 1649,
                        "remaining_time": 0.988887729,
                        "learn": [
                          0.2
                        ]
                      },
                      {
                        "test": [
                          0.6750299138,
                          0.5743827964,
                          0.2
                        ],
                        "passed_time": 4.664295605,
                        "iteration": 1650,
                        "remaining_time": 0.9859716331,
                        "learn": [
                          0.2
                        ]
                      },
                      {
                        "test": [
                          0.6750299138,
                          0.5748253318,
                          0.2
                        ],
                        "passed_time": 4.666630698,
                        "iteration": 1651,
                        "remaining_time": 0.9830432706,
                        "learn": [
                          0.2
                        ]
                      },
                      {
                        "test": [
                          0.6778585352,
                          0.5753731315,
                          0.2
                        ],
                        "passed_time": 4.66901651,
                        "iteration": 1652,
                        "remaining_time": 0.9801262728,
                        "learn": [
                          0.2
                        ]
                      },
                      {
                        "test": [
                          0.6750299138,
                          0.5748253318,
                          0.2
                        ],
                        "passed_time": 4.671326946,
                        "iteration": 1653,
                        "remaining_time": 0.9771941496,
                        "learn": [
                          0.2
                        ]
                      },
                      {
                        "test": [
                          0.6750299138,
                          0.5748253318,
                          0.2
                        ],
                        "passed_time": 4.673676187,
                        "iteration": 1654,
                        "remaining_time": 0.9742708668,
                        "learn": [
                          0.2
                        ]
                      },
                      {
                        "test": [
                          0.6750299138,
                          0.5748253318,
                          0.2
                        ],
                        "passed_time": 4.676008019,
                        "iteration": 1655,
                        "remaining_time": 0.971344661,
                        "learn": [
                          0.2
                        ]
                      },
                      {
                        "test": [
                          0.6750299138,
                          0.5748253318,
                          0.2
                        ],
                        "passed_time": 4.67841981,
                        "iteration": 1656,
                        "remaining_time": 0.9684357242,
                        "learn": [
                          0.2
                        ]
                      },
                      {
                        "test": [
                          0.6722012924,
                          0.5742775321,
                          0.2
                        ],
                        "passed_time": 4.68072662,
                        "iteration": 1657,
                        "remaining_time": 0.9655057322,
                        "learn": [
                          0.2
                        ]
                      },
                      {
                        "test": [
                          0.6722012924,
                          0.5742775321,
                          0.2
                        ],
                        "passed_time": 4.683061144,
                        "iteration": 1658,
                        "remaining_time": 0.9625821881,
                        "learn": [
                          0.2
                        ]
                      },
                      {
                        "test": [
                          0.6750299138,
                          0.5748253318,
                          0.2
                        ],
                        "passed_time": 4.685414778,
                        "iteration": 1659,
                        "remaining_time": 0.9596632679,
                        "learn": [
                          0.2
                        ]
                      },
                      {
                        "test": [
                          0.6750299138,
                          0.5748253318,
                          0.2
                        ],
                        "passed_time": 4.687715472,
                        "iteration": 1660,
                        "remaining_time": 0.9567342234,
                        "learn": [
                          0.2
                        ]
                      },
                      {
                        "test": [
                          0.6750299138,
                          0.5748253318,
                          0.2
                        ],
                        "passed_time": 4.690071268,
                        "iteration": 1661,
                        "remaining_time": 0.9538171411,
                        "learn": [
                          0.2
                        ]
                      },
                      {
                        "test": [
                          0.6750299138,
                          0.5748253318,
                          0.2
                        ],
                        "passed_time": 4.692367298,
                        "iteration": 1662,
                        "remaining_time": 0.9508886226,
                        "learn": [
                          0.2
                        ]
                      },
                      {
                        "test": [
                          0.6750299138,
                          0.5748253318,
                          0.2
                        ],
                        "passed_time": 4.694671551,
                        "iteration": 1663,
                        "remaining_time": 0.9479625248,
                        "learn": [
                          0.2
                        ]
                      },
                      {
                        "test": [
                          0.6750299138,
                          0.5748253318,
                          0.2
                        ],
                        "passed_time": 4.697108042,
                        "iteration": 1664,
                        "remaining_time": 0.9450637803,
                        "learn": [
                          0.2
                        ]
                      },
                      {
                        "test": [
                          0.6750299138,
                          0.5748253318,
                          0.2
                        ],
                        "passed_time": 4.699421312,
                        "iteration": 1665,
                        "remaining_time": 0.9421408873,
                        "learn": [
                          0.2
                        ]
                      },
                      {
                        "test": [
                          0.6750299138,
                          0.5748253318,
                          0.2
                        ],
                        "passed_time": 4.701724709,
                        "iteration": 1666,
                        "remaining_time": 0.9392167536,
                        "learn": [
                          0.2
                        ]
                      },
                      {
                        "test": [
                          0.6750299138,
                          0.5757648456,
                          0.2
                        ],
                        "passed_time": 4.704111309,
                        "iteration": 1667,
                        "remaining_time": 0.9363099248,
                        "learn": [
                          0.2
                        ]
                      },
                      {
                        "test": [
                          0.6750299138,
                          0.5748253318,
                          0.2
                        ],
                        "passed_time": 4.706430833,
                        "iteration": 1668,
                        "remaining_time": 0.9333904168,
                        "learn": [
                          0.2
                        ]
                      },
                      {
                        "test": [
                          0.6750299138,
                          0.5748253318,
                          0.2
                        ],
                        "passed_time": 4.708730661,
                        "iteration": 1669,
                        "remaining_time": 0.9304677354,
                        "learn": [
                          0.2
                        ]
                      },
                      {
                        "test": [
                          0.6750299138,
                          0.5757648456,
                          0.2
                        ],
                        "passed_time": 4.711109291,
                        "iteration": 1670,
                        "remaining_time": 0.9275613147,
                        "learn": [
                          0.2
                        ]
                      },
                      {
                        "test": [
                          0.6778585352,
                          0.5763126453,
                          0.2
                        ],
                        "passed_time": 4.713462835,
                        "iteration": 1671,
                        "remaining_time": 0.9246506041,
                        "learn": [
                          0.2
                        ]
                      },
                      {
                        "test": [
                          0.6778585352,
                          0.5763126453,
                          0.2
                        ],
                        "passed_time": 4.715851414,
                        "iteration": 1672,
                        "remaining_time": 0.9217474072,
                        "learn": [
                          0.2
                        ]
                      },
                      {
                        "test": [
                          0.6778585352,
                          0.5763126453,
                          0.2
                        ],
                        "passed_time": 4.718213649,
                        "iteration": 1673,
                        "remaining_time": 0.9188396952,
                        "learn": [
                          0.2
                        ]
                      },
                      {
                        "test": [
                          0.6778585352,
                          0.5753731315,
                          0.2
                        ],
                        "passed_time": 4.720602037,
                        "iteration": 1674,
                        "remaining_time": 0.9159377086,
                        "learn": [
                          0.2
                        ]
                      },
                      {
                        "test": [
                          0.6778585352,
                          0.5753731315,
                          0.2
                        ],
                        "passed_time": 4.722984107,
                        "iteration": 1675,
                        "remaining_time": 0.9130351137,
                        "learn": [
                          0.2
                        ]
                      },
                      {
                        "test": [
                          0.6778585352,
                          0.5753731315,
                          0.2
                        ],
                        "passed_time": 4.725383566,
                        "iteration": 1676,
                        "remaining_time": 0.9101364889,
                        "learn": [
                          0.2
                        ]
                      },
                      {
                        "test": [
                          0.6778585352,
                          0.5753731315,
                          0.2
                        ],
                        "passed_time": 4.727764323,
                        "iteration": 1677,
                        "remaining_time": 0.9072348701,
                        "learn": [
                          0.2
                        ]
                      },
                      {
                        "test": [
                          0.6778585352,
                          0.5753731315,
                          0.2
                        ],
                        "passed_time": 4.730188463,
                        "iteration": 1678,
                        "remaining_time": 0.904342166,
                        "learn": [
                          0.2
                        ]
                      },
                      {
                        "test": [
                          0.6778585352,
                          0.5758701099,
                          0.2
                        ],
                        "passed_time": 4.732598945,
                        "iteration": 1679,
                        "remaining_time": 0.9014474181,
                        "learn": [
                          0.2
                        ]
                      },
                      {
                        "test": [
                          0.6778585352,
                          0.5758701099,
                          0.2
                        ],
                        "passed_time": 4.73500834,
                        "iteration": 1680,
                        "remaining_time": 0.8985530402,
                        "learn": [
                          0.2
                        ]
                      },
                      {
                        "test": [
                          0.6842335352,
                          0.5798840705,
                          0.2
                        ],
                        "passed_time": 4.737380376,
                        "iteration": 1681,
                        "remaining_time": 0.8956521757,
                        "learn": [
                          0.2
                        ]
                      },
                      {
                        "test": [
                          0.6814049138,
                          0.5793362708,
                          0.2
                        ],
                        "passed_time": 4.739755058,
                        "iteration": 1682,
                        "remaining_time": 0.8927524382,
                        "learn": [
                          0.2
                        ]
                      },
                      {
                        "test": [
                          0.6814049138,
                          0.5793362708,
                          0.2
                        ],
                        "passed_time": 4.742084872,
                        "iteration": 1683,
                        "remaining_time": 0.8898449047,
                        "learn": [
                          0.2
                        ]
                      },
                      {
                        "test": [
                          0.6814049138,
                          0.5793362708,
                          0.2
                        ],
                        "passed_time": 4.744475711,
                        "iteration": 1684,
                        "remaining_time": 0.8869494653,
                        "learn": [
                          0.2
                        ]
                      },
                      {
                        "test": [
                          0.6750299138,
                          0.5748797749,
                          0.2
                        ],
                        "passed_time": 4.746873637,
                        "iteration": 1685,
                        "remaining_time": 0.8840559443,
                        "learn": [
                          0.2
                        ]
                      },
                      {
                        "test": [
                          0.6750299138,
                          0.5748797749,
                          0.2
                        ],
                        "passed_time": 4.749190104,
                        "iteration": 1686,
                        "remaining_time": 0.8811478972,
                        "learn": [
                          0.2
                        ]
                      },
                      {
                        "test": [
                          0.6750299138,
                          0.5748797749,
                          0.2
                        ],
                        "passed_time": 4.75148211,
                        "iteration": 1687,
                        "remaining_time": 0.8782360297,
                        "learn": [
                          0.2
                        ]
                      },
                      {
                        "test": [
                          0.6750299138,
                          0.5748797749,
                          0.2
                        ],
                        "passed_time": 4.753869249,
                        "iteration": 1688,
                        "remaining_time": 0.8753424136,
                        "learn": [
                          0.2
                        ]
                      },
                      {
                        "test": [
                          0.6814049138,
                          0.5779542216,
                          0.2
                        ],
                        "passed_time": 4.756293074,
                        "iteration": 1689,
                        "remaining_time": 0.872456126,
                        "learn": [
                          0.2
                        ]
                      },
                      {
                        "test": [
                          0.6814049138,
                          0.5779542216,
                          0.2
                        ],
                        "passed_time": 4.758630923,
                        "iteration": 1690,
                        "remaining_time": 0.8695546749,
                        "learn": [
                          0.2
                        ]
                      },
                      {
                        "test": [
                          0.6814049138,
                          0.5779542216,
                          0.2
                        ],
                        "passed_time": 4.760969405,
                        "iteration": 1691,
                        "remaining_time": 0.8666540051,
                        "learn": [
                          0.2
                        ]
                      },
                      {
                        "test": [
                          0.6814049138,
                          0.5779542216,
                          0.2
                        ],
                        "passed_time": 4.763286974,
                        "iteration": 1692,
                        "remaining_time": 0.8637502074,
                        "learn": [
                          0.2
                        ]
                      },
                      {
                        "test": [
                          0.6814049138,
                          0.5779542216,
                          0.2
                        ],
                        "passed_time": 4.765599413,
                        "iteration": 1693,
                        "remaining_time": 0.860846175,
                        "learn": [
                          0.2
                        ]
                      },
                      {
                        "test": [
                          0.6750299138,
                          0.5739402611,
                          0.2
                        ],
                        "passed_time": 4.768132707,
                        "iteration": 1694,
                        "remaining_time": 0.8579825815,
                        "learn": [
                          0.2
                        ]
                      },
                      {
                        "test": [
                          0.6750299138,
                          0.5739402611,
                          0.2
                        ],
                        "passed_time": 4.770493844,
                        "iteration": 1695,
                        "remaining_time": 0.8550885193,
                        "learn": [
                          0.2
                        ]
                      },
                      {
                        "test": [
                          0.6750299138,
                          0.5739402611,
                          0.2
                        ],
                        "passed_time": 4.772880005,
                        "iteration": 1696,
                        "remaining_time": 0.852199553,
                        "learn": [
                          0.2
                        ]
                      },
                      {
                        "test": [
                          0.6750299138,
                          0.5752837816,
                          0.2
                        ],
                        "passed_time": 4.775292883,
                        "iteration": 1697,
                        "remaining_time": 0.8493159308,
                        "learn": [
                          0.2
                        ]
                      },
                      {
                        "test": [
                          0.6750299138,
                          0.5752837816,
                          0.2
                        ],
                        "passed_time": 4.777594102,
                        "iteration": 1698,
                        "remaining_time": 0.846413081,
                        "learn": [
                          0.2
                        ]
                      },
                      {
                        "test": [
                          0.6750299138,
                          0.5752837816,
                          0.2
                        ],
                        "passed_time": 4.77999776,
                        "iteration": 1699,
                        "remaining_time": 0.8435290165,
                        "learn": [
                          0.2
                        ]
                      },
                      {
                        "test": [
                          0.6778585352,
                          0.5744880608,
                          0.2
                        ],
                        "passed_time": 4.782373373,
                        "iteration": 1700,
                        "remaining_time": 0.840640587,
                        "learn": [
                          0.2
                        ]
                      },
                      {
                        "test": [
                          0.6778585352,
                          0.5744880608,
                          0.2
                        ],
                        "passed_time": 4.784749144,
                        "iteration": 1701,
                        "remaining_time": 0.8377527879,
                        "learn": [
                          0.2
                        ]
                      },
                      {
                        "test": [
                          0.6778585352,
                          0.5749305961,
                          0.2
                        ],
                        "passed_time": 4.787020168,
                        "iteration": 1702,
                        "remaining_time": 0.8348473223,
                        "learn": [
                          0.2
                        ]
                      },
                      {
                        "test": [
                          0.6778585352,
                          0.5749305961,
                          0.2
                        ],
                        "passed_time": 4.789428196,
                        "iteration": 1703,
                        "remaining_time": 0.8319664002,
                        "learn": [
                          0.2
                        ]
                      },
                      {
                        "test": [
                          0.6842335352,
                          0.5789445567,
                          0.2
                        ],
                        "passed_time": 4.791860819,
                        "iteration": 1704,
                        "remaining_time": 0.8290902883,
                        "learn": [
                          0.2
                        ]
                      },
                      {
                        "test": [
                          0.6842335352,
                          0.5789445567,
                          0.2
                        ],
                        "passed_time": 4.79454916,
                        "iteration": 1705,
                        "remaining_time": 0.826258765,
                        "learn": [
                          0.2
                        ]
                      },
                      {
                        "test": [
                          0.6842335352,
                          0.5789445567,
                          0.2
                        ],
                        "passed_time": 4.796924892,
                        "iteration": 1706,
                        "remaining_time": 0.8233737512,
                        "learn": [
                          0.2
                        ]
                      },
                      {
                        "test": [
                          0.6842335352,
                          0.5789445567,
                          0.2
                        ],
                        "passed_time": 4.799259321,
                        "iteration": 1707,
                        "remaining_time": 0.8204822727,
                        "learn": [
                          0.2
                        ]
                      },
                      {
                        "test": [
                          0.6842335352,
                          0.5785020213,
                          0.2
                        ],
                        "passed_time": 4.801659877,
                        "iteration": 1708,
                        "remaining_time": 0.8176027057,
                        "learn": [
                          0.2
                        ]
                      },
                      {
                        "test": [
                          0.6778585352,
                          0.5744880608,
                          0.2
                        ],
                        "passed_time": 4.804020664,
                        "iteration": 1709,
                        "remaining_time": 0.8147169548,
                        "learn": [
                          0.2
                        ]
                      },
                      {
                        "test": [
                          0.6778585352,
                          0.5744880608,
                          0.2
                        ],
                        "passed_time": 4.806387841,
                        "iteration": 1710,
                        "remaining_time": 0.8118328966,
                        "learn": [
                          0.2
                        ]
                      },
                      {
                        "test": [
                          0.6778585352,
                          0.5749305961,
                          0.2
                        ],
                        "passed_time": 4.80887898,
                        "iteration": 1711,
                        "remaining_time": 0.8089702957,
                        "learn": [
                          0.2
                        ]
                      },
                      {
                        "test": [
                          0.6778585352,
                          0.5749305961,
                          0.2
                        ],
                        "passed_time": 4.811369895,
                        "iteration": 1712,
                        "remaining_time": 0.806108091,
                        "learn": [
                          0.2
                        ]
                      },
                      {
                        "test": [
                          0.6778585352,
                          0.5749305961,
                          0.2
                        ],
                        "passed_time": 4.813829675,
                        "iteration": 1713,
                        "remaining_time": 0.8032411243,
                        "learn": [
                          0.2
                        ]
                      },
                      {
                        "test": [
                          0.6778585352,
                          0.5744880608,
                          0.2
                        ],
                        "passed_time": 4.816230584,
                        "iteration": 1714,
                        "remaining_time": 0.8003648493,
                        "learn": [
                          0.2
                        ]
                      },
                      {
                        "test": [
                          0.6778585352,
                          0.5744880608,
                          0.2
                        ],
                        "passed_time": 4.818615885,
                        "iteration": 1715,
                        "remaining_time": 0.7974865451,
                        "learn": [
                          0.2
                        ]
                      },
                      {
                        "test": [
                          0.688148582,
                          0.5807850556,
                          0.2
                        ],
                        "passed_time": 4.821000226,
                        "iteration": 1716,
                        "remaining_time": 0.794608657,
                        "learn": [
                          0.2
                        ]
                      },
                      {
                        "test": [
                          0.681773582,
                          0.5772136304,
                          0.2
                        ],
                        "passed_time": 4.82342433,
                        "iteration": 1717,
                        "remaining_time": 0.7917378703,
                        "learn": [
                          0.2
                        ]
                      },
                      {
                        "test": [
                          0.681773582,
                          0.5772136304,
                          0.2
                        ],
                        "passed_time": 4.82582233,
                        "iteration": 1718,
                        "remaining_time": 0.788863336,
                        "learn": [
                          0.2
                        ]
                      },
                      {
                        "test": [
                          0.681773582,
                          0.5772136304,
                          0.2
                        ],
                        "passed_time": 4.828279804,
                        "iteration": 1719,
                        "remaining_time": 0.7859990379,
                        "learn": [
                          0.2
                        ]
                      },
                      {
                        "test": [
                          0.6789449607,
                          0.5766658307,
                          0.2
                        ],
                        "passed_time": 4.830693089,
                        "iteration": 1720,
                        "remaining_time": 0.7831280487,
                        "learn": [
                          0.2
                        ]
                      },
                      {
                        "test": [
                          0.6789449607,
                          0.5766658307,
                          0.2
                        ],
                        "passed_time": 4.833159502,
                        "iteration": 1721,
                        "remaining_time": 0.7802661682,
                        "learn": [
                          0.2
                        ]
                      },
                      {
                        "test": [
                          0.6750299138,
                          0.5757263169,
                          0.2
                        ],
                        "passed_time": 4.835554926,
                        "iteration": 1722,
                        "remaining_time": 0.777393334,
                        "learn": [
                          0.2
                        ]
                      },
                      {
                        "test": [
                          0.6750299138,
                          0.5757263169,
                          0.2
                        ],
                        "passed_time": 4.837945528,
                        "iteration": 1723,
                        "remaining_time": 0.7745202817,
                        "learn": [
                          0.2
                        ]
                      },
                      {
                        "test": [
                          0.6778585352,
                          0.5762741166,
                          0.2
                        ],
                        "passed_time": 4.840327749,
                        "iteration": 1724,
                        "remaining_time": 0.7716464527,
                        "learn": [
                          0.2
                        ]
                      },
                      {
                        "test": [
                          0.6778585352,
                          0.5762741166,
                          0.2
                        ],
                        "passed_time": 4.842761248,
                        "iteration": 1725,
                        "remaining_time": 0.7687813337,
                        "learn": [
                          0.2
                        ]
                      },
                      {
                        "test": [
                          0.6750299138,
                          0.5757263169,
                          0.2
                        ],
                        "passed_time": 4.845572251,
                        "iteration": 1726,
                        "remaining_time": 0.7659763893,
                        "learn": [
                          0.2
                        ]
                      },
                      {
                        "test": [
                          0.6750299138,
                          0.5757263169,
                          0.2
                        ],
                        "passed_time": 4.849353262,
                        "iteration": 1727,
                        "remaining_time": 0.7633241246,
                        "learn": [
                          0.2
                        ]
                      },
                      {
                        "test": [
                          0.6750299138,
                          0.5757263169,
                          0.2
                        ],
                        "passed_time": 4.851924793,
                        "iteration": 1728,
                        "remaining_time": 0.7604809825,
                        "learn": [
                          0.2
                        ]
                      },
                      {
                        "test": [
                          0.6750299138,
                          0.5751785172,
                          0.2
                        ],
                        "passed_time": 4.854376223,
                        "iteration": 1729,
                        "remaining_time": 0.7576194106,
                        "learn": [
                          0.2
                        ]
                      },
                      {
                        "test": [
                          0.6750299138,
                          0.5738349967,
                          0.2
                        ],
                        "passed_time": 4.856795705,
                        "iteration": 1730,
                        "remaining_time": 0.7547533475,
                        "learn": [
                          0.2
                        ]
                      },
                      {
                        "test": [
                          0.6750299138,
                          0.5738349967,
                          0.2
                        ],
                        "passed_time": 4.85917531,
                        "iteration": 1731,
                        "remaining_time": 0.7518816299,
                        "learn": [
                          0.2
                        ]
                      },
                      {
                        "test": [
                          0.6750299138,
                          0.5738349967,
                          0.2
                        ],
                        "passed_time": 4.861584366,
                        "iteration": 1732,
                        "remaining_time": 0.7490150177,
                        "learn": [
                          0.2
                        ]
                      },
                      {
                        "test": [
                          0.6750299138,
                          0.5738349967,
                          0.2
                        ],
                        "passed_time": 4.863973632,
                        "iteration": 1733,
                        "remaining_time": 0.7461458974,
                        "learn": [
                          0.2
                        ]
                      },
                      {
                        "test": [
                          0.6750299138,
                          0.5747359819,
                          0.2
                        ],
                        "passed_time": 4.866380755,
                        "iteration": 1734,
                        "remaining_time": 0.7432800577,
                        "learn": [
                          0.2
                        ]
                      },
                      {
                        "test": [
                          0.6814049138,
                          0.5787499424,
                          0.2
                        ],
                        "passed_time": 4.868751932,
                        "iteration": 1735,
                        "remaining_time": 0.74040928,
                        "learn": [
                          0.2
                        ]
                      },
                      {
                        "test": [
                          0.6814049138,
                          0.5787499424,
                          0.2
                        ],
                        "passed_time": 4.8711143,
                        "iteration": 1736,
                        "remaining_time": 0.7375377438,
                        "learn": [
                          0.2
                        ]
                      },
                      {
                        "test": [
                          0.6814049138,
                          0.5787499424,
                          0.2
                        ],
                        "passed_time": 4.873528117,
                        "iteration": 1737,
                        "remaining_time": 0.7346745492,
                        "learn": [
                          0.2
                        ]
                      },
                      {
                        "test": [
                          0.6814049138,
                          0.5792977421,
                          0.2
                        ],
                        "passed_time": 4.875943255,
                        "iteration": 1738,
                        "remaining_time": 0.7318120699,
                        "learn": [
                          0.2
                        ]
                      },
                      {
                        "test": [
                          0.6814049138,
                          0.5792977421,
                          0.2
                        ],
                        "passed_time": 4.878339367,
                        "iteration": 1739,
                        "remaining_time": 0.7289472618,
                        "learn": [
                          0.2
                        ]
                      },
                      {
                        "test": [
                          0.6814049138,
                          0.5787499424,
                          0.2
                        ],
                        "passed_time": 4.880901409,
                        "iteration": 1740,
                        "remaining_time": 0.7261076765,
                        "learn": [
                          0.2
                        ]
                      },
                      {
                        "test": [
                          0.6814049138,
                          0.5792977421,
                          0.2
                        ],
                        "passed_time": 4.883258954,
                        "iteration": 1741,
                        "remaining_time": 0.7232381229,
                        "learn": [
                          0.2
                        ]
                      },
                      {
                        "test": [
                          0.6814049138,
                          0.5787499424,
                          0.2
                        ],
                        "passed_time": 4.885601211,
                        "iteration": 1742,
                        "remaining_time": 0.7203669026,
                        "learn": [
                          0.2
                        ]
                      },
                      {
                        "test": [
                          0.6814049138,
                          0.5792977421,
                          0.2
                        ],
                        "passed_time": 4.889753558,
                        "iteration": 1743,
                        "remaining_time": 0.7177619902,
                        "learn": [
                          0.2
                        ]
                      },
                      {
                        "test": [
                          0.6814049138,
                          0.5787499424,
                          0.2
                        ],
                        "passed_time": 4.89215906,
                        "iteration": 1744,
                        "remaining_time": 0.7149000345,
                        "learn": [
                          0.2
                        ]
                      },
                      {
                        "test": [
                          0.6814049138,
                          0.5787499424,
                          0.2
                        ],
                        "passed_time": 4.894533678,
                        "iteration": 1745,
                        "remaining_time": 0.712034109,
                        "learn": [
                          0.2
                        ]
                      },
                      {
                        "test": [
                          0.6814049138,
                          0.5787499424,
                          0.2
                        ],
                        "passed_time": 4.896924654,
                        "iteration": 1746,
                        "remaining_time": 0.7091711147,
                        "learn": [
                          0.2
                        ]
                      },
                      {
                        "test": [
                          0.6842335352,
                          0.5792977421,
                          0.2
                        ],
                        "passed_time": 4.899458785,
                        "iteration": 1747,
                        "remaining_time": 0.7063292985,
                        "learn": [
                          0.2
                        ]
                      },
                      {
                        "test": [
                          0.6814049138,
                          0.5787499424,
                          0.2
                        ],
                        "passed_time": 4.901876069,
                        "iteration": 1748,
                        "remaining_time": 0.7034710654,
                        "learn": [
                          0.2
                        ]
                      },
                      {
                        "test": [
                          0.6814049138,
                          0.5792977421,
                          0.2
                        ],
                        "passed_time": 4.904230829,
                        "iteration": 1749,
                        "remaining_time": 0.7006044041,
                        "learn": [
                          0.2
                        ]
                      },
                      {
                        "test": [
                          0.6814049138,
                          0.5792977421,
                          0.2
                        ],
                        "passed_time": 4.906631225,
                        "iteration": 1750,
                        "remaining_time": 0.6977448173,
                        "learn": [
                          0.2
                        ]
                      },
                      {
                        "test": [
                          0.6842335352,
                          0.5798455418,
                          0.2
                        ],
                        "passed_time": 4.908985521,
                        "iteration": 1751,
                        "remaining_time": 0.694879229,
                        "learn": [
                          0.2
                        ]
                      },
                      {
                        "test": [
                          0.6814049138,
                          0.5792977421,
                          0.2
                        ],
                        "passed_time": 4.911339205,
                        "iteration": 1752,
                        "remaining_time": 0.6920141379,
                        "learn": [
                          0.2
                        ]
                      },
                      {
                        "test": [
                          0.6814049138,
                          0.5792977421,
                          0.2
                        ],
                        "passed_time": 4.913624614,
                        "iteration": 1753,
                        "remaining_time": 0.6891400541,
                        "learn": [
                          0.2
                        ]
                      },
                      {
                        "test": [
                          0.6814049138,
                          0.5792977421,
                          0.2
                        ],
                        "passed_time": 4.916154962,
                        "iteration": 1754,
                        "remaining_time": 0.6863008352,
                        "learn": [
                          0.2
                        ]
                      },
                      {
                        "test": [
                          0.6814049138,
                          0.5792977421,
                          0.2
                        ],
                        "passed_time": 4.918430899,
                        "iteration": 1755,
                        "remaining_time": 0.6834266169,
                        "learn": [
                          0.2
                        ]
                      },
                      {
                        "test": [
                          0.6814049138,
                          0.5792977421,
                          0.2
                        ],
                        "passed_time": 4.920721151,
                        "iteration": 1756,
                        "remaining_time": 0.6805550596,
                        "learn": [
                          0.2
                        ]
                      },
                      {
                        "test": [
                          0.6814049138,
                          0.5792977421,
                          0.2
                        ],
                        "passed_time": 4.922998343,
                        "iteration": 1757,
                        "remaining_time": 0.6776823657,
                        "learn": [
                          0.2
                        ]
                      },
                      {
                        "test": [
                          0.6814049138,
                          0.5792977421,
                          0.2
                        ],
                        "passed_time": 4.925288695,
                        "iteration": 1758,
                        "remaining_time": 0.6748121521,
                        "learn": [
                          0.2
                        ]
                      },
                      {
                        "test": [
                          0.6750299138,
                          0.5752837816,
                          0.2
                        ],
                        "passed_time": 4.927741104,
                        "iteration": 1759,
                        "remaining_time": 0.671964696,
                        "learn": [
                          0.2
                        ]
                      },
                      {
                        "test": [
                          0.6750299138,
                          0.5752837816,
                          0.2
                        ],
                        "passed_time": 4.930068996,
                        "iteration": 1760,
                        "remaining_time": 0.6691007893,
                        "learn": [
                          0.2
                        ]
                      },
                      {
                        "test": [
                          0.6750299138,
                          0.5756754957,
                          0.2
                        ],
                        "passed_time": 4.932389624,
                        "iteration": 1761,
                        "remaining_time": 0.6662365099,
                        "learn": [
                          0.2
                        ]
                      },
                      {
                        "test": [
                          0.6750299138,
                          0.5756754957,
                          0.2
                        ],
                        "passed_time": 4.934637662,
                        "iteration": 1762,
                        "remaining_time": 0.663363089,
                        "learn": [
                          0.2
                        ]
                      },
                      {
                        "test": [
                          0.6750299138,
                          0.5756754957,
                          0.2
                        ],
                        "passed_time": 4.936884288,
                        "iteration": 1763,
                        "remaining_time": 0.6604901881,
                        "learn": [
                          0.2
                        ]
                      },
                      {
                        "test": [
                          0.6814049138,
                          0.5796894562,
                          0.2
                        ],
                        "passed_time": 4.93920136,
                        "iteration": 1764,
                        "remaining_time": 0.6576273765,
                        "learn": [
                          0.2
                        ]
                      },
                      {
                        "test": [
                          0.6814049138,
                          0.5810329767,
                          0.2
                        ],
                        "passed_time": 4.941463947,
                        "iteration": 1765,
                        "remaining_time": 0.6547579636,
                        "learn": [
                          0.2
                        ]
                      },
                      {
                        "test": [
                          0.6750299138,
                          0.5770190162,
                          0.2
                        ],
                        "passed_time": 4.943917358,
                        "iteration": 1766,
                        "remaining_time": 0.6519143998,
                        "learn": [
                          0.2
                        ]
                      },
                      {
                        "test": [
                          0.6750299138,
                          0.5756754957,
                          0.2
                        ],
                        "passed_time": 4.9463081,
                        "iteration": 1767,
                        "remaining_time": 0.6490630539,
                        "learn": [
                          0.2
                        ]
                      },
                      {
                        "test": [
                          0.6750299138,
                          0.5756754957,
                          0.2
                        ],
                        "passed_time": 4.948645391,
                        "iteration": 1768,
                        "remaining_time": 0.6462052489,
                        "learn": [
                          0.2
                        ]
                      },
                      {
                        "test": [
                          0.6750299138,
                          0.5770190162,
                          0.2
                        ],
                        "passed_time": 4.950935339,
                        "iteration": 1769,
                        "remaining_time": 0.6433418802,
                        "learn": [
                          0.2
                        ]
                      },
                      {
                        "test": [
                          0.6750299138,
                          0.5770190162,
                          0.2
                        ],
                        "passed_time": 4.95326546,
                        "iteration": 1770,
                        "remaining_time": 0.6404843537,
                        "learn": [
                          0.2
                        ]
                      },
                      {
                        "test": [
                          0.6750299138,
                          0.5770190162,
                          0.2
                        ],
                        "passed_time": 4.95551578,
                        "iteration": 1771,
                        "remaining_time": 0.6376171546,
                        "learn": [
                          0.2
                        ]
                      },
                      {
                        "test": [
                          0.6750299138,
                          0.5770190162,
                          0.2
                        ],
                        "passed_time": 4.957835726,
                        "iteration": 1772,
                        "remaining_time": 0.6347595655,
                        "learn": [
                          0.2
                        ]
                      },
                      {
                        "test": [
                          0.6750299138,
                          0.5770190162,
                          0.2
                        ],
                        "passed_time": 4.960287989,
                        "iteration": 1773,
                        "remaining_time": 0.6319194395,
                        "learn": [
                          0.2
                        ]
                      },
                      {
                        "test": [
                          0.6750299138,
                          0.5770190162,
                          0.2
                        ],
                        "passed_time": 4.962639512,
                        "iteration": 1774,
                        "remaining_time": 0.6290669804,
                        "learn": [
                          0.2
                        ]
                      },
                      {
                        "test": [
                          0.6750299138,
                          0.5770190162,
                          0.2
                        ],
                        "passed_time": 4.96498967,
                        "iteration": 1775,
                        "remaining_time": 0.6262149134,
                        "learn": [
                          0.2
                        ]
                      },
                      {
                        "test": [
                          0.6750299138,
                          0.5756754957,
                          0.2
                        ],
                        "passed_time": 4.967283527,
                        "iteration": 1776,
                        "remaining_time": 0.6233563458,
                        "learn": [
                          0.2
                        ]
                      },
                      {
                        "test": [
                          0.6750299138,
                          0.5756754957,
                          0.2
                        ],
                        "passed_time": 4.969623283,
                        "iteration": 1777,
                        "remaining_time": 0.6205041444,
                        "learn": [
                          0.2
                        ]
                      },
                      {
                        "test": [
                          0.6750299138,
                          0.5756754957,
                          0.2
                        ],
                        "passed_time": 4.971930617,
                        "iteration": 1778,
                        "remaining_time": 0.6176484914,
                        "learn": [
                          0.2
                        ]
                      },
                      {
                        "test": [
                          0.6750299138,
                          0.5756754957,
                          0.2
                        ],
                        "passed_time": 4.974223209,
                        "iteration": 1779,
                        "remaining_time": 0.6147916326,
                        "learn": [
                          0.2
                        ]
                      },
                      {
                        "test": [
                          0.6750299138,
                          0.5762232954,
                          0.2
                        ],
                        "passed_time": 4.97658911,
                        "iteration": 1780,
                        "remaining_time": 0.6119444218,
                        "learn": [
                          0.2
                        ]
                      },
                      {
                        "test": [
                          0.6750299138,
                          0.5762232954,
                          0.2
                        ],
                        "passed_time": 4.978923564,
                        "iteration": 1781,
                        "remaining_time": 0.609093904,
                        "learn": [
                          0.2
                        ]
                      },
                      {
                        "test": [
                          0.6750299138,
                          0.5756754957,
                          0.2
                        ],
                        "passed_time": 4.981231305,
                        "iteration": 1782,
                        "remaining_time": 0.6062407141,
                        "learn": [
                          0.2
                        ]
                      },
                      {
                        "test": [
                          0.6750299138,
                          0.5756754957,
                          0.2
                        ],
                        "passed_time": 4.983498952,
                        "iteration": 1783,
                        "remaining_time": 0.6033832812,
                        "learn": [
                          0.2
                        ]
                      },
                      {
                        "test": [
                          0.6750299138,
                          0.5762232954,
                          0.2
                        ],
                        "passed_time": 4.985853414,
                        "iteration": 1784,
                        "remaining_time": 0.6005369658,
                        "learn": [
                          0.2
                        ]
                      },
                      {
                        "test": [
                          0.6750299138,
                          0.5756754957,
                          0.2
                        ],
                        "passed_time": 4.988121056,
                        "iteration": 1785,
                        "remaining_time": 0.5976807984,
                        "learn": [
                          0.2
                        ]
                      },
                      {
                        "test": [
                          0.6750299138,
                          0.5747359819,
                          0.2
                        ],
                        "passed_time": 4.990471727,
                        "iteration": 1786,
                        "remaining_time": 0.5948351862,
                        "learn": [
                          0.2
                        ]
                      },
                      {
                        "test": [
                          0.6696111638,
                          0.573550222,
                          0.2
                        ],
                        "passed_time": 4.992799012,
                        "iteration": 1787,
                        "remaining_time": 0.5919873549,
                        "learn": [
                          0.2
                        ]
                      },
                      {
                        "test": [
                          0.6750299138,
                          0.5756754957,
                          0.2
                        ],
                        "passed_time": 4.995074588,
                        "iteration": 1788,
                        "remaining_time": 0.5891340067,
                        "learn": [
                          0.2
                        ]
                      },
                      {
                        "test": [
                          0.6750299138,
                          0.5756754957,
                          0.2
                        ],
                        "passed_time": 4.997403646,
                        "iteration": 1789,
                        "remaining_time": 0.5862875786,
                        "learn": [
                          0.2
                        ]
                      },
                      {
                        "test": [
                          0.6750299138,
                          0.5756754957,
                          0.2
                        ],
                        "passed_time": 4.999716673,
                        "iteration": 1790,
                        "remaining_time": 0.5834398574,
                        "learn": [
                          0.2
                        ]
                      },
                      {
                        "test": [
                          0.6750299138,
                          0.5756754957,
                          0.2
                        ],
                        "passed_time": 5.002018084,
                        "iteration": 1791,
                        "remaining_time": 0.5805913848,
                        "learn": [
                          0.2
                        ]
                      },
                      {
                        "test": [
                          0.6750299138,
                          0.5756754957,
                          0.2
                        ],
                        "passed_time": 5.004353497,
                        "iteration": 1792,
                        "remaining_time": 0.5777474478,
                        "learn": [
                          0.2
                        ]
                      },
                      {
                        "test": [
                          0.6750299138,
                          0.5762232954,
                          0.2
                        ],
                        "passed_time": 5.006682445,
                        "iteration": 1793,
                        "remaining_time": 0.5749033354,
                        "learn": [
                          0.2
                        ]
                      },
                      {
                        "test": [
                          0.6750299138,
                          0.5762232954,
                          0.2
                        ],
                        "passed_time": 5.008976097,
                        "iteration": 1794,
                        "remaining_time": 0.5720557659,
                        "learn": [
                          0.2
                        ]
                      },
                      {
                        "test": [
                          0.6750299138,
                          0.5762232954,
                          0.2
                        ],
                        "passed_time": 5.011286686,
                        "iteration": 1795,
                        "remaining_time": 0.5692107372,
                        "learn": [
                          0.2
                        ]
                      },
                      {
                        "test": [
                          0.6750299138,
                          0.5762232954,
                          0.2
                        ],
                        "passed_time": 5.013585656,
                        "iteration": 1796,
                        "remaining_time": 0.5663649906,
                        "learn": [
                          0.2
                        ]
                      },
                      {
                        "test": [
                          0.6750299138,
                          0.5762232954,
                          0.2
                        ],
                        "passed_time": 5.015851773,
                        "iteration": 1797,
                        "remaining_time": 0.5635161613,
                        "learn": [
                          0.2
                        ]
                      },
                      {
                        "test": [
                          0.6750299138,
                          0.5762232954,
                          0.2
                        ],
                        "passed_time": 5.018126231,
                        "iteration": 1798,
                        "remaining_time": 0.5606689118,
                        "learn": [
                          0.2
                        ]
                      },
                      {
                        "test": [
                          0.6750299138,
                          0.5762232954,
                          0.2
                        ],
                        "passed_time": 5.020407521,
                        "iteration": 1799,
                        "remaining_time": 0.5578230579,
                        "learn": [
                          0.2
                        ]
                      },
                      {
                        "test": [
                          0.6750299138,
                          0.5762232954,
                          0.2
                        ],
                        "passed_time": 5.024190119,
                        "iteration": 1800,
                        "remaining_time": 0.5551437166,
                        "learn": [
                          0.2
                        ]
                      },
                      {
                        "test": [
                          0.6750299138,
                          0.5762232954,
                          0.2
                        ],
                        "passed_time": 5.026475667,
                        "iteration": 1801,
                        "remaining_time": 0.5522986582,
                        "learn": [
                          0.2
                        ]
                      },
                      {
                        "test": [
                          0.6696111638,
                          0.5740980217,
                          0.2
                        ],
                        "passed_time": 5.0287503,
                        "iteration": 1802,
                        "remaining_time": 0.5494530278,
                        "learn": [
                          0.2
                        ]
                      },
                      {
                        "test": [
                          0.6696111638,
                          0.5740980217,
                          0.2
                        ],
                        "passed_time": 5.031096947,
                        "iteration": 1803,
                        "remaining_time": 0.5466158546,
                        "learn": [
                          0.2
                        ]
                      },
                      {
                        "test": [
                          0.6696111638,
                          0.5740980217,
                          0.2
                        ],
                        "passed_time": 5.033423614,
                        "iteration": 1804,
                        "remaining_time": 0.5437770664,
                        "learn": [
                          0.2
                        ]
                      },
                      {
                        "test": [
                          0.6696111638,
                          0.5740980217,
                          0.2
                        ],
                        "passed_time": 5.035721304,
                        "iteration": 1805,
                        "remaining_time": 0.5409357325,
                        "learn": [
                          0.2
                        ]
                      },
                      {
                        "test": [
                          0.6696111638,
                          0.5740980217,
                          0.2
                        ],
                        "passed_time": 5.038029916,
                        "iteration": 1806,
                        "remaining_time": 0.538096167,
                        "learn": [
                          0.2
                        ]
                      },
                      {
                        "test": [
                          0.6696111638,
                          0.5740980217,
                          0.2
                        ],
                        "passed_time": 5.040486775,
                        "iteration": 1807,
                        "remaining_time": 0.5352729319,
                        "learn": [
                          0.2
                        ]
                      },
                      {
                        "test": [
                          0.6696111638,
                          0.573550222,
                          0.2
                        ],
                        "passed_time": 5.042806179,
                        "iteration": 1808,
                        "remaining_time": 0.5324355888,
                        "learn": [
                          0.2
                        ]
                      },
                      {
                        "test": [
                          0.6696111638,
                          0.573550222,
                          0.2
                        ],
                        "passed_time": 5.045214644,
                        "iteration": 1809,
                        "remaining_time": 0.529608167,
                        "learn": [
                          0.2
                        ]
                      },
                      {
                        "test": [
                          0.6696111638,
                          0.5740980217,
                          0.2
                        ],
                        "passed_time": 5.047504599,
                        "iteration": 1810,
                        "remaining_time": 0.52676884,
                        "learn": [
                          0.2
                        ]
                      },
                      {
                        "test": [
                          0.6759861638,
                          0.5781119822,
                          0.2
                        ],
                        "passed_time": 5.049839195,
                        "iteration": 1811,
                        "remaining_time": 0.5239347509,
                        "learn": [
                          0.2
                        ]
                      },
                      {
                        "test": [
                          0.6759861638,
                          0.5775641825,
                          0.2
                        ],
                        "passed_time": 5.052156974,
                        "iteration": 1812,
                        "remaining_time": 0.5210994783,
                        "learn": [
                          0.2
                        ]
                      },
                      {
                        "test": [
                          0.6759861638,
                          0.5775641825,
                          0.2
                        ],
                        "passed_time": 5.054470443,
                        "iteration": 1813,
                        "remaining_time": 0.5182643343,
                        "learn": [
                          0.2
                        ]
                      },
                      {
                        "test": [
                          0.6759861638,
                          0.5781119822,
                          0.2
                        ],
                        "passed_time": 5.056753104,
                        "iteration": 1814,
                        "remaining_time": 0.5154266249,
                        "learn": [
                          0.2
                        ]
                      },
                      {
                        "test": [
                          0.6759861638,
                          0.5775641825,
                          0.2
                        ],
                        "passed_time": 5.059042977,
                        "iteration": 1815,
                        "remaining_time": 0.5125902575,
                        "learn": [
                          0.2
                        ]
                      },
                      {
                        "test": [
                          0.6759861638,
                          0.5775641825,
                          0.2
                        ],
                        "passed_time": 5.061409543,
                        "iteration": 1816,
                        "remaining_time": 0.5097622159,
                        "learn": [
                          0.2
                        ]
                      },
                      {
                        "test": [
                          0.6759861638,
                          0.5775641825,
                          0.2
                        ],
                        "passed_time": 5.06369705,
                        "iteration": 1817,
                        "remaining_time": 0.5069267674,
                        "learn": [
                          0.2
                        ]
                      },
                      {
                        "test": [
                          0.6759861638,
                          0.5781119822,
                          0.2
                        ],
                        "passed_time": 5.065958295,
                        "iteration": 1818,
                        "remaining_time": 0.504089308,
                        "learn": [
                          0.2
                        ]
                      },
                      {
                        "test": [
                          0.6759861638,
                          0.5781119822,
                          0.2
                        ],
                        "passed_time": 5.068223021,
                        "iteration": 1819,
                        "remaining_time": 0.5012528263,
                        "learn": [
                          0.2
                        ]
                      },
                      {
                        "test": [
                          0.6759861638,
                          0.5794555027,
                          0.2
                        ],
                        "passed_time": 5.070582969,
                        "iteration": 1820,
                        "remaining_time": 0.4984263325,
                        "learn": [
                          0.2
                        ]
                      },
                      {
                        "test": [
                          0.6814049138,
                          0.5796894562,
                          0.2
                        ],
                        "passed_time": 5.072934394,
                        "iteration": 1821,
                        "remaining_time": 0.4955995182,
                        "learn": [
                          0.2
                        ]
                      },
                      {
                        "test": [
                          0.6814049138,
                          0.5796894562,
                          0.2
                        ],
                        "passed_time": 5.075231001,
                        "iteration": 1822,
                        "remaining_time": 0.492767903,
                        "learn": [
                          0.2
                        ]
                      },
                      {
                        "test": [
                          0.6814049138,
                          0.5815807764,
                          0.2
                        ],
                        "passed_time": 5.077575058,
                        "iteration": 1823,
                        "remaining_time": 0.4899414529,
                        "learn": [
                          0.2
                        ]
                      },
                      {
                        "test": [
                          0.6814049138,
                          0.5815807764,
                          0.2
                        ],
                        "passed_time": 5.079900714,
                        "iteration": 1824,
                        "remaining_time": 0.4871137671,
                        "learn": [
                          0.2
                        ]
                      },
                      {
                        "test": [
                          0.6814049138,
                          0.5796894562,
                          0.2
                        ],
                        "passed_time": 5.082167147,
                        "iteration": 1825,
                        "remaining_time": 0.4842809877,
                        "learn": [
                          0.2
                        ]
                      },
                      {
                        "test": [
                          0.6814049138,
                          0.5796894562,
                          0.2
                        ],
                        "passed_time": 5.084517928,
                        "iteration": 1826,
                        "remaining_time": 0.4814568153,
                        "learn": [
                          0.2
                        ]
                      },
                      {
                        "test": [
                          0.6814049138,
                          0.5783459357,
                          0.2
                        ],
                        "passed_time": 5.086983839,
                        "iteration": 1827,
                        "remaining_time": 0.4786439936,
                        "learn": [
                          0.2
                        ]
                      },
                      {
                        "test": [
                          0.6814049138,
                          0.5783459357,
                          0.2
                        ],
                        "passed_time": 5.089349743,
                        "iteration": 1828,
                        "remaining_time": 0.4758222013,
                        "learn": [
                          0.2
                        ]
                      },
                      {
                        "test": [
                          0.6814049138,
                          0.5783459357,
                          0.2
                        ],
                        "passed_time": 5.091677769,
                        "iteration": 1829,
                        "remaining_time": 0.4729973883,
                        "learn": [
                          0.2
                        ]
                      },
                      {
                        "test": [
                          0.6814049138,
                          0.5783459357,
                          0.2
                        ],
                        "passed_time": 5.093968081,
                        "iteration": 1830,
                        "remaining_time": 0.4701696372,
                        "learn": [
                          0.2
                        ]
                      },
                      {
                        "test": [
                          0.6759861638,
                          0.576220662,
                          0.2
                        ],
                        "passed_time": 5.096257723,
                        "iteration": 1831,
                        "remaining_time": 0.4673424113,
                        "learn": [
                          0.2
                        ]
                      },
                      {
                        "test": [
                          0.6759861638,
                          0.576220662,
                          0.2
                        ],
                        "passed_time": 5.098625234,
                        "iteration": 1832,
                        "remaining_time": 0.4645228663,
                        "learn": [
                          0.2
                        ]
                      },
                      {
                        "test": [
                          0.6814049138,
                          0.5796894562,
                          0.2
                        ],
                        "passed_time": 5.100971029,
                        "iteration": 1833,
                        "remaining_time": 0.4617018489,
                        "learn": [
                          0.2
                        ]
                      },
                      {
                        "test": [
                          0.6814049138,
                          0.5796894562,
                          0.2
                        ],
                        "passed_time": 5.10324727,
                        "iteration": 1834,
                        "remaining_time": 0.4588750952,
                        "learn": [
                          0.2
                        ]
                      },
                      {
                        "test": [
                          0.6814049138,
                          0.5796894562,
                          0.2
                        ],
                        "passed_time": 5.105555928,
                        "iteration": 1835,
                        "remaining_time": 0.4560518367,
                        "learn": [
                          0.2
                        ]
                      },
                      {
                        "test": [
                          0.6814049138,
                          0.5796894562,
                          0.2
                        ],
                        "passed_time": 5.107853961,
                        "iteration": 1836,
                        "remaining_time": 0.4532281957,
                        "learn": [
                          0.2
                        ]
                      },
                      {
                        "test": [
                          0.6814049138,
                          0.5796894562,
                          0.2
                        ],
                        "passed_time": 5.110147314,
                        "iteration": 1837,
                        "remaining_time": 0.4504047143,
                        "learn": [
                          0.2
                        ]
                      },
                      {
                        "test": [
                          0.6814049138,
                          0.5796894562,
                          0.2
                        ],
                        "passed_time": 5.112482298,
                        "iteration": 1838,
                        "remaining_time": 0.4475854541,
                        "learn": [
                          0.2
                        ]
                      },
                      {
                        "test": [
                          0.6814049138,
                          0.5796894562,
                          0.2
                        ],
                        "passed_time": 5.118315057,
                        "iteration": 1839,
                        "remaining_time": 0.4450708745,
                        "learn": [
                          0.2
                        ]
                      },
                      {
                        "test": [
                          0.6814049138,
                          0.5796894562,
                          0.2
                        ],
                        "passed_time": 5.121568657,
                        "iteration": 1840,
                        "remaining_time": 0.4423299384,
                        "learn": [
                          0.2
                        ]
                      },
                      {
                        "test": [
                          0.6814049138,
                          0.5801319915,
                          0.2
                        ],
                        "passed_time": 5.124261888,
                        "iteration": 1841,
                        "remaining_time": 0.4395403791,
                        "learn": [
                          0.2
                        ]
                      },
                      {
                        "test": [
                          0.6799012107,
                          0.5785036963,
                          0.2
                        ],
                        "passed_time": 5.127034202,
                        "iteration": 1842,
                        "remaining_time": 0.4367576613,
                        "learn": [
                          0.2
                        ]
                      },
                      {
                        "test": [
                          0.6799012107,
                          0.5785036963,
                          0.2
                        ],
                        "passed_time": 5.129944216,
                        "iteration": 1843,
                        "remaining_time": 0.4339866039,
                        "learn": [
                          0.2
                        ]
                      },
                      {
                        "test": [
                          0.6799012107,
                          0.5785036963,
                          0.2
                        ],
                        "passed_time": 5.132257061,
                        "iteration": 1844,
                        "remaining_time": 0.4311652273,
                        "learn": [
                          0.2
                        ]
                      },
                      {
                        "test": [
                          0.6799012107,
                          0.5775641825,
                          0.2
                        ],
                        "passed_time": 5.135077357,
                        "iteration": 1845,
                        "remaining_time": 0.4283867351,
                        "learn": [
                          0.2
                        ]
                      },
                      {
                        "test": [
                          0.6799012107,
                          0.5798472168,
                          0.2
                        ],
                        "passed_time": 5.139216306,
                        "iteration": 1846,
                        "remaining_time": 0.4257174308,
                        "learn": [
                          0.2
                        ]
                      },
                      {
                        "test": [
                          0.6799012107,
                          0.578907703,
                          0.2
                        ],
                        "passed_time": 5.141596069,
                        "iteration": 1847,
                        "remaining_time": 0.4229018412,
                        "learn": [
                          0.2
                        ]
                      },
                      {
                        "test": [
                          0.6799012107,
                          0.5775641825,
                          0.2
                        ],
                        "passed_time": 5.143860926,
                        "iteration": 1848,
                        "remaining_time": 0.420077339,
                        "learn": [
                          0.2
                        ]
                      },
                      {
                        "test": [
                          0.6799012107,
                          0.5785036963,
                          0.2
                        ],
                        "passed_time": 5.146253161,
                        "iteration": 1849,
                        "remaining_time": 0.4172637698,
                        "learn": [
                          0.2
                        ]
                      },
                      {
                        "test": [
                          0.6799012107,
                          0.5785036963,
                          0.2
                        ],
                        "passed_time": 5.148725897,
                        "iteration": 1850,
                        "remaining_time": 0.414457136,
                        "learn": [
                          0.2
                        ]
                      },
                      {
                        "test": [
                          0.6799012107,
                          0.5785036963,
                          0.2
                        ],
                        "passed_time": 5.151095973,
                        "iteration": 1851,
                        "remaining_time": 0.4116426587,
                        "learn": [
                          0.2
                        ]
                      },
                      {
                        "test": [
                          0.6799012107,
                          0.5798472168,
                          0.2
                        ],
                        "passed_time": 5.153443361,
                        "iteration": 1852,
                        "remaining_time": 0.4088268614,
                        "learn": [
                          0.2
                        ]
                      },
                      {
                        "test": [
                          0.6799012107,
                          0.5798472168,
                          0.2
                        ],
                        "passed_time": 5.155786626,
                        "iteration": 1853,
                        "remaining_time": 0.4060112446,
                        "learn": [
                          0.2
                        ]
                      },
                      {
                        "test": [
                          0.6799012107,
                          0.5798472168,
                          0.2
                        ],
                        "passed_time": 5.158085774,
                        "iteration": 1854,
                        "remaining_time": 0.4031926885,
                        "learn": [
                          0.2
                        ]
                      },
                      {
                        "test": [
                          0.6799012107,
                          0.5798472168,
                          0.2
                        ],
                        "passed_time": 5.160585458,
                        "iteration": 1855,
                        "remaining_time": 0.400390251,
                        "learn": [
                          0.2
                        ]
                      },
                      {
                        "test": [
                          0.6799012107,
                          0.5789462317,
                          0.2
                        ],
                        "passed_time": 5.162884051,
                        "iteration": 1856,
                        "remaining_time": 0.3975726545,
                        "learn": [
                          0.2
                        ]
                      },
                      {
                        "test": [
                          0.6799012107,
                          0.5802897521,
                          0.2
                        ],
                        "passed_time": 5.165193915,
                        "iteration": 1857,
                        "remaining_time": 0.3947564779,
                        "learn": [
                          0.2
                        ]
                      },
                      {
                        "test": [
                          0.6799012107,
                          0.5802897521,
                          0.2
                        ],
                        "passed_time": 5.167763006,
                        "iteration": 1858,
                        "remaining_time": 0.3919605077,
                        "learn": [
                          0.2
                        ]
                      },
                      {
                        "test": [
                          0.6799012107,
                          0.5802897521,
                          0.2
                        ],
                        "passed_time": 5.191197972,
                        "iteration": 1859,
                        "remaining_time": 0.3907353312,
                        "learn": [
                          0.2
                        ]
                      },
                      {
                        "test": [
                          0.6799012107,
                          0.5789462317,
                          0.2
                        ],
                        "passed_time": 5.282222478,
                        "iteration": 1860,
                        "remaining_time": 0.3945346182,
                        "learn": [
                          0.2
                        ]
                      },
                      {
                        "test": [
                          0.6799012107,
                          0.5789462317,
                          0.2
                        ],
                        "passed_time": 5.290122476,
                        "iteration": 1861,
                        "remaining_time": 0.3920713757,
                        "learn": [
                          0.2
                        ]
                      },
                      {
                        "test": [
                          0.6799012107,
                          0.5789462317,
                          0.2
                        ],
                        "passed_time": 5.297884158,
                        "iteration": 1862,
                        "remaining_time": 0.3895921254,
                        "learn": [
                          0.2
                        ]
                      },
                      {
                        "test": [
                          0.6799012107,
                          0.5789462317,
                          0.2
                        ],
                        "passed_time": 5.301666459,
                        "iteration": 1863,
                        "remaining_time": 0.3868168661,
                        "learn": [
                          0.2
                        ]
                      },
                      {
                        "test": [
                          0.6799012107,
                          0.5789462317,
                          0.2
                        ],
                        "passed_time": 5.309366234,
                        "iteration": 1864,
                        "remaining_time": 0.3843240974,
                        "learn": [
                          0.2
                        ]
                      },
                      {
                        "test": [
                          0.6799012107,
                          0.5789462317,
                          0.2
                        ],
                        "passed_time": 5.317049641,
                        "iteration": 1865,
                        "remaining_time": 0.3818245723,
                        "learn": [
                          0.2
                        ]
                      },
                      {
                        "test": [
                          0.6799012107,
                          0.5789462317,
                          0.2
                        ],
                        "passed_time": 5.320505486,
                        "iteration": 1866,
                        "remaining_time": 0.379018334,
                        "learn": [
                          0.2
                        ]
                      },
                      {
                        "test": [
                          0.6799012107,
                          0.5789462317,
                          0.2
                        ],
                        "passed_time": 5.334912508,
                        "iteration": 1867,
                        "remaining_time": 0.3769852521,
                        "learn": [
                          0.2
                        ]
                      },
                      {
                        "test": [
                          0.6799012107,
                          0.5789462317,
                          0.2
                        ],
                        "passed_time": 5.338494567,
                        "iteration": 1868,
                        "remaining_time": 0.374180197,
                        "learn": [
                          0.2
                        ]
                      },
                      {
                        "test": [
                          0.6799012107,
                          0.5789462317,
                          0.2
                        ],
                        "passed_time": 5.346122573,
                        "iteration": 1869,
                        "remaining_time": 0.37165558,
                        "learn": [
                          0.2
                        ]
                      },
                      {
                        "test": [
                          0.6799012107,
                          0.5789462317,
                          0.2
                        ],
                        "passed_time": 5.353803207,
                        "iteration": 1870,
                        "remaining_time": 0.3691291362,
                        "learn": [
                          0.2
                        ]
                      },
                      {
                        "test": [
                          0.6799012107,
                          0.5789462317,
                          0.2
                        ],
                        "passed_time": 5.361611197,
                        "iteration": 1871,
                        "remaining_time": 0.3666058938,
                        "learn": [
                          0.2
                        ]
                      },
                      {
                        "test": [
                          0.6799012107,
                          0.5789462317,
                          0.2
                        ],
                        "passed_time": 5.369436416,
                        "iteration": 1872,
                        "remaining_time": 0.3640781766,
                        "learn": [
                          0.2
                        ]
                      },
                      {
                        "test": [
                          0.6799012107,
                          0.5789462317,
                          0.2
                        ],
                        "passed_time": 5.373141367,
                        "iteration": 1873,
                        "remaining_time": 0.361267776,
                        "learn": [
                          0.2
                        ]
                      },
                      {
                        "test": [
                          0.6799012107,
                          0.5789462317,
                          0.2
                        ],
                        "passed_time": 5.386214867,
                        "iteration": 1874,
                        "remaining_time": 0.3590809912,
                        "learn": [
                          0.2
                        ]
                      },
                      {
                        "test": [
                          0.6799012107,
                          0.5789462317,
                          0.2
                        ],
                        "passed_time": 5.390206823,
                        "iteration": 1875,
                        "remaining_time": 0.3562823273,
                        "learn": [
                          0.2
                        ]
                      },
                      {
                        "test": [
                          0.6799012107,
                          0.5789462317,
                          0.2
                        ],
                        "passed_time": 5.400632091,
                        "iteration": 1876,
                        "remaining_time": 0.3539039676,
                        "learn": [
                          0.2
                        ]
                      },
                      {
                        "test": [
                          0.6799012107,
                          0.5789462317,
                          0.2
                        ],
                        "passed_time": 5.406359249,
                        "iteration": 1877,
                        "remaining_time": 0.3512118362,
                        "learn": [
                          0.2
                        ]
                      },
                      {
                        "test": [
                          0.6799012107,
                          0.5789462317,
                          0.2
                        ],
                        "passed_time": 5.408894693,
                        "iteration": 1878,
                        "remaining_time": 0.3483109408,
                        "learn": [
                          0.2
                        ]
                      },
                      {
                        "test": [
                          0.6799012107,
                          0.5789462317,
                          0.2
                        ],
                        "passed_time": 5.411339285,
                        "iteration": 1879,
                        "remaining_time": 0.3454046352,
                        "learn": [
                          0.2
                        ]
                      },
                      {
                        "test": [
                          0.6799012107,
                          0.5789462317,
                          0.2
                        ],
                        "passed_time": 5.413691697,
                        "iteration": 1880,
                        "remaining_time": 0.3424929888,
                        "learn": [
                          0.2
                        ]
                      },
                      {
                        "test": [
                          0.6799012107,
                          0.5789462317,
                          0.2
                        ],
                        "passed_time": 5.416042842,
                        "iteration": 1881,
                        "remaining_time": 0.3395818573,
                        "learn": [
                          0.2
                        ]
                      },
                      {
                        "test": [
                          0.6799012107,
                          0.5789462317,
                          0.2
                        ],
                        "passed_time": 5.418650754,
                        "iteration": 1882,
                        "remaining_time": 0.3366872747,
                        "learn": [
                          0.2
                        ]
                      },
                      {
                        "test": [
                          0.6799012107,
                          0.5789462317,
                          0.2
                        ],
                        "passed_time": 5.421020808,
                        "iteration": 1883,
                        "remaining_time": 0.3337783512,
                        "learn": [
                          0.2
                        ]
                      },
                      {
                        "test": [
                          0.6799012107,
                          0.5789462317,
                          0.2
                        ],
                        "passed_time": 5.423312299,
                        "iteration": 1884,
                        "remaining_time": 0.3308652066,
                        "learn": [
                          0.2
                        ]
                      },
                      {
                        "test": [
                          0.6845071482,
                          0.5802897521,
                          0.2
                        ],
                        "passed_time": 5.425614499,
                        "iteration": 1885,
                        "remaining_time": 0.3279533684,
                        "learn": [
                          0.2
                        ]
                      },
                      {
                        "test": [
                          0.6845071482,
                          0.5802897521,
                          0.2
                        ],
                        "passed_time": 5.427944102,
                        "iteration": 1886,
                        "remaining_time": 0.3250438174,
                        "learn": [
                          0.2
                        ]
                      },
                      {
                        "test": [
                          0.6845071482,
                          0.5802897521,
                          0.2
                        ],
                        "passed_time": 5.430756071,
                        "iteration": 1887,
                        "remaining_time": 0.3221634957,
                        "learn": [
                          0.2
                        ]
                      },
                      {
                        "test": [
                          0.6845071482,
                          0.5798472168,
                          0.2
                        ],
                        "passed_time": 5.433150864,
                        "iteration": 1888,
                        "remaining_time": 0.3192587326,
                        "learn": [
                          0.2
                        ]
                      },
                      {
                        "test": [
                          0.6845071482,
                          0.5798472168,
                          0.2
                        ],
                        "passed_time": 5.435526945,
                        "iteration": 1889,
                        "remaining_time": 0.3163534201,
                        "learn": [
                          0.2
                        ]
                      },
                      {
                        "test": [
                          0.6799012107,
                          0.5789462317,
                          0.2
                        ],
                        "passed_time": 5.43791422,
                        "iteration": 1890,
                        "remaining_time": 0.3134493125,
                        "learn": [
                          0.2
                        ]
                      },
                      {
                        "test": [
                          0.6799012107,
                          0.5789462317,
                          0.2
                        ],
                        "passed_time": 5.440242034,
                        "iteration": 1891,
                        "remaining_time": 0.3105423571,
                        "learn": [
                          0.2
                        ]
                      },
                      {
                        "test": [
                          0.6799012107,
                          0.5789462317,
                          0.2
                        ],
                        "passed_time": 5.442583852,
                        "iteration": 1892,
                        "remaining_time": 0.3076368052,
                        "learn": [
                          0.2
                        ]
                      },
                      {
                        "test": [
                          0.6799012107,
                          0.5789462317,
                          0.2
                        ],
                        "passed_time": 5.444901902,
                        "iteration": 1893,
                        "remaining_time": 0.3047305183,
                        "learn": [
                          0.2
                        ]
                      },
                      {
                        "test": [
                          0.6799012107,
                          0.5789462317,
                          0.2
                        ],
                        "passed_time": 5.447212731,
                        "iteration": 1894,
                        "remaining_time": 0.3018244521,
                        "learn": [
                          0.2
                        ]
                      },
                      {
                        "test": [
                          0.6799012107,
                          0.5789462317,
                          0.2
                        ],
                        "passed_time": 5.449954581,
                        "iteration": 1895,
                        "remaining_time": 0.2989426564,
                        "learn": [
                          0.2
                        ]
                      },
                      {
                        "test": [
                          0.6799012107,
                          0.5789462317,
                          0.2
                        ],
                        "passed_time": 5.452412866,
                        "iteration": 1896,
                        "remaining_time": 0.2960456116,
                        "learn": [
                          0.2
                        ]
                      },
                      {
                        "test": [
                          0.6799012107,
                          0.5789462317,
                          0.2
                        ],
                        "passed_time": 5.454728243,
                        "iteration": 1897,
                        "remaining_time": 0.2931413492,
                        "learn": [
                          0.2
                        ]
                      },
                      {
                        "test": [
                          0.6799012107,
                          0.5789462317,
                          0.2
                        ],
                        "passed_time": 5.457062146,
                        "iteration": 1898,
                        "remaining_time": 0.2902386923,
                        "learn": [
                          0.2
                        ]
                      },
                      {
                        "test": [
                          0.6799012107,
                          0.5789462317,
                          0.2
                        ],
                        "passed_time": 5.459420924,
                        "iteration": 1899,
                        "remaining_time": 0.2873379434,
                        "learn": [
                          0.2
                        ]
                      },
                      {
                        "test": [
                          0.6799012107,
                          0.5789462317,
                          0.2
                        ],
                        "passed_time": 5.461924808,
                        "iteration": 1900,
                        "remaining_time": 0.2844453214,
                        "learn": [
                          0.2
                        ]
                      },
                      {
                        "test": [
                          0.6724012107,
                          0.5676315124,
                          0.2
                        ],
                        "passed_time": 5.464289885,
                        "iteration": 1901,
                        "remaining_time": 0.2815459562,
                        "learn": [
                          0.2
                        ]
                      },
                      {
                        "test": [
                          0.6778199607,
                          0.5697567861,
                          0.2
                        ],
                        "passed_time": 5.466589011,
                        "iteration": 1902,
                        "remaining_time": 0.2786437909,
                        "learn": [
                          0.2
                        ]
                      },
                      {
                        "test": [
                          0.6724012107,
                          0.5676315124,
                          0.2
                        ],
                        "passed_time": 5.468950347,
                        "iteration": 1903,
                        "remaining_time": 0.2757453956,
                        "learn": [
                          0.2
                        ]
                      },
                      {
                        "test": [
                          0.6778199607,
                          0.5697567861,
                          0.2
                        ],
                        "passed_time": 5.471226519,
                        "iteration": 1904,
                        "remaining_time": 0.2728433172,
                        "learn": [
                          0.2
                        ]
                      },
                      {
                        "test": [
                          0.6724012107,
                          0.5676315124,
                          0.2
                        ],
                        "passed_time": 5.473715911,
                        "iteration": 1905,
                        "remaining_time": 0.2699524111,
                        "learn": [
                          0.2
                        ]
                      },
                      {
                        "test": [
                          0.6853199607,
                          0.5810715053,
                          0.2
                        ],
                        "passed_time": 5.476062856,
                        "iteration": 1906,
                        "remaining_time": 0.2670549793,
                        "learn": [
                          0.2
                        ]
                      },
                      {
                        "test": [
                          0.6853199607,
                          0.5810715053,
                          0.2
                        ],
                        "passed_time": 5.47837877,
                        "iteration": 1907,
                        "remaining_time": 0.2641566283,
                        "learn": [
                          0.2
                        ]
                      },
                      {
                        "test": [
                          0.6853199607,
                          0.5810715053,
                          0.2
                        ],
                        "passed_time": 5.480631885,
                        "iteration": 1908,
                        "remaining_time": 0.261255894,
                        "learn": [
                          0.2
                        ]
                      },
                      {
                        "test": [
                          0.6853199607,
                          0.5810715053,
                          0.2
                        ],
                        "passed_time": 5.482916326,
                        "iteration": 1909,
                        "remaining_time": 0.2583573138,
                        "learn": [
                          0.2
                        ]
                      },
                      {
                        "test": [
                          0.6778199607,
                          0.5697567861,
                          0.2
                        ],
                        "passed_time": 5.485218333,
                        "iteration": 1910,
                        "remaining_time": 0.2554601945,
                        "learn": [
                          0.2
                        ]
                      },
                      {
                        "test": [
                          0.6778199607,
                          0.5697567861,
                          0.2
                        ],
                        "passed_time": 5.487521208,
                        "iteration": 1911,
                        "remaining_time": 0.2525637376,
                        "learn": [
                          0.2
                        ]
                      },
                      {
                        "test": [
                          0.6778199607,
                          0.5697567861,
                          0.2
                        ],
                        "passed_time": 5.489809978,
                        "iteration": 1912,
                        "remaining_time": 0.2496672599,
                        "learn": [
                          0.2
                        ]
                      },
                      {
                        "test": [
                          0.6778199607,
                          0.5697567861,
                          0.2
                        ],
                        "passed_time": 5.492225031,
                        "iteration": 1913,
                        "remaining_time": 0.2467770913,
                        "learn": [
                          0.2
                        ]
                      },
                      {
                        "test": [
                          0.6703199607,
                          0.5584420668,
                          0.2
                        ],
                        "passed_time": 5.494569783,
                        "iteration": 1914,
                        "remaining_time": 0.2438842985,
                        "learn": [
                          0.2
                        ]
                      },
                      {
                        "test": [
                          0.6703199607,
                          0.5584420668,
                          0.2
                        ],
                        "passed_time": 5.496855322,
                        "iteration": 1915,
                        "remaining_time": 0.2409894818,
                        "learn": [
                          0.2
                        ]
                      },
                      {
                        "test": [
                          0.6778199607,
                          0.5697567861,
                          0.2
                        ],
                        "passed_time": 5.499108915,
                        "iteration": 1916,
                        "remaining_time": 0.2380939176,
                        "learn": [
                          0.2
                        ]
                      },
                      {
                        "test": [
                          0.6703199607,
                          0.5584420668,
                          0.2
                        ],
                        "passed_time": 5.501468544,
                        "iteration": 1917,
                        "remaining_time": 0.2352035561,
                        "learn": [
                          0.2
                        ]
                      },
                      {
                        "test": [
                          0.6703199607,
                          0.5584420668,
                          0.2
                        ],
                        "passed_time": 5.503918261,
                        "iteration": 1918,
                        "remaining_time": 0.2323175503,
                        "learn": [
                          0.2
                        ]
                      },
                      {
                        "test": [
                          0.6703199607,
                          0.5584420668,
                          0.2
                        ],
                        "passed_time": 5.506246253,
                        "iteration": 1919,
                        "remaining_time": 0.2294269272,
                        "learn": [
                          0.2
                        ]
                      },
                      {
                        "test": [
                          0.6778199607,
                          0.5697567861,
                          0.2
                        ],
                        "passed_time": 5.508532304,
                        "iteration": 1920,
                        "remaining_time": 0.226535165,
                        "learn": [
                          0.2
                        ]
                      },
                      {
                        "test": [
                          0.6778199607,
                          0.5697567861,
                          0.2
                        ],
                        "passed_time": 5.510836909,
                        "iteration": 1921,
                        "remaining_time": 0.2236447861,
                        "learn": [
                          0.2
                        ]
                      },
                      {
                        "test": [
                          0.6778199607,
                          0.5697567861,
                          0.2
                        ],
                        "passed_time": 5.513151108,
                        "iteration": 1922,
                        "remaining_time": 0.2207554006,
                        "learn": [
                          0.2
                        ]
                      },
                      {
                        "test": [
                          0.6778199607,
                          0.5697567861,
                          0.2
                        ],
                        "passed_time": 5.515480767,
                        "iteration": 1923,
                        "remaining_time": 0.2178672236,
                        "learn": [
                          0.2
                        ]
                      },
                      {
                        "test": [
                          0.6778199607,
                          0.5697567861,
                          0.2
                        ],
                        "passed_time": 5.517749386,
                        "iteration": 1924,
                        "remaining_time": 0.2149772488,
                        "learn": [
                          0.2
                        ]
                      },
                      {
                        "test": [
                          0.6778199607,
                          0.5697567861,
                          0.2
                        ],
                        "passed_time": 5.520130051,
                        "iteration": 1925,
                        "remaining_time": 0.2120922242,
                        "learn": [
                          0.2
                        ]
                      },
                      {
                        "test": [
                          0.6778199607,
                          0.5697567861,
                          0.2
                        ],
                        "passed_time": 5.522491074,
                        "iteration": 1926,
                        "remaining_time": 0.2092069789,
                        "learn": [
                          0.2
                        ]
                      },
                      {
                        "test": [
                          0.6778199607,
                          0.5697567861,
                          0.2
                        ],
                        "passed_time": 5.524745684,
                        "iteration": 1927,
                        "remaining_time": 0.2063183035,
                        "learn": [
                          0.2
                        ]
                      },
                      {
                        "test": [
                          0.6778199607,
                          0.5697567861,
                          0.2
                        ],
                        "passed_time": 5.527109603,
                        "iteration": 1928,
                        "remaining_time": 0.2034343089,
                        "learn": [
                          0.2
                        ]
                      },
                      {
                        "test": [
                          0.6778199607,
                          0.5697567861,
                          0.2
                        ],
                        "passed_time": 5.529413907,
                        "iteration": 1929,
                        "remaining_time": 0.2005486909,
                        "learn": [
                          0.2
                        ]
                      },
                      {
                        "test": [
                          0.6778199607,
                          0.5697567861,
                          0.2
                        ],
                        "passed_time": 5.53170535,
                        "iteration": 1930,
                        "remaining_time": 0.1976632155,
                        "learn": [
                          0.2
                        ]
                      },
                      {
                        "test": [
                          0.6749913393,
                          0.5692089864,
                          0.2
                        ],
                        "passed_time": 5.534049492,
                        "iteration": 1931,
                        "remaining_time": 0.1947802099,
                        "learn": [
                          0.2
                        ]
                      },
                      {
                        "test": [
                          0.6749913393,
                          0.5692089864,
                          0.2
                        ],
                        "passed_time": 5.53637554,
                        "iteration": 1932,
                        "remaining_time": 0.1918971346,
                        "learn": [
                          0.2
                        ]
                      },
                      {
                        "test": [
                          0.6749913393,
                          0.5692089864,
                          0.2
                        ],
                        "passed_time": 5.538663841,
                        "iteration": 1933,
                        "remaining_time": 0.1890133472,
                        "learn": [
                          0.2
                        ]
                      },
                      {
                        "test": [
                          0.6749913393,
                          0.5692089864,
                          0.2
                        ],
                        "passed_time": 5.540986807,
                        "iteration": 1934,
                        "remaining_time": 0.1861313398,
                        "learn": [
                          0.2
                        ]
                      },
                      {
                        "test": [
                          0.6749913393,
                          0.5692089864,
                          0.2
                        ],
                        "passed_time": 5.543434707,
                        "iteration": 1935,
                        "remaining_time": 0.1832540399,
                        "learn": [
                          0.2
                        ]
                      },
                      {
                        "test": [
                          0.6749913393,
                          0.5692089864,
                          0.2
                        ],
                        "passed_time": 5.545780358,
                        "iteration": 1936,
                        "remaining_time": 0.1803738578,
                        "learn": [
                          0.2
                        ]
                      },
                      {
                        "test": [
                          0.6749913393,
                          0.5692089864,
                          0.2
                        ],
                        "passed_time": 5.548048795,
                        "iteration": 1937,
                        "remaining_time": 0.1774917571,
                        "learn": [
                          0.2
                        ]
                      },
                      {
                        "test": [
                          0.6749913393,
                          0.5692089864,
                          0.2
                        ],
                        "passed_time": 5.55050858,
                        "iteration": 1938,
                        "remaining_time": 0.1746163091,
                        "learn": [
                          0.2
                        ]
                      },
                      {
                        "test": [
                          0.6749913393,
                          0.5692089864,
                          0.2
                        ],
                        "passed_time": 5.552799597,
                        "iteration": 1939,
                        "remaining_time": 0.17173607,
                        "learn": [
                          0.2
                        ]
                      },
                      {
                        "test": [
                          0.6778199607,
                          0.5697567861,
                          0.2
                        ],
                        "passed_time": 5.555138387,
                        "iteration": 1940,
                        "remaining_time": 0.1688578902,
                        "learn": [
                          0.2
                        ]
                      },
                      {
                        "test": [
                          0.6778199607,
                          0.5697567861,
                          0.2
                        ],
                        "passed_time": 5.557498659,
                        "iteration": 1941,
                        "remaining_time": 0.1659809074,
                        "learn": [
                          0.2
                        ]
                      },
                      {
                        "test": [
                          0.6778199607,
                          0.5697567861,
                          0.2
                        ],
                        "passed_time": 5.55982277,
                        "iteration": 1942,
                        "remaining_time": 0.1631033957,
                        "learn": [
                          0.2
                        ]
                      },
                      {
                        "test": [
                          0.6778199607,
                          0.5697567861,
                          0.2
                        ],
                        "passed_time": 5.562219538,
                        "iteration": 1943,
                        "remaining_time": 0.1602285464,
                        "learn": [
                          0.2
                        ]
                      },
                      {
                        "test": [
                          0.6778199607,
                          0.5697567861,
                          0.2
                        ],
                        "passed_time": 5.564497988,
                        "iteration": 1944,
                        "remaining_time": 0.1573508429,
                        "learn": [
                          0.2
                        ]
                      },
                      {
                        "test": [
                          0.6778199607,
                          0.5697567861,
                          0.2
                        ],
                        "passed_time": 5.566789725,
                        "iteration": 1945,
                        "remaining_time": 0.1544741239,
                        "learn": [
                          0.2
                        ]
                      },
                      {
                        "test": [
                          0.6778199607,
                          0.5697567861,
                          0.2
                        ],
                        "passed_time": 5.571371943,
                        "iteration": 1946,
                        "remaining_time": 0.1516603559,
                        "learn": [
                          0.2
                        ]
                      },
                      {
                        "test": [
                          0.6778199607,
                          0.5697567861,
                          0.2
                        ],
                        "passed_time": 5.574557877,
                        "iteration": 1947,
                        "remaining_time": 0.1488074998,
                        "learn": [
                          0.2
                        ]
                      },
                      {
                        "test": [
                          0.6778199607,
                          0.5697567861,
                          0.2
                        ],
                        "passed_time": 5.577590638,
                        "iteration": 1948,
                        "remaining_time": 0.1459502937,
                        "learn": [
                          0.2
                        ]
                      },
                      {
                        "test": [
                          0.6778199607,
                          0.5697567861,
                          0.2
                        ],
                        "passed_time": 5.579937405,
                        "iteration": 1949,
                        "remaining_time": 0.1430753181,
                        "learn": [
                          0.2
                        ]
                      },
                      {
                        "test": [
                          0.6749913393,
                          0.5692089864,
                          0.2
                        ],
                        "passed_time": 5.582332184,
                        "iteration": 1950,
                        "remaining_time": 0.1402020897,
                        "learn": [
                          0.2
                        ]
                      },
                      {
                        "test": [
                          0.6749913393,
                          0.5692089864,
                          0.2
                        ],
                        "passed_time": 5.58471948,
                        "iteration": 1951,
                        "remaining_time": 0.1373291675,
                        "learn": [
                          0.2
                        ]
                      },
                      {
                        "test": [
                          0.6749913393,
                          0.5692089864,
                          0.2
                        ],
                        "passed_time": 5.587016581,
                        "iteration": 1952,
                        "remaining_time": 0.1344545721,
                        "learn": [
                          0.2
                        ]
                      },
                      {
                        "test": [
                          0.6695725893,
                          0.5670837127,
                          0.2
                        ],
                        "passed_time": 5.589802946,
                        "iteration": 1953,
                        "remaining_time": 0.1315920857,
                        "learn": [
                          0.2
                        ]
                      },
                      {
                        "test": [
                          0.6724012107,
                          0.5676315124,
                          0.2
                        ],
                        "passed_time": 5.592198804,
                        "iteration": 1954,
                        "remaining_time": 0.1287206886,
                        "learn": [
                          0.2
                        ]
                      },
                      {
                        "test": [
                          0.6724012107,
                          0.5676315124,
                          0.2
                        ],
                        "passed_time": 5.594618773,
                        "iteration": 1955,
                        "remaining_time": 0.1258503201,
                        "learn": [
                          0.2
                        ]
                      },
                      {
                        "test": [
                          0.6724012107,
                          0.5676315124,
                          0.2
                        ],
                        "passed_time": 5.596999742,
                        "iteration": 1956,
                        "remaining_time": 0.1229795549,
                        "learn": [
                          0.2
                        ]
                      },
                      {
                        "test": [
                          0.6724012107,
                          0.5662879919,
                          0.2
                        ],
                        "passed_time": 5.599270984,
                        "iteration": 1957,
                        "remaining_time": 0.1201069363,
                        "learn": [
                          0.2
                        ]
                      },
                      {
                        "test": [
                          0.6724012107,
                          0.5676315124,
                          0.2
                        ],
                        "passed_time": 5.601601137,
                        "iteration": 1958,
                        "remaining_time": 0.1172361647,
                        "learn": [
                          0.2
                        ]
                      },
                      {
                        "test": [
                          0.6724012107,
                          0.5676315124,
                          0.2
                        ],
                        "passed_time": 5.604024557,
                        "iteration": 1959,
                        "remaining_time": 0.1143678481,
                        "learn": [
                          0.2
                        ]
                      },
                      {
                        "test": [
                          0.6724012107,
                          0.5676315124,
                          0.2
                        ],
                        "passed_time": 5.606359286,
                        "iteration": 1960,
                        "remaining_time": 0.1114982214,
                        "learn": [
                          0.2
                        ]
                      },
                      {
                        "test": [
                          0.6684861638,
                          0.5666919986,
                          0.2
                        ],
                        "passed_time": 5.608683299,
                        "iteration": 1961,
                        "remaining_time": 0.1086289324,
                        "learn": [
                          0.2
                        ]
                      },
                      {
                        "test": [
                          0.6684861638,
                          0.5666919986,
                          0.2
                        ],
                        "passed_time": 5.611039499,
                        "iteration": 1962,
                        "remaining_time": 0.1057608056,
                        "learn": [
                          0.2
                        ]
                      },
                      {
                        "test": [
                          0.6684861638,
                          0.5666919986,
                          0.2
                        ],
                        "passed_time": 5.613390666,
                        "iteration": 1963,
                        "remaining_time": 0.1028931079,
                        "learn": [
                          0.2
                        ]
                      },
                      {
                        "test": [
                          0.6684861638,
                          0.5680355191,
                          0.2
                        ],
                        "passed_time": 5.615691818,
                        "iteration": 1964,
                        "remaining_time": 0.1000250451,
                        "learn": [
                          0.2
                        ]
                      },
                      {
                        "test": [
                          0.6684861638,
                          0.5680355191,
                          0.2
                        ],
                        "passed_time": 5.618035007,
                        "iteration": 1965,
                        "remaining_time": 0.09715828599,
                        "learn": [
                          0.2
                        ]
                      },
                      {
                        "test": [
                          0.6684861638,
                          0.5680355191,
                          0.2
                        ],
                        "passed_time": 5.620384556,
                        "iteration": 1966,
                        "remaining_time": 0.09429216592,
                        "learn": [
                          0.2
                        ]
                      },
                      {
                        "test": [
                          0.6684861638,
                          0.5680355191,
                          0.2
                        ],
                        "passed_time": 5.622701213,
                        "iteration": 1967,
                        "remaining_time": 0.09142603598,
                        "learn": [
                          0.2
                        ]
                      },
                      {
                        "test": [
                          0.6684861638,
                          0.5680355191,
                          0.2
                        ],
                        "passed_time": 5.624996949,
                        "iteration": 1968,
                        "remaining_time": 0.0885601348,
                        "learn": [
                          0.2
                        ]
                      },
                      {
                        "test": [
                          0.6759861638,
                          0.5793502383,
                          0.2
                        ],
                        "passed_time": 5.627375362,
                        "iteration": 1969,
                        "remaining_time": 0.08569607151,
                        "learn": [
                          0.2
                        ]
                      },
                      {
                        "test": [
                          0.6684861638,
                          0.5680355191,
                          0.2
                        ],
                        "passed_time": 5.629729997,
                        "iteration": 1970,
                        "remaining_time": 0.08283215114,
                        "learn": [
                          0.2
                        ]
                      },
                      {
                        "test": [
                          0.6684861638,
                          0.5680355191,
                          0.2
                        ],
                        "passed_time": 5.632051617,
                        "iteration": 1971,
                        "remaining_time": 0.07996827854,
                        "learn": [
                          0.2
                        ]
                      },
                      {
                        "test": [
                          0.6730921013,
                          0.5693790396,
                          0.2
                        ],
                        "passed_time": 5.634377645,
                        "iteration": 1972,
                        "remaining_time": 0.07710501592,
                        "learn": [
                          0.2
                        ]
                      },
                      {
                        "test": [
                          0.6730921013,
                          0.5693790396,
                          0.2
                        ],
                        "passed_time": 5.636663728,
                        "iteration": 1973,
                        "remaining_time": 0.0742417715,
                        "learn": [
                          0.2
                        ]
                      },
                      {
                        "test": [
                          0.6730921013,
                          0.5693790396,
                          0.2
                        ],
                        "passed_time": 5.638973074,
                        "iteration": 1974,
                        "remaining_time": 0.071379406,
                        "learn": [
                          0.2
                        ]
                      },
                      {
                        "test": [
                          0.6730921013,
                          0.5693790396,
                          0.2
                        ],
                        "passed_time": 5.641372866,
                        "iteration": 1975,
                        "remaining_time": 0.06851869878,
                        "learn": [
                          0.2
                        ]
                      },
                      {
                        "test": [
                          0.6684861638,
                          0.5680355191,
                          0.2
                        ],
                        "passed_time": 5.64370789,
                        "iteration": 1976,
                        "remaining_time": 0.06565770434,
                        "learn": [
                          0.2
                        ]
                      },
                      {
                        "test": [
                          0.6684861638,
                          0.5666919986,
                          0.2
                        ],
                        "passed_time": 5.646007533,
                        "iteration": 1977,
                        "remaining_time": 0.06279684819,
                        "learn": [
                          0.2
                        ]
                      },
                      {
                        "test": [
                          0.6759861638,
                          0.5780067179,
                          0.2
                        ],
                        "passed_time": 5.648406998,
                        "iteration": 1978,
                        "remaining_time": 0.05993761847,
                        "learn": [
                          0.2
                        ]
                      },
                      {
                        "test": [
                          0.6759861638,
                          0.5780067179,
                          0.2
                        ],
                        "passed_time": 5.650766921,
                        "iteration": 1979,
                        "remaining_time": 0.05707845374,
                        "learn": [
                          0.2
                        ]
                      },
                      {
                        "test": [
                          0.6609861638,
                          0.5567207998,
                          0.2
                        ],
                        "passed_time": 5.653072113,
                        "iteration": 1980,
                        "remaining_time": 0.05421926812,
                        "learn": [
                          0.2
                        ]
                      },
                      {
                        "test": [
                          0.6609861638,
                          0.5567207998,
                          0.2
                        ],
                        "passed_time": 5.655362152,
                        "iteration": 1981,
                        "remaining_time": 0.0513605039,
                        "learn": [
                          0.2
                        ]
                      },
                      {
                        "test": [
                          0.6609861638,
                          0.5567207998,
                          0.2
                        ],
                        "passed_time": 5.657704625,
                        "iteration": 1982,
                        "remaining_time": 0.0485027628,
                        "learn": [
                          0.2
                        ]
                      },
                      {
                        "test": [
                          0.6609861638,
                          0.5553772793,
                          0.2
                        ],
                        "passed_time": 5.660111268,
                        "iteration": 1983,
                        "remaining_time": 0.04564605861,
                        "learn": [
                          0.2
                        ]
                      },
                      {
                        "test": [
                          0.6609861638,
                          0.5567207998,
                          0.2
                        ],
                        "passed_time": 5.66242274,
                        "iteration": 1984,
                        "remaining_time": 0.04278908872,
                        "learn": [
                          0.2
                        ]
                      },
                      {
                        "test": [
                          0.6609861638,
                          0.5567207998,
                          0.2
                        ],
                        "passed_time": 5.664863271,
                        "iteration": 1985,
                        "remaining_time": 0.03993357794,
                        "learn": [
                          0.2
                        ]
                      },
                      {
                        "test": [
                          0.6609861638,
                          0.5567207998,
                          0.2
                        ],
                        "passed_time": 5.667200366,
                        "iteration": 1986,
                        "remaining_time": 0.03707780813,
                        "learn": [
                          0.2
                        ]
                      },
                      {
                        "test": [
                          0.6609861638,
                          0.5567207998,
                          0.2
                        ],
                        "passed_time": 5.669561195,
                        "iteration": 1987,
                        "remaining_time": 0.03422270339,
                        "learn": [
                          0.2
                        ]
                      },
                      {
                        "test": [
                          0.6609861638,
                          0.5567207998,
                          0.2
                        ],
                        "passed_time": 5.671879257,
                        "iteration": 1988,
                        "remaining_time": 0.03136785914,
                        "learn": [
                          0.2
                        ]
                      },
                      {
                        "test": [
                          0.6609861638,
                          0.5567207998,
                          0.2
                        ],
                        "passed_time": 5.674180543,
                        "iteration": 1989,
                        "remaining_time": 0.02851347006,
                        "learn": [
                          0.2
                        ]
                      },
                      {
                        "test": [
                          0.6609861638,
                          0.5567207998,
                          0.2
                        ],
                        "passed_time": 5.67651868,
                        "iteration": 1990,
                        "remaining_time": 0.02565980317,
                        "learn": [
                          0.2
                        ]
                      },
                      {
                        "test": [
                          0.6609861638,
                          0.5567207998,
                          0.2
                        ],
                        "passed_time": 5.678839182,
                        "iteration": 1991,
                        "remaining_time": 0.02280658306,
                        "learn": [
                          0.2
                        ]
                      },
                      {
                        "test": [
                          0.6655921013,
                          0.5580643203,
                          0.2
                        ],
                        "passed_time": 5.68114278,
                        "iteration": 1992,
                        "remaining_time": 0.01995383816,
                        "learn": [
                          0.2
                        ]
                      },
                      {
                        "test": [
                          0.6655921013,
                          0.5580643203,
                          0.2
                        ],
                        "passed_time": 5.683492024,
                        "iteration": 1993,
                        "remaining_time": 0.01710178142,
                        "learn": [
                          0.2
                        ]
                      },
                      {
                        "test": [
                          0.6655921013,
                          0.5580643203,
                          0.2
                        ],
                        "passed_time": 5.685806368,
                        "iteration": 1994,
                        "remaining_time": 0.01425014127,
                        "learn": [
                          0.2
                        ]
                      },
                      {
                        "test": [
                          0.6655921013,
                          0.5580643203,
                          0.2
                        ],
                        "passed_time": 5.688118796,
                        "iteration": 1995,
                        "remaining_time": 0.01139903566,
                        "learn": [
                          0.2
                        ]
                      },
                      {
                        "test": [
                          0.6655921013,
                          0.5580643203,
                          0.2
                        ],
                        "passed_time": 5.690467176,
                        "iteration": 1996,
                        "remaining_time": 0.008548523549,
                        "learn": [
                          0.2
                        ]
                      },
                      {
                        "test": [
                          0.6655921013,
                          0.5580643203,
                          0.2
                        ],
                        "passed_time": 5.692774905,
                        "iteration": 1997,
                        "remaining_time": 0.005698473379,
                        "learn": [
                          0.2
                        ]
                      },
                      {
                        "test": [
                          0.6655921013,
                          0.5580643203,
                          0.2
                        ],
                        "passed_time": 5.695064066,
                        "iteration": 1998,
                        "remaining_time": 0.002848956511,
                        "learn": [
                          0.2
                        ]
                      },
                      {
                        "test": [
                          0.6655921013,
                          0.5580643203,
                          0.2
                        ],
                        "passed_time": 5.697356323,
                        "iteration": 1999,
                        "remaining_time": 0,
                        "learn": [
                          0.2
                        ]
                      }
                    ]
                  },
                  "total_iterations": 2000,
                  "passed_iterations": 1999
                },
                "path": "catboost_info",
                "name": "catboost_info"
              }
            },
            "_view_module": "catboost-widget",
            "_model_module_version": "^1.0.0",
            "_view_count": null,
            "_view_module_version": "^1.0.0",
            "layout": "IPY_MODEL_6e3e6671998a446195daff91dbb4202c",
            "_model_module": "catboost-widget"
          }
        }
      }
    }
  },
  "cells": [
    {
      "cell_type": "markdown",
      "metadata": {
        "id": "view-in-github",
        "colab_type": "text"
      },
      "source": [
        "<a href=\"https://colab.research.google.com/github/shtomar-adb/DM-Gradient-Boosting-Algorithms/blob/main/DM_GBM_Assignment.ipynb\" target=\"_parent\"><img src=\"https://colab.research.google.com/assets/colab-badge.svg\" alt=\"Open In Colab\"/></a>"
      ]
    },
    {
      "cell_type": "markdown",
      "source": [
        "# GBM classifier Techniques"
      ],
      "metadata": {
        "id": "XpklhXW7KrGf"
      }
    },
    {
      "cell_type": "code",
      "source": [
        "!pip install catboost"
      ],
      "metadata": {
        "colab": {
          "base_uri": "https://localhost:8080/"
        },
        "id": "c05wLAhVR8yB",
        "outputId": "a99545c1-f981-43bd-8de3-e942cdaebcd1"
      },
      "execution_count": 6,
      "outputs": [
        {
          "output_type": "stream",
          "name": "stdout",
          "text": [
            "Requirement already satisfied: catboost in /usr/local/lib/python3.7/dist-packages (1.0.3)\n",
            "Requirement already satisfied: graphviz in /usr/local/lib/python3.7/dist-packages (from catboost) (0.10.1)\n",
            "Requirement already satisfied: plotly in /usr/local/lib/python3.7/dist-packages (from catboost) (4.4.1)\n",
            "Requirement already satisfied: numpy>=1.16.0 in /usr/local/lib/python3.7/dist-packages (from catboost) (1.19.5)\n",
            "Requirement already satisfied: scipy in /usr/local/lib/python3.7/dist-packages (from catboost) (1.4.1)\n",
            "Requirement already satisfied: six in /usr/local/lib/python3.7/dist-packages (from catboost) (1.15.0)\n",
            "Requirement already satisfied: pandas>=0.24.0 in /usr/local/lib/python3.7/dist-packages (from catboost) (1.1.5)\n",
            "Requirement already satisfied: matplotlib in /usr/local/lib/python3.7/dist-packages (from catboost) (3.2.2)\n",
            "Requirement already satisfied: pytz>=2017.2 in /usr/local/lib/python3.7/dist-packages (from pandas>=0.24.0->catboost) (2018.9)\n",
            "Requirement already satisfied: python-dateutil>=2.7.3 in /usr/local/lib/python3.7/dist-packages (from pandas>=0.24.0->catboost) (2.8.2)\n",
            "Requirement already satisfied: cycler>=0.10 in /usr/local/lib/python3.7/dist-packages (from matplotlib->catboost) (0.11.0)\n",
            "Requirement already satisfied: pyparsing!=2.0.4,!=2.1.2,!=2.1.6,>=2.0.1 in /usr/local/lib/python3.7/dist-packages (from matplotlib->catboost) (3.0.6)\n",
            "Requirement already satisfied: kiwisolver>=1.0.1 in /usr/local/lib/python3.7/dist-packages (from matplotlib->catboost) (1.3.2)\n",
            "Requirement already satisfied: retrying>=1.3.3 in /usr/local/lib/python3.7/dist-packages (from plotly->catboost) (1.3.3)\n"
          ]
        }
      ]
    },
    {
      "cell_type": "code",
      "source": [
        "from time import time\n",
        "import numpy as np\n",
        "import pandas as pd\n",
        "from sklearn.model_selection import train_test_split\n",
        "from sklearn.feature_extraction.text import TfidfVectorizer\n",
        "from sklearn.svm import LinearSVC\n",
        "from sklearn.tree import DecisionTreeClassifier\n",
        "from sklearn.experimental import enable_hist_gradient_boosting\n",
        "from sklearn.ensemble import (RandomForestClassifier,\n",
        "                              AdaBoostClassifier,\n",
        "                              GradientBoostingClassifier,\n",
        "                              HistGradientBoostingClassifier)\n",
        "from xgboost import XGBClassifier\n",
        "from xgboost import XGBRegressor\n",
        "from lightgbm import LGBMClassifier\n",
        "from catboost import CatBoostClassifier\n",
        "from sklearn.metrics import accuracy_score\n",
        "import matplotlib.pyplot as plt\n",
        "from numpy import loadtxt\n",
        "import lightgbm\n",
        "import seaborn as sns\n",
        "from sklearn.metrics import mean_squared_error\n",
        "from catboost import CatBoostRegressor\n",
        "from lightgbm import LGBMRegressor\n",
        "from sklearn import datasets\n",
        "from xgboost import DMatrix\n",
        "from sklearn import XGBRanker\n",
        "%matplotlib inline"
      ],
      "metadata": {
        "id": "ZNbgxgcGLaKk"
      },
      "execution_count": 69,
      "outputs": []
    },
    {
      "cell_type": "markdown",
      "source": [
        "Dataset used for Classifier is Iris dataset"
      ],
      "metadata": {
        "id": "q0Vocv5qL0WM"
      }
    },
    {
      "cell_type": "code",
      "source": [
        "#Loading Iris dataset for classification\n",
        "iris = datasets.load_iris()"
      ],
      "metadata": {
        "id": "h11pawhJLwJJ"
      },
      "execution_count": 8,
      "outputs": []
    },
    {
      "cell_type": "code",
      "source": [
        "X = iris.data\n",
        "y = iris.target"
      ],
      "metadata": {
        "id": "PLfynjVLNyTz"
      },
      "execution_count": 9,
      "outputs": []
    },
    {
      "cell_type": "code",
      "source": [
        "X_train, X_test, Y_train, Y_test = train_test_split(X, y, test_size=0.2)"
      ],
      "metadata": {
        "id": "Y4j3MC92MNJF"
      },
      "execution_count": 10,
      "outputs": []
    },
    {
      "cell_type": "markdown",
      "source": [
        "**XGBoost Classifier**"
      ],
      "metadata": {
        "id": "uVCr69tMKyk8"
      }
    },
    {
      "cell_type": "code",
      "execution_count": 11,
      "metadata": {
        "id": "olciCgAXJVXi"
      },
      "outputs": [],
      "source": [
        "xgbClassifier = XGBClassifier(n_estimators=2000,\n",
        "                    tree_method='hist',\n",
        "                    subsample=0.67,\n",
        "                    colsample_level=0.06,\n",
        "                    verbose=0,\n",
        "                    n_jobs=6,\n",
        "                    random_state=1234)"
      ]
    },
    {
      "cell_type": "code",
      "source": [
        "xgbClassifier.fit(X_train,\n",
        "              Y_train,\n",
        "              eval_set = [(X_test, Y_test)],\n",
        "              early_stopping_rounds=15,\n",
        "              verbose=0)"
      ],
      "metadata": {
        "colab": {
          "base_uri": "https://localhost:8080/"
        },
        "id": "im0svdSlOvSA",
        "outputId": "d2d70ebc-4213-4e96-c49e-26fe99974dc7"
      },
      "execution_count": 12,
      "outputs": [
        {
          "output_type": "execute_result",
          "data": {
            "text/plain": [
              "XGBClassifier(colsample_level=0.06, n_estimators=2000, n_jobs=6,\n",
              "              objective='multi:softprob', random_state=1234, subsample=0.67,\n",
              "              tree_method='hist', verbose=0)"
            ]
          },
          "metadata": {},
          "execution_count": 12
        }
      ]
    },
    {
      "cell_type": "code",
      "source": [
        "accuracy_xg = np.mean(xgbClassifier.predict(X_test) == Y_test)\n",
        "print(\"XGBoost Classifier Accuracy: \", accuracy_xg)"
      ],
      "metadata": {
        "colab": {
          "base_uri": "https://localhost:8080/"
        },
        "id": "eHFgQdIRO1dh",
        "outputId": "da74a621-1d28-4aea-99eb-f3be762d4b57"
      },
      "execution_count": 13,
      "outputs": [
        {
          "output_type": "stream",
          "name": "stdout",
          "text": [
            "XGBoost Classifier Accuracy:  0.9666666666666667\n"
          ]
        }
      ]
    },
    {
      "cell_type": "markdown",
      "source": [
        "Catboost Classifier"
      ],
      "metadata": {
        "id": "xxztYaA-Qfv-"
      }
    },
    {
      "cell_type": "code",
      "source": [
        "cb = CatBoostClassifier(n_estimators=2000,\n",
        "                        colsample_bylevel=0.06,\n",
        "                        max_leaves=31,                        \n",
        "                        verbose=0,\n",
        "                        thread_count=6,\n",
        "                        random_state=1234)"
      ],
      "metadata": {
        "id": "3mE3-jydUFqW"
      },
      "execution_count": 14,
      "outputs": []
    },
    {
      "cell_type": "code",
      "source": [
        "cb.fit(X_train,\n",
        "      Y_train,\n",
        "      eval_set = [(X_test, Y_test)],\n",
        "      early_stopping_rounds=15,\n",
        "      verbose=0)"
      ],
      "metadata": {
        "colab": {
          "base_uri": "https://localhost:8080/"
        },
        "id": "GzFutkiUUTPB",
        "outputId": "b8e3d77f-8b35-4002-f273-1b26ca355189"
      },
      "execution_count": 15,
      "outputs": [
        {
          "output_type": "execute_result",
          "data": {
            "text/plain": [
              "<catboost.core.CatBoostClassifier at 0x7f7f4bde55d0>"
            ]
          },
          "metadata": {},
          "execution_count": 15
        }
      ]
    },
    {
      "cell_type": "code",
      "source": [
        "accuracy_cat = np.mean(cb.predict(X_test) == Y_test)\n",
        "print(\"CatBoost Classifier Accuracy: \", accuracy_cat)"
      ],
      "metadata": {
        "colab": {
          "base_uri": "https://localhost:8080/"
        },
        "id": "-D2dqi90ULdW",
        "outputId": "8d322dbf-ad8f-4299-e5bd-c0cf8c2fbfa7"
      },
      "execution_count": 16,
      "outputs": [
        {
          "output_type": "stream",
          "name": "stdout",
          "text": [
            "CatBoost Classifier Accuracy:  0.3377777777777778\n"
          ]
        }
      ]
    },
    {
      "cell_type": "markdown",
      "source": [
        "LGBM Classifier"
      ],
      "metadata": {
        "id": "urwi55xKVY3W"
      }
    },
    {
      "cell_type": "code",
      "source": [
        "lgbmClassifier = LGBMClassifier(n_estimators=2000,\n",
        "                      feature_fraction=0.06,\n",
        "                      bagging_fraction=0.67,\n",
        "                      bagging_freq=1,\n",
        "                      verbose=0,\n",
        "                      n_jobs=6,\n",
        "                      random_state=1234)"
      ],
      "metadata": {
        "id": "-9QKSP5QVaTC"
      },
      "execution_count": 17,
      "outputs": []
    },
    {
      "cell_type": "code",
      "source": [
        "lgbmClassifier.fit(X_train,\n",
        "              Y_train,\n",
        "              eval_set = [(X_test, Y_test)],\n",
        "              early_stopping_rounds=15,\n",
        "              verbose=0)"
      ],
      "metadata": {
        "colab": {
          "base_uri": "https://localhost:8080/"
        },
        "id": "jo8cXZUKVddE",
        "outputId": "0a0ba2f8-5920-4ce2-fbe3-36e05d4827a4"
      },
      "execution_count": 18,
      "outputs": [
        {
          "output_type": "execute_result",
          "data": {
            "text/plain": [
              "LGBMClassifier(bagging_fraction=0.67, bagging_freq=1, feature_fraction=0.06,\n",
              "               n_estimators=2000, n_jobs=6, random_state=1234, verbose=0)"
            ]
          },
          "metadata": {},
          "execution_count": 18
        }
      ]
    },
    {
      "cell_type": "code",
      "source": [
        "accuracy_lgbm = np.mean(lgbmClassifier.predict(X_test) == Y_test)\n",
        "print(\"LGBM Classifier Accuracy: \", accuracy_lgbm)"
      ],
      "metadata": {
        "colab": {
          "base_uri": "https://localhost:8080/"
        },
        "id": "sM25MuGrVkdY",
        "outputId": "7a961852-7442-4a0d-fc5c-7703e1e809d8"
      },
      "execution_count": 19,
      "outputs": [
        {
          "output_type": "stream",
          "name": "stdout",
          "text": [
            "LGBM Classifier Accuracy:  0.9666666666666667\n"
          ]
        }
      ]
    },
    {
      "cell_type": "markdown",
      "source": [
        "RandomForest Classifier"
      ],
      "metadata": {
        "id": "C2i5YmLbWK2N"
      }
    },
    {
      "cell_type": "code",
      "source": [
        "rfClassifier = RandomForestClassifier(n_estimators=500,\n",
        "                            max_features=0.06,\n",
        "                            n_jobs=6,\n",
        "                            random_state=1234)"
      ],
      "metadata": {
        "id": "K0eVW6oOVzx0"
      },
      "execution_count": 20,
      "outputs": []
    },
    {
      "cell_type": "code",
      "source": [
        "rfClassifier.fit(X_train, Y_train)"
      ],
      "metadata": {
        "colab": {
          "base_uri": "https://localhost:8080/"
        },
        "id": "KOdvCvScWPj4",
        "outputId": "0b940d9e-692e-4bb2-c755-f53672a42622"
      },
      "execution_count": 21,
      "outputs": [
        {
          "output_type": "execute_result",
          "data": {
            "text/plain": [
              "RandomForestClassifier(max_features=0.06, n_estimators=500, n_jobs=6,\n",
              "                       random_state=1234)"
            ]
          },
          "metadata": {},
          "execution_count": 21
        }
      ]
    },
    {
      "cell_type": "code",
      "source": [
        "accuracy_random_forest = np.mean(rfClassifier.predict(X_test) == Y_test)\n",
        "print(\"Random Forest Classifier Accuracy: \", accuracy_random_forest)"
      ],
      "metadata": {
        "colab": {
          "base_uri": "https://localhost:8080/"
        },
        "id": "S9CHVd7cWYw8",
        "outputId": "caa56c91-3342-4097-f6a1-cdce7d30b50f"
      },
      "execution_count": 22,
      "outputs": [
        {
          "output_type": "stream",
          "name": "stdout",
          "text": [
            "Random Forest Classifier Accuracy:  0.9666666666666667\n"
          ]
        }
      ]
    },
    {
      "cell_type": "markdown",
      "source": [
        "AdaBoost"
      ],
      "metadata": {
        "id": "Iqtg3P3dXniW"
      }
    },
    {
      "cell_type": "code",
      "source": [
        "base_estim = DecisionTreeClassifier(max_depth=1, max_features=0.06) \n",
        "abClassifier = AdaBoostClassifier(base_estimator=base_estim,\n",
        "                        n_estimators=500,\n",
        "                        learning_rate=0.5,\n",
        "                        random_state=1234)"
      ],
      "metadata": {
        "id": "xCsrOpyGWl-D"
      },
      "execution_count": 23,
      "outputs": []
    },
    {
      "cell_type": "code",
      "source": [
        "abClassifier.fit(X_train, Y_train)"
      ],
      "metadata": {
        "colab": {
          "base_uri": "https://localhost:8080/"
        },
        "id": "wqoSgIuHW1sL",
        "outputId": "e9604679-7741-42b1-daba-7be3e99d5674"
      },
      "execution_count": 24,
      "outputs": [
        {
          "output_type": "execute_result",
          "data": {
            "text/plain": [
              "AdaBoostClassifier(base_estimator=DecisionTreeClassifier(max_depth=1,\n",
              "                                                         max_features=0.06),\n",
              "                   learning_rate=0.5, n_estimators=500, random_state=1234)"
            ]
          },
          "metadata": {},
          "execution_count": 24
        }
      ]
    },
    {
      "cell_type": "code",
      "source": [
        "accuracy_ada_classifier = np.mean(abClassifier.predict(X_test) == Y_test)\n",
        "print(\"Ada Boost Classifier Accuracy: \", accuracy_ada_classifier)"
      ],
      "metadata": {
        "colab": {
          "base_uri": "https://localhost:8080/"
        },
        "id": "U2-6VASCW6b9",
        "outputId": "632793db-2367-4fbd-a3db-27c22b1d9fe2"
      },
      "execution_count": 25,
      "outputs": [
        {
          "output_type": "stream",
          "name": "stdout",
          "text": [
            "Ada Boost Classifier Accuracy:  0.9333333333333333\n"
          ]
        }
      ]
    },
    {
      "cell_type": "markdown",
      "source": [
        "Decision Tree"
      ],
      "metadata": {
        "id": "gsSmxd5xXH-n"
      }
    },
    {
      "cell_type": "code",
      "source": [
        "dtClassifier = DecisionTreeClassifier(max_depth=12, random_state=1234)"
      ],
      "metadata": {
        "id": "JAEpPw5kXJ_Z"
      },
      "execution_count": 26,
      "outputs": []
    },
    {
      "cell_type": "code",
      "source": [
        "dtClassifier.fit(X_train, Y_train)"
      ],
      "metadata": {
        "colab": {
          "base_uri": "https://localhost:8080/"
        },
        "id": "pVVFY4-YXP9_",
        "outputId": "47992154-55d8-4626-8a71-33f2013a8240"
      },
      "execution_count": 27,
      "outputs": [
        {
          "output_type": "execute_result",
          "data": {
            "text/plain": [
              "DecisionTreeClassifier(max_depth=12, random_state=1234)"
            ]
          },
          "metadata": {},
          "execution_count": 27
        }
      ]
    },
    {
      "cell_type": "code",
      "source": [
        "accuracy_decision_tree = np.mean(dtClassifier.predict(X_test) == Y_test)\n",
        "print(\"DecisionTree Classifier Accuracy: \", accuracy_decision_tree)"
      ],
      "metadata": {
        "colab": {
          "base_uri": "https://localhost:8080/"
        },
        "id": "kTxPCRsGXRGQ",
        "outputId": "c17d8735-a1c4-4a98-da3d-e87646fcd46e"
      },
      "execution_count": 28,
      "outputs": [
        {
          "output_type": "stream",
          "name": "stdout",
          "text": [
            "DecisionTree Classifier Accuracy:  0.9\n"
          ]
        }
      ]
    },
    {
      "cell_type": "markdown",
      "source": [
        "**Plotting all the Classification Accuracies**"
      ],
      "metadata": {
        "id": "ZiN5rngiXGq_"
      }
    },
    {
      "cell_type": "code",
      "source": [
        "classifier_name = [\"XGBoost\", \"Catboost\", \"LGBM\", \"RandomForest\", \"ADABoost\", \"DecisionTree\"]\n",
        "accuracies = [accuracy_xg, accuracy_cat, accuracy_lgbm, accuracy_random_forest, accuracy_ada_classifier, accuracy_decision_tree]"
      ],
      "metadata": {
        "id": "pGaV-O2wclkJ"
      },
      "execution_count": 29,
      "outputs": []
    },
    {
      "cell_type": "code",
      "source": [
        "bar_plot = sns.barplot(x='classifier', y='accuracy', data=pd.DataFrame({\"classifier\": classifier_name, \"accuracy\": accuracies}))\n",
        "bar_plot.set_xticklabels(bar_plot.get_xticklabels(), rotation=45)"
      ],
      "metadata": {
        "colab": {
          "base_uri": "https://localhost:8080/",
          "height": 432
        },
        "id": "2g-w-ECabZiX",
        "outputId": "cb41ae1b-ed51-4d0a-82e0-e05a7c56d037"
      },
      "execution_count": 30,
      "outputs": [
        {
          "output_type": "execute_result",
          "data": {
            "text/plain": [
              "[Text(0, 0, 'XGBoost'),\n",
              " Text(0, 0, 'Catboost'),\n",
              " Text(0, 0, 'LGBM'),\n",
              " Text(0, 0, 'RandomForest'),\n",
              " Text(0, 0, 'ADABoost'),\n",
              " Text(0, 0, 'DecisionTree')]"
            ]
          },
          "metadata": {},
          "execution_count": 30
        },
        {
          "output_type": "display_data",
          "data": {
            "image/png": "[encoded data removed]",
            "text/plain": [
              "<Figure size 432x288 with 1 Axes>"
            ]
          },
          "metadata": {
            "needs_background": "light"
          }
        }
      ]
    },
    {
      "cell_type": "markdown",
      "source": [
        "## Gradient Boost Regression Techniques"
      ],
      "metadata": {
        "id": "kqRflo3OgtBv"
      }
    },
    {
      "cell_type": "markdown",
      "source": [
        "The dataset used is the Diabetes dataset from scikit learn"
      ],
      "metadata": {
        "id": "bYoZniumhuiT"
      }
    },
    {
      "cell_type": "code",
      "source": [
        "diabetes = datasets.load_diabetes()\n",
        "X, y = diabetes.data, diabetes.target\n"
      ],
      "metadata": {
        "id": "cdaiJUjchtgv"
      },
      "execution_count": 31,
      "outputs": []
    },
    {
      "cell_type": "code",
      "source": [
        "X_train, X_test, Y_train, Y_test = train_test_split(X, y, test_size=0.2)"
      ],
      "metadata": {
        "id": "DyLERi8rh_aX"
      },
      "execution_count": 32,
      "outputs": []
    },
    {
      "cell_type": "markdown",
      "source": [
        "XGBoost Regressor"
      ],
      "metadata": {
        "id": "UZO28xiRhFqU"
      }
    },
    {
      "cell_type": "code",
      "source": [
        "xgb_regressor = XGBRegressor(n_estimators=1000, max_depth=7, eta=0.1, subsample=0.7, colsample_bytree=0.8)"
      ],
      "metadata": {
        "id": "02QQGqlNhFIc"
      },
      "execution_count": 33,
      "outputs": []
    },
    {
      "cell_type": "code",
      "source": [
        "xgb_regressor.fit(X_train,Y_train)\n",
        "\n",
        "preds = xgb_regressor.predict(X_test)"
      ],
      "metadata": {
        "colab": {
          "base_uri": "https://localhost:8080/"
        },
        "id": "68VfFMchjS4j",
        "outputId": "833d09ab-7d5f-4a0e-98dd-8953d5dd0348"
      },
      "execution_count": 34,
      "outputs": [
        {
          "output_type": "stream",
          "name": "stdout",
          "text": [
            "[20:15:50] WARNING: /workspace/src/objective/regression_obj.cu:152: reg:linear is now deprecated in favor of reg:squarederror.\n"
          ]
        }
      ]
    },
    {
      "cell_type": "code",
      "source": [
        "rmse_xgb = np.sqrt(mean_squared_error(Y_test, preds))\n",
        "print(\"XGBoost Mean squared error\", rmse_xgb)"
      ],
      "metadata": {
        "colab": {
          "base_uri": "https://localhost:8080/"
        },
        "id": "-lHcA1zrm8SC",
        "outputId": "016f5cb8-2800-40df-d755-2c82de089aab"
      },
      "execution_count": 35,
      "outputs": [
        {
          "output_type": "stream",
          "name": "stdout",
          "text": [
            "XGBoost Mean squared error 64.55423174993108\n"
          ]
        }
      ]
    },
    {
      "cell_type": "markdown",
      "source": [
        "CatBoost"
      ],
      "metadata": {
        "id": "iOtZR8nZnWwa"
      }
    },
    {
      "cell_type": "code",
      "source": [
        "cb_reg = CatBoostRegressor(iterations=500,\n",
        "                             learning_rate=0.05,\n",
        "                             depth=10,\n",
        "                             eval_metric='RMSE',\n",
        "                             random_seed = 42,\n",
        "                             bagging_temperature = 0.2,\n",
        "                             od_type='Iter',\n",
        "                             metric_period = 50,\n",
        "                             od_wait=20)"
      ],
      "metadata": {
        "id": "PtEHXydon2Ab"
      },
      "execution_count": 36,
      "outputs": []
    },
    {
      "cell_type": "code",
      "source": [
        "cb_reg.fit(X_train, Y_train,\n",
        "             eval_set=(X_test, Y_test),\n",
        "             use_best_model=True,\n",
        "             verbose=0)"
      ],
      "metadata": {
        "colab": {
          "base_uri": "https://localhost:8080/"
        },
        "id": "mlipJByxn4O2",
        "outputId": "0d7d7b6f-879b-45d5-f0b2-5ca240d46a32"
      },
      "execution_count": 37,
      "outputs": [
        {
          "output_type": "stream",
          "name": "stderr",
          "text": [
            "Warning: Overfitting detector is active, thus evaluation metric is calculated on every iteration. 'metric_period' is ignored for evaluation metric.\n"
          ]
        },
        {
          "output_type": "execute_result",
          "data": {
            "text/plain": [
              "<catboost.core.CatBoostRegressor at 0x7f7f49c304d0>"
            ]
          },
          "metadata": {},
          "execution_count": 37
        }
      ]
    },
    {
      "cell_type": "code",
      "source": [
        "preds = cb_reg.predict(X_test)"
      ],
      "metadata": {
        "id": "B6_1sOc5oNA-"
      },
      "execution_count": 38,
      "outputs": []
    },
    {
      "cell_type": "code",
      "source": [
        "rmse_cat = np.sqrt(mean_squared_error(Y_test, preds))\n",
        "print(\"Catboost Mean squared error\", rmse_cat)"
      ],
      "metadata": {
        "colab": {
          "base_uri": "https://localhost:8080/"
        },
        "id": "G9V4ExSyoSBY",
        "outputId": "7e8b610b-c976-486c-d639-334d86120f31"
      },
      "execution_count": 39,
      "outputs": [
        {
          "output_type": "stream",
          "name": "stdout",
          "text": [
            "Catboost Mean squared error 59.13704189561667\n"
          ]
        }
      ]
    },
    {
      "cell_type": "markdown",
      "source": [
        "LGBM Regressor"
      ],
      "metadata": {
        "id": "tty-66RJo1ta"
      }
    },
    {
      "cell_type": "code",
      "source": [
        "lgbm_reg = LGBMRegressor(objective =\"regression\", num_leaves = 35, random_state= 1)"
      ],
      "metadata": {
        "id": "E21Sq6N4o3ui"
      },
      "execution_count": 40,
      "outputs": []
    },
    {
      "cell_type": "code",
      "source": [
        "lgbm_reg.fit(X_train, Y_train,\n",
        "             eval_set=(X_test, Y_test),             \n",
        "             verbose=0)"
      ],
      "metadata": {
        "colab": {
          "base_uri": "https://localhost:8080/"
        },
        "id": "3w2yAbrfo8K5",
        "outputId": "9fb9a27a-a8f7-43a2-9b20-59598d335ece"
      },
      "execution_count": 41,
      "outputs": [
        {
          "output_type": "execute_result",
          "data": {
            "text/plain": [
              "LGBMRegressor(num_leaves=35, objective='regression', random_state=1)"
            ]
          },
          "metadata": {},
          "execution_count": 41
        }
      ]
    },
    {
      "cell_type": "code",
      "source": [
        "preds = lgbm_reg.predict(X_test)"
      ],
      "metadata": {
        "id": "5buLyXSgpCas"
      },
      "execution_count": 42,
      "outputs": []
    },
    {
      "cell_type": "code",
      "source": [
        "rmse_lgbm = np.sqrt(mean_squared_error(Y_test, preds))\n",
        "print(\"LGBM Mean squared error\", rmse_lgbm)"
      ],
      "metadata": {
        "colab": {
          "base_uri": "https://localhost:8080/"
        },
        "id": "8yCv_TebpG4Z",
        "outputId": "ef7982d6-faaa-43aa-9be9-8ace6c79f69d"
      },
      "execution_count": 43,
      "outputs": [
        {
          "output_type": "stream",
          "name": "stdout",
          "text": [
            "LGBM Mean squared error 61.06276884867952\n"
          ]
        }
      ]
    },
    {
      "cell_type": "markdown",
      "source": [
        "Plotting the results of Regression Root Mean squred errors."
      ],
      "metadata": {
        "id": "eC_dvpoXpQIm"
      }
    },
    {
      "cell_type": "code",
      "source": [
        "regressor_name = [\"XGBoost\", \"Catboost\", \"LGBM\"]\n",
        "rmse = [rmse_xgb, rmse_cat, rmse_lgbm]"
      ],
      "metadata": {
        "id": "RO8y3oPApbNv"
      },
      "execution_count": 44,
      "outputs": []
    },
    {
      "cell_type": "code",
      "source": [
        "bar_plot = sns.barplot(x='regressor', y='rmse score', data=pd.DataFrame({\"regressor\": regressor_name, \"rmse score\": rmse}))\n",
        "bar_plot.set_xticklabels(bar_plot.get_xticklabels(), rotation=45)"
      ],
      "metadata": {
        "colab": {
          "base_uri": "https://localhost:8080/",
          "height": 325
        },
        "id": "qzjY7_urpren",
        "outputId": "0b90c757-0cda-4775-a72d-4a1aa497f02c"
      },
      "execution_count": 45,
      "outputs": [
        {
          "output_type": "execute_result",
          "data": {
            "text/plain": [
              "[Text(0, 0, 'XGBoost'), Text(0, 0, 'Catboost'), Text(0, 0, 'LGBM')]"
            ]
          },
          "metadata": {},
          "execution_count": 45
        },
        {
          "output_type": "display_data",
          "data": {
            "image/png": "[encoded data removed]",
            "text/plain": [
              "<Figure size 432x288 with 1 Axes>"
            ]
          },
          "metadata": {
            "needs_background": "light"
          }
        }
      ]
    },
    {
      "cell_type": "markdown",
      "source": [
        "## GradientBoost Ranking Techniques"
      ],
      "metadata": {
        "id": "GLRw5p0lqDBi"
      }
    },
    {
      "cell_type": "markdown",
      "source": [
        "Data Preparation"
      ],
      "metadata": {
        "id": "gz8mytKc5jys"
      }
    },
    {
      "cell_type": "code",
      "source": [
        "df = pd.DataFrame({\n",
        "    \"query_id\":[i for i in range(100) for j in range(10)],\n",
        "    \"var1\":np.random.random(size=(1000,)),\n",
        "    \"var2\":np.random.random(size=(1000,)),\n",
        "    \"var3\":np.random.random(size=(1000,)),\n",
        "    \"relevance\":list(np.random.permutation([0,0,0,0,0, 0,0,0,1,1]))*100\n",
        "})"
      ],
      "metadata": {
        "id": "F4Mjog_j6EC5"
      },
      "execution_count": 59,
      "outputs": []
    },
    {
      "cell_type": "code",
      "source": [
        "train_df = df[:800]  # first 80%\n",
        "validation_df = df[800:]  # remaining 20%\n",
        "\n",
        "qids_train = train_df.groupby(\"query_id\")[\"query_id\"].count().to_numpy()"
      ],
      "metadata": {
        "id": "NXaT2gj1646V"
      },
      "execution_count": 62,
      "outputs": []
    },
    {
      "cell_type": "code",
      "source": [
        "train_df = df[:800]  # first 80%\n",
        "validation_df = df[800:]  # remaining 20%\n",
        "\n",
        "qids_train = train_df.groupby(\"query_id\")[\"query_id\"].count().to_numpy()\n",
        "X_train = train_df.drop([\"query_id\", \"relevance\"], axis=1)\n",
        "y_train = train_df[\"relevance\"]\n",
        "\n",
        "qids_validation = validation_df.groupby(\"query_id\")[\"query_id\"].count().to_numpy()\n",
        "X_validation = validation_df.drop([\"query_id\", \"relevance\"], axis=1)\n",
        "y_validation = validation_df[\"relevance\"]"
      ],
      "metadata": {
        "id": "-j1IkvNQ5oXu"
      },
      "execution_count": 63,
      "outputs": []
    },
    {
      "cell_type": "markdown",
      "source": [
        "XGBoost"
      ],
      "metadata": {
        "id": "BeY-3gUC6HyV"
      }
    },
    {
      "cell_type": "code",
      "source": [
        "import xgboost as xgb"
      ],
      "metadata": {
        "id": "zBjO0_W0F_yI"
      },
      "execution_count": 74,
      "outputs": []
    },
    {
      "cell_type": "code",
      "source": [
        "params = {'objective': 'rank:ndcg', 'learning_rate': 0.1,\n",
        "          'gamma': 1.0, 'min_child_weight': 0.1,\n",
        "          'max_depth': 6, 'n_estimators': 4}\n",
        "model = xgb.sklearn.XGBRanker(**params)\n",
        "model.fit(X_train, y_train, qids_train, verbose=True,\n",
        "          eval_set=[(X_validation, y_validation)], eval_group=[qids_validation])\n",
        "pred = model.predict(X_validation)"
      ],
      "metadata": {
        "colab": {
          "base_uri": "https://localhost:8080/"
        },
        "id": "lbVFRKj_rRdx",
        "outputId": "97815755-6a08-48e1-d73d-4c36eba2cac2"
      },
      "execution_count": 76,
      "outputs": [
        {
          "output_type": "stream",
          "name": "stdout",
          "text": [
            "[0]\teval_0-map:0.305794\n",
            "[1]\teval_0-map:0.375377\n",
            "[2]\teval_0-map:0.33504\n",
            "[3]\teval_0-map:0.301508\n"
          ]
        }
      ]
    },
    {
      "cell_type": "code",
      "source": [
        "pred"
      ],
      "metadata": {
        "id": "vWhN5D62EmU2"
      },
      "execution_count": null,
      "outputs": []
    },
    {
      "cell_type": "markdown",
      "source": [
        "CatBoost"
      ],
      "metadata": {
        "id": "LzRXnAHoGg4T"
      }
    },
    {
      "cell_type": "code",
      "source": [
        "from catboost import CatBoostRanker, Pool\n"
      ],
      "metadata": {
        "id": "clNZ1XcEH4Cq"
      },
      "execution_count": 88,
      "outputs": []
    },
    {
      "cell_type": "code",
      "source": [
        "params = {\n",
        "    'iterations': 2000,\n",
        "    'custom_metric': ['NDCG', 'PFound', 'AverageGain:top=10'],\n",
        "    'verbose': False,\n",
        "    'random_seed': 0,\n",
        "}\n",
        "model = CatBoostRanker(**params)\n"
      ],
      "metadata": {
        "id": "kqQuTOuoGgH1"
      },
      "execution_count": 86,
      "outputs": []
    },
    {
      "cell_type": "code",
      "source": [
        "cat_qids_train = train_df['query_id']\n",
        "cat_X_train = train_df.drop([\"query_id\", \"relevance\"], axis=1)\n",
        "cat_y_train = train_df[\"relevance\"]\n",
        "\n",
        "cat_qids_validation = validation_df['query_id']\n",
        "cat_X_validation = validation_df.drop([\"query_id\", \"relevance\"], axis=1)\n",
        "cat_y_validation = validation_df[\"relevance\"]"
      ],
      "metadata": {
        "id": "fvERqqi_J6Qz"
      },
      "execution_count": 93,
      "outputs": []
    },
    {
      "cell_type": "code",
      "source": [
        "train_pool = Pool(\n",
        "    data=cat_X_train,\n",
        "    label=cat_y_train,\n",
        "    group_id=cat_qids_train\n",
        ")\n",
        "\n",
        "test_pool = Pool(\n",
        "    data=cat_X_validation,\n",
        "    label=cat_y_validation,\n",
        "    group_id=cat_qids_validation\n",
        ")"
      ],
      "metadata": {
        "id": "hrAXsYQ7IBML"
      },
      "execution_count": 96,
      "outputs": []
    },
    {
      "cell_type": "code",
      "source": [
        "model.fit(train_pool, eval_set=test_pool, plot=True)"
      ],
      "metadata": {
        "colab": {
          "base_uri": "https://localhost:8080/",
          "height": 34,
          "referenced_widgets": [
            "de50dab9691e426094b0bd18a1be378f"
          ]
        },
        "id": "aR6stDtyJv7s",
        "outputId": "935170ce-fc32-41ec-c74b-274511c50bf1"
      },
      "execution_count": 97,
      "outputs": [
        {
          "output_type": "display_data",
          "data": {
            "application/vnd.jupyter.widget-view+json": {
              "model_id": "de50dab9691e426094b0bd18a1be378f",
              "version_minor": 0,
              "version_major": 2
            },
            "text/plain": [
              "MetricVisualizer(layout=Layout(align_self='stretch', height='500px'))"
            ]
          },
          "metadata": {}
        },
        {
          "output_type": "execute_result",
          "data": {
            "text/plain": [
              "<catboost.core.CatBoostRanker at 0x7f7f42ef1d90>"
            ]
          },
          "metadata": {},
          "execution_count": 97
        }
      ]
    },
    {
      "cell_type": "code",
      "source": [
        "model.predict(cat_X_validation)"
      ],
      "metadata": {
        "colab": {
          "base_uri": "https://localhost:8080/"
        },
        "id": "B9ZVR5G7KlVc",
        "outputId": "3e2aa0d2-b841-4c5e-fa7c-a4d3198f2f45"
      },
      "execution_count": 99,
      "outputs": [
        {
          "output_type": "execute_result",
          "data": {
            "text/plain": [
              "array([ 0.57228239,  0.45973755, -0.72359971,  0.33664103, -0.12643046,\n",
              "       -0.24106436,  0.3537769 ,  0.05498292, -0.21523924, -0.41168983,\n",
              "       -0.70690838, -0.28457491,  0.37633403,  0.4184026 , -0.06152257,\n",
              "        0.42546951,  0.31025479, -0.54539174, -0.19373572, -0.2369437 ,\n",
              "       -0.07007728, -0.38245414, -0.4638588 , -0.11632199,  0.34838472,\n",
              "        0.39181717, -0.45838139,  0.0683001 ,  0.18219633, -0.30509663,\n",
              "       -0.54699241, -0.51971333, -0.22447714, -0.72823405, -0.01119517,\n",
              "        0.02026234,  0.6757577 ,  0.46351183,  0.08112432,  0.41840706,\n",
              "       -0.03834805, -0.43609529, -1.67053184,  0.11165952, -0.0486923 ,\n",
              "        0.04509143,  0.16193583,  0.57803506,  0.57772205,  0.29656637,\n",
              "        0.77366004,  0.20884124, -0.35892986,  0.25504507, -0.26328738,\n",
              "       -0.26229753, -0.26717463,  0.62792495,  0.54431322, -0.26568111,\n",
              "        0.2536938 ,  0.2539307 ,  0.47759234, -0.55972812,  0.57676686,\n",
              "       -0.75572397,  0.16131892, -1.00526788,  0.54160252, -0.74619838,\n",
              "        0.08413609, -0.63172826, -0.45118424,  0.76783106,  0.28835079,\n",
              "        0.00831972, -0.38102489,  0.71768999, -0.63518227, -0.04294091,\n",
              "        0.21117916, -0.19077582,  0.05394803, -0.09905839,  0.2762671 ,\n",
              "       -0.00914269, -0.2504563 , -0.25753948,  0.77751229,  0.65894397,\n",
              "       -0.35358665,  0.7530542 , -0.8290874 , -0.05127448,  0.28662529,\n",
              "       -0.62935683,  0.08956502, -0.81265342, -0.45935233,  0.1556912 ,\n",
              "        0.03321291,  0.04347008, -0.22308448,  0.31319652,  0.59982995,\n",
              "       -0.13373757, -0.15868467, -0.15170418, -0.02842718, -0.97763289,\n",
              "       -0.54184802,  0.08203969, -0.19619675,  0.44913637, -0.2052927 ,\n",
              "        0.1289015 , -0.16202288, -0.26748777,  0.57813348, -0.08581518,\n",
              "       -0.83913978, -0.04255182,  0.65413228,  0.74815163,  0.06932044,\n",
              "       -1.29434734,  0.13362569,  0.70319769,  0.3889786 , -0.17559266,\n",
              "        0.03298272,  0.07038967, -0.14678828,  0.59340804,  0.2084146 ,\n",
              "       -0.72815733,  0.00172577,  0.11351104,  0.31540938,  0.36181434,\n",
              "        0.41199587,  0.66206038, -0.22046543, -0.28276191,  0.19479121,\n",
              "       -0.39300248, -0.11108839, -0.86939959,  0.16212471,  0.15749002,\n",
              "        0.7668226 , -0.07404435,  0.77747268, -0.56465474,  0.43038947,\n",
              "        0.20181329,  0.0019721 ,  0.24811731, -0.86417361,  0.34937906,\n",
              "        0.41212694,  0.93114483,  0.0399276 , -0.67447158,  0.39625618,\n",
              "       -0.31556011,  0.16985658, -0.1256385 , -1.16117874, -0.05922441,\n",
              "        0.12556843,  0.25861606,  0.62236346, -0.2029575 , -0.13908547,\n",
              "       -0.26949051, -0.21333661,  0.25468851,  0.29649105, -0.35471215,\n",
              "        0.0019466 ,  0.42068969, -0.7968355 ,  0.21213061,  0.34952111,\n",
              "       -0.24669659,  0.12930778, -1.20226875, -0.67078588, -0.40803391,\n",
              "       -0.54992622, -0.64531104, -0.15652842, -0.00838772, -0.03902107,\n",
              "        0.07565955,  0.01011063,  0.46685109, -0.11369529, -0.23023439])"
            ]
          },
          "metadata": {},
          "execution_count": 99
        }
      ]
    },
    {
      "cell_type": "markdown",
      "source": [
        "LightGBM"
      ],
      "metadata": {
        "id": "klOUYv2m1oTZ"
      }
    },
    {
      "cell_type": "code",
      "source": [
        "model = lightgbm.LGBMRanker(\n",
        "    objective=\"lambdarank\",\n",
        "    metric=\"ndcg\",\n",
        ")"
      ],
      "metadata": {
        "id": "4QupFW3T3s97"
      },
      "execution_count": 51,
      "outputs": []
    },
    {
      "cell_type": "code",
      "source": [
        "model.fit(\n",
        "    X=X_train,\n",
        "    y=y_train,\n",
        "    group=qids_train,\n",
        "    eval_set=[(X_validation, y_validation)],\n",
        "    eval_group=[qids_validation],\n",
        "    eval_at=10,\n",
        "    verbose=10,\n",
        ")"
      ],
      "metadata": {
        "colab": {
          "base_uri": "https://localhost:8080/"
        },
        "id": "bgX2hwhR38fV",
        "outputId": "4e39729f-0757-406b-fc09-159376119d2c"
      },
      "execution_count": 52,
      "outputs": [
        {
          "output_type": "stream",
          "name": "stdout",
          "text": [
            "[10]\tvalid_0's ndcg@10: 0.534819\n",
            "[20]\tvalid_0's ndcg@10: 0.510791\n",
            "[30]\tvalid_0's ndcg@10: 0.518683\n",
            "[40]\tvalid_0's ndcg@10: 0.50982\n",
            "[50]\tvalid_0's ndcg@10: 0.513133\n",
            "[60]\tvalid_0's ndcg@10: 0.496738\n",
            "[70]\tvalid_0's ndcg@10: 0.503455\n",
            "[80]\tvalid_0's ndcg@10: 0.493949\n",
            "[90]\tvalid_0's ndcg@10: 0.500752\n",
            "[100]\tvalid_0's ndcg@10: 0.506068\n"
          ]
        },
        {
          "output_type": "execute_result",
          "data": {
            "text/plain": [
              "LGBMRanker(metric='ndcg', objective='lambdarank')"
            ]
          },
          "metadata": {},
          "execution_count": 52
        }
      ]
    },
    {
      "cell_type": "code",
      "source": [
        "model.predict(X_validation)"
      ],
      "metadata": {
        "id": "bed0t2yQ7cwQ"
      },
      "execution_count": null,
      "outputs": []
    }
  ]
}